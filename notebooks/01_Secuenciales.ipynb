{
 "cells": [
  {
   "cell_type": "markdown",
   "metadata": {
    "colab_type": "text",
    "id": "Z77ZXHZsGTBo",
    "slideshow": {
     "slide_type": "slide"
    }
   },
   "source": [
    "# IWI-131 Programación"
   ]
  },
  {
   "cell_type": "markdown",
   "metadata": {
    "slideshow": {
     "slide_type": "fragment"
    }
   },
   "source": [
    "## Introducción a Python 3.X"
   ]
  },
  {
   "cell_type": "markdown",
   "metadata": {
    "slideshow": {
     "slide_type": "slide"
    }
   },
   "source": [
    "Python es lenguage de programación cuya ejecución es realizada a través de un interprete. Éste interprete lee código desde: \n",
    "* La consola de Python.\n",
    "* Archivos de texto (con extensión .py)\n",
    "\n",
    "En esta clase nos centraremos mayoritariamente en la **consola de python**."
   ]
  },
  {
   "cell_type": "markdown",
   "metadata": {
    "colab_type": "text",
    "id": "78BJqmRPGTBt",
    "slideshow": {
     "slide_type": "slide"
    }
   },
   "source": [
    "## Tipos de Datos\n",
    "\n",
    "Python opera sobre datos de distintos tipos. Cada tipo de datos tiene reglas que establecen la forma en que se deben escribir los valores literales (constantes) de ese tipo. Además, cada tipo de datos cuentan con una serie de operadores y funciones que se pueden aplicar. En algunos casos es posible convertir un dato particular de un tipo a otro, ya sea de forma implícita o explícita."
   ]
  },
  {
   "cell_type": "markdown",
   "metadata": {
    "colab_type": "text",
    "id": "HRf_UcYUGTBy",
    "slideshow": {
     "slide_type": "slide"
    }
   },
   "source": [
    "### Números enteros\n",
    "Tipo `int` (*integer*)"
   ]
  },
  {
   "cell_type": "code",
   "execution_count": 1,
   "metadata": {
    "colab": {
     "base_uri": "https://localhost:8080/",
     "height": 34
    },
    "colab_type": "code",
    "executionInfo": {
     "elapsed": 1660,
     "status": "ok",
     "timestamp": 1547045718254,
     "user": {
      "displayName": "Daniel San Martín",
      "photoUrl": "https://lh4.googleusercontent.com/-xj_b6QASR9g/AAAAAAAAAAI/AAAAAAAAABc/MAAqQCVKo5I/s64/photo.jpg",
      "userId": "16014787961842903941"
     },
     "user_tz": 180
    },
    "id": "ed3J_62oGTB2",
    "outputId": "4a335f29-affa-49fb-8fae-04935ab5fc0d",
    "slideshow": {
     "slide_type": "fragment"
    }
   },
   "outputs": [
    {
     "data": {
      "text/plain": [
       "1"
      ]
     },
     "execution_count": 1,
     "metadata": {},
     "output_type": "execute_result"
    }
   ],
   "source": [
    "1"
   ]
  },
  {
   "cell_type": "code",
   "execution_count": 2,
   "metadata": {
    "colab": {
     "base_uri": "https://localhost:8080/",
     "height": 34
    },
    "colab_type": "code",
    "executionInfo": {
     "elapsed": 2216,
     "status": "ok",
     "timestamp": 1547045718832,
     "user": {
      "displayName": "Daniel San Martín",
      "photoUrl": "https://lh4.googleusercontent.com/-xj_b6QASR9g/AAAAAAAAAAI/AAAAAAAAABc/MAAqQCVKo5I/s64/photo.jpg",
      "userId": "16014787961842903941"
     },
     "user_tz": 180
    },
    "id": "arwvazrmGTCK",
    "outputId": "012c1fb5-404f-4592-f9a8-035eafced9ae",
    "slideshow": {
     "slide_type": "fragment"
    }
   },
   "outputs": [
    {
     "data": {
      "text/plain": [
       "135"
      ]
     },
     "execution_count": 2,
     "metadata": {},
     "output_type": "execute_result"
    }
   ],
   "source": [
    "+135"
   ]
  },
  {
   "cell_type": "code",
   "execution_count": 3,
   "metadata": {
    "colab": {
     "base_uri": "https://localhost:8080/",
     "height": 34
    },
    "colab_type": "code",
    "executionInfo": {
     "elapsed": 2202,
     "status": "ok",
     "timestamp": 1547045718834,
     "user": {
      "displayName": "Daniel San Martín",
      "photoUrl": "https://lh4.googleusercontent.com/-xj_b6QASR9g/AAAAAAAAAAI/AAAAAAAAABc/MAAqQCVKo5I/s64/photo.jpg",
      "userId": "16014787961842903941"
     },
     "user_tz": 180
    },
    "id": "M8eTRGujGTCW",
    "outputId": "e5deb4b0-f66c-4bd1-e2c2-b96fdd66a2b9",
    "slideshow": {
     "slide_type": "fragment"
    }
   },
   "outputs": [
    {
     "data": {
      "text/plain": [
       "-124"
      ]
     },
     "execution_count": 3,
     "metadata": {},
     "output_type": "execute_result"
    }
   ],
   "source": [
    "-124"
   ]
  },
  {
   "cell_type": "markdown",
   "metadata": {
    "colab_type": "text",
    "id": "4TO6k9oaGTCi",
    "slideshow": {
     "slide_type": "slide"
    }
   },
   "source": [
    "### Números Reales\n",
    "Tipo `float` (*floating point*)"
   ]
  },
  {
   "cell_type": "code",
   "execution_count": 4,
   "metadata": {
    "colab": {
     "base_uri": "https://localhost:8080/",
     "height": 34
    },
    "colab_type": "code",
    "executionInfo": {
     "elapsed": 2189,
     "status": "ok",
     "timestamp": 1547045718836,
     "user": {
      "displayName": "Daniel San Martín",
      "photoUrl": "https://lh4.googleusercontent.com/-xj_b6QASR9g/AAAAAAAAAAI/AAAAAAAAABc/MAAqQCVKo5I/s64/photo.jpg",
      "userId": "16014787961842903941"
     },
     "user_tz": 180
    },
    "id": "EzdrIhCqGTCl",
    "outputId": "618b2c1c-f69d-46e2-d95f-88f3377ca545",
    "slideshow": {
     "slide_type": "fragment"
    }
   },
   "outputs": [
    {
     "data": {
      "text/plain": [
       "-0.36"
      ]
     },
     "execution_count": 4,
     "metadata": {},
     "output_type": "execute_result"
    }
   ],
   "source": [
    "-0.36"
   ]
  },
  {
   "cell_type": "code",
   "execution_count": 5,
   "metadata": {
    "colab": {
     "base_uri": "https://localhost:8080/",
     "height": 34
    },
    "colab_type": "code",
    "executionInfo": {
     "elapsed": 2175,
     "status": "ok",
     "timestamp": 1547045718837,
     "user": {
      "displayName": "Daniel San Martín",
      "photoUrl": "https://lh4.googleusercontent.com/-xj_b6QASR9g/AAAAAAAAAAI/AAAAAAAAABc/MAAqQCVKo5I/s64/photo.jpg",
      "userId": "16014787961842903941"
     },
     "user_tz": 180
    },
    "id": "QIkDmKmTGTCt",
    "outputId": "7862cc0e-7c62-4843-f86f-d933f8c717e6",
    "slideshow": {
     "slide_type": "fragment"
    }
   },
   "outputs": [
    {
     "data": {
      "text/plain": [
       "1.0"
      ]
     },
     "execution_count": 5,
     "metadata": {},
     "output_type": "execute_result"
    }
   ],
   "source": [
    "1.0"
   ]
  },
  {
   "cell_type": "code",
   "execution_count": 6,
   "metadata": {
    "colab": {
     "base_uri": "https://localhost:8080/",
     "height": 34
    },
    "colab_type": "code",
    "executionInfo": {
     "elapsed": 2161,
     "status": "ok",
     "timestamp": 1547045718838,
     "user": {
      "displayName": "Daniel San Martín",
      "photoUrl": "https://lh4.googleusercontent.com/-xj_b6QASR9g/AAAAAAAAAAI/AAAAAAAAABc/MAAqQCVKo5I/s64/photo.jpg",
      "userId": "16014787961842903941"
     },
     "user_tz": 180
    },
    "id": "PXUlB9sFGTC2",
    "outputId": "c1b4104f-3f53-4ead-841a-6b5a81b1dfe5",
    "slideshow": {
     "slide_type": "fragment"
    }
   },
   "outputs": [
    {
     "data": {
      "text/plain": [
       "6.02e+23"
      ]
     },
     "execution_count": 6,
     "metadata": {},
     "output_type": "execute_result"
    }
   ],
   "source": [
    "6.02e23"
   ]
  },
  {
   "cell_type": "markdown",
   "metadata": {
    "colab_type": "text",
    "id": "_9C9wpsxGTC9",
    "slideshow": {
     "slide_type": "slide"
    }
   },
   "source": [
    "### Valores Lógicos\n",
    "Tipo `bool`"
   ]
  },
  {
   "cell_type": "code",
   "execution_count": 7,
   "metadata": {
    "colab": {
     "base_uri": "https://localhost:8080/",
     "height": 34
    },
    "colab_type": "code",
    "executionInfo": {
     "elapsed": 2149,
     "status": "ok",
     "timestamp": 1547045718840,
     "user": {
      "displayName": "Daniel San Martín",
      "photoUrl": "https://lh4.googleusercontent.com/-xj_b6QASR9g/AAAAAAAAAAI/AAAAAAAAABc/MAAqQCVKo5I/s64/photo.jpg",
      "userId": "16014787961842903941"
     },
     "user_tz": 180
    },
    "id": "APAdEHTBGTC_",
    "outputId": "d865a847-12e0-4cf3-ffda-ede087b19e9c",
    "slideshow": {
     "slide_type": "fragment"
    }
   },
   "outputs": [
    {
     "data": {
      "text/plain": [
       "True"
      ]
     },
     "execution_count": 7,
     "metadata": {},
     "output_type": "execute_result"
    }
   ],
   "source": [
    "True"
   ]
  },
  {
   "cell_type": "code",
   "execution_count": 8,
   "metadata": {
    "colab": {
     "base_uri": "https://localhost:8080/",
     "height": 34
    },
    "colab_type": "code",
    "executionInfo": {
     "elapsed": 2134,
     "status": "ok",
     "timestamp": 1547045718841,
     "user": {
      "displayName": "Daniel San Martín",
      "photoUrl": "https://lh4.googleusercontent.com/-xj_b6QASR9g/AAAAAAAAAAI/AAAAAAAAABc/MAAqQCVKo5I/s64/photo.jpg",
      "userId": "16014787961842903941"
     },
     "user_tz": 180
    },
    "id": "GO_XWWgLGTDH",
    "outputId": "0b6593e6-dd75-4199-f38a-b9024cf1edd6",
    "slideshow": {
     "slide_type": "fragment"
    }
   },
   "outputs": [
    {
     "data": {
      "text/plain": [
       "False"
      ]
     },
     "execution_count": 8,
     "metadata": {},
     "output_type": "execute_result"
    }
   ],
   "source": [
    "False"
   ]
  },
  {
   "cell_type": "markdown",
   "metadata": {
    "colab_type": "text",
    "id": "l2i59frOGTDL",
    "slideshow": {
     "slide_type": "slide"
    }
   },
   "source": [
    "### Texto\n",
    "Tipo `str` (*strings*)"
   ]
  },
  {
   "cell_type": "code",
   "execution_count": 9,
   "metadata": {
    "colab": {
     "base_uri": "https://localhost:8080/",
     "height": 34
    },
    "colab_type": "code",
    "executionInfo": {
     "elapsed": 2115,
     "status": "ok",
     "timestamp": 1547045718842,
     "user": {
      "displayName": "Daniel San Martín",
      "photoUrl": "https://lh4.googleusercontent.com/-xj_b6QASR9g/AAAAAAAAAAI/AAAAAAAAABc/MAAqQCVKo5I/s64/photo.jpg",
      "userId": "16014787961842903941"
     },
     "user_tz": 180
    },
    "id": "Y9IW1TujGTDM",
    "outputId": "e0360fc2-9001-463e-e47b-f69a93931a36",
    "slideshow": {
     "slide_type": "fragment"
    }
   },
   "outputs": [
    {
     "data": {
      "text/plain": [
       "'hola'"
      ]
     },
     "execution_count": 9,
     "metadata": {},
     "output_type": "execute_result"
    }
   ],
   "source": [
    "\"hola\""
   ]
  },
  {
   "cell_type": "code",
   "execution_count": 10,
   "metadata": {
    "colab": {
     "base_uri": "https://localhost:8080/",
     "height": 34
    },
    "colab_type": "code",
    "executionInfo": {
     "elapsed": 2102,
     "status": "ok",
     "timestamp": 1547045718843,
     "user": {
      "displayName": "Daniel San Martín",
      "photoUrl": "https://lh4.googleusercontent.com/-xj_b6QASR9g/AAAAAAAAAAI/AAAAAAAAABc/MAAqQCVKo5I/s64/photo.jpg",
      "userId": "16014787961842903941"
     },
     "user_tz": 180
    },
    "id": "1CDuqF6fGTDR",
    "outputId": "26e54053-1625-4205-c569-c690fe77c8b4",
    "slideshow": {
     "slide_type": "fragment"
    }
   },
   "outputs": [
    {
     "data": {
      "text/plain": [
       "'hola'"
      ]
     },
     "execution_count": 10,
     "metadata": {},
     "output_type": "execute_result"
    }
   ],
   "source": [
    "'hola'"
   ]
  },
  {
   "cell_type": "code",
   "execution_count": 11,
   "metadata": {
    "colab": {
     "base_uri": "https://localhost:8080/",
     "height": 34
    },
    "colab_type": "code",
    "executionInfo": {
     "elapsed": 2089,
     "status": "ok",
     "timestamp": 1547045718844,
     "user": {
      "displayName": "Daniel San Martín",
      "photoUrl": "https://lh4.googleusercontent.com/-xj_b6QASR9g/AAAAAAAAAAI/AAAAAAAAABc/MAAqQCVKo5I/s64/photo.jpg",
      "userId": "16014787961842903941"
     },
     "user_tz": 180
    },
    "id": "S35o67T9GTDX",
    "outputId": "cd7da349-b28f-4800-a901-1ac5cc2136ae",
    "slideshow": {
     "slide_type": "fragment"
    }
   },
   "outputs": [
    {
     "data": {
      "text/plain": [
       "\"Let's Go!\""
      ]
     },
     "execution_count": 11,
     "metadata": {},
     "output_type": "execute_result"
    }
   ],
   "source": [
    "\"Let's Go!\""
   ]
  },
  {
   "cell_type": "code",
   "execution_count": 12,
   "metadata": {
    "colab": {
     "base_uri": "https://localhost:8080/",
     "height": 34
    },
    "colab_type": "code",
    "executionInfo": {
     "elapsed": 2074,
     "status": "ok",
     "timestamp": 1547045718845,
     "user": {
      "displayName": "Daniel San Martín",
      "photoUrl": "https://lh4.googleusercontent.com/-xj_b6QASR9g/AAAAAAAAAAI/AAAAAAAAABc/MAAqQCVKo5I/s64/photo.jpg",
      "userId": "16014787961842903941"
     },
     "user_tz": 180
    },
    "id": "_-uGmmjoGTDd",
    "outputId": "e5debfd4-5f91-4dc4-de3b-e466359e9bfe",
    "slideshow": {
     "slide_type": "fragment"
    }
   },
   "outputs": [
    {
     "data": {
      "text/plain": [
       "'Ella dijo \"Hola\"'"
      ]
     },
     "execution_count": 12,
     "metadata": {},
     "output_type": "execute_result"
    }
   ],
   "source": [
    "'Ella dijo \"Hola\"'"
   ]
  },
  {
   "cell_type": "markdown",
   "metadata": {
    "colab_type": "text",
    "id": "4V8AlYbOGTDi",
    "slideshow": {
     "slide_type": "slide"
    }
   },
   "source": [
    "## Expresiones y operadores"
   ]
  },
  {
   "cell_type": "markdown",
   "metadata": {
    "colab_type": "text",
    "id": "LZqr4muWGTDj",
    "slideshow": {
     "slide_type": "slide"
    }
   },
   "source": [
    "**Expresión:** combinación de valores que pueden ser evaluados y entregan un resultado.\n",
    "Pueden estar formados por:\n",
    "- **Valores literales**\n",
    "- **Variables**\n",
    "- **Operadores**\n",
    "- **Llamadas a funciones**"
   ]
  },
  {
   "cell_type": "markdown",
   "metadata": {
    "colab_type": "text",
    "id": "1wig6OIGGTDm",
    "slideshow": {
     "slide_type": "slide"
    }
   },
   "source": [
    "**Operador:** símbolo en una expresión que representa una operación aplicada a los valores sobre los que actúa."
   ]
  },
  {
   "cell_type": "markdown",
   "metadata": {
    "slideshow": {
     "slide_type": "slide"
    }
   },
   "source": [
    "### Operadores Aritméticos"
   ]
  },
  {
   "cell_type": "markdown",
   "metadata": {
    "colab_type": "text",
    "id": "AuVwdUeYGTDn",
    "slideshow": {
     "slide_type": "fragment"
    }
   },
   "source": [
    "Operan sobre valores numéricos y entregan un valor numérico como resultado.\n",
    "Pueden ser:\n",
    "- Operadores binarios\n",
    "- Operadores unarios"
   ]
  },
  {
   "cell_type": "markdown",
   "metadata": {
    "colab_type": "text",
    "id": "_Pz4wQz8GTDo",
    "slideshow": {
     "slide_type": "slide"
    }
   },
   "source": [
    "#### Operadores binarios\n",
    "- Suma (`+`)\n",
    "- Resta (`-`)\n",
    "- Multiplicación (`*`)\n",
    "- División (`/`)\n",
    "- División Entera (`//`)\n",
    "- Módulo o resto de la división (`%`)\n",
    "- Potencia (`**`)"
   ]
  },
  {
   "cell_type": "code",
   "execution_count": 13,
   "metadata": {
    "colab": {
     "base_uri": "https://localhost:8080/",
     "height": 54
    },
    "colab_type": "code",
    "executionInfo": {
     "elapsed": 2058,
     "status": "ok",
     "timestamp": 1547045718846,
     "user": {
      "displayName": "Daniel San Martín",
      "photoUrl": "https://lh4.googleusercontent.com/-xj_b6QASR9g/AAAAAAAAAAI/AAAAAAAAABc/MAAqQCVKo5I/s64/photo.jpg",
      "userId": "16014787961842903941"
     },
     "user_tz": 180
    },
    "id": "cS1Z2brmGTDo",
    "outputId": "dd074aaf-6a32-4df5-cfe0-ee5f03c739a8",
    "slideshow": {
     "slide_type": "slide"
    }
   },
   "outputs": [
    {
     "data": {
      "text/plain": [
       "5"
      ]
     },
     "execution_count": 13,
     "metadata": {},
     "output_type": "execute_result"
    }
   ],
   "source": [
    "3+2"
   ]
  },
  {
   "cell_type": "code",
   "execution_count": 14,
   "metadata": {
    "colab": {
     "base_uri": "https://localhost:8080/",
     "height": 54
    },
    "colab_type": "code",
    "executionInfo": {
     "elapsed": 2050,
     "status": "ok",
     "timestamp": 1547045718847,
     "user": {
      "displayName": "Daniel San Martín",
      "photoUrl": "https://lh4.googleusercontent.com/-xj_b6QASR9g/AAAAAAAAAAI/AAAAAAAAABc/MAAqQCVKo5I/s64/photo.jpg",
      "userId": "16014787961842903941"
     },
     "user_tz": 180
    },
    "id": "upKGnVLyGTDr",
    "outputId": "4919df78-6749-4a93-fca2-f1c9f8d86df1",
    "slideshow": {
     "slide_type": "fragment"
    }
   },
   "outputs": [
    {
     "data": {
      "text/plain": [
       "3"
      ]
     },
     "execution_count": 14,
     "metadata": {},
     "output_type": "execute_result"
    }
   ],
   "source": [
    "8-5"
   ]
  },
  {
   "cell_type": "code",
   "execution_count": 15,
   "metadata": {
    "colab": {
     "base_uri": "https://localhost:8080/",
     "height": 54
    },
    "colab_type": "code",
    "executionInfo": {
     "elapsed": 2043,
     "status": "ok",
     "timestamp": 1547045718848,
     "user": {
      "displayName": "Daniel San Martín",
      "photoUrl": "https://lh4.googleusercontent.com/-xj_b6QASR9g/AAAAAAAAAAI/AAAAAAAAABc/MAAqQCVKo5I/s64/photo.jpg",
      "userId": "16014787961842903941"
     },
     "user_tz": 180
    },
    "id": "fVLT3wtSGTDw",
    "outputId": "14c2e684-7844-4766-8b48-118101be2576",
    "slideshow": {
     "slide_type": "fragment"
    }
   },
   "outputs": [
    {
     "data": {
      "text/plain": [
       "3.0"
      ]
     },
     "execution_count": 15,
     "metadata": {},
     "output_type": "execute_result"
    }
   ],
   "source": [
    "8-5.0"
   ]
  },
  {
   "cell_type": "code",
   "execution_count": 16,
   "metadata": {
    "colab": {
     "base_uri": "https://localhost:8080/",
     "height": 54
    },
    "colab_type": "code",
    "executionInfo": {
     "elapsed": 2687,
     "status": "ok",
     "timestamp": 1547045719500,
     "user": {
      "displayName": "Daniel San Martín",
      "photoUrl": "https://lh4.googleusercontent.com/-xj_b6QASR9g/AAAAAAAAAAI/AAAAAAAAABc/MAAqQCVKo5I/s64/photo.jpg",
      "userId": "16014787961842903941"
     },
     "user_tz": 180
    },
    "id": "yx4EDuT4GTD1",
    "outputId": "743a80a4-dccd-49fa-bdd0-42b186fd5eeb",
    "slideshow": {
     "slide_type": "slide"
    }
   },
   "outputs": [
    {
     "data": {
      "text/plain": [
       "0.5"
      ]
     },
     "execution_count": 16,
     "metadata": {},
     "output_type": "execute_result"
    }
   ],
   "source": [
    "1/2"
   ]
  },
  {
   "cell_type": "code",
   "execution_count": 17,
   "metadata": {
    "colab": {
     "base_uri": "https://localhost:8080/",
     "height": 54
    },
    "colab_type": "code",
    "executionInfo": {
     "elapsed": 2681,
     "status": "ok",
     "timestamp": 1547045719501,
     "user": {
      "displayName": "Daniel San Martín",
      "photoUrl": "https://lh4.googleusercontent.com/-xj_b6QASR9g/AAAAAAAAAAI/AAAAAAAAABc/MAAqQCVKo5I/s64/photo.jpg",
      "userId": "16014787961842903941"
     },
     "user_tz": 180
    },
    "id": "lMqXkMrvGTD4",
    "outputId": "61ddf880-b6e9-4481-ee03-0edc467a8448",
    "scrolled": true,
    "slideshow": {
     "slide_type": "fragment"
    }
   },
   "outputs": [
    {
     "data": {
      "text/plain": [
       "0"
      ]
     },
     "execution_count": 17,
     "metadata": {},
     "output_type": "execute_result"
    }
   ],
   "source": [
    "1//2"
   ]
  },
  {
   "cell_type": "code",
   "execution_count": 18,
   "metadata": {
    "slideshow": {
     "slide_type": "slide"
    }
   },
   "outputs": [
    {
     "data": {
      "text/plain": [
       "1"
      ]
     },
     "execution_count": 18,
     "metadata": {},
     "output_type": "execute_result"
    }
   ],
   "source": [
    "5%2"
   ]
  },
  {
   "cell_type": "code",
   "execution_count": 19,
   "metadata": {
    "slideshow": {
     "slide_type": "fragment"
    }
   },
   "outputs": [
    {
     "data": {
      "text/plain": [
       "4"
      ]
     },
     "execution_count": 19,
     "metadata": {},
     "output_type": "execute_result"
    }
   ],
   "source": [
    "2**2"
   ]
  },
  {
   "cell_type": "markdown",
   "metadata": {
    "colab_type": "text",
    "id": "IqCRCRtuGTD_",
    "slideshow": {
     "slide_type": "slide"
    }
   },
   "source": [
    "#### Operadores unarios\n",
    "- Positivo (`+`)\n",
    "- Negativo (`-`)"
   ]
  },
  {
   "cell_type": "code",
   "execution_count": 20,
   "metadata": {
    "colab": {
     "base_uri": "https://localhost:8080/",
     "height": 54
    },
    "colab_type": "code",
    "executionInfo": {
     "elapsed": 2668,
     "status": "ok",
     "timestamp": 1547045719503,
     "user": {
      "displayName": "Daniel San Martín",
      "photoUrl": "https://lh4.googleusercontent.com/-xj_b6QASR9g/AAAAAAAAAAI/AAAAAAAAABc/MAAqQCVKo5I/s64/photo.jpg",
      "userId": "16014787961842903941"
     },
     "user_tz": 180
    },
    "id": "sCTmUk4JGTEA",
    "outputId": "5350d4cb-486f-499a-daa2-1f4cd730c072",
    "slideshow": {
     "slide_type": "fragment"
    }
   },
   "outputs": [
    {
     "data": {
      "text/plain": [
       "3"
      ]
     },
     "execution_count": 20,
     "metadata": {},
     "output_type": "execute_result"
    }
   ],
   "source": [
    "+3"
   ]
  },
  {
   "cell_type": "code",
   "execution_count": 21,
   "metadata": {
    "colab": {
     "base_uri": "https://localhost:8080/",
     "height": 54
    },
    "colab_type": "code",
    "executionInfo": {
     "elapsed": 2662,
     "status": "ok",
     "timestamp": 1547045719504,
     "user": {
      "displayName": "Daniel San Martín",
      "photoUrl": "https://lh4.googleusercontent.com/-xj_b6QASR9g/AAAAAAAAAAI/AAAAAAAAABc/MAAqQCVKo5I/s64/photo.jpg",
      "userId": "16014787961842903941"
     },
     "user_tz": 180
    },
    "id": "TSVAi4TVGTEF",
    "outputId": "59b78a92-a237-4874-c7c0-71c08dd60601",
    "slideshow": {
     "slide_type": "fragment"
    }
   },
   "outputs": [
    {
     "data": {
      "text/plain": [
       "-5.0"
      ]
     },
     "execution_count": 21,
     "metadata": {},
     "output_type": "execute_result"
    }
   ],
   "source": [
    "-5.0"
   ]
  },
  {
   "cell_type": "markdown",
   "metadata": {
    "colab_type": "text",
    "id": "HtEi4Nc2GTFB",
    "slideshow": {
     "slide_type": "slide"
    }
   },
   "source": [
    "## Llamados a funciones y uso de biblioteca\n",
    "\n",
    "Algunas funciones se encuentran incorporadas al núcleo del lenguaje Python y se pueden utilizar directamente (`round`, `abs`). En otros casos, las funciones están agrupadas en colecciones denominadas bibliotecas (`math`, `random`), y es necesario primero importarlas desde la biblioteca antes de poder utilizarlas."
   ]
  },
  {
   "cell_type": "markdown",
   "metadata": {
    "slideshow": {
     "slide_type": "fragment"
    }
   },
   "source": [
    "Algunos ejemplos"
   ]
  },
  {
   "cell_type": "markdown",
   "metadata": {
    "slideshow": {
     "slide_type": "slide"
    }
   },
   "source": [
    "**Valor absoluto** $|x|$"
   ]
  },
  {
   "cell_type": "code",
   "execution_count": 22,
   "metadata": {
    "colab": {
     "base_uri": "https://localhost:8080/",
     "height": 54
    },
    "colab_type": "code",
    "executionInfo": {
     "elapsed": 2492,
     "status": "ok",
     "timestamp": 1547045719519,
     "user": {
      "displayName": "Daniel San Martín",
      "photoUrl": "https://lh4.googleusercontent.com/-xj_b6QASR9g/AAAAAAAAAAI/AAAAAAAAABc/MAAqQCVKo5I/s64/photo.jpg",
      "userId": "16014787961842903941"
     },
     "user_tz": 180
    },
    "id": "DARzqswRGTFD",
    "outputId": "51fb39e2-6f77-4b41-a557-e29fe0c02c7d",
    "slideshow": {
     "slide_type": "fragment"
    }
   },
   "outputs": [
    {
     "data": {
      "text/plain": [
       "1"
      ]
     },
     "execution_count": 22,
     "metadata": {},
     "output_type": "execute_result"
    }
   ],
   "source": [
    "abs(4-5)"
   ]
  },
  {
   "cell_type": "markdown",
   "metadata": {},
   "source": [
    "**Redondear**"
   ]
  },
  {
   "cell_type": "code",
   "execution_count": 23,
   "metadata": {
    "colab": {
     "base_uri": "https://localhost:8080/",
     "height": 54
    },
    "colab_type": "code",
    "executionInfo": {
     "elapsed": 2485,
     "status": "ok",
     "timestamp": 1547045719520,
     "user": {
      "displayName": "Daniel San Martín",
      "photoUrl": "https://lh4.googleusercontent.com/-xj_b6QASR9g/AAAAAAAAAAI/AAAAAAAAABc/MAAqQCVKo5I/s64/photo.jpg",
      "userId": "16014787961842903941"
     },
     "user_tz": 180
    },
    "id": "SyP4OAFTGTFG",
    "outputId": "a651e646-148d-48f8-c9eb-f84b2001f9f5",
    "slideshow": {
     "slide_type": "fragment"
    }
   },
   "outputs": [
    {
     "data": {
      "text/plain": [
       "2"
      ]
     },
     "execution_count": 23,
     "metadata": {},
     "output_type": "execute_result"
    }
   ],
   "source": [
    "round(2.456)"
   ]
  },
  {
   "cell_type": "markdown",
   "metadata": {
    "slideshow": {
     "slide_type": "slide"
    }
   },
   "source": [
    "### Ejemplos de funciones de la biblioteca `math`"
   ]
  },
  {
   "cell_type": "markdown",
   "metadata": {
    "slideshow": {
     "slide_type": "fragment"
    }
   },
   "source": [
    "**Exponencial** $e^x$"
   ]
  },
  {
   "cell_type": "code",
   "execution_count": 24,
   "metadata": {
    "colab": {
     "base_uri": "https://localhost:8080/",
     "height": 54
    },
    "colab_type": "code",
    "executionInfo": {
     "elapsed": 2472,
     "status": "ok",
     "timestamp": 1547045719522,
     "user": {
      "displayName": "Daniel San Martín",
      "photoUrl": "https://lh4.googleusercontent.com/-xj_b6QASR9g/AAAAAAAAAAI/AAAAAAAAABc/MAAqQCVKo5I/s64/photo.jpg",
      "userId": "16014787961842903941"
     },
     "user_tz": 180
    },
    "id": "o_fN5muGGTFM",
    "outputId": "fba987f9-ee91-4039-bc33-cdac5e6fdad4",
    "scrolled": true,
    "slideshow": {
     "slide_type": "fragment"
    }
   },
   "outputs": [
    {
     "data": {
      "text/plain": [
       "2.718281828459045"
      ]
     },
     "execution_count": 24,
     "metadata": {},
     "output_type": "execute_result"
    }
   ],
   "source": [
    "from math import exp\n",
    "exp(1)"
   ]
  },
  {
   "cell_type": "markdown",
   "metadata": {
    "slideshow": {
     "slide_type": "fragment"
    }
   },
   "source": [
    "**Raíz cuadrada** $\\sqrt{x}$"
   ]
  },
  {
   "cell_type": "code",
   "execution_count": 25,
   "metadata": {
    "colab": {
     "base_uri": "https://localhost:8080/",
     "height": 54
    },
    "colab_type": "code",
    "executionInfo": {
     "elapsed": 2497,
     "status": "ok",
     "timestamp": 1547045719518,
     "user": {
      "displayName": "Daniel San Martín",
      "photoUrl": "https://lh4.googleusercontent.com/-xj_b6QASR9g/AAAAAAAAAAI/AAAAAAAAABc/MAAqQCVKo5I/s64/photo.jpg",
      "userId": "16014787961842903941"
     },
     "user_tz": 180
    },
    "id": "qb_7vDOBGTFB",
    "outputId": "914fae58-78f9-4bbe-e279-e517bef62d67",
    "slideshow": {
     "slide_type": "fragment"
    }
   },
   "outputs": [
    {
     "data": {
      "text/plain": [
       "6.0"
      ]
     },
     "execution_count": 25,
     "metadata": {},
     "output_type": "execute_result"
    }
   ],
   "source": [
    "import math\n",
    "math.sqrt(36)"
   ]
  },
  {
   "cell_type": "markdown",
   "metadata": {
    "slideshow": {
     "slide_type": "slide"
    }
   },
   "source": [
    "### Ejemplos de funciones de la biblioteca `random`"
   ]
  },
  {
   "cell_type": "markdown",
   "metadata": {
    "slideshow": {
     "slide_type": "fragment"
    }
   },
   "source": [
    "`randint(a,b)` entrega un entero aleatorio entre $[a,b]$"
   ]
  },
  {
   "cell_type": "code",
   "execution_count": 26,
   "metadata": {
    "colab": {
     "base_uri": "https://localhost:8080/",
     "height": 54
    },
    "colab_type": "code",
    "executionInfo": {
     "elapsed": 2497,
     "status": "ok",
     "timestamp": 1547045719518,
     "user": {
      "displayName": "Daniel San Martín",
      "photoUrl": "https://lh4.googleusercontent.com/-xj_b6QASR9g/AAAAAAAAAAI/AAAAAAAAABc/MAAqQCVKo5I/s64/photo.jpg",
      "userId": "16014787961842903941"
     },
     "user_tz": 180
    },
    "id": "qb_7vDOBGTFB",
    "outputId": "914fae58-78f9-4bbe-e279-e517bef62d67",
    "slideshow": {
     "slide_type": "fragment"
    }
   },
   "outputs": [
    {
     "data": {
      "text/plain": [
       "10"
      ]
     },
     "execution_count": 26,
     "metadata": {},
     "output_type": "execute_result"
    }
   ],
   "source": [
    "from random import randint\n",
    "randint(1,10)"
   ]
  },
  {
   "cell_type": "markdown",
   "metadata": {
    "slideshow": {
     "slide_type": "slide"
    }
   },
   "source": [
    "## Precedencia de Operadores"
   ]
  },
  {
   "cell_type": "markdown",
   "metadata": {
    "slideshow": {
     "slide_type": "fragment"
    }
   },
   "source": [
    "Las expresiones se evalúan siguiendo reglas de precedencia que resuelven las ambigüedades. La precedencia de operadores, de mayor a menor, es la siguiente:\n",
    "\n",
    "1. `(, )` (parentesis)\n",
    "* `abs()`, `sqrt()`, `randint()` (llamada a funciones) \n",
    "* `**` \n",
    "* `+x`, `-x` (unario)\n",
    "* `*`, `/`, `//`, `%`\n",
    "* `+`, `-`"
   ]
  },
  {
   "cell_type": "markdown",
   "metadata": {
    "slideshow": {
     "slide_type": "slide"
    }
   },
   "source": [
    "### Asociatividad de Operadores"
   ]
  },
  {
   "cell_type": "markdown",
   "metadata": {
    "slideshow": {
     "slide_type": "fragment"
    }
   },
   "source": [
    "El operador `**` es asociativo por la derecha. Ejemplo: "
   ]
  },
  {
   "cell_type": "code",
   "execution_count": 27,
   "metadata": {
    "slideshow": {
     "slide_type": "fragment"
    }
   },
   "outputs": [
    {
     "data": {
      "text/plain": [
       "512"
      ]
     },
     "execution_count": 27,
     "metadata": {},
     "output_type": "execute_result"
    }
   ],
   "source": [
    "2**3**2"
   ]
  },
  {
   "cell_type": "markdown",
   "metadata": {
    "slideshow": {
     "slide_type": "fragment"
    }
   },
   "source": [
    "Los operadores `*`, `/` y `//` lo son por la izquierda. Ejemplo:"
   ]
  },
  {
   "cell_type": "code",
   "execution_count": 28,
   "metadata": {
    "slideshow": {
     "slide_type": "fragment"
    }
   },
   "outputs": [
    {
     "data": {
      "text/plain": [
       "3.0"
      ]
     },
     "execution_count": 28,
     "metadata": {},
     "output_type": "execute_result"
    }
   ],
   "source": [
    "24/4/2"
   ]
  },
  {
   "cell_type": "markdown",
   "metadata": {
    "colab_type": "text",
    "id": "BVwO3sH9GTFl",
    "slideshow": {
     "slide_type": "slide"
    }
   },
   "source": [
    "## Conversión entre tipos de datos (*casting*)"
   ]
  },
  {
   "cell_type": "code",
   "execution_count": 29,
   "metadata": {
    "colab": {
     "base_uri": "https://localhost:8080/",
     "height": 34
    },
    "colab_type": "code",
    "executionInfo": {
     "elapsed": 1526,
     "status": "ok",
     "timestamp": 1547045806572,
     "user": {
      "displayName": "Daniel San Martín",
      "photoUrl": "https://lh4.googleusercontent.com/-xj_b6QASR9g/AAAAAAAAAAI/AAAAAAAAABc/MAAqQCVKo5I/s64/photo.jpg",
      "userId": "16014787961842903941"
     },
     "user_tz": 180
    },
    "id": "Q4vAdiocGTFm",
    "outputId": "f1a1413a-4e14-4ef6-d443-9faf0fdc7b6b",
    "slideshow": {
     "slide_type": "fragment"
    }
   },
   "outputs": [
    {
     "data": {
      "text/plain": [
       "3"
      ]
     },
     "execution_count": 29,
     "metadata": {},
     "output_type": "execute_result"
    }
   ],
   "source": [
    "int(3.5)"
   ]
  },
  {
   "cell_type": "code",
   "execution_count": 30,
   "metadata": {
    "colab": {
     "base_uri": "https://localhost:8080/",
     "height": 34
    },
    "colab_type": "code",
    "executionInfo": {
     "elapsed": 1519,
     "status": "ok",
     "timestamp": 1547045806573,
     "user": {
      "displayName": "Daniel San Martín",
      "photoUrl": "https://lh4.googleusercontent.com/-xj_b6QASR9g/AAAAAAAAAAI/AAAAAAAAABc/MAAqQCVKo5I/s64/photo.jpg",
      "userId": "16014787961842903941"
     },
     "user_tz": 180
    },
    "id": "ySXS_5cYGTFp",
    "outputId": "58e42633-dc0f-438c-862b-ad8e40367c53",
    "slideshow": {
     "slide_type": "fragment"
    }
   },
   "outputs": [
    {
     "data": {
      "text/plain": [
       "1.0"
      ]
     },
     "execution_count": 30,
     "metadata": {},
     "output_type": "execute_result"
    }
   ],
   "source": [
    "float(\"1\")"
   ]
  },
  {
   "cell_type": "code",
   "execution_count": 31,
   "metadata": {
    "colab": {
     "base_uri": "https://localhost:8080/",
     "height": 34
    },
    "colab_type": "code",
    "executionInfo": {
     "elapsed": 1513,
     "status": "ok",
     "timestamp": 1547045806574,
     "user": {
      "displayName": "Daniel San Martín",
      "photoUrl": "https://lh4.googleusercontent.com/-xj_b6QASR9g/AAAAAAAAAAI/AAAAAAAAABc/MAAqQCVKo5I/s64/photo.jpg",
      "userId": "16014787961842903941"
     },
     "user_tz": 180
    },
    "id": "wb_92j36GTFs",
    "outputId": "ddb152b0-5fb8-4462-c977-55a53f140c9f",
    "slideshow": {
     "slide_type": "fragment"
    }
   },
   "outputs": [
    {
     "data": {
      "text/plain": [
       "'25'"
      ]
     },
     "execution_count": 31,
     "metadata": {},
     "output_type": "execute_result"
    }
   ],
   "source": [
    "str(25)"
   ]
  },
  {
   "cell_type": "code",
   "execution_count": 32,
   "metadata": {
    "colab": {
     "base_uri": "https://localhost:8080/",
     "height": 34
    },
    "colab_type": "code",
    "executionInfo": {
     "elapsed": 1506,
     "status": "ok",
     "timestamp": 1547045806575,
     "user": {
      "displayName": "Daniel San Martín",
      "photoUrl": "https://lh4.googleusercontent.com/-xj_b6QASR9g/AAAAAAAAAAI/AAAAAAAAABc/MAAqQCVKo5I/s64/photo.jpg",
      "userId": "16014787961842903941"
     },
     "user_tz": 180
    },
    "id": "A9I1BANfGTFv",
    "outputId": "14352491-3189-4da4-caf7-4117df3198fa",
    "slideshow": {
     "slide_type": "fragment"
    }
   },
   "outputs": [
    {
     "data": {
      "text/plain": [
       "False"
      ]
     },
     "execution_count": 32,
     "metadata": {},
     "output_type": "execute_result"
    }
   ],
   "source": [
    "bool(0.0)"
   ]
  },
  {
   "cell_type": "code",
   "execution_count": 33,
   "metadata": {},
   "outputs": [
    {
     "ename": "ValueError",
     "evalue": "invalid literal for int() with base 10: 'hola'",
     "output_type": "error",
     "traceback": [
      "\u001b[0;31m---------------------------------------------------------------------------\u001b[0m",
      "\u001b[0;31mValueError\u001b[0m                                Traceback (most recent call last)",
      "\u001b[0;32m<ipython-input-33-62025142aa33>\u001b[0m in \u001b[0;36m<module>\u001b[0;34m\u001b[0m\n\u001b[0;32m----> 1\u001b[0;31m \u001b[0mint\u001b[0m\u001b[0;34m(\u001b[0m\u001b[0;34m\"hola\"\u001b[0m\u001b[0;34m)\u001b[0m\u001b[0;34m\u001b[0m\u001b[0;34m\u001b[0m\u001b[0m\n\u001b[0m",
      "\u001b[0;31mValueError\u001b[0m: invalid literal for int() with base 10: 'hola'"
     ]
    }
   ],
   "source": [
    "int(\"hola\")"
   ]
  },
  {
   "cell_type": "markdown",
   "metadata": {
    "colab_type": "text",
    "id": "TsLuZxnGGTFN",
    "slideshow": {
     "slide_type": "slide"
    }
   },
   "source": [
    "## Asignación de variables\n",
    "Una asignación de variables tiene la forma: \n",
    "<div align=\"center\">\n",
    "<div style=\"font-size:2em\"> &lt;variable&gt; = &lt;expresion&gt;</div>\n",
    "<img src=\"images/asignacion_var.jpg\" width=\"250px\"/>\n",
    "</div>"
   ]
  },
  {
   "cell_type": "markdown",
   "metadata": {
    "colab_type": "text",
    "id": "RFTOJY5UGTFO",
    "slideshow": {
     "slide_type": "slide"
    }
   },
   "source": [
    "- Primero se evalúa la expresión a la derecha del signo igual.\n",
    "- El resultado de la evaluación es asignado a la variable a la izquierda del signo igual."
   ]
  },
  {
   "cell_type": "markdown",
   "metadata": {
    "colab_type": "text",
    "id": "P0SAdlYuGTFO",
    "slideshow": {
     "slide_type": "slide"
    }
   },
   "source": [
    "¿Qué valor tienen las siguiente variables?"
   ]
  },
  {
   "cell_type": "code",
   "execution_count": 34,
   "metadata": {
    "colab": {
     "base_uri": "https://localhost:8080/",
     "height": 198
    },
    "colab_type": "code",
    "executionInfo": {
     "elapsed": 2868,
     "status": "error",
     "timestamp": 1547045719925,
     "user": {
      "displayName": "Daniel San Martín",
      "photoUrl": "https://lh4.googleusercontent.com/-xj_b6QASR9g/AAAAAAAAAAI/AAAAAAAAABc/MAAqQCVKo5I/s64/photo.jpg",
      "userId": "16014787961842903941"
     },
     "user_tz": 180
    },
    "id": "R4v14uNPGTFP",
    "outputId": "c1432948-188f-4a0e-9659-79d886b3bd16",
    "slideshow": {
     "slide_type": "fragment"
    }
   },
   "outputs": [
    {
     "ename": "NameError",
     "evalue": "name 'e' is not defined",
     "output_type": "error",
     "traceback": [
      "\u001b[0;31m---------------------------------------------------------------------------\u001b[0m",
      "\u001b[0;31mNameError\u001b[0m                                 Traceback (most recent call last)",
      "\u001b[0;32m<ipython-input-34-9c013495dc5f>\u001b[0m in \u001b[0;36m<module>\u001b[0;34m\u001b[0m\n\u001b[1;32m      3\u001b[0m \u001b[0ma\u001b[0m \u001b[0;34m=\u001b[0m \u001b[0;36m2\u001b[0m\u001b[0;34m\u001b[0m\u001b[0;34m\u001b[0m\u001b[0m\n\u001b[1;32m      4\u001b[0m \u001b[0md\u001b[0m \u001b[0;34m=\u001b[0m \u001b[0ma\u001b[0m \u001b[0;34m-\u001b[0m \u001b[0;36m3\u001b[0m\u001b[0;34m\u001b[0m\u001b[0;34m\u001b[0m\u001b[0m\n\u001b[0;32m----> 5\u001b[0;31m \u001b[0me\u001b[0m \u001b[0;34m=\u001b[0m \u001b[0me\u001b[0m \u001b[0;34m+\u001b[0m \u001b[0;36m1\u001b[0m\u001b[0;34m\u001b[0m\u001b[0;34m\u001b[0m\u001b[0m\n\u001b[0m",
      "\u001b[0;31mNameError\u001b[0m: name 'e' is not defined"
     ]
    }
   ],
   "source": [
    "a = 4 + 5\n",
    "b = a + 4\n",
    "a = 2 \n",
    "d = a - 3\n",
    "e = e + 1"
   ]
  },
  {
   "cell_type": "markdown",
   "metadata": {
    "colab_type": "text",
    "id": "56yt8qibGTFQ",
    "slideshow": {
     "slide_type": "slide"
    }
   },
   "source": [
    "## Entrada de datos"
   ]
  },
  {
   "cell_type": "code",
   "execution_count": 36,
   "metadata": {},
   "outputs": [
    {
     "name": "stdout",
     "output_type": "stream",
     "text": [
      "a\n"
     ]
    }
   ],
   "source": [
    "dato = input()"
   ]
  },
  {
   "cell_type": "code",
   "execution_count": 37,
   "metadata": {
    "colab": {
     "base_uri": "https://localhost:8080/",
     "height": 35
    },
    "colab_type": "code",
    "executionInfo": {
     "elapsed": 4864,
     "status": "ok",
     "timestamp": 1547745480028,
     "user": {
      "displayName": "Cristopher Arenas",
      "photoUrl": "https://lh6.googleusercontent.com/-XmDQBU2Mkm8/AAAAAAAAAAI/AAAAAAAAAIY/xrQ0YxqoyWs/s64/photo.jpg",
      "userId": "00308369002284592615"
     },
     "user_tz": 180
    },
    "id": "xOB5ne6pGTFR",
    "outputId": "3f8859b3-ec39-43bc-e732-81b5ec91d65b",
    "slideshow": {
     "slide_type": "fragment"
    }
   },
   "outputs": [
    {
     "name": "stdout",
     "output_type": "stream",
     "text": [
      "Ingrese su nombre: Juan\n"
     ]
    }
   ],
   "source": [
    "nombre = input(\"Ingrese su nombre: \")"
   ]
  },
  {
   "cell_type": "markdown",
   "metadata": {
    "colab_type": "text",
    "id": "29Jqesn3GTFU",
    "slideshow": {
     "slide_type": "fragment"
    }
   },
   "source": [
    "¿Qué tipo de dato es la variable `nombre`?"
   ]
  },
  {
   "cell_type": "code",
   "execution_count": 38,
   "metadata": {
    "colab": {
     "base_uri": "https://localhost:8080/",
     "height": 35
    },
    "colab_type": "code",
    "executionInfo": {
     "elapsed": 768,
     "status": "ok",
     "timestamp": 1547745487261,
     "user": {
      "displayName": "Cristopher Arenas",
      "photoUrl": "https://lh6.googleusercontent.com/-XmDQBU2Mkm8/AAAAAAAAAAI/AAAAAAAAAIY/xrQ0YxqoyWs/s64/photo.jpg",
      "userId": "00308369002284592615"
     },
     "user_tz": 180
    },
    "id": "BSL-_23RGTFV",
    "outputId": "3f3cb21f-f442-43ec-be7e-75032468fbfd",
    "slideshow": {
     "slide_type": "fragment"
    }
   },
   "outputs": [
    {
     "data": {
      "text/plain": [
       "'Juan'"
      ]
     },
     "execution_count": 38,
     "metadata": {},
     "output_type": "execute_result"
    }
   ],
   "source": [
    "nombre"
   ]
  },
  {
   "cell_type": "markdown",
   "metadata": {
    "colab_type": "text",
    "id": "NZuaGPTMGTFY",
    "slideshow": {
     "slide_type": "slide"
    }
   },
   "source": [
    "## Salida de datos"
   ]
  },
  {
   "cell_type": "code",
   "execution_count": 39,
   "metadata": {
    "colab": {
     "base_uri": "https://localhost:8080/",
     "height": 34
    },
    "colab_type": "code",
    "executionInfo": {
     "elapsed": 1063,
     "status": "ok",
     "timestamp": 1547045806046,
     "user": {
      "displayName": "Daniel San Martín",
      "photoUrl": "https://lh4.googleusercontent.com/-xj_b6QASR9g/AAAAAAAAAAI/AAAAAAAAABc/MAAqQCVKo5I/s64/photo.jpg",
      "userId": "16014787961842903941"
     },
     "user_tz": 180
    },
    "id": "GXgI05ecGTFZ",
    "outputId": "ec61ddd1-b2eb-4ed0-bbb6-aa9f8238222e",
    "scrolled": true,
    "slideshow": {
     "slide_type": "fragment"
    }
   },
   "outputs": [
    {
     "name": "stdout",
     "output_type": "stream",
     "text": [
      "Hola mundo\n"
     ]
    }
   ],
   "source": [
    "print(\"Hola mundo\")"
   ]
  },
  {
   "cell_type": "code",
   "execution_count": 40,
   "metadata": {
    "colab": {},
    "colab_type": "code",
    "id": "kpqevY9VGTFb",
    "slideshow": {
     "slide_type": "fragment"
    }
   },
   "outputs": [],
   "source": [
    "a = 6\n",
    "x = a**2"
   ]
  },
  {
   "cell_type": "code",
   "execution_count": 41,
   "metadata": {
    "colab": {
     "base_uri": "https://localhost:8080/",
     "height": 34
    },
    "colab_type": "code",
    "executionInfo": {
     "elapsed": 827,
     "status": "ok",
     "timestamp": 1547045818337,
     "user": {
      "displayName": "Daniel San Martín",
      "photoUrl": "https://lh4.googleusercontent.com/-xj_b6QASR9g/AAAAAAAAAAI/AAAAAAAAABc/MAAqQCVKo5I/s64/photo.jpg",
      "userId": "16014787961842903941"
     },
     "user_tz": 180
    },
    "id": "xBOB-BOTGTFd",
    "outputId": "46d568c4-da67-4cdb-8676-470fb431f168",
    "slideshow": {
     "slide_type": "fragment"
    }
   },
   "outputs": [
    {
     "name": "stdout",
     "output_type": "stream",
     "text": [
      "6 al cuadrado es 36\n"
     ]
    }
   ],
   "source": [
    "print(a, 'al cuadrado es', x)"
   ]
  },
  {
   "cell_type": "code",
   "execution_count": 42,
   "metadata": {
    "colab": {
     "base_uri": "https://localhost:8080/",
     "height": 34
    },
    "colab_type": "code",
    "executionInfo": {
     "elapsed": 993,
     "status": "ok",
     "timestamp": 1547045860930,
     "user": {
      "displayName": "Daniel San Martín",
      "photoUrl": "https://lh4.googleusercontent.com/-xj_b6QASR9g/AAAAAAAAAAI/AAAAAAAAABc/MAAqQCVKo5I/s64/photo.jpg",
      "userId": "16014787961842903941"
     },
     "user_tz": 180
    },
    "id": "iVVZ-AhEGTFg",
    "outputId": "4f2bc335-3703-4356-9884-e688a72171e4",
    "slideshow": {
     "slide_type": "fragment"
    }
   },
   "outputs": [
    {
     "name": "stdout",
     "output_type": "stream",
     "text": [
      "6 36\n"
     ]
    }
   ],
   "source": [
    "print(a, x)"
   ]
  },
  {
   "cell_type": "code",
   "execution_count": 43,
   "metadata": {
    "colab": {
     "base_uri": "https://localhost:8080/",
     "height": 51
    },
    "colab_type": "code",
    "executionInfo": {
     "elapsed": 776,
     "status": "ok",
     "timestamp": 1547045852291,
     "user": {
      "displayName": "Daniel San Martín",
      "photoUrl": "https://lh4.googleusercontent.com/-xj_b6QASR9g/AAAAAAAAAAI/AAAAAAAAABc/MAAqQCVKo5I/s64/photo.jpg",
      "userId": "16014787961842903941"
     },
     "user_tz": 180
    },
    "id": "Hn5Jui3-GTFj",
    "outputId": "6a4c0ffc-ec55-4f2c-bea8-dd305f1f7731",
    "slideshow": {
     "slide_type": "fragment"
    }
   },
   "outputs": [
    {
     "name": "stdout",
     "output_type": "stream",
     "text": [
      "6\n",
      "36\n"
     ]
    }
   ],
   "source": [
    "print(a)\n",
    "print(x)"
   ]
  },
  {
   "cell_type": "markdown",
   "metadata": {
    "colab_type": "text",
    "id": "74ffU3YYGTFz",
    "slideshow": {
     "slide_type": "slide"
    }
   },
   "source": [
    "## Comentarios\n",
    "\n",
    "- Son textos que serán ignorados por el intérprete de Python\n",
    "- Se utilizan para explicar el código y hacerlo más fácil de entender\n",
    "- Existen dos tipos de comentario:\n",
    "    1. Los que se escriben a la derecha de un caracter `#`\n",
    "        - Cualquier texto que aparezca a la derecha de un caracter `#` será ignorado\n",
    "        - Terminan cuando termina la línea\n",
    "    2. Comentarios de múltiples líneas\n",
    "        - Se encierran entre tres comillas al inicio y final: `'''`\n",
    "        - Pueden comprender varias líneas"
   ]
  },
  {
   "cell_type": "code",
   "execution_count": 44,
   "metadata": {
    "colab": {
     "base_uri": "https://localhost:8080/",
     "height": 34
    },
    "colab_type": "code",
    "executionInfo": {
     "elapsed": 952,
     "status": "ok",
     "timestamp": 1547045881138,
     "user": {
      "displayName": "Daniel San Martín",
      "photoUrl": "https://lh4.googleusercontent.com/-xj_b6QASR9g/AAAAAAAAAAI/AAAAAAAAABc/MAAqQCVKo5I/s64/photo.jpg",
      "userId": "16014787961842903941"
     },
     "user_tz": 180
    },
    "id": "pNALDFlWGTF0",
    "outputId": "49dc36ec-92e2-4819-db54-65f528246d1d",
    "slideshow": {
     "slide_type": "fragment"
    }
   },
   "outputs": [
    {
     "name": "stdout",
     "output_type": "stream",
     "text": [
      "4\n"
     ]
    }
   ],
   "source": [
    "#El siguiente codigo muestra la suma de 2 + 2 en pantalla\n",
    "print(2 + 2)"
   ]
  },
  {
   "cell_type": "markdown",
   "metadata": {
    "colab_type": "text",
    "id": "E5HqZoPMGTFx",
    "slideshow": {
     "slide_type": "slide"
    }
   },
   "source": [
    "## Ejemplos"
   ]
  },
  {
   "cell_type": "markdown",
   "metadata": {
    "slideshow": {
     "slide_type": "slide"
    }
   },
   "source": [
    "### Ejemplo 1\n",
    "\n",
    "Solicitar el nombre del usuario e imprimir el mensaje `\"Yo soy nombre\"`."
   ]
  },
  {
   "cell_type": "code",
   "execution_count": 45,
   "metadata": {
    "colab": {
     "base_uri": "https://localhost:8080/",
     "height": 53
    },
    "colab_type": "code",
    "executionInfo": {
     "elapsed": 4951,
     "status": "ok",
     "timestamp": 1549488677057,
     "user": {
      "displayName": "Daniel San Martín",
      "photoUrl": "https://lh4.googleusercontent.com/-xj_b6QASR9g/AAAAAAAAAAI/AAAAAAAAABc/MAAqQCVKo5I/s64/photo.jpg",
      "userId": "16014787961842903941"
     },
     "user_tz": 180
    },
    "id": "pJghCD9fGTFy",
    "outputId": "9f54a2e1-902f-4a3a-b466-67d08621b72e",
    "slideshow": {
     "slide_type": "fragment"
    }
   },
   "outputs": [
    {
     "name": "stdout",
     "output_type": "stream",
     "text": [
      "Ingrese nombre: Juan\n",
      "Yo soy Juan\n"
     ]
    }
   ],
   "source": [
    "nombre = input(\"Ingrese nombre: \")\n",
    "print(\"Yo soy\", nombre)"
   ]
  },
  {
   "cell_type": "markdown",
   "metadata": {
    "colab_type": "text",
    "id": "E5HqZoPMGTFx",
    "slideshow": {
     "slide_type": "slide"
    }
   },
   "source": [
    "### Ejemplo 2\n",
    "\n",
    "Desarrollar un programa que convierta temperatura de Farenheit a Celsius. La fórmula de conversión es la siguiente:\n",
    "\n",
    "\\begin{equation}\n",
    "    C = \\frac{5}{9}\\,(F - 32)\n",
    "\\end{equation}"
   ]
  },
  {
   "cell_type": "code",
   "execution_count": 46,
   "metadata": {
    "colab": {
     "base_uri": "https://localhost:8080/",
     "height": 53
    },
    "colab_type": "code",
    "executionInfo": {
     "elapsed": 4951,
     "status": "ok",
     "timestamp": 1549488677057,
     "user": {
      "displayName": "Daniel San Martín",
      "photoUrl": "https://lh4.googleusercontent.com/-xj_b6QASR9g/AAAAAAAAAAI/AAAAAAAAABc/MAAqQCVKo5I/s64/photo.jpg",
      "userId": "16014787961842903941"
     },
     "user_tz": 180
    },
    "id": "pJghCD9fGTFy",
    "outputId": "9f54a2e1-902f-4a3a-b466-67d08621b72e",
    "slideshow": {
     "slide_type": "fragment"
    }
   },
   "outputs": [
    {
     "name": "stdout",
     "output_type": "stream",
     "text": [
      "Temp. en Farenheit: 32\n",
      "El equivalente en Celsius es aproximadamente: 0\n"
     ]
    }
   ],
   "source": [
    "f = float(input('Temp. en Farenheit: '))\n",
    "c = (5/9) * (f-32)\n",
    "print('El equivalente en Celsius es aproximadamente:', int(round(c)))"
   ]
  },
  {
   "cell_type": "markdown",
   "metadata": {
    "colab_type": "text",
    "id": "h4n2Y0ZsGTF3",
    "slideshow": {
     "slide_type": "slide"
    }
   },
   "source": [
    "## Algunos errores"
   ]
  },
  {
   "cell_type": "markdown",
   "metadata": {
    "slideshow": {
     "slide_type": "slide"
    }
   },
   "source": [
    "### Error de ejecución (*runtime error*)\n",
    "\n",
    "Un error de ejecución ocurre cuando el programa termina abruptamente por una condición que ocurre y que le impide continuar ejecutándose. Por ejemplo, cuando se produce un error aritmético al intentar hacer una división por cero."
   ]
  },
  {
   "cell_type": "code",
   "execution_count": 47,
   "metadata": {
    "colab": {
     "base_uri": "https://localhost:8080/",
     "height": 136
    },
    "colab_type": "code",
    "executionInfo": {
     "elapsed": 754,
     "status": "error",
     "timestamp": 1547050957333,
     "user": {
      "displayName": "cristopher.arenas",
      "photoUrl": "",
      "userId": "00308369002284592615"
     },
     "user_tz": 180
    },
    "id": "95-zIzN7GTF3",
    "outputId": "630ec63a-b68a-4e40-d02c-9af6a606babb",
    "slideshow": {
     "slide_type": "fragment"
    }
   },
   "outputs": [
    {
     "name": "stdout",
     "output_type": "stream",
     "text": [
      "Listo\n"
     ]
    },
    {
     "ename": "ZeroDivisionError",
     "evalue": "division by zero",
     "output_type": "error",
     "traceback": [
      "\u001b[0;31m---------------------------------------------------------------------------\u001b[0m",
      "\u001b[0;31mZeroDivisionError\u001b[0m                         Traceback (most recent call last)",
      "\u001b[0;32m<ipython-input-47-b5e280c3579a>\u001b[0m in \u001b[0;36m<module>\u001b[0;34m\u001b[0m\n\u001b[1;32m      2\u001b[0m \u001b[0mm\u001b[0m \u001b[0;34m=\u001b[0m \u001b[0;36m0\u001b[0m\u001b[0;34m\u001b[0m\u001b[0;34m\u001b[0m\u001b[0m\n\u001b[1;32m      3\u001b[0m \u001b[0mprint\u001b[0m\u001b[0;34m(\u001b[0m\u001b[0;34m'Listo'\u001b[0m\u001b[0;34m)\u001b[0m\u001b[0;34m\u001b[0m\u001b[0;34m\u001b[0m\u001b[0m\n\u001b[0;32m----> 4\u001b[0;31m \u001b[0mprint\u001b[0m\u001b[0;34m(\u001b[0m\u001b[0mn\u001b[0m\u001b[0;34m/\u001b[0m\u001b[0mm\u001b[0m\u001b[0;34m)\u001b[0m\u001b[0;34m\u001b[0m\u001b[0;34m\u001b[0m\u001b[0m\n\u001b[0m",
      "\u001b[0;31mZeroDivisionError\u001b[0m: division by zero"
     ]
    }
   ],
   "source": [
    "n = 8\n",
    "m = 0\n",
    "print('Listo')\n",
    "print(n/m)"
   ]
  },
  {
   "cell_type": "markdown",
   "metadata": {
    "slideshow": {
     "slide_type": "slide"
    }
   },
   "source": [
    "### Error de sintaxis (*syntax error*)\n",
    "\n",
    "Un error de sintaxis ocurre cuando nos equivocamos en la forma (sintaxis) de escribir una instrucción de nuestro programa. Por ejemplo, cuando no cerramos la cantidad adecuada de paréntesis, olvidamos una coma, escribimos mal una instrucción de Python."
   ]
  },
  {
   "cell_type": "code",
   "execution_count": 48,
   "metadata": {
    "colab": {},
    "colab_type": "code",
    "id": "fFpuM18MGTF5",
    "slideshow": {
     "slide_type": "slide"
    }
   },
   "outputs": [
    {
     "ename": "SyntaxError",
     "evalue": "invalid syntax (<ipython-input-48-93a067e50f9d>, line 1)",
     "output_type": "error",
     "traceback": [
      "\u001b[0;36m  File \u001b[0;32m\"<ipython-input-48-93a067e50f9d>\"\u001b[0;36m, line \u001b[0;32m1\u001b[0m\n\u001b[0;31m    2*(3+4))\u001b[0m\n\u001b[0m           ^\u001b[0m\n\u001b[0;31mSyntaxError\u001b[0m\u001b[0;31m:\u001b[0m invalid syntax\n"
     ]
    }
   ],
   "source": [
    "2*(3+4))"
   ]
  },
  {
   "cell_type": "code",
   "execution_count": 49,
   "metadata": {
    "colab": {},
    "colab_type": "code",
    "id": "cNgYOTNzGTF6",
    "slideshow": {
     "slide_type": "fragment"
    }
   },
   "outputs": [
    {
     "ename": "SyntaxError",
     "evalue": "can't assign to operator (<ipython-input-49-ccc6411f6610>, line 3)",
     "output_type": "error",
     "traceback": [
      "\u001b[0;36m  File \u001b[0;32m\"<ipython-input-49-ccc6411f6610>\"\u001b[0;36m, line \u001b[0;32m3\u001b[0m\n\u001b[0;31m    n + 2 = 7\u001b[0m\n\u001b[0m             ^\u001b[0m\n\u001b[0;31mSyntaxError\u001b[0m\u001b[0;31m:\u001b[0m can't assign to operator\n"
     ]
    }
   ],
   "source": [
    "n = 6\n",
    "print(n)\n",
    "n + 2 = 7\n",
    "print(n)"
   ]
  },
  {
   "cell_type": "markdown",
   "metadata": {
    "slideshow": {
     "slide_type": "slide"
    }
   },
   "source": [
    "### Errores de nombre (*name error*)\n",
    "\n",
    "Un error de nombre ocurre cuando se intenta acceder al contenido de una variable que no ha sido inicializada y que por lo tanto no existe. También puede ocurrir al intentar utilizar una función que no ha sido definida o importada desde una biblioteca."
   ]
  },
  {
   "cell_type": "code",
   "execution_count": 50,
   "metadata": {
    "colab": {},
    "colab_type": "code",
    "id": "9g8F1TiqGTF8",
    "scrolled": true,
    "slideshow": {
     "slide_type": "slide"
    }
   },
   "outputs": [
    {
     "name": "stdout",
     "output_type": "stream",
     "text": [
      "100\n"
     ]
    },
    {
     "ename": "NameError",
     "evalue": "name 'y' is not defined",
     "output_type": "error",
     "traceback": [
      "\u001b[0;31m---------------------------------------------------------------------------\u001b[0m",
      "\u001b[0;31mNameError\u001b[0m                                 Traceback (most recent call last)",
      "\u001b[0;32m<ipython-input-50-6ca889e79e0b>\u001b[0m in \u001b[0;36m<module>\u001b[0;34m\u001b[0m\n\u001b[1;32m      1\u001b[0m \u001b[0mx\u001b[0m \u001b[0;34m=\u001b[0m \u001b[0;36m20\u001b[0m\u001b[0;34m\u001b[0m\u001b[0;34m\u001b[0m\u001b[0m\n\u001b[1;32m      2\u001b[0m \u001b[0mprint\u001b[0m\u001b[0;34m(\u001b[0m\u001b[0;36m5\u001b[0m \u001b[0;34m*\u001b[0m \u001b[0mx\u001b[0m\u001b[0;34m)\u001b[0m\u001b[0;34m\u001b[0m\u001b[0;34m\u001b[0m\u001b[0m\n\u001b[0;32m----> 3\u001b[0;31m \u001b[0mprint\u001b[0m\u001b[0;34m(\u001b[0m\u001b[0;36m5\u001b[0m \u001b[0;34m*\u001b[0m \u001b[0my\u001b[0m\u001b[0;34m)\u001b[0m\u001b[0;34m\u001b[0m\u001b[0;34m\u001b[0m\u001b[0m\n\u001b[0m",
      "\u001b[0;31mNameError\u001b[0m: name 'y' is not defined"
     ]
    }
   ],
   "source": [
    "x = 20\n",
    "print(5 * x)\n",
    "print(5 * y)"
   ]
  },
  {
   "cell_type": "markdown",
   "metadata": {
    "slideshow": {
     "slide_type": "slide"
    }
   },
   "source": [
    "## Reglas para definir identificadores"
   ]
  },
  {
   "cell_type": "markdown",
   "metadata": {
    "slideshow": {
     "slide_type": "fragment"
    }
   },
   "source": [
    "Los identificadores son los nombres con los que nombramos variables y otros elementos de nuestros programas. En general, como una buena práctica de programación, queremos que nuestras variables y funciones tengan nombres representativos, que indique por sí mismos su propósito. Por ejemplo, una variable para guardar la edad de una persona debería llamarse `edad` y no `x`, a pesar de que el programa funcionará correctamente con cualquiera de las dos."
   ]
  },
  {
   "cell_type": "markdown",
   "metadata": {
    "slideshow": {
     "slide_type": "slide"
    }
   },
   "source": [
    "Python tiene reglas simples para definir identificadores:\n",
    "\n",
    "1. Un identificador puede contener cualquier combinación de letras (mayúsculas o minúsculas), dígitos y caracteres de guión bajo.\n",
    "2. El primer caracter debe ser una letra. Las letras mayúsculas y las minúsculas se consideran diferentes, por lo que edad, Edad, y EDAD, son todos identificadores distintos.\n",
    "\n",
    "Como consecuencia de las reglas 1. y 2., no es posible utilizar espacios en blanco en un identificador. Si queremos tener un identificador compuesto por varias palabras utilizamos guiones bajos para separarlas o una combinación de minúsculas y mayúsculas para destacar las palabras. Por ejemplo: `nombre_cliente` o `nombreCliente`."
   ]
  },
  {
   "cell_type": "markdown",
   "metadata": {
    "colab_type": "text",
    "id": "FmN6zrv_GTGE",
    "slideshow": {
     "slide_type": "slide"
    }
   },
   "source": [
    "## Ejercicios"
   ]
  },
  {
   "cell_type": "markdown",
   "metadata": {
    "slideshow": {
     "slide_type": "slide"
    }
   },
   "source": [
    "### Ejercicio 1\n",
    "\n",
    "Escribir una expresión para sumar los dígitos de un número entero de $3$ dígitos, que se ingrese por pantalla:"
   ]
  },
  {
   "cell_type": "code",
   "execution_count": 51,
   "metadata": {
    "slideshow": {
     "slide_type": "fragment"
    }
   },
   "outputs": [
    {
     "name": "stdout",
     "output_type": "stream",
     "text": [
      "Ingrese un número de 3 dígitos: 123\n",
      "6\n"
     ]
    }
   ],
   "source": [
    "n = int(input('Ingrese un número de 3 dígitos: '))\n",
    "suma = n%10 + (n//10)%10 + n//100\n",
    "print(suma)"
   ]
  },
  {
   "cell_type": "markdown",
   "metadata": {
    "slideshow": {
     "slide_type": "slide"
    }
   },
   "source": [
    "### Ejercicio 2\n",
    "\n",
    "Modifique el resultado anterior para que reciba un entero con $3$ dígitos iguales y retorne el resultado ```n//suma```."
   ]
  },
  {
   "cell_type": "code",
   "execution_count": 52,
   "metadata": {
    "slideshow": {
     "slide_type": "fragment"
    }
   },
   "outputs": [
    {
     "name": "stdout",
     "output_type": "stream",
     "text": [
      "Ingresa un numero de 3 digitos iguales: 111\n",
      "37\n"
     ]
    }
   ],
   "source": [
    "n = int(input('Ingresa un numero de 3 digitos iguales: ')) \n",
    "suma = n%10 + (n//10)%10 + n//100\n",
    "resultado = n//suma\n",
    "print(resultado)"
   ]
  },
  {
   "cell_type": "markdown",
   "metadata": {
    "slideshow": {
     "slide_type": "slide"
    }
   },
   "source": [
    "### Ejercicio 3\n",
    "\n",
    "Realice un programa que determine el área de un círculo a partir de su radio."
   ]
  },
  {
   "cell_type": "code",
   "execution_count": 53,
   "metadata": {
    "slideshow": {
     "slide_type": "fragment"
    }
   },
   "outputs": [
    {
     "name": "stdout",
     "output_type": "stream",
     "text": [
      "Ingrese el radio de un círculo: 4\n",
      "El área de la circunferencia es 50.264\n"
     ]
    }
   ],
   "source": [
    "pi = 3.1415\n",
    "radio = float(input('Ingrese el radio de un círculo: '))\n",
    "print(\"El área de la circunferencia es\", pi*(radio**2))"
   ]
  },
  {
   "cell_type": "markdown",
   "metadata": {
    "slideshow": {
     "slide_type": "slide"
    }
   },
   "source": [
    "### Ejercicio 4\n",
    "\n",
    "**RUTEO**: Rutee el siguiente programa e indique que es lo que imprime. Cada vez que el valor de una variable cambie, ponga su valor en una nueva fila de la tabla. La tabla tiene filas de sobra:"
   ]
  },
  {
   "cell_type": "markdown",
   "metadata": {
    "slideshow": {
     "slide_type": "slide"
    }
   },
   "source": [
    "```python\n",
    "a = 94567 \n",
    "b = 28954 \n",
    "c = 36532 \n",
    "d = 11404 \n",
    "e = 40613\n",
    "a = a//10000\n",
    "b = (b//1000)%10 \n",
    "c = (c//100)%10 \n",
    "d = (d//10)%10\n",
    "e = e%10\n",
    "print (a,b,c,d,e)\n",
    "```"
   ]
  },
  {
   "cell_type": "markdown",
   "metadata": {
    "slideshow": {
     "slide_type": "slide"
    }
   },
   "source": [
    "**Solución ruteo**:\n",
    "\n",
    "|  |  |  |  | |\n",
    "|---|---|---|---|---|\n",
    "| **a** | **b** | **c** | **d** | **e** |\n",
    "| 94567  |   |   |   |   |\n",
    "|   | 28954  |   |   |   |\n",
    "|   |   | 36532  |   |   |\n",
    "|   |   |   | 11404  |   |\n",
    "|   |   |   |   | 40613  |\n",
    "| 9  |   |   |   |   |\n",
    "|   | 8  |   |   |   |\n",
    "|   |   | 5  |   |   |\n",
    "|   |   |   | 0  |   |\n",
    "|   |   |   |   | 3  |"
   ]
  },
  {
   "cell_type": "markdown",
   "metadata": {
    "slideshow": {
     "slide_type": "slide"
    }
   },
   "source": [
    "### Ejercicio 5\n",
    "\n",
    "Realice un programa que calcule el área de un triángulo a partir de las longitudes de sus lados."
   ]
  },
  {
   "cell_type": "markdown",
   "metadata": {
    "slideshow": {
     "slide_type": "fragment"
    }
   },
   "source": [
    "Para calcularlo puede utilizar la fórmula de Herón:\n",
    "\n",
    "\\begin{equation}\n",
    "    A = \\sqrt{s\\,(s-a)(s-b)(s-c)},\n",
    "\\end{equation}\n",
    "\n",
    "donde $a$, $b$ y $c$ son las longitudes de cada lado y $s=\\dfrac{a+b+c}{2}$ es el semiperímetro."
   ]
  },
  {
   "cell_type": "code",
   "execution_count": 55,
   "metadata": {
    "slideshow": {
     "slide_type": "fragment"
    }
   },
   "outputs": [
    {
     "name": "stdout",
     "output_type": "stream",
     "text": [
      "Ingrese longitud de lado 1: 3\n",
      "Ingrese longitud de lado 2: 4\n",
      "Ingrese longitud de lado 3: 5\n",
      "El área del triángulo es 6.0\n"
     ]
    }
   ],
   "source": [
    "l1 = float(input(\"Ingrese longitud de lado 1: \"))\n",
    "l2 = float(input(\"Ingrese longitud de lado 2: \"))\n",
    "l3 = float(input(\"Ingrese longitud de lado 3: \"))\n",
    "s = (l1 + l2 + l3) / 2 # semiperímetro\n",
    "\n",
    "d1 = s-l1 # diferencia1\n",
    "d2 = s-l2 # diferencia2\n",
    "d3 = s-l3 # diferencia3\n",
    "prod = s*d1*d2*d3 # producto de diferencias y semiperimetro\n",
    "area = prod ** (1 / 2) # raíz cuadrada\n",
    "# ¿cómo se podría hacer lo mismo utilizando math.sqrt()?\n",
    "\n",
    "print(\"El área del triángulo es\", area)"
   ]
  }
 ],
 "metadata": {
  "celltoolbar": "Slideshow",
  "colab": {
   "name": "03_Intro_Python_2018.ipynb",
   "provenance": [],
   "version": "0.3.2"
  },
  "kernelspec": {
   "display_name": "Python 3",
   "language": "python",
   "name": "python3"
  },
  "language_info": {
   "codemirror_mode": {
    "name": "ipython",
    "version": 3
   },
   "file_extension": ".py",
   "mimetype": "text/x-python",
   "name": "python",
   "nbconvert_exporter": "python",
   "pygments_lexer": "ipython3",
   "version": "3.7.4"
  }
 },
 "nbformat": 4,
 "nbformat_minor": 1
}
