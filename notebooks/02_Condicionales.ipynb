{
 "cells": [
  {
   "cell_type": "markdown",
   "metadata": {
    "colab_type": "text",
    "id": "myM2e0xjJFKK",
    "slideshow": {
     "slide_type": "slide"
    }
   },
   "source": [
    "# IWI-131 Programación"
   ]
  },
  {
   "cell_type": "markdown",
   "metadata": {
    "slideshow": {
     "slide_type": "fragment"
    }
   },
   "source": [
    "## Condiciones y Estructuras condicionales"
   ]
  },
  {
   "cell_type": "markdown",
   "metadata": {
    "colab_type": "text",
    "id": "0H21SHvhGTEK",
    "slideshow": {
     "slide_type": "slide"
    }
   },
   "source": [
    "## Operadores relacionales, o de comparación\n",
    "Comparan expresiones de cualquier tipo. El resultado siempre es un valor booleano: `True` o `False`."
   ]
  },
  {
   "cell_type": "markdown",
   "metadata": {
    "colab_type": "text",
    "id": "9Zj2_FEuGTEM",
    "slideshow": {
     "slide_type": "fragment"
    }
   },
   "source": [
    "- Igual a (`==`)\n",
    "- Distinto a (`!=`)\n",
    "- Mayor que (`>`)\n",
    "- Menor que (`<`)\n",
    "- Mayor o igual que (`>=`)\n",
    "- Menor o igual que (`<=`)"
   ]
  },
  {
   "cell_type": "code",
   "execution_count": 1,
   "metadata": {
    "colab": {
     "base_uri": "https://localhost:8080/",
     "height": 54
    },
    "colab_type": "code",
    "executionInfo": {
     "elapsed": 2655,
     "status": "ok",
     "timestamp": 1547045719505,
     "user": {
      "displayName": "Daniel San Martín",
      "photoUrl": "https://lh4.googleusercontent.com/-xj_b6QASR9g/AAAAAAAAAAI/AAAAAAAAABc/MAAqQCVKo5I/s64/photo.jpg",
      "userId": "16014787961842903941"
     },
     "user_tz": 180
    },
    "id": "MhI1c6QfGTEN",
    "outputId": "c0e1c8ec-52a1-4b05-8c5c-1930cc5f5af5",
    "slideshow": {
     "slide_type": "slide"
    }
   },
   "outputs": [
    {
     "data": {
      "text/plain": [
       "False"
      ]
     },
     "execution_count": 1,
     "metadata": {},
     "output_type": "execute_result"
    }
   ],
   "source": [
    "5 == 3"
   ]
  },
  {
   "cell_type": "code",
   "execution_count": 2,
   "metadata": {
    "colab": {
     "base_uri": "https://localhost:8080/",
     "height": 54
    },
    "colab_type": "code",
    "executionInfo": {
     "elapsed": 2644,
     "status": "ok",
     "timestamp": 1547045719505,
     "user": {
      "displayName": "Daniel San Martín",
      "photoUrl": "https://lh4.googleusercontent.com/-xj_b6QASR9g/AAAAAAAAAAI/AAAAAAAAABc/MAAqQCVKo5I/s64/photo.jpg",
      "userId": "16014787961842903941"
     },
     "user_tz": 180
    },
    "id": "ps4OyIzcGTEQ",
    "outputId": "4cd17534-c375-4ba7-b429-f417f95ef775",
    "slideshow": {
     "slide_type": "fragment"
    }
   },
   "outputs": [
    {
     "data": {
      "text/plain": [
       "False"
      ]
     },
     "execution_count": 2,
     "metadata": {},
     "output_type": "execute_result"
    }
   ],
   "source": [
    "4 > 7"
   ]
  },
  {
   "cell_type": "code",
   "execution_count": 3,
   "metadata": {
    "colab": {
     "base_uri": "https://localhost:8080/",
     "height": 54
    },
    "colab_type": "code",
    "executionInfo": {
     "elapsed": 2636,
     "status": "ok",
     "timestamp": 1547045719506,
     "user": {
      "displayName": "Daniel San Martín",
      "photoUrl": "https://lh4.googleusercontent.com/-xj_b6QASR9g/AAAAAAAAAAI/AAAAAAAAABc/MAAqQCVKo5I/s64/photo.jpg",
      "userId": "16014787961842903941"
     },
     "user_tz": 180
    },
    "id": "6uu6hY-GGTET",
    "outputId": "82d8a33c-a58e-4bb7-f8a2-448a6e6060bd",
    "slideshow": {
     "slide_type": "fragment"
    }
   },
   "outputs": [
    {
     "data": {
      "text/plain": [
       "True"
      ]
     },
     "execution_count": 3,
     "metadata": {},
     "output_type": "execute_result"
    }
   ],
   "source": [
    "4 != 3"
   ]
  },
  {
   "cell_type": "code",
   "execution_count": 4,
   "metadata": {
    "colab": {
     "base_uri": "https://localhost:8080/",
     "height": 54
    },
    "colab_type": "code",
    "executionInfo": {
     "elapsed": 2629,
     "status": "ok",
     "timestamp": 1547045719507,
     "user": {
      "displayName": "Daniel San Martín",
      "photoUrl": "https://lh4.googleusercontent.com/-xj_b6QASR9g/AAAAAAAAAAI/AAAAAAAAABc/MAAqQCVKo5I/s64/photo.jpg",
      "userId": "16014787961842903941"
     },
     "user_tz": 180
    },
    "id": "QiTslcVWGTEX",
    "outputId": "d7b0abbb-654a-4b8e-899f-6d00cc43d931",
    "slideshow": {
     "slide_type": "slide"
    }
   },
   "outputs": [
    {
     "data": {
      "text/plain": [
       "True"
      ]
     },
     "execution_count": 4,
     "metadata": {},
     "output_type": "execute_result"
    }
   ],
   "source": [
    "\"casa\" == 'casa'"
   ]
  },
  {
   "cell_type": "code",
   "execution_count": 5,
   "metadata": {
    "colab": {
     "base_uri": "https://localhost:8080/",
     "height": 54
    },
    "colab_type": "code",
    "executionInfo": {
     "elapsed": 2623,
     "status": "ok",
     "timestamp": 1547045719508,
     "user": {
      "displayName": "Daniel San Martín",
      "photoUrl": "https://lh4.googleusercontent.com/-xj_b6QASR9g/AAAAAAAAAAI/AAAAAAAAABc/MAAqQCVKo5I/s64/photo.jpg",
      "userId": "16014787961842903941"
     },
     "user_tz": 180
    },
    "id": "5Qr925i3GTEb",
    "outputId": "5c3887c7-da09-47bc-fda2-3e6309dc07ac",
    "slideshow": {
     "slide_type": "fragment"
    }
   },
   "outputs": [
    {
     "data": {
      "text/plain": [
       "False"
      ]
     },
     "execution_count": 5,
     "metadata": {},
     "output_type": "execute_result"
    }
   ],
   "source": [
    "3 > 3"
   ]
  },
  {
   "cell_type": "code",
   "execution_count": 6,
   "metadata": {
    "colab": {
     "base_uri": "https://localhost:8080/",
     "height": 54
    },
    "colab_type": "code",
    "executionInfo": {
     "elapsed": 2617,
     "status": "ok",
     "timestamp": 1547045719509,
     "user": {
      "displayName": "Daniel San Martín",
      "photoUrl": "https://lh4.googleusercontent.com/-xj_b6QASR9g/AAAAAAAAAAI/AAAAAAAAABc/MAAqQCVKo5I/s64/photo.jpg",
      "userId": "16014787961842903941"
     },
     "user_tz": 180
    },
    "id": "ULq7gqtvGTEe",
    "outputId": "bd0f1dc3-c828-44f8-8760-d2aa08c4ab34",
    "slideshow": {
     "slide_type": "fragment"
    }
   },
   "outputs": [
    {
     "data": {
      "text/plain": [
       "True"
      ]
     },
     "execution_count": 6,
     "metadata": {},
     "output_type": "execute_result"
    }
   ],
   "source": [
    "\"a\" < \"z\""
   ]
  },
  {
   "cell_type": "markdown",
   "metadata": {
    "colab_type": "text",
    "id": "nVNR6l4mGTEg",
    "slideshow": {
     "slide_type": "slide"
    }
   },
   "source": [
    "## Operadores lógicos\n",
    "Permiten construir expresiones que representan condiciones complejas a partir de otras expresiones booleanas."
   ]
  },
  {
   "cell_type": "markdown",
   "metadata": {
    "colab_type": "text",
    "id": "1aeIuOqbGTEh",
    "slideshow": {
     "slide_type": "fragment"
    }
   },
   "source": [
    "- Conjunción lógica `and` - False si cualquiera de sus operandos es False, True si todos son True.\n",
    "- Disyunción lógica `or`  - True si cualquiera de sus operandos es True, False si todos son False.\n",
    "- Negación lógica `not`   - True cuando el operando es False, y viceversa."
   ]
  },
  {
   "cell_type": "code",
   "execution_count": 7,
   "metadata": {
    "colab": {
     "base_uri": "https://localhost:8080/",
     "height": 54
    },
    "colab_type": "code",
    "executionInfo": {
     "elapsed": 2611,
     "status": "ok",
     "timestamp": 1547045719510,
     "user": {
      "displayName": "Daniel San Martín",
      "photoUrl": "https://lh4.googleusercontent.com/-xj_b6QASR9g/AAAAAAAAAAI/AAAAAAAAABc/MAAqQCVKo5I/s64/photo.jpg",
      "userId": "16014787961842903941"
     },
     "user_tz": 180
    },
    "id": "_6PPbJD4GTEi",
    "outputId": "57100e49-8d83-4059-e08e-8e516b5bc40d",
    "slideshow": {
     "slide_type": "slide"
    }
   },
   "outputs": [
    {
     "data": {
      "text/plain": [
       "False"
      ]
     },
     "execution_count": 7,
     "metadata": {},
     "output_type": "execute_result"
    }
   ],
   "source": [
    "3 == 5 and False"
   ]
  },
  {
   "cell_type": "code",
   "execution_count": 8,
   "metadata": {
    "colab": {
     "base_uri": "https://localhost:8080/",
     "height": 54
    },
    "colab_type": "code",
    "executionInfo": {
     "elapsed": 2602,
     "status": "ok",
     "timestamp": 1547045719510,
     "user": {
      "displayName": "Daniel San Martín",
      "photoUrl": "https://lh4.googleusercontent.com/-xj_b6QASR9g/AAAAAAAAAAI/AAAAAAAAABc/MAAqQCVKo5I/s64/photo.jpg",
      "userId": "16014787961842903941"
     },
     "user_tz": 180
    },
    "id": "FF3E7j4WGTEk",
    "outputId": "7b9e922b-aade-46ff-aee2-7362b4608c81",
    "slideshow": {
     "slide_type": "fragment"
    }
   },
   "outputs": [
    {
     "data": {
      "text/plain": [
       "True"
      ]
     },
     "execution_count": 8,
     "metadata": {},
     "output_type": "execute_result"
    }
   ],
   "source": [
    "3!=5 or False"
   ]
  },
  {
   "cell_type": "code",
   "execution_count": 9,
   "metadata": {
    "colab": {
     "base_uri": "https://localhost:8080/",
     "height": 54
    },
    "colab_type": "code",
    "executionInfo": {
     "elapsed": 2596,
     "status": "ok",
     "timestamp": 1547045719511,
     "user": {
      "displayName": "Daniel San Martín",
      "photoUrl": "https://lh4.googleusercontent.com/-xj_b6QASR9g/AAAAAAAAAAI/AAAAAAAAABc/MAAqQCVKo5I/s64/photo.jpg",
      "userId": "16014787961842903941"
     },
     "user_tz": 180
    },
    "id": "i54WvvFGGTEm",
    "outputId": "e66d922e-33b0-48d0-d783-5405ffb83dfe",
    "slideshow": {
     "slide_type": "fragment"
    }
   },
   "outputs": [
    {
     "data": {
      "text/plain": [
       "False"
      ]
     },
     "execution_count": 9,
     "metadata": {},
     "output_type": "execute_result"
    }
   ],
   "source": [
    "not True"
   ]
  },
  {
   "cell_type": "code",
   "execution_count": 10,
   "metadata": {
    "colab": {
     "base_uri": "https://localhost:8080/",
     "height": 54
    },
    "colab_type": "code",
    "executionInfo": {
     "elapsed": 2590,
     "status": "ok",
     "timestamp": 1547045719513,
     "user": {
      "displayName": "Daniel San Martín",
      "photoUrl": "https://lh4.googleusercontent.com/-xj_b6QASR9g/AAAAAAAAAAI/AAAAAAAAABc/MAAqQCVKo5I/s64/photo.jpg",
      "userId": "16014787961842903941"
     },
     "user_tz": 180
    },
    "id": "BIfc1_85GTEp",
    "outputId": "98a0b929-864a-47e2-cc24-85f709c2e80f",
    "slideshow": {
     "slide_type": "slide"
    }
   },
   "outputs": [
    {
     "data": {
      "text/plain": [
       "False"
      ]
     },
     "execution_count": 10,
     "metadata": {},
     "output_type": "execute_result"
    }
   ],
   "source": [
    "(False or (not False)) and (not True)"
   ]
  },
  {
   "cell_type": "code",
   "execution_count": 11,
   "metadata": {
    "colab": {
     "base_uri": "https://localhost:8080/",
     "height": 54
    },
    "colab_type": "code",
    "executionInfo": {
     "elapsed": 2581,
     "status": "ok",
     "timestamp": 1547045719514,
     "user": {
      "displayName": "Daniel San Martín",
      "photoUrl": "https://lh4.googleusercontent.com/-xj_b6QASR9g/AAAAAAAAAAI/AAAAAAAAABc/MAAqQCVKo5I/s64/photo.jpg",
      "userId": "16014787961842903941"
     },
     "user_tz": 180
    },
    "id": "3mOq7kTrGTEr",
    "outputId": "c329b4c3-4713-4835-abbb-69fe51d01289",
    "slideshow": {
     "slide_type": "fragment"
    }
   },
   "outputs": [
    {
     "data": {
      "text/plain": [
       "True"
      ]
     },
     "execution_count": 11,
     "metadata": {},
     "output_type": "execute_result"
    }
   ],
   "source": [
    "((3 + 4) < 2) or ((2**4) >= 4)"
   ]
  },
  {
   "cell_type": "code",
   "execution_count": 12,
   "metadata": {
    "colab": {
     "base_uri": "https://localhost:8080/",
     "height": 54
    },
    "colab_type": "code",
    "executionInfo": {
     "elapsed": 2574,
     "status": "ok",
     "timestamp": 1547045719514,
     "user": {
      "displayName": "Daniel San Martín",
      "photoUrl": "https://lh4.googleusercontent.com/-xj_b6QASR9g/AAAAAAAAAAI/AAAAAAAAABc/MAAqQCVKo5I/s64/photo.jpg",
      "userId": "16014787961842903941"
     },
     "user_tz": 180
    },
    "id": "WmHs9gtjGTEu",
    "outputId": "26045792-cb9e-4460-fd76-aad301e99b1c",
    "slideshow": {
     "slide_type": "fragment"
    }
   },
   "outputs": [
    {
     "data": {
      "text/plain": [
       "False"
      ]
     },
     "execution_count": 12,
     "metadata": {},
     "output_type": "execute_result"
    }
   ],
   "source": [
    "((3 + 4) < 2) and ((2**4) >= 4)"
   ]
  },
  {
   "cell_type": "markdown",
   "metadata": {
    "colab_type": "text",
    "id": "PbmQ60vXJFKc",
    "slideshow": {
     "slide_type": "slide"
    }
   },
   "source": [
    "## Instrucciones Condicionales"
   ]
  },
  {
   "cell_type": "markdown",
   "metadata": {
    "colab_type": "text",
    "id": "ZeK-VNjHJFKl",
    "slideshow": {
     "slide_type": "slide"
    }
   },
   "source": [
    "### Condicional `if` simple, o de un camino:\n",
    "`if` Decide, evaluando una condición booleana, si se ejecuta o no una o varias instrucciones contenidas en el `if`.\n",
    "Si la condición es False, el `if` y las instrucciones que contiene son ignoradas.\n",
    "Las instrucciones contenidas en el `if` deben estar indentadas."
   ]
  },
  {
   "cell_type": "markdown",
   "metadata": {
    "colab_type": "text",
    "id": "ZI2xhdLrJFK0",
    "slideshow": {
     "slide_type": "fragment"
    }
   },
   "source": [
    "#### Sintaxis:\n",
    "```python\n",
    "if condicion:\n",
    "    instrucciones\n",
    "```\n",
    "\n",
    "La *Tabulación/Sangría* después de la instrucción `if` indica que cosas se realizarán si se cumple la condición. Esto se llama **Indentación**."
   ]
  },
  {
   "cell_type": "markdown",
   "metadata": {
    "colab_type": "text",
    "id": "JLeiXBShJFK_",
    "slideshow": {
     "slide_type": "slide"
    }
   },
   "source": [
    "#### Diagrama de flujo explicativo\n",
    "<center>\n",
    "<img src=\"images/if.png\">\n",
    "</center>"
   ]
  },
  {
   "cell_type": "markdown",
   "metadata": {
    "colab_type": "text",
    "id": "lYs3YVvRJFLO",
    "slideshow": {
     "slide_type": "slide"
    }
   },
   "source": [
    "#### Ejemplos"
   ]
  },
  {
   "cell_type": "code",
   "execution_count": 13,
   "metadata": {
    "colab": {},
    "colab_type": "code",
    "id": "AOO17bW3JFLU",
    "outputId": "41e787f5-a1e8-4c5d-f489-bf793435d5e1",
    "scrolled": true,
    "slideshow": {
     "slide_type": "fragment"
    }
   },
   "outputs": [
    {
     "name": "stdout",
     "output_type": "stream",
     "text": [
      "Ingrese su nota: 55\n",
      "Felicitaciones!!!\n"
     ]
    }
   ],
   "source": [
    "nota = int(input(\"Ingrese su nota: \"))\n",
    "if nota >= 55:\n",
    "    print(\"Felicitaciones!!!\")"
   ]
  },
  {
   "cell_type": "code",
   "execution_count": 14,
   "metadata": {
    "colab": {},
    "colab_type": "code",
    "id": "Sb9vadBnJFL3",
    "outputId": "e3eddf85-c852-4e91-bc2e-dd81c07206ff",
    "slideshow": {
     "slide_type": "fragment"
    }
   },
   "outputs": [
    {
     "name": "stdout",
     "output_type": "stream",
     "text": [
      "Ingrese su nota: 54\n",
      "Lamentablemente Ud. ha reprobado.\n"
     ]
    }
   ],
   "source": [
    "nota = int(input(\"Ingrese su nota: \"))\n",
    "if nota < 55:\n",
    "    print(\"Lamentablemente Ud. ha reprobado.\")"
   ]
  },
  {
   "cell_type": "markdown",
   "metadata": {
    "colab_type": "text",
    "id": "uHRgzIHJJFMJ",
    "slideshow": {
     "slide_type": "slide"
    }
   },
   "source": [
    "### Condicional if de dos caminos: `if-else`:\n",
    "Decide entre dos grupos de instrucciones cuál ejecutar, evaluando una condición booleana.\n",
    "\n",
    "El primer grupo de instrucciones indentandas se ejecutan si la condición es True.\n",
    "\n",
    "Si la condición es False, se ejecutan las instrucciones que se encuentran indentadas después de `else:`"
   ]
  },
  {
   "cell_type": "markdown",
   "metadata": {
    "colab_type": "text",
    "id": "E1UOZzOSJFMM",
    "slideshow": {
     "slide_type": "fragment"
    }
   },
   "source": [
    "#### Sintaxis:\n",
    "```python\n",
    "if condicion:\n",
    "    instrucciones cuando la condicion es verdadera\n",
    "else:\n",
    "    instrucciones cuando la condicion es falsa\n",
    "```"
   ]
  },
  {
   "cell_type": "markdown",
   "metadata": {
    "colab_type": "text",
    "id": "xWKOgBC0JFMP",
    "slideshow": {
     "slide_type": "slide"
    }
   },
   "source": [
    "#### Diagrama de flujo explicativo\n",
    "<center>\n",
    "<img src=\"images/if-else.png\">\n",
    "</center>"
   ]
  },
  {
   "cell_type": "markdown",
   "metadata": {
    "colab_type": "text",
    "id": "gxT5FMROJFMS",
    "slideshow": {
     "slide_type": "slide"
    }
   },
   "source": [
    "### Ejemplos"
   ]
  },
  {
   "cell_type": "code",
   "execution_count": 15,
   "metadata": {
    "colab": {},
    "colab_type": "code",
    "id": "AmGbKVBaJFMb",
    "outputId": "337641f7-b823-4e6c-861c-7903165bf072",
    "slideshow": {
     "slide_type": "fragment"
    }
   },
   "outputs": [
    {
     "name": "stdout",
     "output_type": "stream",
     "text": [
      "Cual es su edad? 18\n",
      "Usted es adulto\n"
     ]
    }
   ],
   "source": [
    "edad = int(input(\"Cual es su edad? \"))\n",
    "if edad < 18:\n",
    "    print(\"Usted es menor de edad\")\n",
    "else:\n",
    "    print(\"Usted es adulto\")"
   ]
  },
  {
   "cell_type": "markdown",
   "metadata": {
    "colab_type": "text",
    "id": "ov9C8Uw4JFM7",
    "slideshow": {
     "slide_type": "slide"
    }
   },
   "source": [
    "¿Qué mensajes se muestran en el siguiente código si ingresamos...?\n",
    "1. ```n = 15```\n",
    "2. ```n = 20```"
   ]
  },
  {
   "cell_type": "code",
   "execution_count": 16,
   "metadata": {
    "colab": {},
    "colab_type": "code",
    "id": "NszzEMKYJFM9",
    "outputId": "e5efad5f-e854-44bc-f06e-e9bd101ea168",
    "slideshow": {
     "slide_type": "fragment"
    }
   },
   "outputs": [
    {
     "name": "stdout",
     "output_type": "stream",
     "text": [
      "Ingrese un numero: 15\n",
      "El numero es impar\n",
      "El sucesor del numero es 16\n",
      "Fin\n"
     ]
    }
   ],
   "source": [
    "n = int(input(\"Ingrese un numero: \"))\n",
    "if n % 2 == 0:\n",
    "    print(\"El numero es par\")\n",
    "    print(\"La mitad del numero es\", n / 2)\n",
    "else:\n",
    "    print(\"El numero es impar\")\n",
    "    print(\"El sucesor del numero es\", n + 1)\n",
    "print(\"Fin\")"
   ]
  },
  {
   "cell_type": "markdown",
   "metadata": {
    "colab_type": "text",
    "id": "DZh9ZgNdJFNO",
    "slideshow": {
     "slide_type": "slide"
    }
   },
   "source": [
    "### Condicionales if en cascada: `if-elif-else`\n",
    "\n",
    "Permite definir grupos de instrucciones cuya ejecución es excluyente entre sí, a partir de la evaluación de distintas condiciones booleanas que serán evaluadas en cascada, en el orden en que aparecen.\n",
    "\n",
    "La primera condición que sea True provoca que las instrucciones asociadas se ejecuten y la instrucción `if` termine.\n",
    "\n",
    "Si ninguna condición es True, se ejecutan las instrucciones que vienen después de `else:`, si es que aparece esta componente."
   ]
  },
  {
   "cell_type": "markdown",
   "metadata": {
    "colab_type": "text",
    "id": "xFlehc_SJFNQ",
    "slideshow": {
     "slide_type": "slide"
    }
   },
   "source": [
    "#### Sintaxis:\n",
    "```python\n",
    "if condición 1:\n",
    "    instrucciones a ejecutar si condición 1 es verdadera\n",
    "elif condición 2:\n",
    "    instrucciones a ejecutar si condición 2 es verdadera\n",
    "elif condición 3:\n",
    "    instrucciones a ejecutar si condición 3 es verdadera\n",
    "\n",
    "\n",
    "else:\n",
    "    instrucciones cuando ninguna condicion anterior es verdadera\n",
    "```\n",
    "\n",
    "La *Indentación* después de cada instrucción `elif` indica que cosas se realizarán si se cumple su respectiva condición (consecuentemente, si **no** se cumplen las condiciones anteriores)"
   ]
  },
  {
   "cell_type": "markdown",
   "metadata": {
    "colab_type": "text",
    "id": "axBQSmTeJFNS",
    "slideshow": {
     "slide_type": "slide"
    }
   },
   "source": [
    "#### Diagrama de flujo\n",
    "<center>\n",
    "<img src=\"images/if-elif-else.png\">\n",
    "</center>"
   ]
  },
  {
   "cell_type": "markdown",
   "metadata": {
    "colab_type": "text",
    "id": "gxT5FMROJFMS",
    "slideshow": {
     "slide_type": "slide"
    }
   },
   "source": [
    "#### Ejemplos"
   ]
  },
  {
   "cell_type": "markdown",
   "metadata": {
    "slideshow": {
     "slide_type": "fragment"
    }
   },
   "source": [
    "1. Escriba un programa que califique el rendimiento del alumno en una asignatura según la nota obtenida."
   ]
  },
  {
   "cell_type": "code",
   "execution_count": 17,
   "metadata": {
    "colab": {},
    "colab_type": "code",
    "id": "AOO17bW3JFLU",
    "outputId": "41e787f5-a1e8-4c5d-f489-bf793435d5e1",
    "slideshow": {
     "slide_type": "slide"
    }
   },
   "outputs": [
    {
     "name": "stdout",
     "output_type": "stream",
     "text": [
      "Ingrese su nota: 55\n",
      "Usted aprobó con algunas dificultades.\n"
     ]
    }
   ],
   "source": [
    "nota = int(input(\"Ingrese su nota: \"))\n",
    "if nota >= 80:\n",
    "    print(\"Usted es un alumno destacado.\")\n",
    "elif nota >= 65:\n",
    "    print(\"Usted ha aprobado.\")\n",
    "elif nota >= 55:\n",
    "    print(\"Usted aprobó con algunas dificultades.\")\n",
    "elif nota >= 45:\n",
    "    print(\"Con un poco mas de empeño hubiese aprobado.\")\n",
    "else:\n",
    "    print(\"Nos vemos el próximo semestre.\")"
   ]
  },
  {
   "cell_type": "markdown",
   "metadata": {
    "colab_type": "text",
    "id": "HjgdwzJ4JFNU",
    "slideshow": {
     "slide_type": "slide"
    }
   },
   "source": [
    "2. Considerar la siguiente tabla que muestra la tasa de impuesto a pagar por una persona según su sueldo."
   ]
  },
  {
   "cell_type": "markdown",
   "metadata": {
    "slideshow": {
     "slide_type": "fragment"
    }
   },
   "source": [
    "<table style=\"font-size: 1em; float:center;\">\n",
    "    <thead>\n",
    "        <td><b>Sueldo</b></td>\n",
    "        <td><b>Tasa de impuesto</b></td>\n",
    "    </thead>\n",
    "    <tr>\n",
    "        <td>menos de 1000</td>\n",
    "        <td>0%</td>\n",
    "    </tr>\n",
    "    <tr>\n",
    "        <td>1000 &le; sueldo &lt; 2000</td>\n",
    "        <td>5%</td>\n",
    "    </tr>\n",
    "    <tr>\n",
    "        <td>2000 &le; sueldo &lt; 4000</td>\n",
    "        <td>10%</td>\n",
    "    </tr>\n",
    "    <tr>\n",
    "        <td>4000 o más</td>\n",
    "        <td>12%</td>\n",
    "    </tr>\n",
    "</table>"
   ]
  },
  {
   "cell_type": "markdown",
   "metadata": {
    "colab_type": "text",
    "id": "qSU82f29JFNa",
    "slideshow": {
     "slide_type": "slide"
    }
   },
   "source": [
    "Un ejemplo de como se calcula el impuesto sería el siguiente:"
   ]
  },
  {
   "cell_type": "code",
   "execution_count": 18,
   "metadata": {
    "colab": {},
    "colab_type": "code",
    "id": "8v_xw-TBJFNd",
    "outputId": "d4c2e95b-9993-47f4-c507-98e38ea8b780",
    "slideshow": {
     "slide_type": "fragment"
    }
   },
   "outputs": [
    {
     "name": "stdout",
     "output_type": "stream",
     "text": [
      "Ingrese su sueldo: 800\n",
      "caso 1\n",
      "Usted debe pagar 0 de impuesto.\n"
     ]
    }
   ],
   "source": [
    "sueldo = int(input(\"Ingrese su sueldo: \"))\n",
    "if sueldo < 1000:\n",
    "    print(\"caso 1\")\n",
    "    tasa = 0.00\n",
    "elif sueldo < 2000: # 1000 <= sueldo < 2000?\n",
    "    print(\"caso 2\")\n",
    "    tasa = 0.05\n",
    "elif sueldo < 4000: # 2000 <= sueldo < 4000\n",
    "    print(\"caso 3\")\n",
    "    tasa = 0.10\n",
    "else:\n",
    "    print(\"caso falso\")\n",
    "    tasa = 0.12\n",
    "print(\"Usted debe pagar\", int(tasa*sueldo), \"de impuesto.\")"
   ]
  },
  {
   "cell_type": "markdown",
   "metadata": {
    "colab_type": "text",
    "id": "2CSyA9f5JFNr",
    "slideshow": {
     "slide_type": "slide"
    }
   },
   "source": [
    "Otra forma de calcular el impuesto es la siguiente:"
   ]
  },
  {
   "cell_type": "code",
   "execution_count": 19,
   "metadata": {
    "colab": {},
    "colab_type": "code",
    "id": "BU-fC8YsJFNs",
    "outputId": "816359f9-c918-4b23-fc68-e249ff49dc15",
    "slideshow": {
     "slide_type": "fragment"
    }
   },
   "outputs": [
    {
     "name": "stdout",
     "output_type": "stream",
     "text": [
      "Ingrese su sueldo: 800\n",
      "caso 1\n",
      "Usted debe pagar 0 de impuesto.\n"
     ]
    }
   ],
   "source": [
    "sueldo = int(input(\"Ingrese su sueldo: \"))\n",
    "if sueldo < 1000: #1000 > sueldo:\n",
    "    print(\"caso 1\")\n",
    "    tasa = 0.00\n",
    "if sueldo >= 1000 and sueldo < 2000: #if 1000 <= sueldo < 2000:\n",
    "    print(\"caso 2\")\n",
    "    tasa = 0.05\n",
    "if 2000 <= sueldo < 4000:\n",
    "    print(\"caso 3\")\n",
    "    tasa = 0.10\n",
    "if 4000 <= sueldo: #sueldo>= 4000\n",
    "    print(\"caso falso\")\n",
    "    tasa = 0.12\n",
    "print(\"Usted debe pagar\", int(tasa*sueldo), \"de impuesto.\")"
   ]
  },
  {
   "cell_type": "markdown",
   "metadata": {
    "colab_type": "text",
    "id": "eubuicB3JFN0",
    "slideshow": {
     "slide_type": "slide"
    }
   },
   "source": [
    "¿En qué se diferencian los dos programas anteriores?"
   ]
  },
  {
   "cell_type": "markdown",
   "metadata": {
    "slideshow": {
     "slide_type": "slide"
    }
   },
   "source": [
    "## Ejercicios"
   ]
  },
  {
   "cell_type": "markdown",
   "metadata": {
    "slideshow": {
     "slide_type": "slide"
    }
   },
   "source": [
    "### Ejercicio 1\n",
    "Desarrolle un programa que genere aleatoriamente el lanzamiento de una moneda e indique el resultado del éste."
   ]
  },
  {
   "cell_type": "code",
   "execution_count": 20,
   "metadata": {
    "slideshow": {
     "slide_type": "fragment"
    }
   },
   "outputs": [
    {
     "name": "stdout",
     "output_type": "stream",
     "text": [
      "El lanzamiento es CARA.\n"
     ]
    }
   ],
   "source": [
    "from random import randint\n",
    "\n",
    "moneda = randint(0, 1)\n",
    "\n",
    "if moneda == 0:\n",
    "    print(\"El lanzamiento es CARA.\")\n",
    "else:\n",
    "    print(\"El lanzamiento es SELLO.\")"
   ]
  },
  {
   "cell_type": "markdown",
   "metadata": {
    "slideshow": {
     "slide_type": "slide"
    }
   },
   "source": [
    "### Ejercicio 2\n",
    "\n",
    "Un año es bisiesto si es divisible por $4$, excepto si es divisible por $100$ y no por $400$. Escriba un programa que reciba un año como entrada e indique `True` si un año es bisiesto o `False` si no lo es."
   ]
  },
  {
   "cell_type": "code",
   "execution_count": 21,
   "metadata": {
    "slideshow": {
     "slide_type": "fragment"
    }
   },
   "outputs": [
    {
     "name": "stdout",
     "output_type": "stream",
     "text": [
      "Ingrese año a consultar: 2000\n",
      "True\n"
     ]
    }
   ],
   "source": [
    "año = int(input('Ingrese año a consultar: '))\n",
    "\n",
    "if año % 4 == 0:\n",
    "    if año % 100 == 0 and año % 400 != 0:\n",
    "        bisiesto = False\n",
    "    else:\n",
    "        bisiesto = True\n",
    "else:\n",
    "    bisiesto = False\n",
    "\n",
    "print(bisiesto)"
   ]
  },
  {
   "cell_type": "code",
   "execution_count": 22,
   "metadata": {
    "slideshow": {
     "slide_type": "slide"
    }
   },
   "outputs": [
    {
     "name": "stdout",
     "output_type": "stream",
     "text": [
      "Ingrese año a consultar: 2000\n",
      "True\n"
     ]
    }
   ],
   "source": [
    "year=int(input('Ingrese año a consultar: '))\n",
    "\n",
    "if year % 400 == 0:\n",
    "    bisiesto = True\n",
    "elif year % 100 == 0:\n",
    "    bisiesto = False\n",
    "elif year % 4 == 0:\n",
    "    bisiesto = True\n",
    "else:\n",
    "    bisiesto = False\n",
    "\n",
    "print(bisiesto)"
   ]
  },
  {
   "cell_type": "markdown",
   "metadata": {
    "slideshow": {
     "slide_type": "slide"
    }
   },
   "source": [
    "Solución reducida con salida modificada:"
   ]
  },
  {
   "cell_type": "code",
   "execution_count": 23,
   "metadata": {
    "slideshow": {
     "slide_type": "fragment"
    }
   },
   "outputs": [
    {
     "name": "stdout",
     "output_type": "stream",
     "text": [
      "Ingrese año a consultar: 2000\n",
      "El año 2000 es bisiesto.\n"
     ]
    }
   ],
   "source": [
    "a=int(input('Ingrese año a consultar: '))\n",
    "\n",
    "bisiesto = ((a % 4 == 0 and a % 100 != 0) or a % 400 == 0)\n",
    "\n",
    "if bisiesto:\n",
    "    print(\"El año\", a, \"es bisiesto.\")\n",
    "else:\n",
    "    print(\"El año\", a, \"no es bisiesto.\")"
   ]
  },
  {
   "cell_type": "markdown",
   "metadata": {
    "slideshow": {
     "slide_type": "slide"
    }
   },
   "source": [
    "### Ejercicio 3\n",
    "\n",
    "El riesgo de que una persona sufra enfermedades coronarias depende de su edad y su índice de masa corporal:\n",
    "\n",
    "<table style=\"font-size: 0.9em\">\n",
    "    <thead>\n",
    "        <td></td>\n",
    "        <td><b>edad &lt; 45</b></td>\n",
    "        <td><b>edad &ge; 45</b></td>\n",
    "    </thead>\n",
    "    <tr>\n",
    "        <td><b>IMC &lt; 22</b></td>\n",
    "        <td>bajo</td>\n",
    "        <td>medio</td>\n",
    "    </tr>\n",
    "    <tr>\n",
    "        <td><b>IMC &ge; 22</b></td>\n",
    "        <td>medio</td>\n",
    "        <td>alto</td>\n",
    "    </tr>\n",
    "</table>\n",
    "\n",
    "El índice de masa corporal (IMC) es el cuociente entre el peso del individuo en kilos y el cuadrado de su altura en metros.\n",
    "\n",
    "Escriba un programa que reciba como entrada la altura, el peso y la edad de una persona, y entregue su IMC en conjunto a su condición de riesgo."
   ]
  },
  {
   "cell_type": "code",
   "execution_count": 24,
   "metadata": {
    "slideshow": {
     "slide_type": "slide"
    }
   },
   "outputs": [
    {
     "name": "stdout",
     "output_type": "stream",
     "text": [
      "Ingrese su edad [años]: 18\n",
      "Ingrese su peso [kg]: 70\n",
      "Ingrese su altura [m]: 1.7\n",
      "Su índice de masa corporal es: 24.22\n",
      "Su nivel de riesgo es medio.\n"
     ]
    }
   ],
   "source": [
    "edad=int(input(\"Ingrese su edad [años]: \"))\n",
    "peso=float(input(\"Ingrese su peso [kg]: \"))\n",
    "alt=float(input(\"Ingrese su altura [m]: \"))\n",
    "\n",
    "IMC = peso / alt**2\n",
    "\n",
    "print (\"Su índice de masa corporal es:\", round(IMC,2))\n",
    "\n",
    "if IMC<22 and edad<45:\n",
    "        print(\"Su nivel de riesgo es bajo.\")\n",
    "elif IMC<22 and edad>=45:\n",
    "        print(\"Su nivel de riesgo es medio.\")\n",
    "else:\n",
    "    if edad<45:\n",
    "        print(\"Su nivel de riesgo es medio.\")\n",
    "    else:\n",
    "        print(\"Su nivel de riesgo es alto.\")"
   ]
  },
  {
   "cell_type": "markdown",
   "metadata": {
    "slideshow": {
     "slide_type": "slide"
    }
   },
   "source": [
    "## Ejercicio 3-bis"
   ]
  },
  {
   "cell_type": "markdown",
   "metadata": {
    "slideshow": {
     "slide_type": "fragment"
    }
   },
   "source": [
    "Realice un ruteo, utilizando la solución diseñada en el Ejercicio 3, para los siguientes valores de entrada:\n",
    "- Edad 50, peso 65 y altura 1.70."
   ]
  },
  {
   "cell_type": "markdown",
   "metadata": {
    "slideshow": {
     "slide_type": "slide"
    }
   },
   "source": [
    "<table style=\"font-size: 1em; float:center;\">\n",
    "    <thead>\n",
    "        <td style=\"border-right: 1px solid black;\"><b>edad</b></td>\n",
    "        <td style=\"border-right: 1px solid black;\"><b>peso</b></td>\n",
    "        <td style=\"border-right: 1px solid black;\"><b>alt</b></td>\n",
    "        <td><b>IMC</b></td>\n",
    "    </thead>\n",
    "    <tr>\n",
    "        <td style=\"border-right: 1px solid black;\">50</td>\n",
    "        <td style=\"border-right: 1px solid black;\">&emsp;</td>\n",
    "        <td style=\"border-right: 1px solid black;\">&emsp;</td>\n",
    "        <td>&emsp;</td>\n",
    "    </tr>\n",
    "    <tr>\n",
    "        <td style=\"border-right: 1px solid black;\">&emsp;</td>\n",
    "        <td style=\"border-right: 1px solid black;\">65.0</td>\n",
    "        <td style=\"border-right: 1px solid black;\">&emsp;</td>\n",
    "        <td>&emsp;</td>\n",
    "    </tr>\n",
    "        <tr>\n",
    "        <td style=\"border-right: 1px solid black;\">&emsp;</td>\n",
    "        <td style=\"border-right: 1px solid black;\">&emsp;</td>\n",
    "        <td style=\"border-right: 1px solid black;\">1.7</td>\n",
    "        <td>&emsp;</td>\n",
    "    </tr>\n",
    "    <tr>\n",
    "        <td style=\"border-right: 1px solid black;\">&emsp;</td>\n",
    "        <td style=\"border-right: 1px solid black;\">&emsp;</td>\n",
    "        <td style=\"border-right: 1px solid black;\">&emsp;</td>\n",
    "        <td>22.49</td>\n",
    "    </tr>\n",
    "</table>\n",
    "            \n",
    "<table style=\"font-size: 1em; float:center;\">\n",
    "    <tr>\n",
    "        <td style=\"text-align:left\" align=\"left\"><b>Pantalla:</b></td>\n",
    "    </tr>\n",
    "    <tr>\n",
    "        <td style=\"text-align:left\">Su índice de masa corporal es: 22.49<br/>Su nivel de riesgo es alto.<br/>&emsp;<br/></td>\n",
    "    </tr>\n",
    "</table>"
   ]
  },
  {
   "cell_type": "markdown",
   "metadata": {
    "slideshow": {
     "slide_type": "fragment"
    }
   },
   "source": [
    "¿Cómo se vería el ruteo con otros valores de entrada?"
   ]
  }
 ],
 "metadata": {
  "celltoolbar": "Slideshow",
  "colab": {
   "name": "05_Condicionales_Ciclos_2018.ipynb",
   "provenance": [],
   "version": "0.3.2"
  },
  "kernelspec": {
   "display_name": "Python 3",
   "language": "python",
   "name": "python3"
  },
  "language_info": {
   "codemirror_mode": {
    "name": "ipython",
    "version": 3
   },
   "file_extension": ".py",
   "mimetype": "text/x-python",
   "name": "python",
   "nbconvert_exporter": "python",
   "pygments_lexer": "ipython3",
   "version": "3.7.4"
  }
 },
 "nbformat": 4,
 "nbformat_minor": 4
}
