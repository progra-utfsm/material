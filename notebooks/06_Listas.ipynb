{
  "cells": [
    {
      "cell_type": "markdown",
      "metadata": {
        "id": "view-in-github",
        "colab_type": "text"
      },
      "source": [
        "<a href=\"https://colab.research.google.com/github/progra-utfsm/material/blob/main/notebooks/06_Listas.ipynb\" target=\"_parent\"><img src=\"https://colab.research.google.com/assets/colab-badge.svg\" alt=\"Open In Colab\"/></a>"
      ]
    },
    {
      "cell_type": "markdown",
      "metadata": {
        "id": "66XDfcVqNamP"
      },
      "source": [
        "# Estructura de datos: Listas"
      ]
    },
    {
      "cell_type": "markdown",
      "metadata": {
        "collapsed": true,
        "id": "uCFAOR9MNamQ"
      },
      "source": [
        "## Listas"
      ]
    },
    {
      "cell_type": "markdown",
      "metadata": {
        "id": "5-W74uojNamQ"
      },
      "source": [
        "Una lista es una colección **ordenada** de elementos de cualquier tipo, incluso otras listas.\n",
        "\n",
        "Sus elementos individuales pueden accederse a través de **índices**, como con los caracteres de un string. De igual forma, se pueden extraer sublistas utilizando rebanadas."
      ]
    },
    {
      "cell_type": "markdown",
      "metadata": {
        "id": "Tq06dfDrNamQ"
      },
      "source": [
        "## Creación de Listas\n",
        "- Usando corchetes: `[]`\n",
        "- Usando el constructor: `list()`"
      ]
    },
    {
      "cell_type": "markdown",
      "metadata": {
        "id": "T3R7G3VMNamQ"
      },
      "source": [
        "### Lista vacía"
      ]
    },
    {
      "cell_type": "code",
      "execution_count": 1,
      "metadata": {
        "id": "HOuHyKL8NamR",
        "outputId": "1397cf14-c783-467c-c0a5-53b7412d478e",
        "colab": {
          "base_uri": "https://localhost:8080/"
        }
      },
      "outputs": [
        {
          "output_type": "stream",
          "name": "stdout",
          "text": [
            "[]\n",
            "[]\n"
          ]
        }
      ],
      "source": [
        "a = []\n",
        "b = list()\n",
        "print(a)\n",
        "print(b)"
      ]
    },
    {
      "cell_type": "markdown",
      "metadata": {
        "id": "MYCZcv0oNamR"
      },
      "source": [
        "### Lista con elementos"
      ]
    },
    {
      "cell_type": "code",
      "execution_count": 2,
      "metadata": {
        "id": "Ak43iNF2NamR",
        "outputId": "a35aff6c-118b-4603-c334-b994f1d700c2",
        "colab": {
          "base_uri": "https://localhost:8080/"
        }
      },
      "outputs": [
        {
          "output_type": "stream",
          "name": "stdout",
          "text": [
            "[1, 2, 3, 4]\n",
            "['hola', 2, [1, 2], '3']\n",
            "['a', 'b', 'c']\n"
          ]
        }
      ],
      "source": [
        "a = [1,2,3,4]\n",
        "palabra = \"hola\"\n",
        "b = list([palabra,2,[1,2],'3'])\n",
        "print(a)\n",
        "print(b)\n",
        "\n",
        "c = list(\"abc\")\n",
        "print(c)"
      ]
    },
    {
      "cell_type": "markdown",
      "metadata": {
        "id": "S8C1hZkRNamR"
      },
      "source": [
        "## Rangos"
      ]
    },
    {
      "cell_type": "markdown",
      "metadata": {
        "id": "CHVd5AIjNamS"
      },
      "source": [
        "La función `range` genera una secuencia **ordenada** de números enteros. En conjunto con el constructor `list()` permite crear una lista con la secuencia generada."
      ]
    },
    {
      "cell_type": "markdown",
      "metadata": {
        "id": "gkXlC8BgNamS"
      },
      "source": [
        "`range(inicio,fin)` genera una secuencia ordenada de números enteros ordenados desde $inicio$ hasta $fin-1$.\n",
        "\n",
        "Si se omite el $inicio$, la secuencia va desde $0$ hasta $fin-1$.\n",
        "\n",
        "Aplicando `list()` construimos una lista con el rango correspondiente."
      ]
    },
    {
      "cell_type": "code",
      "execution_count": 3,
      "metadata": {
        "id": "m1VrrcfBNamS",
        "outputId": "b2e65d50-cd35-47a4-fd55-4d2009fecf0a",
        "colab": {
          "base_uri": "https://localhost:8080/"
        }
      },
      "outputs": [
        {
          "output_type": "stream",
          "name": "stdout",
          "text": [
            "[4, 5, 6, 7, 8, 9]\n",
            "[0, 1, 2, 3, 4]\n"
          ]
        }
      ],
      "source": [
        "a = list(range(4,10))\n",
        "b = list(range(5))\n",
        "print(a)\n",
        "print(b)"
      ]
    },
    {
      "cell_type": "markdown",
      "metadata": {
        "id": "qLcvLPzCNamS"
      },
      "source": [
        "`range(inicio, fin, salto)` genera una secuencia ordenada de números enteros, desde $inicio$ hasta $fin-1$, saltando $salto$ entre cada par de números.\n"
      ]
    },
    {
      "cell_type": "code",
      "execution_count": 4,
      "metadata": {
        "id": "jV_Esp_WNamS",
        "outputId": "b3369e06-6ae5-4d05-e553-9e01477bc4b1",
        "colab": {
          "base_uri": "https://localhost:8080/"
        }
      },
      "outputs": [
        {
          "output_type": "stream",
          "name": "stdout",
          "text": [
            "[2, 5, 8]\n"
          ]
        }
      ],
      "source": [
        "c = list(range(2,10,3))\n",
        "print(c)"
      ]
    },
    {
      "cell_type": "markdown",
      "metadata": {
        "id": "MkPYEdpZNamS"
      },
      "source": [
        "## Índices"
      ]
    },
    {
      "cell_type": "markdown",
      "metadata": {
        "id": "iRXh-vReNamS"
      },
      "source": [
        "Las listas tienen índices para enumerar sus elementos, de manera similar que con strings."
      ]
    },
    {
      "cell_type": "code",
      "execution_count": 5,
      "metadata": {
        "id": "EYyoGd8rNamT",
        "outputId": "6abdf55b-e173-46a0-cc60-a99398d1904e",
        "colab": {
          "base_uri": "https://localhost:8080/"
        }
      },
      "outputs": [
        {
          "output_type": "stream",
          "name": "stdout",
          "text": [
            "2\n"
          ]
        }
      ],
      "source": [
        "a = [1,2,3,4]\n",
        "print(a[1])"
      ]
    },
    {
      "cell_type": "code",
      "execution_count": 6,
      "metadata": {
        "id": "mrlE78OcNamT",
        "outputId": "de5eaa9d-d74e-484e-dbe0-64348f886d8f",
        "colab": {
          "base_uri": "https://localhost:8080/",
          "height": 141
        }
      },
      "outputs": [
        {
          "output_type": "error",
          "ename": "IndexError",
          "evalue": "list index out of range",
          "traceback": [
            "\u001b[0;31m---------------------------------------------------------------------------\u001b[0m",
            "\u001b[0;31mIndexError\u001b[0m                                Traceback (most recent call last)",
            "\u001b[0;32m/tmp/ipython-input-3397209967.py\u001b[0m in \u001b[0;36m<cell line: 0>\u001b[0;34m()\u001b[0m\n\u001b[0;32m----> 1\u001b[0;31m \u001b[0mprint\u001b[0m\u001b[0;34m(\u001b[0m\u001b[0ma\u001b[0m\u001b[0;34m[\u001b[0m\u001b[0;36m10\u001b[0m\u001b[0;34m]\u001b[0m\u001b[0;34m)\u001b[0m\u001b[0;34m\u001b[0m\u001b[0;34m\u001b[0m\u001b[0m\n\u001b[0m",
            "\u001b[0;31mIndexError\u001b[0m: list index out of range"
          ]
        }
      ],
      "source": [
        "print(a[10])"
      ]
    },
    {
      "cell_type": "markdown",
      "metadata": {
        "id": "wTKosY2mNamT"
      },
      "source": [
        "Las listas también poseen índices negativos."
      ]
    },
    {
      "cell_type": "code",
      "execution_count": 7,
      "metadata": {
        "id": "GARl_uk4NamT",
        "outputId": "a108ad93-d669-47a4-a9b8-eb3c4a1c71c0",
        "colab": {
          "base_uri": "https://localhost:8080/"
        }
      },
      "outputs": [
        {
          "output_type": "stream",
          "name": "stdout",
          "text": [
            "3\n"
          ]
        }
      ],
      "source": [
        "a = [1,2,3,4]\n",
        "#imprime por pantalla el penultimo elemento de la lista\n",
        "print(a[-2])"
      ]
    },
    {
      "cell_type": "markdown",
      "metadata": {
        "id": "o0a-rNyBNamT"
      },
      "source": [
        "La notación `l[inicio:fin]`, para extraer una rebanada, también es válida para listas."
      ]
    },
    {
      "cell_type": "code",
      "execution_count": 8,
      "metadata": {
        "id": "Dimu6pwlNamT",
        "outputId": "55804999-306a-416d-8eff-bbbee7031177",
        "colab": {
          "base_uri": "https://localhost:8080/"
        }
      },
      "outputs": [
        {
          "output_type": "stream",
          "name": "stdout",
          "text": [
            "[6, 7, 8, 9, 10, 11, 12, 13, 14, 15, 16]\n"
          ]
        }
      ],
      "source": [
        "a = list(range(2,20))\n",
        "print(a[4:15])"
      ]
    },
    {
      "cell_type": "markdown",
      "metadata": {
        "id": "IWBf0xF5NamT"
      },
      "source": [
        "## Mutabilidad"
      ]
    },
    {
      "cell_type": "markdown",
      "metadata": {
        "id": "TI_MdJbeNamT"
      },
      "source": [
        "**A diferencia de los strings**, las listas son **mutables**, es decir, sus elementos **pueden cambiar**. El **índice** puede ser usado para **modificar** un elemento de la lista."
      ]
    },
    {
      "cell_type": "code",
      "execution_count": 9,
      "metadata": {
        "id": "WTTxYowYNamT",
        "outputId": "daf11483-7205-4a89-8e60-b8c24e03e83f",
        "colab": {
          "base_uri": "https://localhost:8080/"
        }
      },
      "outputs": [
        {
          "output_type": "stream",
          "name": "stdout",
          "text": [
            "Lista antes de modificar un elemento por el indice\n",
            "['azul', 'rojo', 'verde', 'amarillo']\n",
            "Lista despues de modificar un elemento por el indice\n",
            "['fucsia', 'rojo', 'verde', 'amarillo']\n"
          ]
        }
      ],
      "source": [
        "colores = [\"azul\", \"rojo\", \"verde\", \"amarillo\"]\n",
        "print(\"Lista antes de modificar un elemento por el indice\")\n",
        "print(colores)\n",
        "colores[0] = \"fucsia\"\n",
        "print(\"Lista despues de modificar un elemento por el indice\")\n",
        "print(colores)"
      ]
    },
    {
      "cell_type": "markdown",
      "metadata": {
        "id": "BU5foL7aNamT"
      },
      "source": [
        "## Operaciones sobre listas"
      ]
    },
    {
      "cell_type": "markdown",
      "metadata": {
        "id": "lmJSqLMwNamT"
      },
      "source": [
        "Algunas operaciones de listas son análogas a las operaciones de strings:\n",
        "\n",
        "- Concatenación de lista (`+`)\n",
        "- Repetición de listas (`*`)\n",
        "- Verificar si un *elemento* está en en la lista\n",
        "- Eliminar el elemento i-ésimo de una lista"
      ]
    },
    {
      "cell_type": "markdown",
      "metadata": {
        "id": "lmudXAFeNamT"
      },
      "source": [
        "### Concatenación de listas\n",
        "\n",
        "El operador suma (`+`) crea una **nueva lista** como la **concatenación de las dos listas utilizadas** como operandos."
      ]
    },
    {
      "cell_type": "code",
      "execution_count": 10,
      "metadata": {
        "id": "f63ANakmNamT",
        "outputId": "f9907125-95e1-45ca-fa16-36564208eb12",
        "colab": {
          "base_uri": "https://localhost:8080/"
        }
      },
      "outputs": [
        {
          "output_type": "stream",
          "name": "stdout",
          "text": [
            "[1, 2, 3, 4, 6, 8]\n",
            "[4, 6, 8, 1, 2, 3]\n"
          ]
        }
      ],
      "source": [
        "a = [1,2,3]\n",
        "b = [4,6,8]\n",
        "c = a + b\n",
        "d = b + a\n",
        "print(c)\n",
        "print(d)"
      ]
    },
    {
      "cell_type": "code",
      "execution_count": 11,
      "metadata": {
        "id": "LJ_xU303NamU",
        "outputId": "427a905c-8bc7-4246-b070-d4a5fb6efb38",
        "colab": {
          "base_uri": "https://localhost:8080/"
        }
      },
      "outputs": [
        {
          "output_type": "execute_result",
          "data": {
            "text/plain": [
              "[1, 2, 2, 6]"
            ]
          },
          "metadata": {},
          "execution_count": 11
        }
      ],
      "source": [
        "[1,2] + [2,6]"
      ]
    },
    {
      "cell_type": "markdown",
      "metadata": {
        "id": "OfwNFJdlNamU"
      },
      "source": [
        "### Repetición de listas\n",
        "\n",
        "El operador multiplicación (`*`) crea una **nueva lista** como **la repetición de la lista** que aparece como operando, la cantidad de veces indicada."
      ]
    },
    {
      "cell_type": "code",
      "execution_count": 12,
      "metadata": {
        "id": "6xh3egUJNamU",
        "outputId": "3ce9735b-5150-4e7e-b122-8ec89e337a21",
        "colab": {
          "base_uri": "https://localhost:8080/"
        }
      },
      "outputs": [
        {
          "output_type": "stream",
          "name": "stdout",
          "text": [
            "[1, 4, 6, 1, 4, 6, 1, 4, 6]\n"
          ]
        }
      ],
      "source": [
        "a = [1,4,6]\n",
        "c = a*3\n",
        "print(c)"
      ]
    },
    {
      "cell_type": "markdown",
      "metadata": {
        "id": "LrjOgajONamU"
      },
      "source": [
        "### Verificar si elemento se encuentra en la lista\n",
        "La instrucción `in` permite verificar si un elemento está contenido en la lista."
      ]
    },
    {
      "cell_type": "code",
      "execution_count": 13,
      "metadata": {
        "id": "i5rvwPU6NamU",
        "outputId": "5e3ea65c-f9bf-43ef-d28c-ef9f1ad9bf5e",
        "colab": {
          "base_uri": "https://localhost:8080/"
        }
      },
      "outputs": [
        {
          "output_type": "stream",
          "name": "stdout",
          "text": [
            "True\n"
          ]
        }
      ],
      "source": [
        "a = [1,2,3,4]\n",
        "print(3 in a)"
      ]
    },
    {
      "cell_type": "markdown",
      "metadata": {
        "id": "8p9AND95NamU"
      },
      "source": [
        "### Eliminar un elemento de la lista\n",
        "\n",
        "- Utilizando la instrucción `del`, es posible eliminar un elemento de la lista.\n",
        "- Se debe indicar el **índice del elemento** de la lista a eliminar."
      ]
    },
    {
      "cell_type": "code",
      "execution_count": 14,
      "metadata": {
        "id": "f1iO-5cQNamU",
        "outputId": "4e0583a9-5ca5-4bef-c353-e1bcb1a5c361",
        "colab": {
          "base_uri": "https://localhost:8080/"
        }
      },
      "outputs": [
        {
          "output_type": "stream",
          "name": "stdout",
          "text": [
            "lista antes de eliminar el elemento a[-3]\n",
            "[1, 2, 3, 4, 2]\n",
            "lista despues de eliminar a[-3]\n",
            "[1, 2, 4, 2]\n"
          ]
        }
      ],
      "source": [
        "a = [1,2,3,4,2]\n",
        "print(\"lista antes de eliminar el elemento a[-3]\")\n",
        "print(a)\n",
        "del a[-3]\n",
        "print(\"lista despues de eliminar a[-3]\")\n",
        "print(a)"
      ]
    },
    {
      "cell_type": "markdown",
      "metadata": {
        "id": "KMO14U2NNamU"
      },
      "source": [
        "## Funciones que aceptan listas como parámetros"
      ]
    },
    {
      "cell_type": "markdown",
      "metadata": {
        "id": "As4z2J5DNamU"
      },
      "source": [
        "### Longitud de una lista\n",
        "La función `len(lista)` entrega la cantidad de elementos de la lista ingresada como parámetro."
      ]
    },
    {
      "cell_type": "code",
      "execution_count": 15,
      "metadata": {
        "id": "kTcjaXTkNamU",
        "outputId": "8542b0f5-1ad6-419a-b172-65a815c6d149",
        "colab": {
          "base_uri": "https://localhost:8080/"
        }
      },
      "outputs": [
        {
          "output_type": "stream",
          "name": "stdout",
          "text": [
            "La cantidad de elementos de la lista es 4\n"
          ]
        }
      ],
      "source": [
        "a = [1,2,3,4]\n",
        "c = len(a)\n",
        "print(\"La cantidad de elementos de la lista es\",c)"
      ]
    },
    {
      "cell_type": "code",
      "execution_count": 16,
      "metadata": {
        "id": "1JxQ3OU3NamX",
        "outputId": "7db594bc-b2ef-4959-a275-d35c874138ef",
        "colab": {
          "base_uri": "https://localhost:8080/"
        }
      },
      "outputs": [
        {
          "output_type": "stream",
          "name": "stdout",
          "text": [
            "La cantidad de elementos de la lista es 4\n"
          ]
        }
      ],
      "source": [
        "b = [[1,2,3,4]]\n",
        "d = len(b[0])\n",
        "print(\"La cantidad de elementos de la lista es\",d)"
      ]
    },
    {
      "cell_type": "markdown",
      "metadata": {
        "id": "fqhqrsMlNamX"
      },
      "source": [
        "¿Qué ocurre con la cantidad de elementos de las listas vacías?"
      ]
    },
    {
      "cell_type": "code",
      "execution_count": 17,
      "metadata": {
        "id": "72DuZnZNNamX",
        "outputId": "7c70c4c8-064e-4942-9496-c5dd4d41c685",
        "colab": {
          "base_uri": "https://localhost:8080/"
        }
      },
      "outputs": [
        {
          "output_type": "stream",
          "name": "stdout",
          "text": [
            "0\n"
          ]
        }
      ],
      "source": [
        "print(len([]))"
      ]
    },
    {
      "cell_type": "code",
      "execution_count": 18,
      "metadata": {
        "id": "_z3I2WJWNamY",
        "outputId": "16d073f4-c20c-41f8-de81-3e0fd04289dc",
        "colab": {
          "base_uri": "https://localhost:8080/"
        }
      },
      "outputs": [
        {
          "output_type": "stream",
          "name": "stdout",
          "text": [
            "0\n"
          ]
        }
      ],
      "source": [
        "print(len(list()))"
      ]
    },
    {
      "cell_type": "markdown",
      "metadata": {
        "id": "4kbge2AkNamY"
      },
      "source": [
        "### Suma de los valores de una lista\n",
        "Usando la función `sum(lista)`, se puede determinar la suma de los elementos de una lista."
      ]
    },
    {
      "cell_type": "code",
      "execution_count": 19,
      "metadata": {
        "id": "AHjmJOByNamY",
        "outputId": "4ddae336-efa5-45b7-8b1d-48f65f75ba62",
        "colab": {
          "base_uri": "https://localhost:8080/"
        }
      },
      "outputs": [
        {
          "output_type": "execute_result",
          "data": {
            "text/plain": [
              "9"
            ]
          },
          "metadata": {},
          "execution_count": 19
        }
      ],
      "source": [
        "sum([1,5,3])"
      ]
    },
    {
      "cell_type": "code",
      "execution_count": 20,
      "metadata": {
        "id": "C32qQSmDNamY",
        "outputId": "60a00227-029a-4c31-a5f3-0dd1e8d6eaa2",
        "colab": {
          "base_uri": "https://localhost:8080/"
        }
      },
      "outputs": [
        {
          "output_type": "execute_result",
          "data": {
            "text/plain": [
              "9.4"
            ]
          },
          "metadata": {},
          "execution_count": 20
        }
      ],
      "source": [
        "sum([1.0,5.4,3])"
      ]
    },
    {
      "cell_type": "markdown",
      "metadata": {
        "id": "mtticCK6NamY"
      },
      "source": [
        "¿Que hace el siguiente programa?"
      ]
    },
    {
      "cell_type": "code",
      "execution_count": 21,
      "metadata": {
        "id": "KMBVl2-zNamY",
        "outputId": "ddff1c03-491f-4853-faab-55817a21d4b7",
        "colab": {
          "base_uri": "https://localhost:8080/"
        }
      },
      "outputs": [
        {
          "output_type": "stream",
          "name": "stdout",
          "text": [
            "3\n"
          ]
        }
      ],
      "source": [
        "b = 5\n",
        "a = [1,2,4,b]\n",
        "c = sum(a)/len(a)\n",
        "print(round(c))"
      ]
    },
    {
      "cell_type": "markdown",
      "metadata": {
        "id": "aJrotHdVNamY"
      },
      "source": [
        "### Mínimo en una lista de elementos\n",
        "La función `min(lista)` entrega el valor mínimo en la `lista` ingresada como parámetro."
      ]
    },
    {
      "cell_type": "code",
      "execution_count": 22,
      "metadata": {
        "id": "NfTDAFIgNamY",
        "outputId": "9faca173-d513-4918-fa70-5955ecefa01a",
        "colab": {
          "base_uri": "https://localhost:8080/"
        }
      },
      "outputs": [
        {
          "output_type": "stream",
          "name": "stdout",
          "text": [
            "-1\n"
          ]
        }
      ],
      "source": [
        "m = min([1,6,2,-1])\n",
        "print(m)"
      ]
    },
    {
      "cell_type": "markdown",
      "metadata": {
        "id": "Uh74SxS7NamY"
      },
      "source": [
        "### Máximo en una lista de elementos\n",
        "La función `max(lista)` entrega el valor máximo en la `lista` ingresada como parámetro."
      ]
    },
    {
      "cell_type": "code",
      "execution_count": 23,
      "metadata": {
        "id": "cAVv6VC_NamY",
        "outputId": "b48dc42e-98cf-4437-c867-3c6a0e074c12",
        "colab": {
          "base_uri": "https://localhost:8080/"
        }
      },
      "outputs": [
        {
          "output_type": "stream",
          "name": "stdout",
          "text": [
            "6\n"
          ]
        }
      ],
      "source": [
        "m = max([1,6,2,-1])\n",
        "print(m)"
      ]
    },
    {
      "cell_type": "markdown",
      "metadata": {
        "id": "spdJh0wtNamY"
      },
      "source": [
        "## Métodos para listas"
      ]
    },
    {
      "cell_type": "markdown",
      "metadata": {
        "id": "Fr2lE3EsNamY"
      },
      "source": [
        "- Agregar un elemento `x`: `l.append(x)`\n",
        "- Agregar un elemento `x` en una posición `pos`: `l.insert(pos,x)`\n",
        "- Contar la cantidad de ocurrencias de un elemento `x`: `l.count(x)`\n",
        "- Obtener el índice de un elemento `x`: `l.index(x)`\n",
        "- Eliminar un elemento `x`: `l.remove(x)`\n",
        "- Invertir una lista: `l.reverse()`\n",
        "- Ordenar una lista: `l.sort()`"
      ]
    },
    {
      "cell_type": "markdown",
      "metadata": {
        "id": "QWctMH52NamY"
      },
      "source": [
        "**Importante:** recordar que los métodos operan sobre una lista implícita, indicada **antes** del punto."
      ]
    },
    {
      "cell_type": "markdown",
      "metadata": {
        "id": "4Vl0TVOsNamY"
      },
      "source": [
        "### Agregar un elemento\n",
        "- Usando `append`, se agregará un elemento al final de la lista."
      ]
    },
    {
      "cell_type": "code",
      "execution_count": 24,
      "metadata": {
        "id": "EFSlnwM7NamZ",
        "outputId": "9d3bd8f9-c5ae-4c62-d513-24e79bd929ee",
        "colab": {
          "base_uri": "https://localhost:8080/"
        }
      },
      "outputs": [
        {
          "output_type": "stream",
          "name": "stdout",
          "text": [
            "lista antes de agregar un elemento\n",
            "[1, 2, 3, 4]\n",
            "lista despues de agregar un elemento\n",
            "[1, 2, 3, 4, 4]\n"
          ]
        }
      ],
      "source": [
        "a = [1,2,3,4]\n",
        "print(\"lista antes de agregar un elemento\")\n",
        "print(a)\n",
        "#agregar un 4 al final de la lista\n",
        "a.append(4)\n",
        "print(\"lista despues de agregar un elemento\")\n",
        "print(a)"
      ]
    },
    {
      "cell_type": "markdown",
      "metadata": {
        "id": "AH4148utNamZ"
      },
      "source": [
        "### Agregar un elemento en una posición\n",
        "Usando el método `insert` se puede agregar un elemento en la lista en la posición i-ésima ingresada como parámetro."
      ]
    },
    {
      "cell_type": "code",
      "execution_count": 25,
      "metadata": {
        "id": "p6707zFsNamZ",
        "outputId": "dfe93438-400e-40d9-b5e1-5c56e7b51332",
        "colab": {
          "base_uri": "https://localhost:8080/"
        }
      },
      "outputs": [
        {
          "output_type": "stream",
          "name": "stdout",
          "text": [
            "lista antes de agregar un elemento\n",
            "[1, 2, 3, 4]\n",
            "lista despues de agregar un elemento\n",
            "[1, 2, 10, 3, 4]\n"
          ]
        }
      ],
      "source": [
        "a = [1,2,3,4]\n",
        "print(\"lista antes de agregar un elemento\")\n",
        "print(a)\n",
        "#agregar un 10 en a[2]\n",
        "a.insert(2,10)\n",
        "print(\"lista despues de agregar un elemento\")\n",
        "print(a)"
      ]
    },
    {
      "cell_type": "markdown",
      "metadata": {
        "id": "9MDB7UJJNamZ"
      },
      "source": [
        "### Contar la aparición de un elemento en una lista\n",
        "\n",
        "El método `count` cuenta cuántas veces aparece un elemento en la lista."
      ]
    },
    {
      "cell_type": "code",
      "execution_count": 26,
      "metadata": {
        "id": "yb4jqFrBNamZ",
        "outputId": "fbc45b71-10b0-4b1a-d7c0-3e91d159a80d",
        "colab": {
          "base_uri": "https://localhost:8080/"
        }
      },
      "outputs": [
        {
          "output_type": "stream",
          "name": "stdout",
          "text": [
            "3\n"
          ]
        }
      ],
      "source": [
        "a = list(\"paralelepipedo\")\n",
        "b = a.count(\"p\")\n",
        "print(b)"
      ]
    },
    {
      "cell_type": "markdown",
      "metadata": {
        "id": "eTw7yNesNamZ"
      },
      "source": [
        "### Índice de un elemento\n",
        "- El método `index` entrega la posición de un elemento en la lista.\n",
        "- Si hay más de un elemento en la lista, entrega la posición del primer elemento (sentido izquierda - derecha).\n",
        "- El elemento debe existir."
      ]
    },
    {
      "cell_type": "code",
      "execution_count": 27,
      "metadata": {
        "id": "QkLsnfFMNamZ"
      },
      "outputs": [],
      "source": [
        "a = [1,2,3,4,3]"
      ]
    },
    {
      "cell_type": "code",
      "execution_count": 28,
      "metadata": {
        "id": "eeQTdDBQNamZ",
        "outputId": "0c72c6a8-a155-4040-f901-79ef4bd1b46e",
        "colab": {
          "base_uri": "https://localhost:8080/"
        }
      },
      "outputs": [
        {
          "output_type": "execute_result",
          "data": {
            "text/plain": [
              "2"
            ]
          },
          "metadata": {},
          "execution_count": 28
        }
      ],
      "source": [
        "a.index(3)"
      ]
    },
    {
      "cell_type": "code",
      "execution_count": 29,
      "metadata": {
        "id": "5WMB7ic2Nama",
        "outputId": "f4fc0054-1156-44dd-87e1-e0ff41584cf1",
        "colab": {
          "base_uri": "https://localhost:8080/",
          "height": 141
        }
      },
      "outputs": [
        {
          "output_type": "error",
          "ename": "ValueError",
          "evalue": "214 is not in list",
          "traceback": [
            "\u001b[0;31m---------------------------------------------------------------------------\u001b[0m",
            "\u001b[0;31mValueError\u001b[0m                                Traceback (most recent call last)",
            "\u001b[0;32m/tmp/ipython-input-3995662921.py\u001b[0m in \u001b[0;36m<cell line: 0>\u001b[0;34m()\u001b[0m\n\u001b[0;32m----> 1\u001b[0;31m \u001b[0ma\u001b[0m\u001b[0;34m.\u001b[0m\u001b[0mindex\u001b[0m\u001b[0;34m(\u001b[0m\u001b[0;36m214\u001b[0m\u001b[0;34m)\u001b[0m\u001b[0;34m\u001b[0m\u001b[0;34m\u001b[0m\u001b[0m\n\u001b[0m",
            "\u001b[0;31mValueError\u001b[0m: 214 is not in list"
          ]
        }
      ],
      "source": [
        "a.index(214)"
      ]
    },
    {
      "cell_type": "markdown",
      "metadata": {
        "id": "5Rqh2EMXNama"
      },
      "source": [
        "¿Cómo se puede asegurar que al usar `index` no habrá error?"
      ]
    },
    {
      "cell_type": "code",
      "execution_count": 30,
      "metadata": {
        "id": "ZUQ0vHOYNama",
        "outputId": "b9c6111c-c188-4a85-a76d-18073ff5f53d",
        "colab": {
          "base_uri": "https://localhost:8080/"
        }
      },
      "outputs": [
        {
          "output_type": "stream",
          "name": "stdout",
          "text": [
            "El elemento 3 esta en el indice 2\n"
          ]
        }
      ],
      "source": [
        "a = [1,2,3,4,3]\n",
        "if 214 in a:\n",
        "    print(\"El elemento 214 esta en el indice\",a.index(214))\n",
        "\n",
        "if 3 in a:\n",
        "    print(\"El elemento 3 esta en el indice\",a.index(3))"
      ]
    },
    {
      "cell_type": "markdown",
      "metadata": {
        "id": "JZQ_79J8Nama"
      },
      "source": [
        "### Eliminar un elemento de una lista\n",
        "\n",
        "- El método `remove` elimina el elemento ingresado como parámetro.\n",
        "- Si hay más de un elemento en la lista, elimina el primer elemento (sentido izquierda - derecha).\n",
        "- El elemento debe existir en la lista."
      ]
    },
    {
      "cell_type": "code",
      "execution_count": 31,
      "metadata": {
        "id": "kwsxqxcZNama",
        "outputId": "b309fb99-4b5f-464c-f110-181071f85480",
        "colab": {
          "base_uri": "https://localhost:8080/"
        }
      },
      "outputs": [
        {
          "output_type": "stream",
          "name": "stdout",
          "text": [
            "lista antes de eliminar el elemento 3\n",
            "[1, 2, 3, 5, 3]\n",
            "lista despues de eliminar\n",
            "[1, 2, 5, 3]\n"
          ]
        }
      ],
      "source": [
        "a = [1,2,3,5,3]\n",
        "print(\"lista antes de eliminar el elemento 3\")\n",
        "print(a)\n",
        "#eliminar el elemento 3 de la lista\n",
        "a.remove(3)\n",
        "print(\"lista despues de eliminar\")\n",
        "print(a)"
      ]
    },
    {
      "cell_type": "code",
      "execution_count": 32,
      "metadata": {
        "id": "ex0J_r7xNama",
        "outputId": "4998a5f1-cf2e-4f39-f635-8cbe35a8b4c7",
        "colab": {
          "base_uri": "https://localhost:8080/",
          "height": 141
        }
      },
      "outputs": [
        {
          "output_type": "error",
          "ename": "ValueError",
          "evalue": "list.remove(x): x not in list",
          "traceback": [
            "\u001b[0;31m---------------------------------------------------------------------------\u001b[0m",
            "\u001b[0;31mValueError\u001b[0m                                Traceback (most recent call last)",
            "\u001b[0;32m/tmp/ipython-input-4132852758.py\u001b[0m in \u001b[0;36m<cell line: 0>\u001b[0;34m()\u001b[0m\n\u001b[0;32m----> 1\u001b[0;31m \u001b[0ma\u001b[0m\u001b[0;34m.\u001b[0m\u001b[0mremove\u001b[0m\u001b[0;34m(\u001b[0m\u001b[0;36m7\u001b[0m\u001b[0;34m)\u001b[0m\u001b[0;34m\u001b[0m\u001b[0;34m\u001b[0m\u001b[0m\n\u001b[0m",
            "\u001b[0;31mValueError\u001b[0m: list.remove(x): x not in list"
          ]
        }
      ],
      "source": [
        "a.remove(7)"
      ]
    },
    {
      "cell_type": "markdown",
      "metadata": {
        "id": "tHV7ggKnNama"
      },
      "source": [
        "¿Cómo se puede evitar este error al intentar eliminar un elemento?"
      ]
    },
    {
      "cell_type": "code",
      "execution_count": 33,
      "metadata": {
        "id": "sYdQ4M60Nama"
      },
      "outputs": [],
      "source": [
        "a = [1,2,3,5,3]\n",
        "if 7 in a:\n",
        "    a.remove(7)"
      ]
    },
    {
      "cell_type": "markdown",
      "metadata": {
        "id": "jqcmmpqlNama"
      },
      "source": [
        "### Invertir una lista\n",
        "El método `reverse` invierte el orden de los elementos de una lista."
      ]
    },
    {
      "cell_type": "code",
      "execution_count": 34,
      "metadata": {
        "id": "Dh2uFrjZNama",
        "outputId": "040e772d-e8f3-4704-ffc9-9b323c74de44",
        "colab": {
          "base_uri": "https://localhost:8080/"
        }
      },
      "outputs": [
        {
          "output_type": "stream",
          "name": "stdout",
          "text": [
            "lista antes de invertir\n",
            "[4, 1, 10, 5]\n",
            "lista despues de invertir\n",
            "[5, 10, 1, 4]\n"
          ]
        }
      ],
      "source": [
        "a = [4,1,10,5]\n",
        "print(\"lista antes de invertir\")\n",
        "print(a)\n",
        "a.reverse()\n",
        "print(\"lista despues de invertir\")\n",
        "print(a)"
      ]
    },
    {
      "cell_type": "markdown",
      "metadata": {
        "id": "VH9d9doGNamb"
      },
      "source": [
        "### Ordenar una lista\n",
        "El método `sort` ordena los elementos de una lista en orden creciente."
      ]
    },
    {
      "cell_type": "code",
      "execution_count": 35,
      "metadata": {
        "id": "2aa8RfyANamb",
        "outputId": "19ead5be-3176-4d02-f946-d55211dff309",
        "colab": {
          "base_uri": "https://localhost:8080/"
        }
      },
      "outputs": [
        {
          "output_type": "stream",
          "name": "stdout",
          "text": [
            "lista antes de ordenar\n",
            "[4, 1, 10, 6]\n",
            "lista despues de ordenar\n",
            "[1, 4, 6, 10]\n"
          ]
        }
      ],
      "source": [
        "a = [4,1,10,6]\n",
        "print(\"lista antes de ordenar\")\n",
        "print(a)\n",
        "a.sort()\n",
        "print(\"lista despues de ordenar\")\n",
        "print(a)"
      ]
    },
    {
      "cell_type": "markdown",
      "metadata": {
        "id": "d1z41-AoNamb"
      },
      "source": [
        "¿Cómo ordenar los elementos de una lista en orden decreciente?"
      ]
    },
    {
      "cell_type": "code",
      "execution_count": 36,
      "metadata": {
        "id": "ECv2uIn3Namb",
        "outputId": "6d86ec56-b215-4010-b16f-85d0c909d50d",
        "colab": {
          "base_uri": "https://localhost:8080/"
        }
      },
      "outputs": [
        {
          "output_type": "stream",
          "name": "stdout",
          "text": [
            "lista antes de ordenar\n",
            "[4, 1, 10, 6]\n",
            "lista despues de ordenar\n",
            "[10, 6, 4, 1]\n"
          ]
        }
      ],
      "source": [
        "a = [4,1,10,6]\n",
        "print(\"lista antes de ordenar\")\n",
        "print(a)\n",
        "a.sort()\n",
        "a.reverse()\n",
        "print(\"lista despues de ordenar\")\n",
        "print(a)"
      ]
    },
    {
      "cell_type": "markdown",
      "metadata": {
        "id": "oPKBNo8PNamb"
      },
      "source": [
        "## Ciclo `for` en listas\n",
        "- Un ciclo `for` puede ser usado para iterar sobre listas."
      ]
    },
    {
      "cell_type": "code",
      "execution_count": 37,
      "metadata": {
        "id": "4BQtKJTZNamb",
        "outputId": "1156e576-fb96-49d6-f568-53f04fc16913",
        "colab": {
          "base_uri": "https://localhost:8080/"
        }
      },
      "outputs": [
        {
          "output_type": "stream",
          "name": "stdout",
          "text": [
            "elem = 1\n",
            "elem = 4\n",
            "elem = s\n",
            "elem = [1, 5]\n"
          ]
        }
      ],
      "source": [
        "lista = [1,4,\"s\",[1,5]]\n",
        "for elem in lista:\n",
        "    print(\"elem =\",elem)"
      ]
    },
    {
      "cell_type": "markdown",
      "metadata": {
        "id": "6FndZBnrNamb"
      },
      "source": [
        "### Utilizando `range` en un ciclo `for`"
      ]
    },
    {
      "cell_type": "code",
      "execution_count": 38,
      "metadata": {
        "id": "TuKYe2yyNamb",
        "outputId": "6649323b-1286-4eed-9916-5db1dcf80683",
        "colab": {
          "base_uri": "https://localhost:8080/"
        }
      },
      "outputs": [
        {
          "output_type": "stream",
          "name": "stdout",
          "text": [
            "50\n"
          ]
        }
      ],
      "source": [
        "suma = 0\n",
        "for k in range(3,6):\n",
        "    suma += k**2\n",
        "print(suma)"
      ]
    },
    {
      "cell_type": "code",
      "execution_count": 39,
      "metadata": {
        "id": "qw07fHwRNamc",
        "outputId": "024e0c2f-707b-419d-c77d-70b101c5224b",
        "colab": {
          "base_uri": "https://localhost:8080/"
        }
      },
      "outputs": [
        {
          "output_type": "stream",
          "name": "stdout",
          "text": [
            "hola persona 1\n",
            "hola persona 2\n",
            "hola persona 3\n",
            "hola persona 4\n",
            "hola persona 5\n"
          ]
        }
      ],
      "source": [
        "for i in range(5):\n",
        "    print(\"hola persona \"+str(i+1))"
      ]
    },
    {
      "cell_type": "code",
      "execution_count": 40,
      "metadata": {
        "id": "Jarq2C0oNamc",
        "outputId": "aceea713-bba6-49cc-ea7c-4c4df7c2c730",
        "colab": {
          "base_uri": "https://localhost:8080/"
        }
      },
      "outputs": [
        {
          "output_type": "stream",
          "name": "stdout",
          "text": [
            "2\n",
            "3\n",
            "4\n"
          ]
        }
      ],
      "source": [
        "for i in range(2,5):\n",
        "    print(i)"
      ]
    },
    {
      "cell_type": "markdown",
      "metadata": {
        "id": "h4XFcb6ONamc"
      },
      "source": [
        "## Equivalencia entre ciclo `while` y ciclo `for`\n",
        "¿Son equivalentes los siguientes códigos?"
      ]
    },
    {
      "cell_type": "code",
      "execution_count": 41,
      "metadata": {
        "id": "B3i2TVp7Namc",
        "outputId": "a596c782-efcb-42c3-85f1-a1d63c2d3a33",
        "colab": {
          "base_uri": "https://localhost:8080/"
        }
      },
      "outputs": [
        {
          "output_type": "stream",
          "name": "stdout",
          "text": [
            "La suma es igual a 10\n"
          ]
        }
      ],
      "source": [
        "contador = 0\n",
        "suma = 0\n",
        "while contador < 5:\n",
        "    suma += contador\n",
        "    contador += 1\n",
        "print(\"La suma es igual a\",suma)"
      ]
    },
    {
      "cell_type": "code",
      "execution_count": 42,
      "metadata": {
        "id": "C2ZCtLQ1Namc",
        "outputId": "56ab808c-571f-4c3e-f053-5f6c2a485e1c",
        "colab": {
          "base_uri": "https://localhost:8080/"
        }
      },
      "outputs": [
        {
          "output_type": "stream",
          "name": "stdout",
          "text": [
            "La suma es igual a 10\n"
          ]
        }
      ],
      "source": [
        "suma = 0\n",
        "for contador in range(5):\n",
        "    suma += contador\n",
        "print(\"La suma es igual a\",suma)"
      ]
    },
    {
      "cell_type": "markdown",
      "metadata": {
        "id": "Cgt7DH3yNamc"
      },
      "source": [
        "### Iteración de listas usando ciclo `while` y ciclo `for`"
      ]
    },
    {
      "cell_type": "code",
      "execution_count": 43,
      "metadata": {
        "id": "cHTn-5o-Namc",
        "outputId": "5c48c50e-dae1-4e3e-c101-6d80487aefa9",
        "colab": {
          "base_uri": "https://localhost:8080/"
        }
      },
      "outputs": [
        {
          "output_type": "stream",
          "name": "stdout",
          "text": [
            "Tengo clases de Progra\n",
            "Tengo clases de Mate\n",
            "Tengo clases de Fisica\n"
          ]
        }
      ],
      "source": [
        "ramos = [\"Progra\", \"Mate\", \"Fisica\"]\n",
        "i = 0\n",
        "while i < len(ramos):\n",
        "    print(\"Tengo clases de\",ramos[i])\n",
        "    i += 1"
      ]
    },
    {
      "cell_type": "code",
      "execution_count": 44,
      "metadata": {
        "id": "0SZcgZhpNamc",
        "outputId": "a02d2399-c6cd-4a3e-b8b1-c5d32f789230",
        "colab": {
          "base_uri": "https://localhost:8080/"
        }
      },
      "outputs": [
        {
          "output_type": "stream",
          "name": "stdout",
          "text": [
            "Tengo clases de Progra\n",
            "Tengo clases de Mate\n",
            "Tengo clases de Fisica\n"
          ]
        }
      ],
      "source": [
        "ramos = [\"Progra\", \"Mate\", \"Fisica\"]\n",
        "for ramo in ramos:\n",
        "    print(\"Tengo clases de\",ramo)"
      ]
    },
    {
      "cell_type": "code",
      "execution_count": 45,
      "metadata": {
        "id": "cv7BxIEpNamc",
        "outputId": "e95dfbf7-ae8b-49ed-e20d-afeb339218b2",
        "colab": {
          "base_uri": "https://localhost:8080/"
        }
      },
      "outputs": [
        {
          "output_type": "stream",
          "name": "stdout",
          "text": [
            "Tengo clases de Progra a las 8:00\n",
            "Tengo clases de Mate a las 10:00\n",
            "Tengo clases de Fisica a las 12:00\n"
          ]
        }
      ],
      "source": [
        "ramos = [\"Progra\", \"Mate\", \"Fisica\"]\n",
        "horas = [\"8:00\", \"10:00\", \"12:00\"]\n",
        "i = 0\n",
        "while i < len(ramos):\n",
        "    print(\"Tengo clases de\",ramos[i],\"a las\", horas[i])\n",
        "    i += 1"
      ]
    },
    {
      "cell_type": "code",
      "execution_count": 46,
      "metadata": {
        "id": "QwkKnfc_Namc",
        "outputId": "36e774d5-a629-499f-8f2f-3e4a9728b5bf",
        "colab": {
          "base_uri": "https://localhost:8080/"
        }
      },
      "outputs": [
        {
          "output_type": "stream",
          "name": "stdout",
          "text": [
            "[0, 1, 2]\n",
            "Tengo clases de Progra a las 8:00\n",
            "Tengo clases de Mate a las 10:00\n",
            "Tengo clases de Fisica a las 12:00\n"
          ]
        }
      ],
      "source": [
        "ramos = [\"Progra\", \"Mate\", \"Fisica\"]\n",
        "horas = [\"8:00\", \"10:00\", \"12:00\"]\n",
        "print(list(range(len(ramos))))\n",
        "for i in range(len(ramos)):\n",
        "    print(\"Tengo clases de\",ramos[i],\"a las\", horas[i])"
      ]
    },
    {
      "cell_type": "markdown",
      "metadata": {
        "id": "7VWWCULvNamc"
      },
      "source": [
        "## Listas Bi-dimensionales"
      ]
    },
    {
      "cell_type": "markdown",
      "metadata": {
        "id": "ZpWktESKNamc"
      },
      "source": [
        "* Las listas bi-dimensionales se caracterizan por que **al menos** un elemento de la lista es,  a su vez, otra lista.\n",
        "\n",
        "\n",
        "* Tambien se les llama: **listas de listas** o **listas anidadas**.\n",
        "\n",
        "\n",
        "* Las listas de listas tienen las mismas caractersiticas que una lista normal (o uni-dimensional). Es decir:\n",
        "    1. Se les puede aplicar los métodos ya vistos: `.append()`, `.sort()`, `.remove()`, etc.     \n",
        "    2. Estas listas pueden tener cualquier tamaño, incluso pueden crearse como listas vacias.\n",
        "    3. Pueden contener cualquier tipo de dato."
      ]
    },
    {
      "cell_type": "markdown",
      "metadata": {
        "id": "Btuak68cNamc"
      },
      "source": [
        "Ejemplo de listas de listas pueden ser:"
      ]
    },
    {
      "cell_type": "code",
      "execution_count": 47,
      "metadata": {
        "id": "_84k3bLBNamd",
        "outputId": "10bb4eca-be86-4184-8225-f229907a5721",
        "colab": {
          "base_uri": "https://localhost:8080/"
        }
      },
      "outputs": [
        {
          "output_type": "stream",
          "name": "stdout",
          "text": [
            "Lista L1: [1, 2, 3, [4, 5, 6, 7, 8], 9]\n",
            "Lista L2: [True, 234, [1988, 4, 12], 'lista de listas', [False, '789']]\n",
            "Lista L3: [[], []]\n"
          ]
        }
      ],
      "source": [
        "L1 = [1,2,3, [4,5,6,7,8], 9]\n",
        "L2 = [True, 234, [1988, 4, 12], 'lista de listas', [False, '789']]\n",
        "L3 = [[],[]]\n",
        "print('Lista L1:', L1)\n",
        "print('Lista L2:', L2)\n",
        "print('Lista L3:', L3)"
      ]
    },
    {
      "cell_type": "markdown",
      "metadata": {
        "id": "E4vByx4lNamd"
      },
      "source": [
        "Se debe tener conciencia que en estos casos, los elementos de las listas pueden ser elementos que pueden contener a su vez otros elementos."
      ]
    },
    {
      "cell_type": "markdown",
      "metadata": {
        "id": "9TYZAdb0Namd"
      },
      "source": [
        "**Ejemplo:**\n",
        "\n",
        "Los elementos de la lista `L1` son 5: `1, 2, 3, [4, 5, 6, 7, 8], 9`.\n",
        "\n",
        "Entonces, el cuarto elemento, es decir el elemento con el **índice 3**, es: `[4, 5, 6, 7, 8]`."
      ]
    },
    {
      "cell_type": "code",
      "execution_count": 48,
      "metadata": {
        "id": "FqJLUTLoNamd",
        "outputId": "0750017f-770f-43dd-cb76-5116ffa9ddc2",
        "colab": {
          "base_uri": "https://localhost:8080/"
        }
      },
      "outputs": [
        {
          "output_type": "stream",
          "name": "stdout",
          "text": [
            "[4, 5, 6, 7, 8]\n"
          ]
        }
      ],
      "source": [
        "print(L1[3])"
      ]
    },
    {
      "cell_type": "code",
      "execution_count": 49,
      "metadata": {
        "id": "H91yppIxNamd",
        "outputId": "0f15ca6f-d53c-4915-95b6-206d4f2e9e35",
        "colab": {
          "base_uri": "https://localhost:8080/"
        }
      },
      "outputs": [
        {
          "output_type": "stream",
          "name": "stdout",
          "text": [
            "9\n"
          ]
        }
      ],
      "source": [
        "print(L1[-1])"
      ]
    },
    {
      "cell_type": "markdown",
      "metadata": {
        "id": "-_nwoJwiNamd"
      },
      "source": [
        "Entonces, teniendo las listas `L1`, `L2`, y `L3`"
      ]
    },
    {
      "cell_type": "code",
      "execution_count": 50,
      "metadata": {
        "id": "cxwqaO7oNamd",
        "outputId": "3eacc734-b4d9-4df3-93e4-177112961fda",
        "colab": {
          "base_uri": "https://localhost:8080/"
        }
      },
      "outputs": [
        {
          "output_type": "stream",
          "name": "stdout",
          "text": [
            "Lista L1: [1, 2, 3, [4, 5, 6, 7, 8], 9]\n",
            "Lista L2: [True, 234, [1988, 4, 12], 'lista de listas', [False, '789']]\n",
            "Lista L3: [[], []]\n"
          ]
        }
      ],
      "source": [
        "print('Lista L1:', L1)\n",
        "print('Lista L2:', L2)\n",
        "print('Lista L3:', L3)"
      ]
    },
    {
      "cell_type": "markdown",
      "metadata": {
        "id": "MA5xSLiUNamd"
      },
      "source": [
        "¿Qué nos entrega las siguientes instrucciones?"
      ]
    },
    {
      "cell_type": "code",
      "execution_count": 51,
      "metadata": {
        "id": "B34HP0-GNamd"
      },
      "outputs": [],
      "source": [
        "v1 = L2[0]\n",
        "v2 = L2[-1]\n",
        "v3 = L3[1]\n",
        "v4 = L1[3:]\n",
        "v5 = L1[:3]\n",
        "v6 = L2[2:3]"
      ]
    },
    {
      "cell_type": "code",
      "execution_count": 52,
      "metadata": {
        "id": "TXT4M2eXNamd",
        "outputId": "9d2a21f0-f6b8-40d4-c04f-9e06a2e75044",
        "colab": {
          "base_uri": "https://localhost:8080/"
        }
      },
      "outputs": [
        {
          "output_type": "stream",
          "name": "stdout",
          "text": [
            "True\n",
            "[False, '789']\n",
            "[]\n",
            "[[4, 5, 6, 7, 8], 9]\n",
            "[1, 2, 3]\n",
            "[[1988, 4, 12]]\n"
          ]
        }
      ],
      "source": [
        "print(v1)\n",
        "print(v2)\n",
        "print(v3)\n",
        "print(v4)\n",
        "print(v5)\n",
        "print(v6)"
      ]
    },
    {
      "cell_type": "markdown",
      "metadata": {
        "id": "QcEv4NiANamd"
      },
      "source": [
        "### Manejo de índices"
      ]
    },
    {
      "cell_type": "markdown",
      "metadata": {
        "id": "xRrvFbe5Namd"
      },
      "source": [
        "El manejo de índices en listas de listas aumenta un poco su complejidad, pero es importante entenderlo ya que es posible obtener cualquier valor y esto facilita mucho el trabajo."
      ]
    },
    {
      "cell_type": "markdown",
      "metadata": {
        "id": "HJgMGasmNamd"
      },
      "source": [
        "Hasta ahora sabemos que para obtener el valor de un elemento de una lista es necesario usar los paréntesis cuadrados o corchetes, `[ ]`."
      ]
    },
    {
      "cell_type": "markdown",
      "metadata": {
        "id": "LsBVsa7CNamd"
      },
      "source": [
        "Este operador (operador rebanador) nos permite acceder a elementos de un iterable, es decir: lista y string."
      ]
    },
    {
      "cell_type": "markdown",
      "metadata": {
        "id": "ftLsAtb_Namd"
      },
      "source": [
        "**Entonces, podemos usar tantas veces como queramos el operador rebanador, siempre y cuando tengamos al lado izquierda una lista o un string.**"
      ]
    },
    {
      "cell_type": "markdown",
      "metadata": {
        "id": "mBszJdgMName"
      },
      "source": [
        "Volvamos al ejemplo anterior, es decir, con las listas `L1`, `L2`, y `L3`"
      ]
    },
    {
      "cell_type": "code",
      "execution_count": 53,
      "metadata": {
        "id": "4dpvLVrCName",
        "outputId": "2b085f96-a895-41b0-e7e9-aa0f1bd3a4bb",
        "colab": {
          "base_uri": "https://localhost:8080/"
        }
      },
      "outputs": [
        {
          "output_type": "stream",
          "name": "stdout",
          "text": [
            "Lista L1: [1, 2, 3, [4, 5, 6, 7, 8], 9]\n",
            "Lista L2: [True, 234, [1988, 4, 12], 'lista de listas', [False, '789']]\n",
            "Lista L3: [[], []]\n"
          ]
        }
      ],
      "source": [
        "print('Lista L1:', L1)\n",
        "print('Lista L2:', L2)\n",
        "print('Lista L3:', L3)"
      ]
    },
    {
      "cell_type": "markdown",
      "metadata": {
        "id": "gQU7Who7Name"
      },
      "source": [
        "Si sabemos que: `L1[3]` es la lista `[4, 5, 6, 7, 8]`, entonces podemos obtener el primer elemento de la siguiente manera:"
      ]
    },
    {
      "cell_type": "code",
      "execution_count": 54,
      "metadata": {
        "id": "kMpChaopName",
        "outputId": "22e6beac-253f-43dd-8770-5bf1ab652db0",
        "colab": {
          "base_uri": "https://localhost:8080/"
        }
      },
      "outputs": [
        {
          "output_type": "stream",
          "name": "stdout",
          "text": [
            "El primer elemento de la sublista es: 4\n"
          ]
        }
      ],
      "source": [
        "sub_lista = L1[3]\n",
        "primer_elem = sub_lista[0]\n",
        "print('El primer elemento de la sublista es:',primer_elem)"
      ]
    },
    {
      "cell_type": "markdown",
      "metadata": {
        "id": "sNXph6oeName"
      },
      "source": [
        "De una manera abreviada, y más conveniente, podemos escribir lo mismo de la siguiente manera:"
      ]
    },
    {
      "cell_type": "code",
      "execution_count": 55,
      "metadata": {
        "id": "vooek9kyName",
        "outputId": "1f1a6b73-228d-4f71-d516-fe180ef9267b",
        "colab": {
          "base_uri": "https://localhost:8080/"
        }
      },
      "outputs": [
        {
          "output_type": "stream",
          "name": "stdout",
          "text": [
            "El primer elemento de la sublista es: 4\n"
          ]
        }
      ],
      "source": [
        "primer_elem = L1[3][0]\n",
        "print('El primer elemento de la sublista es:',primer_elem)"
      ]
    },
    {
      "cell_type": "markdown",
      "metadata": {
        "id": "XuxC8b4EName"
      },
      "source": [
        "Los paréntesis corchetes: `[ ]`, permiten acceder a la ubicación que le damos con el valor entero (positivo o negativo), pero además, **es posible realizar esto tantas veces como queramos siempre y cuando lo que este a lado izquierda sea una lista o un string.**"
      ]
    },
    {
      "cell_type": "markdown",
      "metadata": {
        "id": "Gk3M4bFXName"
      },
      "source": [
        "Otro ejemplo: vamos a acceder a la palabra \"de\" del string \"listas de listas\" de la lista `L2`."
      ]
    },
    {
      "cell_type": "code",
      "execution_count": 56,
      "metadata": {
        "id": "vgz_KGa6Name",
        "outputId": "285a8a02-0cc1-4197-bd77-f501fa22d12e",
        "colab": {
          "base_uri": "https://localhost:8080/"
        }
      },
      "outputs": [
        {
          "output_type": "stream",
          "name": "stdout",
          "text": [
            "Lista L2: [True, 234, [1988, 4, 12], 'lista de listas', [False, '789']]\n"
          ]
        }
      ],
      "source": [
        "print('Lista L2:', L2)"
      ]
    },
    {
      "cell_type": "code",
      "execution_count": 57,
      "metadata": {
        "id": "FCUWcqRZName",
        "outputId": "55d268e1-ad91-456e-bc18-f0200a454b38",
        "colab": {
          "base_uri": "https://localhost:8080/"
        }
      },
      "outputs": [
        {
          "output_type": "stream",
          "name": "stdout",
          "text": [
            "de\n"
          ]
        }
      ],
      "source": [
        "string_completo = L2[3]\n",
        "palabra_de = string_completo[6:8]\n",
        "print(palabra_de)"
      ]
    },
    {
      "cell_type": "markdown",
      "metadata": {
        "id": "YM81SIxSName"
      },
      "source": [
        "De manera abreviada, y **más conveniente** seria:"
      ]
    },
    {
      "cell_type": "code",
      "execution_count": 58,
      "metadata": {
        "id": "PCTz-XgUName",
        "outputId": "584918df-3539-49a1-8327-ed2b4f041b40",
        "colab": {
          "base_uri": "https://localhost:8080/"
        }
      },
      "outputs": [
        {
          "output_type": "stream",
          "name": "stdout",
          "text": [
            "de\n"
          ]
        }
      ],
      "source": [
        "print(L2[3][6:8])"
      ]
    },
    {
      "cell_type": "markdown",
      "metadata": {
        "id": "Pdec5PYzName"
      },
      "source": [
        "Entonces, ¿qué nos entrega las siguientes instrucciones?"
      ]
    },
    {
      "cell_type": "code",
      "execution_count": 59,
      "metadata": {
        "id": "K-pNfzR_Name",
        "outputId": "54010185-9a94-4149-c6ad-67cf4eee1dec",
        "colab": {
          "base_uri": "https://localhost:8080/"
        }
      },
      "outputs": [
        {
          "output_type": "stream",
          "name": "stdout",
          "text": [
            "Lista L1: [1, 2, 3, [4, 5, 6, 7, 8], 9]\n",
            "Lista L2: [True, 234, [1988, 4, 12], 'lista de listas', [False, '789']]\n",
            "Lista L3: [[], []]\n"
          ]
        }
      ],
      "source": [
        "print('Lista L1:', L1)\n",
        "print('Lista L2:', L2)\n",
        "print('Lista L3:', L3)"
      ]
    },
    {
      "cell_type": "code",
      "execution_count": 60,
      "metadata": {
        "id": "iyL3YwK-Namf"
      },
      "outputs": [],
      "source": [
        "x1 = L1[3][-1]\n",
        "x2 = L2[-1][0]\n",
        "x3 = L2[3][9:]"
      ]
    },
    {
      "cell_type": "code",
      "execution_count": 61,
      "metadata": {
        "id": "TYrobO7NNamf",
        "outputId": "4f7925fb-74d6-4e69-8488-a0e2322bcec1",
        "colab": {
          "base_uri": "https://localhost:8080/"
        }
      },
      "outputs": [
        {
          "output_type": "stream",
          "name": "stdout",
          "text": [
            "8\n",
            "False\n",
            "listas\n"
          ]
        }
      ],
      "source": [
        "print(x1)\n",
        "print(x2)\n",
        "print(x3)"
      ]
    },
    {
      "cell_type": "markdown",
      "metadata": {
        "id": "eAL_TQJiNamf"
      },
      "source": [
        "¿Y si generalizamos incluyendo más paréntesis corchetes?"
      ]
    },
    {
      "cell_type": "code",
      "execution_count": 62,
      "metadata": {
        "id": "HNr4mnsnNamf"
      },
      "outputs": [],
      "source": [
        "z1 = L1[3:][0][1]\n",
        "z2 = L2[:][-1][-1][-1]\n",
        "z3 = L2[::-1][1][::-1]"
      ]
    },
    {
      "cell_type": "code",
      "execution_count": 63,
      "metadata": {
        "id": "crtWm50ANamf",
        "outputId": "f29da88b-0c9b-41c0-94f5-6bab4e54085a",
        "colab": {
          "base_uri": "https://localhost:8080/"
        }
      },
      "outputs": [
        {
          "output_type": "stream",
          "name": "stdout",
          "text": [
            "5\n",
            "9\n",
            "satsil ed atsil\n"
          ]
        }
      ],
      "source": [
        "print(z1)\n",
        "print(z2)\n",
        "print(z3)"
      ]
    },
    {
      "cell_type": "markdown",
      "metadata": {
        "id": "8pjt09mONamf"
      },
      "source": [
        "### Recorrerlas mediante `for`"
      ]
    },
    {
      "cell_type": "markdown",
      "metadata": {
        "id": "mzgQt3oYNamf"
      },
      "source": [
        "La forma de recorrer las listas mediante `for` es muy sencilla. Se debe seguir las mismas reglas que para recorrer una lista uni-dimensional.\n",
        "\n",
        "Se debe poner atención que valores toma ahora la variable que se crea en el `for`."
      ]
    },
    {
      "cell_type": "markdown",
      "metadata": {
        "id": "rEstufqXNamf"
      },
      "source": [
        "Veamos un ejemplo:"
      ]
    },
    {
      "cell_type": "code",
      "execution_count": 64,
      "metadata": {
        "id": "OLRZv0VmNamf",
        "outputId": "9a4dcb86-0fac-4316-816a-340758ff26d5",
        "colab": {
          "base_uri": "https://localhost:8080/"
        }
      },
      "outputs": [
        {
          "output_type": "stream",
          "name": "stdout",
          "text": [
            "Lista L2: [True, 234, [1988, 4, 12], 'lista de listas', [False, '789']]\n"
          ]
        }
      ],
      "source": [
        "print('Lista L2:', L2)"
      ]
    },
    {
      "cell_type": "code",
      "execution_count": 65,
      "metadata": {
        "id": "CNt1t3GbNamf",
        "outputId": "02173496-c8b5-4278-bad1-665387bd2c13",
        "colab": {
          "base_uri": "https://localhost:8080/"
        }
      },
      "outputs": [
        {
          "output_type": "stream",
          "name": "stdout",
          "text": [
            "Valor de la variable elemento: True\n",
            "Valor de la variable elemento: 234\n",
            "Valor de la variable elemento: [1988, 4, 12]\n",
            "Valor de la variable elemento: lista de listas\n",
            "Valor de la variable elemento: [False, '789']\n"
          ]
        }
      ],
      "source": [
        "for elemento in L2:\n",
        "    print('Valor de la variable elemento:', elemento)"
      ]
    },
    {
      "cell_type": "markdown",
      "metadata": {
        "id": "KyierU9MNamf"
      },
      "source": [
        "Veamos otro ejemplo:"
      ]
    },
    {
      "cell_type": "code",
      "execution_count": 66,
      "metadata": {
        "id": "gkvlG3ZKNamf",
        "outputId": "8333dcdd-b3b0-4de7-f0be-55cf651e0fc0",
        "colab": {
          "base_uri": "https://localhost:8080/"
        }
      },
      "outputs": [
        {
          "output_type": "stream",
          "name": "stdout",
          "text": [
            "Progra tiene 3 creditos\n",
            "Mate tiene 5 creditos\n",
            "Fisica tiene 3 creditos\n",
            "Ed.Fisica tiene 1 creditos\n",
            "Inmanente tiene 2 creditos\n"
          ]
        }
      ],
      "source": [
        "ramos = [['Progra','IWI-131', 3],\n",
        "         ['Mate', 'MAT-021', 5],\n",
        "         ['Fisica', 'FIS-100', 3],\n",
        "         ['Ed.Fisica', 'DEW-100', 1],\n",
        "         ['Inmanente', 'HRW-102', 2],\n",
        "        ]\n",
        "\n",
        "for nombre, sigla, c in ramos: # 3 variables en vez de 1\n",
        "    print(nombre, 'tiene', c, 'creditos')"
      ]
    },
    {
      "cell_type": "markdown",
      "metadata": {
        "id": "e27ta_tGNamf"
      },
      "source": [
        "**En la línea del `for` ahora hay 3 variables en vez de 1**. Esto es posible ya que sabemos que cada elemento de la lista ramos, **siempre**, tendrá 3 elementos."
      ]
    },
    {
      "cell_type": "markdown",
      "metadata": {
        "id": "5aIE7U3lNamf"
      },
      "source": [
        "La lista **ramos** es una lista de listas, donde cada sub-lista siempre tiene 3 elementos."
      ]
    },
    {
      "cell_type": "markdown",
      "metadata": {
        "id": "iuJ6pCInNamf"
      },
      "source": [
        "Cada variable creada en la linea del `for`, tomará cada valor de las sub-listas. Esto será en orden, es decir: primera variable con el primer elemento de la sub-lista, y así sucesivamente."
      ]
    },
    {
      "cell_type": "markdown",
      "metadata": {
        "id": "Q0LrG0-dNamf"
      },
      "source": [
        "Siguiendo el ejemplo anterior, es posible recorrer cada sub-lista para así obtener cada elemento uno por uno sin que falte ninguno. Esto se hace con un `for` adicional:"
      ]
    },
    {
      "cell_type": "code",
      "execution_count": 67,
      "metadata": {
        "id": "UC6Gw1_gNamg",
        "outputId": "f2162ada-4731-44be-b6ca-386f210f56a0",
        "colab": {
          "base_uri": "https://localhost:8080/"
        }
      },
      "outputs": [
        {
          "output_type": "stream",
          "name": "stdout",
          "text": [
            "Valor de la variable asignatura: ['Progra', 'IWI-131', 3]\n",
            "Valor de la variable dato: Progra\n",
            "Valor de la variable dato: IWI-131\n",
            "Valor de la variable dato: 3\n",
            "Valor de la variable asignatura: ['Mate', 'MAT-021', 5]\n",
            "Valor de la variable dato: Mate\n",
            "Valor de la variable dato: MAT-021\n",
            "Valor de la variable dato: 5\n",
            "Valor de la variable asignatura: ['Fisica', 'FIS-100', 3]\n",
            "Valor de la variable dato: Fisica\n",
            "Valor de la variable dato: FIS-100\n",
            "Valor de la variable dato: 3\n",
            "Valor de la variable asignatura: ['Ed.Fisica', 'DEW-100', 1]\n",
            "Valor de la variable dato: Ed.Fisica\n",
            "Valor de la variable dato: DEW-100\n",
            "Valor de la variable dato: 1\n",
            "Valor de la variable asignatura: ['Inmanente', 'HRW-102', 2]\n",
            "Valor de la variable dato: Inmanente\n",
            "Valor de la variable dato: HRW-102\n",
            "Valor de la variable dato: 2\n"
          ]
        }
      ],
      "source": [
        "ramos = [['Progra','IWI-131', 3],\n",
        "         ['Mate', 'MAT-021', 5],\n",
        "         ['Fisica', 'FIS-100', 3],\n",
        "         ['Ed.Fisica', 'DEW-100', 1],\n",
        "         ['Inmanente', 'HRW-102', 2],\n",
        "        ]\n",
        "\n",
        "for asignatura in ramos:\n",
        "    print('Valor de la variable asignatura:', asignatura)\n",
        "    for dato in asignatura:\n",
        "        print('Valor de la variable dato:', dato)"
      ]
    }
  ],
  "metadata": {
    "anaconda-cloud": {},
    "celltoolbar": "Slideshow",
    "kernelspec": {
      "display_name": "Python 3",
      "language": "python",
      "name": "python3"
    },
    "language_info": {
      "codemirror_mode": {
        "name": "ipython",
        "version": 3
      },
      "file_extension": ".py",
      "mimetype": "text/x-python",
      "name": "python",
      "nbconvert_exporter": "python",
      "pygments_lexer": "ipython3",
      "version": "3.8.5"
    },
    "colab": {
      "provenance": [],
      "include_colab_link": true
    }
  },
  "nbformat": 4,
  "nbformat_minor": 0
}