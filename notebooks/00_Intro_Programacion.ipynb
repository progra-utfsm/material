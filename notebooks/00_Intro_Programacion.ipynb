{
 "cells": [
  {
   "cell_type": "markdown",
   "metadata": {
    "slideshow": {
     "slide_type": "slide"
    }
   },
   "source": [
    "# IWI-131 Programación"
   ]
  },
  {
   "cell_type": "markdown",
   "metadata": {
    "slideshow": {
     "slide_type": "-"
    }
   },
   "source": [
    "## Introducción a la Programación"
   ]
  },
  {
   "cell_type": "markdown",
   "metadata": {
    "colab_type": "text",
    "id": "wfwZI3GxsqXe",
    "slideshow": {
     "slide_type": "slide"
    }
   },
   "source": [
    "## Algoritmos"
   ]
  },
  {
   "cell_type": "markdown",
   "metadata": {
    "colab_type": "text",
    "id": "6JfAj5z7sqXf",
    "slideshow": {
     "slide_type": "fragment"
    }
   },
   "source": [
    "Un algoritmo es una **secuencia** finita y **precisa** de pasos para resolver un **problema**."
   ]
  },
  {
   "cell_type": "markdown",
   "metadata": {
    "colab_type": "text",
    "id": "QhnyucxOsqXg",
    "slideshow": {
     "slide_type": "fragment"
    }
   },
   "source": [
    "Entonces, ¿qué es un problema?"
   ]
  },
  {
   "cell_type": "markdown",
   "metadata": {
    "colab_type": "text",
    "id": "LpdzdfGisqXh",
    "slideshow": {
     "slide_type": "slide"
    }
   },
   "source": [
    "## Problemas"
   ]
  },
  {
   "cell_type": "markdown",
   "metadata": {
    "colab_type": "text",
    "id": "IjQ6NX7esqXj",
    "slideshow": {
     "slide_type": "fragment"
    }
   },
   "source": [
    "Un problema es la necesidad de transformar un **estado inicial** en un **estado final**, respetando ciertas restricciones. "
   ]
  },
  {
   "cell_type": "markdown",
   "metadata": {
    "colab_type": "text",
    "id": "ED3wwIivsqXk",
    "slideshow": {
     "slide_type": "fragment"
    }
   },
   "source": [
    "Los problemas involucran **datos de entrada** en el estado inical y la solución contiene **datos de salida** en el estado final. Además, probablemente involucre otros datos intermedios que son relevantes."
   ]
  },
  {
   "cell_type": "markdown",
   "metadata": {
    "colab_type": "text",
    "id": "-C_p38u9sqXl",
    "slideshow": {
     "slide_type": "slide"
    }
   },
   "source": [
    "### Ejemplos de Problemas"
   ]
  },
  {
   "cell_type": "markdown",
   "metadata": {
    "colab_type": "text",
    "id": "3U8aykZzsqXn",
    "slideshow": {
     "slide_type": "fragment"
    }
   },
   "source": [
    "- Dado un conjunto de números, determinar los números ordenados de menor a mayor.\n",
    "- Dado un conjunto de ciudades, encontrar el camino más corto que recorre las ciudades.\n",
    "- Dado un mensaje email, encontrar la probabilidad de que sea spam.\n",
    "- ..."
   ]
  },
  {
   "cell_type": "markdown",
   "metadata": {
    "colab_type": "text",
    "id": "m4euBKGZsqXo",
    "slideshow": {
     "slide_type": "slide"
    }
   },
   "source": [
    "### El problema de la ambigüedad"
   ]
  },
  {
   "cell_type": "markdown",
   "metadata": {
    "colab_type": "text",
    "id": "QQsArLKBsqXo",
    "slideshow": {
     "slide_type": "fragment"
    }
   },
   "source": [
    "<div class=\"row\">\n",
    "    <div class=\"column\">\n",
    "        <img src=\"./images/leche-huevos.jpg\" alt=\"leche-huevos\" width=\"40%\" align=\"left\" style=\"margin-right:15px\"/>\n",
    "    </div>\n",
    "    <div class=\"column\">\n",
    "        Mi madre dice:<br/>\n",
    "        \"Cariño, anda al súper y me traes una botella de leche, y si tienen huevos, compra seis\"<br/><br/>\n",
    "        Cuando vuelvo me pregunta<br/>\n",
    "        \"¿Por qué trajiste seis botellas de leche?\"<br/><br/>\n",
    "        Respondo<br/>\n",
    "        \"Porque había huevos\"\n",
    "    </div>\n",
    "</div>"
   ]
  },
  {
   "cell_type": "markdown",
   "metadata": {
    "colab_type": "text",
    "id": "Qz8NBr-hsqXq",
    "slideshow": {
     "slide_type": "slide"
    }
   },
   "source": [
    "### Comprensión del Problema"
   ]
  },
  {
   "cell_type": "markdown",
   "metadata": {
    "colab_type": "text",
    "id": "XUS-LjgpsqXr",
    "slideshow": {
     "slide_type": "fragment"
    }
   },
   "source": [
    "Para poder resolver un problema se debe **comprenderlo bien**, y ser capaces de formalizarlo de alguna manera. De lo contrario, corremos el riesgo de terminar **resolviendo el problema equivocado**."
   ]
  },
  {
   "cell_type": "markdown",
   "metadata": {
    "colab_type": "text",
    "id": "bK6ikuhosqXs",
    "slideshow": {
     "slide_type": "slide"
    }
   },
   "source": [
    "### Formalización del Problema"
   ]
  },
  {
   "cell_type": "markdown",
   "metadata": {
    "colab_type": "text",
    "id": "4IhsiRQhsqXt",
    "slideshow": {
     "slide_type": "fragment"
    }
   },
   "source": [
    "En este proceso se debe **definir el estado final al que se quiere llegar**. Esto se logra pensando cómo se vería una solución."
   ]
  },
  {
   "cell_type": "markdown",
   "metadata": {
    "colab_type": "text",
    "id": "dDFcd28DsqXu",
    "slideshow": {
     "slide_type": "fragment"
    }
   },
   "source": [
    "En esta etapa es importante concentrarse en el **qué** y no en el **cómo**."
   ]
  },
  {
   "cell_type": "markdown",
   "metadata": {
    "colab_type": "text",
    "id": "e6if_zGxsqXv",
    "slideshow": {
     "slide_type": "slide"
    }
   },
   "source": [
    "**Volviendo a los algoritmos...**<br/>\n",
    "Un algoritmo es una **secuencia** finita y **precisa** de pasos para resolver un **problema**."
   ]
  },
  {
   "cell_type": "markdown",
   "metadata": {
    "colab_type": "text",
    "id": "uTvSglUpsqXw",
    "slideshow": {
     "slide_type": "fragment"
    }
   },
   "source": [
    "Una vez especificado el problema, hay que tratar de resoverlo pero ¿de qué manera se puede expresar la secuencia de instrucciones?"
   ]
  },
  {
   "cell_type": "markdown",
   "metadata": {
    "colab_type": "text",
    "id": "RiQKbWCtsqXx",
    "slideshow": {
     "slide_type": "fragment"
    }
   },
   "source": [
    "- Lenguaje natural\n",
    "- Pseudocódigo\n",
    "- Diagramas de Flujo\n",
    "- Lenguajes de Bloques"
   ]
  },
  {
   "cell_type": "markdown",
   "metadata": {
    "colab_type": "text",
    "id": "ugZznpBmsqXy",
    "slideshow": {
     "slide_type": "slide"
    }
   },
   "source": [
    "### Problema Ejemplo:\n",
    "\n",
    "Determine si un número es **primo** o **compuesto**."
   ]
  },
  {
   "cell_type": "markdown",
   "metadata": {
    "colab_type": "text",
    "id": "cEuwiaMAsqX0",
    "slideshow": {
     "slide_type": "fragment"
    }
   },
   "source": [
    "**Definición:** un número natural `n` es primo si tiene solamente como divisores a 1 y a si mismo. En caso contrario es un número compuesto."
   ]
  },
  {
   "cell_type": "markdown",
   "metadata": {
    "colab_type": "text",
    "id": "ZODRvYZRsqX2",
    "slideshow": {
     "slide_type": "slide"
    }
   },
   "source": [
    "#### Lenguaje natural"
   ]
  },
  {
   "cell_type": "markdown",
   "metadata": {
    "colab_type": "text",
    "id": "YpBKNCsOsqX3",
    "slideshow": {
     "slide_type": "fragment"
    }
   },
   "source": [
    "Buscar algún valor `d` que esté entre `2` y `n-1` que sea divisor de `n`.\n",
    "\n",
    "Si existe por lo menos uno de estos valores, entonces `n` es compuesto; en caso contrario, es primo."
   ]
  },
  {
   "cell_type": "markdown",
   "metadata": {
    "colab_type": "text",
    "id": "xOAOrl9isqX4",
    "slideshow": {
     "slide_type": "slide"
    }
   },
   "source": [
    "#### Pseudocódigo\n",
    "```\n",
    "leer n\n",
    "es_primo = verdadero\n",
    "d = 2\n",
    "```\n",
    "```\n",
    "mientras d sea menor que n:\n",
    "    si n es divisible por d:\n",
    "        es_primo = falso\n",
    "    d = d + 1\n",
    "```\n",
    "```\n",
    "si es_primo es verdadero:\n",
    "    escribir \"n es primo\"\n",
    "si no:\n",
    "    escribir \"n es compuesto\"\n",
    "```"
   ]
  },
  {
   "cell_type": "markdown",
   "metadata": {
    "colab_type": "text",
    "id": "QrhzTF0MsqX6",
    "slideshow": {
     "slide_type": "slide"
    }
   },
   "source": [
    "#### Diagrama de Flujo\n",
    "\n",
    "<center>\n",
    "    <img src=\"./images/diagrama_flujo.svg\" width=\"500px;\" alt=\"diagrama-flujo\"/>\n",
    "</center>"
   ]
  },
  {
   "cell_type": "markdown",
   "metadata": {
    "colab_type": "text",
    "id": "3iJlUTjqsqX6",
    "slideshow": {
     "slide_type": "slide"
    }
   },
   "source": [
    "#### Lenguajes de Bloques"
   ]
  },
  {
   "cell_type": "code",
   "execution_count": 1,
   "metadata": {
    "slideshow": {
     "slide_type": "fragment"
    }
   },
   "outputs": [
    {
     "data": {
      "text/html": [
       "\n",
       "        <iframe\n",
       "            width=\"100%\"\n",
       "            height=\"500px\"\n",
       "            src=\"https://trinket.io/embed/blocks/f1d62613e6?frameborder=0&marginwidth=0&marginheight=0&allowfullscreen=true&hideGeneratedCode=true\"\n",
       "            frameborder=\"0\"\n",
       "            allowfullscreen\n",
       "            \n",
       "        ></iframe>\n",
       "        "
      ],
      "text/plain": [
       "<IPython.lib.display.IFrame at 0x7fc84d153ad0>"
      ]
     },
     "execution_count": 1,
     "metadata": {},
     "output_type": "execute_result"
    }
   ],
   "source": [
    "from IPython.display import IFrame\n",
    "IFrame('https://trinket.io/embed/blocks/f1d62613e6', \n",
    "       '100%', '500px', frameborder=\"0\", marginwidth=\"0\", \n",
    "       marginheight=\"0\", allowfullscreen=\"true\", hideGeneratedCode=\"true\")"
   ]
  },
  {
   "cell_type": "markdown",
   "metadata": {
    "colab_type": "text",
    "id": "NPhOhoOysqYA",
    "slideshow": {
     "slide_type": "slide"
    }
   },
   "source": [
    "## Estructura de un algoritmo"
   ]
  },
  {
   "cell_type": "markdown",
   "metadata": {
    "colab_type": "text",
    "id": "JtJKTzJ6sqYA",
    "slideshow": {
     "slide_type": "fragment"
    }
   },
   "source": [
    "Las instrucciones del algoritmo pueden expresarse:\n",
    "- **Secuencialmente**\n",
    "- Tomando **decisiones**\n",
    "- En **repeticiones** o **ciclos**"
   ]
  }
 ],
 "metadata": {
  "celltoolbar": "Slideshow",
  "colab": {
   "collapsed_sections": [],
   "name": "Clase01_Intro_Programación_2019.ipynb",
   "provenance": [],
   "version": "0.3.2"
  },
  "kernelspec": {
   "display_name": "Python 3 (ipykernel)",
   "language": "python",
   "name": "python3"
  },
  "language_info": {
   "codemirror_mode": {
    "name": "ipython",
    "version": 3
   },
   "file_extension": ".py",
   "mimetype": "text/x-python",
   "name": "python",
   "nbconvert_exporter": "python",
   "pygments_lexer": "ipython3",
   "version": "3.11.0"
  }
 },
 "nbformat": 4,
 "nbformat_minor": 1
}
