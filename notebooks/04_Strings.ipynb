{
  "cells": [
    {
      "cell_type": "markdown",
      "metadata": {
        "id": "view-in-github",
        "colab_type": "text"
      },
      "source": [
        "<a href=\"https://colab.research.google.com/github/progra-utfsm/material/blob/main/notebooks/04_Strings.ipynb\" target=\"_parent\"><img src=\"https://colab.research.google.com/assets/colab-badge.svg\" alt=\"Open In Colab\"/></a>"
      ]
    },
    {
      "cell_type": "markdown",
      "metadata": {
        "id": "vUPHqxSn_-Wk"
      },
      "source": [
        "# Strings y Ciclo For"
      ]
    },
    {
      "cell_type": "markdown",
      "metadata": {
        "id": "6rcP86ax_-Wl"
      },
      "source": [
        "## Strings"
      ]
    },
    {
      "cell_type": "markdown",
      "metadata": {
        "id": "Z9orTZIZ_-Wl"
      },
      "source": [
        "Son el tipo de dato usado para representar texto en Python."
      ]
    },
    {
      "cell_type": "markdown",
      "metadata": {
        "id": "E3UJSkvY_-Wm"
      },
      "source": [
        "## Usando strings para entradas y salidas"
      ]
    },
    {
      "cell_type": "markdown",
      "metadata": {
        "id": "x-Qz5FXo_-Wm"
      },
      "source": [
        "Anteriormente, los strings se utilizaron en entradas y salidas de datos."
      ]
    },
    {
      "cell_type": "code",
      "execution_count": 2,
      "metadata": {
        "id": "n2ju2Q_P_-Wm",
        "outputId": "ddd5a1ff-a124-494d-b7e8-a31460d6486f",
        "colab": {
          "base_uri": "https://localhost:8080/"
        }
      },
      "outputs": [
        {
          "name": "stdout",
          "output_type": "stream",
          "text": [
            "Ingrese su nombre: Juan\n"
          ]
        }
      ],
      "source": [
        "nombre = input(\"Ingrese su nombre: \")"
      ]
    },
    {
      "cell_type": "code",
      "execution_count": 3,
      "metadata": {
        "id": "mxLHNs-6_-Wo",
        "outputId": "41c1b22b-ead8-4b97-f901-65520bf7bfbe",
        "colab": {
          "base_uri": "https://localhost:8080/",
          "height": 35
        }
      },
      "outputs": [
        {
          "output_type": "execute_result",
          "data": {
            "text/plain": [
              "'Juan'"
            ],
            "application/vnd.google.colaboratory.intrinsic+json": {
              "type": "string"
            }
          },
          "metadata": {},
          "execution_count": 3
        }
      ],
      "source": [
        "nombre"
      ]
    },
    {
      "cell_type": "code",
      "execution_count": 4,
      "metadata": {
        "id": "5BrJ9iVP_-Wo",
        "outputId": "10a970d2-6ccd-4da0-c939-ff7ef7be3369",
        "colab": {
          "base_uri": "https://localhost:8080/"
        }
      },
      "outputs": [
        {
          "output_type": "stream",
          "name": "stdout",
          "text": [
            "Mi nombre es Juan\n"
          ]
        }
      ],
      "source": [
        "print(\"Mi nombre es\",nombre)"
      ]
    },
    {
      "cell_type": "markdown",
      "metadata": {
        "id": "JzvyyxmB_-Wo"
      },
      "source": [
        "## Strings vacíos"
      ]
    },
    {
      "cell_type": "markdown",
      "metadata": {
        "id": "EiEe22Kr_-Wp"
      },
      "source": [
        "Los valores literales `''` y `\"\"` representan **strings vacíos**, es decir, un texto que no contiene caracteres."
      ]
    },
    {
      "cell_type": "code",
      "execution_count": 5,
      "metadata": {
        "id": "88c190DW_-Wp",
        "outputId": "87cd28c1-e027-45f5-d73c-08a527c8537c",
        "colab": {
          "base_uri": "https://localhost:8080/"
        }
      },
      "outputs": [
        {
          "output_type": "stream",
          "name": "stdout",
          "text": [
            "\n"
          ]
        }
      ],
      "source": [
        "print(\"\")"
      ]
    },
    {
      "cell_type": "code",
      "execution_count": 6,
      "metadata": {
        "id": "lNsJUcDW_-Wp",
        "outputId": "53c5aa99-14c0-4046-a4d2-b43cdd6c8b98",
        "colab": {
          "base_uri": "https://localhost:8080/",
          "height": 35
        }
      },
      "outputs": [
        {
          "output_type": "execute_result",
          "data": {
            "text/plain": [
              "''"
            ],
            "application/vnd.google.colaboratory.intrinsic+json": {
              "type": "string"
            }
          },
          "metadata": {},
          "execution_count": 6
        }
      ],
      "source": [
        "\"\""
      ]
    },
    {
      "cell_type": "code",
      "execution_count": 7,
      "metadata": {
        "id": "jnbdlAOY_-Wp",
        "outputId": "353a68f9-2507-4a3f-ebd8-90cac7ec3132",
        "colab": {
          "base_uri": "https://localhost:8080/",
          "height": 35
        }
      },
      "outputs": [
        {
          "output_type": "execute_result",
          "data": {
            "text/plain": [
              "''"
            ],
            "application/vnd.google.colaboratory.intrinsic+json": {
              "type": "string"
            }
          },
          "metadata": {},
          "execution_count": 7
        }
      ],
      "source": [
        "''"
      ]
    },
    {
      "cell_type": "markdown",
      "metadata": {
        "id": "rctBdX9l_-Wp"
      },
      "source": [
        "## Estructura de un String"
      ]
    },
    {
      "cell_type": "markdown",
      "metadata": {
        "id": "x_A1RWPy_-Wq"
      },
      "source": [
        "Un string no vacío está compuesto por **caracteres**."
      ]
    },
    {
      "cell_type": "code",
      "execution_count": 8,
      "metadata": {
        "id": "7w7LNZls_-Wq",
        "outputId": "8409dd30-02ee-4315-dd6a-1cff4800a350",
        "colab": {
          "base_uri": "https://localhost:8080/",
          "height": 35
        }
      },
      "outputs": [
        {
          "output_type": "execute_result",
          "data": {
            "text/plain": [
              "'hola mundo!'"
            ],
            "application/vnd.google.colaboratory.intrinsic+json": {
              "type": "string"
            }
          },
          "metadata": {},
          "execution_count": 8
        }
      ],
      "source": [
        "\"hola mundo!\""
      ]
    },
    {
      "cell_type": "markdown",
      "metadata": {
        "id": "VUNgCGCD_-Wq"
      },
      "source": [
        "## Índice de un string"
      ]
    },
    {
      "cell_type": "markdown",
      "metadata": {
        "id": "DT_0-6Ta_-Wq"
      },
      "source": [
        "Los caracteres de un string se numeran de izquierda a derecha, comenzando en $0$."
      ]
    },
    {
      "cell_type": "markdown",
      "metadata": {
        "id": "3bys7hEz_-Wq"
      },
      "source": [
        "<table style=\"font-size: 1em; float:center;\">\n",
        "    <thead>\n",
        "        <td style=\"border-right: 1px solid black;\">h</td>\n",
        "        <td style=\"border-right: 1px solid black;\">o</td>\n",
        "        <td style=\"border-right: 1px solid black;\">l</td>\n",
        "        <td style=\"border-right: 1px solid black;\">a</td>\n",
        "        <td style=\"border-right: 1px solid black;\"> </td>\n",
        "        <td style=\"border-right: 1px solid black;\">m</td>\n",
        "        <td style=\"border-right: 1px solid black;\">u</td>\n",
        "        <td style=\"border-right: 1px solid black;\">n</td>\n",
        "        <td style=\"border-right: 1px solid black;\">d</td>\n",
        "        <td style=\"border-right: 1px solid black;\">o</td>\n",
        "        <td>!</td>\n",
        "    </thead>\n",
        "    <tr>\n",
        "        <td style=\"border-right: 1px solid black;\">0</td>\n",
        "        <td style=\"border-right: 1px solid black;\">1</td>\n",
        "        <td style=\"border-right: 1px solid black;\">2</td>\n",
        "        <td style=\"border-right: 1px solid black;\">3</td>\n",
        "        <td style=\"border-right: 1px solid black;\">4</td>\n",
        "        <td style=\"border-right: 1px solid black;\">5</td>\n",
        "        <td style=\"border-right: 1px solid black;\">6</td>\n",
        "        <td style=\"border-right: 1px solid black;\">7</td>\n",
        "        <td style=\"border-right: 1px solid black;\">8</td>\n",
        "        <td style=\"border-right: 1px solid black;\">9</td>\n",
        "        <td>10</td>\n",
        "    </tr>\n",
        "</table>"
      ]
    },
    {
      "cell_type": "markdown",
      "metadata": {
        "id": "-jitvrM-_-Wr"
      },
      "source": [
        "## Acceder al caracter de un string mediante indexación"
      ]
    },
    {
      "cell_type": "markdown",
      "metadata": {
        "id": "EAM9O8bO_-Wr"
      },
      "source": [
        "Es posible acceder al caracter que se encuentra en la posición i-ésima, es decir, la que tiene el **índice $i$**, utilizando una notación con corchetes."
      ]
    },
    {
      "cell_type": "code",
      "execution_count": 9,
      "metadata": {
        "id": "fr3GUqWD_-Wr",
        "outputId": "887fbaed-a61f-4dfb-851e-b09ba47056c7",
        "colab": {
          "base_uri": "https://localhost:8080/"
        }
      },
      "outputs": [
        {
          "output_type": "stream",
          "name": "stdout",
          "text": [
            "m\n"
          ]
        }
      ],
      "source": [
        "a = \"hola mundo!\"\n",
        "#obtiene el caracter que esta en el indice 5 y lo muestra por pantalla\n",
        "print(a[5])"
      ]
    },
    {
      "cell_type": "code",
      "execution_count": 10,
      "metadata": {
        "id": "N3I97SOT_-Wr",
        "outputId": "6d83e99f-d595-4b48-88f9-a46f68897720",
        "colab": {
          "base_uri": "https://localhost:8080/",
          "height": 35
        }
      },
      "outputs": [
        {
          "output_type": "execute_result",
          "data": {
            "text/plain": [
              "'m'"
            ],
            "application/vnd.google.colaboratory.intrinsic+json": {
              "type": "string"
            }
          },
          "metadata": {},
          "execution_count": 10
        }
      ],
      "source": [
        "#evalua el valor del índice 5 en la variable a\n",
        "a[5]"
      ]
    },
    {
      "cell_type": "markdown",
      "metadata": {
        "id": "mqBI07Xl_-Ws"
      },
      "source": [
        "También es posible enumerar los caracteres de un string, desde el **final** hacia la izquierda, usando índices negativos que comienzan en $-1$:"
      ]
    },
    {
      "cell_type": "markdown",
      "metadata": {
        "id": "j0I00_jt_-Ws"
      },
      "source": [
        "<table style=\"font-size: 1em; float:center;\">\n",
        "    <thead>\n",
        "        <td style=\"border-right: 1px solid black;\">h</td>\n",
        "        <td style=\"border-right: 1px solid black;\">o</td>\n",
        "        <td style=\"border-right: 1px solid black;\">l</td>\n",
        "        <td style=\"border-right: 1px solid black;\">a</td>\n",
        "        <td style=\"border-right: 1px solid black;\"> </td>\n",
        "        <td style=\"border-right: 1px solid black;\">m</td>\n",
        "        <td style=\"border-right: 1px solid black;\">u</td>\n",
        "        <td style=\"border-right: 1px solid black;\">n</td>\n",
        "        <td style=\"border-right: 1px solid black;\">d</td>\n",
        "        <td style=\"border-right: 1px solid black;\">o</td>\n",
        "        <td>!</td>\n",
        "    </thead>\n",
        "    <tr>\n",
        "        <td style=\"border-right: 1px solid black;\">-11</td>\n",
        "        <td style=\"border-right: 1px solid black;\">-10</td>\n",
        "        <td style=\"border-right: 1px solid black;\">-9</td>\n",
        "        <td style=\"border-right: 1px solid black;\">-8</td>\n",
        "        <td style=\"border-right: 1px solid black;\">-7</td>\n",
        "        <td style=\"border-right: 1px solid black;\">-6</td>\n",
        "        <td style=\"border-right: 1px solid black;\">-5</td>\n",
        "        <td style=\"border-right: 1px solid black;\">-4</td>\n",
        "        <td style=\"border-right: 1px solid black;\">-3</td>\n",
        "        <td style=\"border-right: 1px solid black;\">-2</td>\n",
        "        <td>-1</td>\n",
        "    </tr>\n",
        "</table>"
      ]
    },
    {
      "cell_type": "code",
      "execution_count": 11,
      "metadata": {
        "id": "frmR-0um_-Ws",
        "outputId": "0bef1e9a-0b2e-486c-c36c-9438d93d797d",
        "colab": {
          "base_uri": "https://localhost:8080/"
        }
      },
      "outputs": [
        {
          "output_type": "stream",
          "name": "stdout",
          "text": [
            "!\n"
          ]
        }
      ],
      "source": [
        "a = \"hola mundo!\"\n",
        "#obtiene el ultimo caracter y lo muestra por pantalla\n",
        "print(a[-1])"
      ]
    },
    {
      "cell_type": "code",
      "execution_count": 12,
      "metadata": {
        "id": "h7KqmOPK_-Ws",
        "outputId": "035486fc-3165-4045-e45c-fefc0ec799f1",
        "colab": {
          "base_uri": "https://localhost:8080/",
          "height": 35
        }
      },
      "outputs": [
        {
          "output_type": "execute_result",
          "data": {
            "text/plain": [
              "'!'"
            ],
            "application/vnd.google.colaboratory.intrinsic+json": {
              "type": "string"
            }
          },
          "metadata": {},
          "execution_count": 12
        }
      ],
      "source": [
        "#evalua el valor del índice -1 en la variable a\n",
        "a[-1]"
      ]
    },
    {
      "cell_type": "markdown",
      "metadata": {
        "id": "S1Fpfm5W_-Ws"
      },
      "source": [
        "## Substrings"
      ]
    },
    {
      "cell_type": "markdown",
      "metadata": {
        "id": "LbnvwGDT_-Wt"
      },
      "source": [
        "Los corchetes también pueden utilizarse para obtener una parte de un string, también conocida como **substring** o **rebanada**."
      ]
    },
    {
      "cell_type": "markdown",
      "metadata": {
        "id": "9rYo8IJ5_-Wt"
      },
      "source": [
        "`s[inicio:fin]` entrega un string con todos los caracteres desde el índice `inicio`, hasta el índice `fin-1`."
      ]
    },
    {
      "cell_type": "markdown",
      "metadata": {
        "id": "1aRgOeYZ_-Wt"
      },
      "source": [
        "Por ejemplo, `a[3:7]`, donde `a = \"hola mundo!\"` corresponde al substring `'a mu'`"
      ]
    },
    {
      "cell_type": "markdown",
      "metadata": {
        "id": "RI2V5Zk4_-Wt"
      },
      "source": [
        "<table style=\"font-size: 1em; float:center;\">\n",
        "    <thead>\n",
        "        <td style=\"border-right: 1px solid black;\">h</td>\n",
        "        <td style=\"border-right: 1px solid black;\">o</td>\n",
        "        <td style=\"border-right: 1px solid black;\">l</td>\n",
        "        <td style=\"border-right: 1px solid black;\">a</td>\n",
        "        <td style=\"border-right: 1px solid black;\"> </td>\n",
        "        <td style=\"border-right: 1px solid black;\">m</td>\n",
        "        <td style=\"border-right: 1px solid black;\">u</td>\n",
        "        <td style=\"border-right: 1px solid black;\">n</td>\n",
        "        <td style=\"border-right: 1px solid black;\">d</td>\n",
        "        <td style=\"border-right: 1px solid black;\">o</td>\n",
        "        <td>!</td>\n",
        "    </thead>\n",
        "    <tr>\n",
        "        <td style=\"border-right: 1px solid black;\"></td>\n",
        "        <td style=\"border-right: 1px solid black;\"></td>\n",
        "        <td style=\"border-right: 1px solid black;\"></td>\n",
        "        <td style=\"border-right: 1px solid black;\">3</td>\n",
        "        <td style=\"border-right: 1px solid black;\">4</td>\n",
        "        <td style=\"border-right: 1px solid black;\">5</td>\n",
        "        <td style=\"border-right: 1px solid black;\">6</td>\n",
        "        <td style=\"border-right: 1px solid black;\"></td>\n",
        "        <td style=\"border-right: 1px solid black;\"></td>\n",
        "        <td style=\"border-right: 1px solid black;\"></td>\n",
        "        <td></td>\n",
        "    </tr>\n",
        "</table>"
      ]
    },
    {
      "cell_type": "code",
      "execution_count": 13,
      "metadata": {
        "id": "3Icvm28G_-Wt",
        "outputId": "67d1cc05-63c5-40d7-f732-7b74a114990c",
        "colab": {
          "base_uri": "https://localhost:8080/"
        }
      },
      "outputs": [
        {
          "output_type": "stream",
          "name": "stdout",
          "text": [
            "a mu\n"
          ]
        }
      ],
      "source": [
        "a = \"hola mundo!\"\n",
        "b = a[3:7]\n",
        "print(b)"
      ]
    },
    {
      "cell_type": "markdown",
      "metadata": {
        "id": "L6zUOq9Z_-Wt"
      },
      "source": [
        "Cuando se omite el `inicio` del rango, se entiende que el substring comienza en el inicio del string original."
      ]
    },
    {
      "cell_type": "markdown",
      "metadata": {
        "id": "71izKznC_-Wt"
      },
      "source": [
        "Ejemplo, `a[:6]`, donde `a = \"hola mundo!\"` corresponde al substring `'hola m'`."
      ]
    },
    {
      "cell_type": "markdown",
      "metadata": {
        "id": "T7oWjjY7_-Wt"
      },
      "source": [
        "<table style=\"font-size: 1em; float:center;\">\n",
        "    <thead>\n",
        "        <td style=\"border-right: 1px solid black;\">h</td>\n",
        "        <td style=\"border-right: 1px solid black;\">o</td>\n",
        "        <td style=\"border-right: 1px solid black;\">l</td>\n",
        "        <td style=\"border-right: 1px solid black;\">a</td>\n",
        "        <td style=\"border-right: 1px solid black;\"> </td>\n",
        "        <td style=\"border-right: 1px solid black;\">m</td>\n",
        "        <td style=\"border-right: 1px solid black;\">u</td>\n",
        "        <td style=\"border-right: 1px solid black;\">n</td>\n",
        "        <td style=\"border-right: 1px solid black;\">d</td>\n",
        "        <td style=\"border-right: 1px solid black;\">o</td>\n",
        "        <td>!</td>\n",
        "    </thead>\n",
        "    <tr>\n",
        "        <td style=\"border-right: 1px solid black;\">0</td>\n",
        "        <td style=\"border-right: 1px solid black;\">1</td>\n",
        "        <td style=\"border-right: 1px solid black;\">2</td>\n",
        "        <td style=\"border-right: 1px solid black;\">3</td>\n",
        "        <td style=\"border-right: 1px solid black;\">4</td>\n",
        "        <td style=\"border-right: 1px solid black;\">5</td>\n",
        "        <td style=\"border-right: 1px solid black;\"></td>\n",
        "        <td style=\"border-right: 1px solid black;\"></td>\n",
        "        <td style=\"border-right: 1px solid black;\"></td>\n",
        "        <td style=\"border-right: 1px solid black;\"></td>\n",
        "        <td></td>\n",
        "    </tr>\n",
        "</table>"
      ]
    },
    {
      "cell_type": "code",
      "execution_count": 14,
      "metadata": {
        "id": "F4Y6nTdg_-Wu",
        "outputId": "870b2a2d-7ff1-4801-ebc5-2ce5511d70b0",
        "colab": {
          "base_uri": "https://localhost:8080/"
        }
      },
      "outputs": [
        {
          "output_type": "stream",
          "name": "stdout",
          "text": [
            "hola m\n"
          ]
        }
      ],
      "source": [
        "a = \"hola mundo!\"\n",
        "b = a[:6]\n",
        "print(b)"
      ]
    },
    {
      "cell_type": "markdown",
      "metadata": {
        "id": "9jPCzjsd_-Wu"
      },
      "source": [
        "Cuando se omite el `fin` del rango, se entiende que el substring termina al final del string original."
      ]
    },
    {
      "cell_type": "markdown",
      "metadata": {
        "id": "hViXieGe_-Wu"
      },
      "source": [
        "Ejemplo, `a[2:]`, donde `a = \"hola mundo!\"` corresponde al substring `'la mundo!'`."
      ]
    },
    {
      "cell_type": "markdown",
      "metadata": {
        "id": "HczBpTXl_-W1"
      },
      "source": [
        "<table style=\"font-size: 1em; float:center;\">\n",
        "    <thead>\n",
        "        <td style=\"border-right: 1px solid black;\">h</td>\n",
        "        <td style=\"border-right: 1px solid black;\">o</td>\n",
        "        <td style=\"border-right: 1px solid black;\">l</td>\n",
        "        <td style=\"border-right: 1px solid black;\">a</td>\n",
        "        <td style=\"border-right: 1px solid black;\"> </td>\n",
        "        <td style=\"border-right: 1px solid black;\">m</td>\n",
        "        <td style=\"border-right: 1px solid black;\">u</td>\n",
        "        <td style=\"border-right: 1px solid black;\">n</td>\n",
        "        <td style=\"border-right: 1px solid black;\">d</td>\n",
        "        <td style=\"border-right: 1px solid black;\">o</td>\n",
        "        <td>!</td>\n",
        "    </thead>\n",
        "    <tr>\n",
        "        <td style=\"border-right: 1px solid black;\"></td>\n",
        "        <td style=\"border-right: 1px solid black;\"></td>\n",
        "        <td style=\"border-right: 1px solid black;\">2</td>\n",
        "        <td style=\"border-right: 1px solid black;\">3</td>\n",
        "        <td style=\"border-right: 1px solid black;\">4</td>\n",
        "        <td style=\"border-right: 1px solid black;\">5</td>\n",
        "        <td style=\"border-right: 1px solid black;\">6</td>\n",
        "        <td style=\"border-right: 1px solid black;\">7</td>\n",
        "        <td style=\"border-right: 1px solid black;\">8</td>\n",
        "        <td style=\"border-right: 1px solid black;\">9</td>\n",
        "        <td>10</td>\n",
        "    </tr>\n",
        "</table>"
      ]
    },
    {
      "cell_type": "code",
      "execution_count": 15,
      "metadata": {
        "id": "HgUGiSKA_-W1",
        "outputId": "eb61a7ec-d23e-4952-f4c5-ae2860c42246",
        "colab": {
          "base_uri": "https://localhost:8080/"
        }
      },
      "outputs": [
        {
          "output_type": "stream",
          "name": "stdout",
          "text": [
            "la mundo!\n"
          ]
        }
      ],
      "source": [
        "a = \"hola mundo!\"\n",
        "b = a[2:]\n",
        "print(b)"
      ]
    },
    {
      "cell_type": "markdown",
      "metadata": {
        "id": "FJ-8lhFT_-W1"
      },
      "source": [
        "¿Qué ocurre en los siguientes casos?"
      ]
    },
    {
      "cell_type": "code",
      "execution_count": 16,
      "metadata": {
        "id": "si65WJie_-W2"
      },
      "outputs": [],
      "source": [
        "a = \"hola mundo!\""
      ]
    },
    {
      "cell_type": "code",
      "execution_count": 17,
      "metadata": {
        "id": "XsQ2e9qC_-W2",
        "outputId": "0cea73db-c445-4a9c-cc09-e970a04c4f0d",
        "colab": {
          "base_uri": "https://localhost:8080/",
          "height": 35
        }
      },
      "outputs": [
        {
          "output_type": "execute_result",
          "data": {
            "text/plain": [
              "'mu'"
            ],
            "application/vnd.google.colaboratory.intrinsic+json": {
              "type": "string"
            }
          },
          "metadata": {},
          "execution_count": 17
        }
      ],
      "source": [
        "a[5:7]"
      ]
    },
    {
      "cell_type": "code",
      "execution_count": 18,
      "metadata": {
        "id": "lH1ZeISh_-W2",
        "outputId": "8c6c8058-73ee-460a-9a3a-dbb361318526",
        "colab": {
          "base_uri": "https://localhost:8080/",
          "height": 35
        }
      },
      "outputs": [
        {
          "output_type": "execute_result",
          "data": {
            "text/plain": [
              "'do'"
            ],
            "application/vnd.google.colaboratory.intrinsic+json": {
              "type": "string"
            }
          },
          "metadata": {},
          "execution_count": 18
        }
      ],
      "source": [
        "a[-3:-1]"
      ]
    },
    {
      "cell_type": "code",
      "execution_count": 19,
      "metadata": {
        "id": "vnugEyYA_-W2",
        "outputId": "83fb7e55-3cb9-4bb6-f306-00853fc66ffe",
        "colab": {
          "base_uri": "https://localhost:8080/",
          "height": 35
        }
      },
      "outputs": [
        {
          "output_type": "execute_result",
          "data": {
            "text/plain": [
              "'la mundo'"
            ],
            "application/vnd.google.colaboratory.intrinsic+json": {
              "type": "string"
            }
          },
          "metadata": {},
          "execution_count": 19
        }
      ],
      "source": [
        "a[2:-1]"
      ]
    },
    {
      "cell_type": "code",
      "execution_count": 20,
      "metadata": {
        "id": "Tl_-5Cvi_-W2",
        "outputId": "aab8d0df-1e02-4e77-f96d-16ca3059b8d0",
        "colab": {
          "base_uri": "https://localhost:8080/",
          "height": 35
        }
      },
      "outputs": [
        {
          "output_type": "execute_result",
          "data": {
            "text/plain": [
              "''"
            ],
            "application/vnd.google.colaboratory.intrinsic+json": {
              "type": "string"
            }
          },
          "metadata": {},
          "execution_count": 20
        }
      ],
      "source": [
        "a[-1:4]"
      ]
    },
    {
      "cell_type": "markdown",
      "metadata": {
        "id": "lRlJAbpL_-W3"
      },
      "source": [
        "## Operaciones elementales sobre Strings"
      ]
    },
    {
      "cell_type": "markdown",
      "metadata": {
        "id": "SREPBSCQ_-W3"
      },
      "source": [
        "Algunos operadores definidos anteriormente para números, también tienen una función al aplicarse sobre strings."
      ]
    },
    {
      "cell_type": "markdown",
      "metadata": {
        "id": "YBXQihrG_-W3"
      },
      "source": [
        "- Concatenación de strings (`+`)\n",
        "- Repetición de strings (`*`)"
      ]
    },
    {
      "cell_type": "markdown",
      "metadata": {
        "id": "XuBUuTW9_-W3"
      },
      "source": [
        "Algunos ejemplos:"
      ]
    },
    {
      "cell_type": "code",
      "execution_count": 21,
      "metadata": {
        "id": "3hjYPF75_-W3",
        "outputId": "6852f268-6eed-44bc-8247-5b8d54403257",
        "colab": {
          "base_uri": "https://localhost:8080/",
          "height": 35
        }
      },
      "outputs": [
        {
          "output_type": "execute_result",
          "data": {
            "text/plain": [
              "'holamundo'"
            ],
            "application/vnd.google.colaboratory.intrinsic+json": {
              "type": "string"
            }
          },
          "metadata": {},
          "execution_count": 21
        }
      ],
      "source": [
        "\"hola\" +  \"mundo\""
      ]
    },
    {
      "cell_type": "code",
      "execution_count": 22,
      "metadata": {
        "id": "T0dxQYZC_-W3",
        "outputId": "d5bb87be-2952-4981-d4a2-400528156a6c",
        "colab": {
          "base_uri": "https://localhost:8080/"
        }
      },
      "outputs": [
        {
          "output_type": "stream",
          "name": "stdout",
          "text": [
            "4al cuadrado es16\n"
          ]
        }
      ],
      "source": [
        "x = 4\n",
        "c = 4**2\n",
        "mensaje = str(4) + \"al cuadrado es\" + str(c)\n",
        "print(mensaje)"
      ]
    },
    {
      "cell_type": "code",
      "execution_count": 23,
      "metadata": {
        "id": "tpFyB5ur_-W3",
        "outputId": "087d8475-6292-40f2-e289-f532c91dbc6a",
        "colab": {
          "base_uri": "https://localhost:8080/"
        }
      },
      "outputs": [
        {
          "output_type": "stream",
          "name": "stdout",
          "text": [
            "4 al cuadrado es 16\n"
          ]
        }
      ],
      "source": [
        "x = 4\n",
        "c = 4 ** 2\n",
        "mensaje = str(4) + \" al cuadrado es \" + str(c)\n",
        "print(mensaje)"
      ]
    },
    {
      "cell_type": "code",
      "execution_count": 24,
      "metadata": {
        "id": "Dxrl_Dnx_-W4",
        "outputId": "1ddc038d-fe55-4052-fdad-bdc58bb5c24d",
        "colab": {
          "base_uri": "https://localhost:8080/",
          "height": 35
        }
      },
      "outputs": [
        {
          "output_type": "execute_result",
          "data": {
            "text/plain": [
              "'wakawaka'"
            ],
            "application/vnd.google.colaboratory.intrinsic+json": {
              "type": "string"
            }
          },
          "metadata": {},
          "execution_count": 24
        }
      ],
      "source": [
        "\"waka\"*2"
      ]
    },
    {
      "cell_type": "code",
      "execution_count": 25,
      "metadata": {
        "id": "ol9VagR-_-W4",
        "outputId": "6252d8e4-bed6-4e07-c27e-ad4e79ec8066",
        "colab": {
          "base_uri": "https://localhost:8080/",
          "height": 35
        }
      },
      "outputs": [
        {
          "output_type": "execute_result",
          "data": {
            "text/plain": [
              "'fizzfizzfizz'"
            ],
            "application/vnd.google.colaboratory.intrinsic+json": {
              "type": "string"
            }
          },
          "metadata": {},
          "execution_count": 25
        }
      ],
      "source": [
        "\"fizz\"*3"
      ]
    },
    {
      "cell_type": "code",
      "execution_count": 26,
      "metadata": {
        "id": "FQw74w-__-W4",
        "outputId": "9487e157-3cad-45dd-deb6-c051f1d0c5a0",
        "colab": {
          "base_uri": "https://localhost:8080/",
          "height": 35
        }
      },
      "outputs": [
        {
          "output_type": "execute_result",
          "data": {
            "text/plain": [
              "'fizzbuzzbuzzbuzzbuzz'"
            ],
            "application/vnd.google.colaboratory.intrinsic+json": {
              "type": "string"
            }
          },
          "metadata": {},
          "execution_count": 26
        }
      ],
      "source": [
        "\"fizz\" + \"buzz\" * 4"
      ]
    },
    {
      "cell_type": "markdown",
      "metadata": {
        "id": "YX62DH9q_-W4"
      },
      "source": [
        "## Otras operaciones para strings"
      ]
    },
    {
      "cell_type": "markdown",
      "metadata": {
        "id": "QtpDIaow_-W4"
      },
      "source": [
        "- La instrucción `in` permite saber si un substring está contenido dentro de un string. Es similar a un operador de comparación, por lo que entrega valores `True` o `False`. Se puede negar con el operador lógico `not`."
      ]
    },
    {
      "cell_type": "code",
      "execution_count": 27,
      "metadata": {
        "id": "7fhwAuY1_-W4",
        "outputId": "4a54190c-fbaa-4e20-c4ee-85e91d76a1df",
        "colab": {
          "base_uri": "https://localhost:8080/"
        }
      },
      "outputs": [
        {
          "output_type": "execute_result",
          "data": {
            "text/plain": [
              "True"
            ]
          },
          "metadata": {},
          "execution_count": 27
        }
      ],
      "source": [
        "\"pollo\" in \"repollos\""
      ]
    },
    {
      "cell_type": "code",
      "execution_count": 28,
      "metadata": {
        "id": "gfPZODSN_-W5",
        "outputId": "182fe648-4ebb-4254-b379-a2a4b9df514f",
        "colab": {
          "base_uri": "https://localhost:8080/"
        }
      },
      "outputs": [
        {
          "output_type": "execute_result",
          "data": {
            "text/plain": [
              "False"
            ]
          },
          "metadata": {},
          "execution_count": 28
        }
      ],
      "source": [
        "\"pollo\" in \"gallinero\""
      ]
    },
    {
      "cell_type": "code",
      "execution_count": 29,
      "metadata": {
        "id": "Yu3TzkhW_-W5",
        "outputId": "05d29aba-2e35-4dd2-a05e-f8a73b1bae7b",
        "colab": {
          "base_uri": "https://localhost:8080/"
        }
      },
      "outputs": [
        {
          "output_type": "execute_result",
          "data": {
            "text/plain": [
              "False"
            ]
          },
          "metadata": {},
          "execution_count": 29
        }
      ],
      "source": [
        "\"agua\" not in \"paraguas\""
      ]
    },
    {
      "cell_type": "markdown",
      "metadata": {
        "id": "Mspzgwb9_-W5"
      },
      "source": [
        "- La función `len(s)` entrega como resultado la **cantidad de caracteres** del string `s` pasado como parámetro."
      ]
    },
    {
      "cell_type": "code",
      "execution_count": 30,
      "metadata": {
        "id": "OKxpfh_r_-W5",
        "outputId": "341d9732-52c0-4384-cf7c-8cf8e01ddbed",
        "colab": {
          "base_uri": "https://localhost:8080/"
        }
      },
      "outputs": [
        {
          "output_type": "execute_result",
          "data": {
            "text/plain": [
              "4"
            ]
          },
          "metadata": {},
          "execution_count": 30
        }
      ],
      "source": [
        "len(\"casa\")"
      ]
    },
    {
      "cell_type": "code",
      "execution_count": 31,
      "metadata": {
        "id": "S9q-kTF0_-W5",
        "outputId": "a15f6678-df08-4fe5-8db6-fb8a43565944",
        "colab": {
          "base_uri": "https://localhost:8080/"
        }
      },
      "outputs": [
        {
          "output_type": "execute_result",
          "data": {
            "text/plain": [
              "11"
            ]
          },
          "metadata": {},
          "execution_count": 31
        }
      ],
      "source": [
        "len(\"hola mundo!\")"
      ]
    },
    {
      "cell_type": "code",
      "execution_count": 32,
      "metadata": {
        "id": "urhBx0CA_-W5",
        "outputId": "82677aa6-4496-414b-f15f-bda8ed798c02",
        "colab": {
          "base_uri": "https://localhost:8080/"
        }
      },
      "outputs": [
        {
          "output_type": "execute_result",
          "data": {
            "text/plain": [
              "0"
            ]
          },
          "metadata": {},
          "execution_count": 32
        }
      ],
      "source": [
        "len(\"\")"
      ]
    },
    {
      "cell_type": "markdown",
      "metadata": {
        "id": "gqJtOfid_-W6"
      },
      "source": [
        "## Comparaciones de strings"
      ]
    },
    {
      "cell_type": "markdown",
      "metadata": {
        "id": "0-P-cIW-_-W6"
      },
      "source": [
        "Los **operadores de comparación** se pueden utilizar sobre strings."
      ]
    },
    {
      "cell_type": "code",
      "execution_count": 33,
      "metadata": {
        "id": "qVSr0vqC_-W6",
        "outputId": "1aaf58d1-b798-4a5f-ccd7-d403bedd6799",
        "colab": {
          "base_uri": "https://localhost:8080/"
        }
      },
      "outputs": [
        {
          "output_type": "execute_result",
          "data": {
            "text/plain": [
              "False"
            ]
          },
          "metadata": {},
          "execution_count": 33
        }
      ],
      "source": [
        "\"a\" > \"z\""
      ]
    },
    {
      "cell_type": "code",
      "execution_count": 34,
      "metadata": {
        "id": "5Q97TOMp_-W6",
        "outputId": "db64b0a3-4f64-4783-f2d9-8e4fb0129e6b",
        "colab": {
          "base_uri": "https://localhost:8080/"
        }
      },
      "outputs": [
        {
          "output_type": "execute_result",
          "data": {
            "text/plain": [
              "False"
            ]
          },
          "metadata": {},
          "execution_count": 34
        }
      ],
      "source": [
        "\"avion\" == \"barco\""
      ]
    },
    {
      "cell_type": "code",
      "execution_count": 35,
      "metadata": {
        "id": "jXFl9MOJ_-W6",
        "outputId": "5fc1f930-9691-465b-e8e8-78ba023e34c4",
        "colab": {
          "base_uri": "https://localhost:8080/"
        }
      },
      "outputs": [
        {
          "output_type": "execute_result",
          "data": {
            "text/plain": [
              "True"
            ]
          },
          "metadata": {},
          "execution_count": 35
        }
      ],
      "source": [
        "\"Casa\" < \"casa\""
      ]
    },
    {
      "cell_type": "markdown",
      "metadata": {
        "id": "VtJNKttN_-W6"
      },
      "source": [
        "¿Cómo se decide el orden de los caracteres?"
      ]
    },
    {
      "cell_type": "markdown",
      "metadata": {
        "id": "R9Mtv_Uq_-W6"
      },
      "source": [
        "## El código ASCII"
      ]
    },
    {
      "cell_type": "markdown",
      "metadata": {
        "id": "EVGqWAf7_-W6"
      },
      "source": [
        "El código ASCII asocia un **número decimal** a cada **caracter** (letras, números y otros símbolos). Cuando guardamos un string en una variable, el computador almacena en su memoria el código ASCII de cada caracter que lo forma. El orden de los strings se decide por el orden de los códigos de los caracteres que lo componen."
      ]
    },
    {
      "cell_type": "markdown",
      "metadata": {
        "id": "kLMHQLqr_-W7"
      },
      "source": [
        "<table style=\"font-size: 1em; float:center;\">\n",
        "    <thead>\n",
        "        <td style=\"border-right: 1px solid black;\">Código ASCII</td>\n",
        "        <td style=\"border-right: 3px solid black;\">caracter</td>\n",
        "        <td style=\"border-right: 1px solid black;\">Código ASCII</td>\n",
        "        <td>caracter</td>\n",
        "    </thead>\n",
        "    <tr>\n",
        "        <td style=\"border-right: 1px solid black;\">48</td>\n",
        "        <td style=\"border-right: 3px solid black;\">\"0\"</td>\n",
        "        <td style=\"border-right: 1px solid black;\">65</td>\n",
        "        <td >\"A\"</td>\n",
        "    </tr>\n",
        "    <tr>\n",
        "        <td style=\"border-right: 1px solid black;\">49</td>\n",
        "        <td style=\"border-right: 3px solid black;\">\"1\"</td>\n",
        "        <td style=\"border-right: 1px solid black;\">66</td>\n",
        "        <td >\"B\"</td>\n",
        "    </tr>\n",
        "    <tr>\n",
        "        <td style=\"border-right: 1px solid black;\">...</td>\n",
        "        <td style=\"border-right: 3px solid black;\">...</td>\n",
        "        <td style=\"border-right: 1px solid black;\">...</td>\n",
        "        <td >...</td>\n",
        "    </tr>\n",
        "    <tr>\n",
        "        <td style=\"border-right: 1px solid black;\">61</td>\n",
        "        <td style=\"border-right: 3px solid black;\">\"=\"</td>\n",
        "        <td style=\"border-right: 1px solid black;\">97</td>\n",
        "        <td >\"a\"</td>\n",
        "    </tr>\n",
        "    <tr>\n",
        "        <td style=\"border-right: 1px solid black;\">62</td>\n",
        "        <td style=\"border-right: 3px solid black;\">\">\"</td>\n",
        "        <td style=\"border-right: 1px solid black;\">98</td>\n",
        "        <td >\"b\"</td>\n",
        "    </tr>\n",
        "    <tr>\n",
        "        <td style=\"border-right: 1px solid black;\">...</td>\n",
        "        <td style=\"border-right: 3px solid black;\">...</td>\n",
        "        <td style=\"border-right: 1px solid black;\">...</td>\n",
        "        <td >...</td>\n",
        "    </tr>\n",
        "</table>"
      ]
    },
    {
      "cell_type": "markdown",
      "metadata": {
        "id": "-1-4sY1o_-W7"
      },
      "source": [
        "Considerando los Códigos ASCII, los caracteres tienen el siguiente orden creciente:\n",
        "- Dígitos escritos como strings\n",
        "- Algunos caracteres especiales\n",
        "- Letras mayúsculas\n",
        "- Letras minúsculas"
      ]
    },
    {
      "cell_type": "code",
      "execution_count": 36,
      "metadata": {
        "id": "q0OgIon6_-W7",
        "outputId": "9b9e0a76-1475-467b-f6de-d03419843b40",
        "colab": {
          "base_uri": "https://localhost:8080/"
        }
      },
      "outputs": [
        {
          "output_type": "execute_result",
          "data": {
            "text/plain": [
              "True"
            ]
          },
          "metadata": {},
          "execution_count": 36
        }
      ],
      "source": [
        "#las minusculas son mayores que las minusculas. Vienen despues en el codigo ASCII\n",
        "\"a\" > \"A\""
      ]
    },
    {
      "cell_type": "markdown",
      "metadata": {
        "id": "uqFimZub_-W7"
      },
      "source": [
        "### Mayúsculas y Minúsculas"
      ]
    },
    {
      "cell_type": "markdown",
      "metadata": {
        "id": "s81frjM3_-W7"
      },
      "source": [
        "Ya se ha visto que un mismo caracter escrito en mayúsculas es distinto que el mismo caracter en minúsculas."
      ]
    },
    {
      "cell_type": "code",
      "execution_count": 37,
      "metadata": {
        "id": "vhuRPUoU_-W8",
        "outputId": "a41b0e0b-974d-46b9-b642-5e289709d586",
        "colab": {
          "base_uri": "https://localhost:8080/"
        }
      },
      "outputs": [
        {
          "output_type": "execute_result",
          "data": {
            "text/plain": [
              "False"
            ]
          },
          "metadata": {},
          "execution_count": 37
        }
      ],
      "source": [
        "#letras mayusculas son distintas de letras minusculas\n",
        "\"a\" == \"A\""
      ]
    },
    {
      "cell_type": "markdown",
      "metadata": {
        "id": "DFGAE5bx_-W8"
      },
      "source": [
        "### De Caracter a Código ASCII y viceversa"
      ]
    },
    {
      "cell_type": "markdown",
      "metadata": {
        "id": "d2h8YWT6_-W8"
      },
      "source": [
        "Función `ord(c)`: Retorna el código ASCII del caracter `c`.\n",
        "\n",
        "Función `chr(n)`: Retorna un string con el caracter cuyo código ASCII es el entero `n`."
      ]
    },
    {
      "cell_type": "code",
      "execution_count": 38,
      "metadata": {
        "id": "NeJhVxiW_-W8",
        "outputId": "bbc8c20a-c876-4b54-e584-e80ac7c126c8",
        "colab": {
          "base_uri": "https://localhost:8080/"
        }
      },
      "outputs": [
        {
          "output_type": "execute_result",
          "data": {
            "text/plain": [
              "65"
            ]
          },
          "metadata": {},
          "execution_count": 38
        }
      ],
      "source": [
        "# Obteniendo el Código ASCII del caracter \"A\".\n",
        "ord(\"A\")"
      ]
    },
    {
      "cell_type": "code",
      "execution_count": 39,
      "metadata": {
        "id": "slFHYNoy_-W9",
        "outputId": "b6482722-7e33-49e7-9f60-d680e4fd9be4",
        "colab": {
          "base_uri": "https://localhost:8080/",
          "height": 35
        }
      },
      "outputs": [
        {
          "output_type": "execute_result",
          "data": {
            "text/plain": [
              "'A'"
            ],
            "application/vnd.google.colaboratory.intrinsic+json": {
              "type": "string"
            }
          },
          "metadata": {},
          "execution_count": 39
        }
      ],
      "source": [
        "# Obteniendo el caracter representado por el Código ASCII 65.\n",
        "chr(65)"
      ]
    },
    {
      "cell_type": "markdown",
      "metadata": {
        "id": "q41sxZ5v_-W9"
      },
      "source": [
        "**IMPORTANTE:** No es posible alterar directamente un string. Se dice que es un tipo de dato ***inmutable***.\n",
        "\n",
        "Si se quiere cambiar el contenido de una variable de tipo string, se debe crear un nuevo string y asignarlo a la variable."
      ]
    },
    {
      "cell_type": "code",
      "execution_count": 40,
      "metadata": {
        "id": "oEse0oiK_-W9"
      },
      "outputs": [],
      "source": [
        "palabra = \"Casa\""
      ]
    },
    {
      "cell_type": "code",
      "execution_count": 41,
      "metadata": {
        "id": "oFH1MmzJ_-W9",
        "outputId": "f08e8408-a91f-49e4-f47d-65a4084c3dfb",
        "colab": {
          "base_uri": "https://localhost:8080/",
          "height": 141
        }
      },
      "outputs": [
        {
          "output_type": "error",
          "ename": "TypeError",
          "evalue": "'str' object does not support item assignment",
          "traceback": [
            "\u001b[0;31m---------------------------------------------------------------------------\u001b[0m",
            "\u001b[0;31mTypeError\u001b[0m                                 Traceback (most recent call last)",
            "\u001b[0;32m/tmp/ipython-input-1316164755.py\u001b[0m in \u001b[0;36m<cell line: 0>\u001b[0;34m()\u001b[0m\n\u001b[0;32m----> 1\u001b[0;31m \u001b[0mpalabra\u001b[0m\u001b[0;34m[\u001b[0m\u001b[0;36m0\u001b[0m\u001b[0;34m]\u001b[0m \u001b[0;34m=\u001b[0m \u001b[0;34m\"c\"\u001b[0m\u001b[0;34m\u001b[0m\u001b[0;34m\u001b[0m\u001b[0m\n\u001b[0m",
            "\u001b[0;31mTypeError\u001b[0m: 'str' object does not support item assignment"
          ]
        }
      ],
      "source": [
        "palabra[0] = \"c\""
      ]
    },
    {
      "cell_type": "markdown",
      "metadata": {
        "id": "LGdSpswW_-W9"
      },
      "source": [
        "Los métodos `s.upper()` y `s.lower()` permiten cambiar el string `s` a mayúsculas y minúsculas, respectivamente.\n",
        "\n",
        "Un **método** es un tipo de operación que se aplica a un dato implícito, que se escribe antes del nombre del método.\n",
        "\n",
        "La característica que diferencia a los métodos de las funciones es la forma de llamarlos:\n",
        "- En una **función** aplicada a un string, como `len(s)`, se escribe el nombre de la función y el string va dentro de los paréntesis.\n",
        "\n",
        "\n",
        "- En un **método** aplicado a un string, como `s.upper()`, se comienza con el string, seguido de un punto, seguido del nombre del método y dentro de los paréntesis se incluyen parámetros adicionales en caso de ser necesario."
      ]
    },
    {
      "cell_type": "code",
      "execution_count": 42,
      "metadata": {
        "id": "PFClHeR8_-W9"
      },
      "outputs": [],
      "source": [
        "pal = \"Progra\""
      ]
    },
    {
      "cell_type": "code",
      "execution_count": 43,
      "metadata": {
        "id": "Rve6fCrN_-W9",
        "outputId": "8a78d22a-7cc8-40a4-e8ff-8ed0b70e22f6",
        "colab": {
          "base_uri": "https://localhost:8080/",
          "height": 35
        }
      },
      "outputs": [
        {
          "output_type": "execute_result",
          "data": {
            "text/plain": [
              "'progra'"
            ],
            "application/vnd.google.colaboratory.intrinsic+json": {
              "type": "string"
            }
          },
          "metadata": {},
          "execution_count": 43
        }
      ],
      "source": [
        "pal.lower()"
      ]
    },
    {
      "cell_type": "code",
      "execution_count": 44,
      "metadata": {
        "id": "ljjfEo_L_-W-",
        "outputId": "729cfe35-644d-47e6-81f4-6956a0f9d46a",
        "colab": {
          "base_uri": "https://localhost:8080/",
          "height": 35
        }
      },
      "outputs": [
        {
          "output_type": "execute_result",
          "data": {
            "text/plain": [
              "'PROGRA'"
            ],
            "application/vnd.google.colaboratory.intrinsic+json": {
              "type": "string"
            }
          },
          "metadata": {},
          "execution_count": 44
        }
      ],
      "source": [
        "pal.upper()"
      ]
    },
    {
      "cell_type": "markdown",
      "metadata": {
        "id": "oJ-Rl5La_-W-"
      },
      "source": [
        "`s.upper()` y `s.lower()` generan un nuevo string a partir del valor de `s`.\n",
        "\n",
        "**NO MODIFICAN A `s`**."
      ]
    },
    {
      "cell_type": "code",
      "execution_count": 45,
      "metadata": {
        "id": "YMSo1CV__-W-",
        "outputId": "c5b3e26c-5273-443f-d2e0-27be7bf35cd1",
        "colab": {
          "base_uri": "https://localhost:8080/"
        }
      },
      "outputs": [
        {
          "output_type": "stream",
          "name": "stdout",
          "text": [
            "Progra\n"
          ]
        }
      ],
      "source": [
        "print(pal)"
      ]
    },
    {
      "cell_type": "markdown",
      "metadata": {
        "id": "imnza6Nj_-W-"
      },
      "source": [
        "## Ciclo `for`"
      ]
    },
    {
      "cell_type": "markdown",
      "metadata": {
        "id": "fdWCEBjN_-W-"
      },
      "source": [
        "Repite un bloque de instrucciones sobre cada uno de los elementos de una colección.\n",
        "\n",
        "Los strings son colecciones sobre las que se puede aplicar un ciclo `for`.\n",
        "\n",
        "Cada iteración del `for` se aplicará a uno de los elementos del string, a través de la variable de iteración."
      ]
    },
    {
      "cell_type": "markdown",
      "metadata": {
        "id": "B53f9zaX_-W-"
      },
      "source": [
        "**Ejemplo:**"
      ]
    },
    {
      "cell_type": "code",
      "execution_count": 46,
      "metadata": {
        "id": "2P33m1Qt_-W-",
        "outputId": "b4d75f1f-5f39-475a-a731-d0c5d3e6e7d7",
        "colab": {
          "base_uri": "https://localhost:8080/"
        }
      },
      "outputs": [
        {
          "output_type": "stream",
          "name": "stdout",
          "text": [
            "caracter = h\n",
            "caracter = o\n",
            "caracter = l\n",
            "caracter = a\n",
            "caracter =  \n",
            "caracter = m\n",
            "caracter = u\n",
            "caracter = n\n",
            "caracter = d\n",
            "caracter = o\n",
            "caracter = !\n"
          ]
        }
      ],
      "source": [
        "s = \"hola mundo!\"\n",
        "for caracter in s:\n",
        "    print(\"caracter = \" + caracter)"
      ]
    },
    {
      "cell_type": "markdown",
      "metadata": {
        "id": "IYaFijrj_-W-"
      },
      "source": [
        "En cada iteración a la variable de iteración (en este caso `caracter`), se le asignará en orden cada uno de los caracteres que componen el string `s`."
      ]
    },
    {
      "cell_type": "markdown",
      "metadata": {
        "id": "TD7OsPD-_-W-"
      },
      "source": [
        "### Sintaxis genérica de un Ciclo For"
      ]
    },
    {
      "cell_type": "markdown",
      "metadata": {
        "id": "lQ17CGN0_-W_"
      },
      "source": [
        "```Python\n",
        "for variable in secuencia:\n",
        "    #codigo\n",
        "    a = operacion(variable)\n",
        "```"
      ]
    },
    {
      "cell_type": "markdown",
      "metadata": {
        "id": "HgpWJ3l3_-W_"
      },
      "source": [
        "- Cada vez que se utiliza un ciclo for, se define una variable que va a tomar cada uno de los valores de `secuencia`.\n",
        "\n",
        "\n",
        "- `secuencia` debe ser un tipo de dato iterable, como un string.\n",
        "\n",
        "\n",
        "- Los tipos iterables son los que se pueden recorrer elemento por elemento siguiendo un orden. Otros ejemplos de tipos iterables que también estudiaremos son las listas y las tuplas."
      ]
    },
    {
      "cell_type": "markdown",
      "metadata": {
        "id": "yX9itG_v_-W_"
      },
      "source": [
        "### Recorrer `string` utilizando  `while`"
      ]
    },
    {
      "cell_type": "markdown",
      "metadata": {
        "id": "TMLydzFd_-W_"
      },
      "source": [
        "Vamos a repetir el ejemplo utilizando `while`."
      ]
    },
    {
      "cell_type": "code",
      "execution_count": 47,
      "metadata": {
        "id": "Q1M5rO1r_-W_",
        "outputId": "348af0bf-6c88-417c-96c8-bebdb8ea1068",
        "colab": {
          "base_uri": "https://localhost:8080/"
        }
      },
      "outputs": [
        {
          "output_type": "stream",
          "name": "stdout",
          "text": [
            "s = h\n",
            "s = o\n",
            "s = l\n",
            "s = a\n",
            "s =  \n",
            "s = m\n",
            "s = u\n",
            "s = n\n",
            "s = d\n",
            "s = o\n",
            "s = !\n"
          ]
        }
      ],
      "source": [
        "a = \"hola mundo!\"\n",
        "i = 0\n",
        "while i < len(a):\n",
        "    print(\"s = \" + a[i])\n",
        "    i += 1"
      ]
    },
    {
      "cell_type": "markdown",
      "metadata": {
        "id": "2Z8mxi0h_-W_"
      },
      "source": [
        "## Ejercicios"
      ]
    },
    {
      "cell_type": "markdown",
      "metadata": {
        "id": "-Kcg0NiQ_-XA"
      },
      "source": [
        "### Ejercicio 1\n",
        "\n",
        "Escriba un programa que indique si una palabra existe dentro de una oración. Tanto la palabra, como la oración serán ingresadas como entrada de datos."
      ]
    },
    {
      "cell_type": "code",
      "execution_count": 50,
      "metadata": {
        "id": "9cRlcu8-_-XA",
        "outputId": "800f800a-89b1-4282-ef5d-3da60694acd5",
        "colab": {
          "base_uri": "https://localhost:8080/"
        }
      },
      "outputs": [
        {
          "name": "stdout",
          "output_type": "stream",
          "text": [
            "Ingrese una oracion: Mi perro es bonito\n",
            "Ingrese una palabra: Perro\n"
          ]
        }
      ],
      "source": [
        "oracion = input(\"Ingrese una oracion: \")\n",
        "palabra = input(\"Ingrese una palabra: \")\n",
        "\n",
        "if palabra in oracion:\n",
        "    print(\"La palabra '\"+ str(palabra)+ \"' esta contenida en '\"+str(oracion)+\"'\")"
      ]
    },
    {
      "cell_type": "markdown",
      "metadata": {
        "id": "eI3uweO2_-XA"
      },
      "source": [
        "### Ejercicio 2\n",
        "\n",
        "Modifique el programa anterior para se acepte encontrar palabras dentro de una oración, sin importar si están escritas en diferente combinación de mayúsculas/minúsculas."
      ]
    },
    {
      "cell_type": "code",
      "execution_count": 51,
      "metadata": {
        "id": "9S2OMGZg_-XA",
        "outputId": "6b7dce32-ff18-4a6e-b00f-94da0efc732b",
        "colab": {
          "base_uri": "https://localhost:8080/"
        }
      },
      "outputs": [
        {
          "output_type": "stream",
          "name": "stdout",
          "text": [
            "Ingrese una oracion: Mi perro es bonito\n",
            "Ingrese una palabra: Perro\n",
            "La palabra 'Perro' esta contenida en 'Mi perro es bonito'\n"
          ]
        }
      ],
      "source": [
        "oracion = input(\"Ingrese una oracion: \")\n",
        "palabra = input(\"Ingrese una palabra: \")\n",
        "\n",
        "if palabra.lower() in oracion.lower():\n",
        "    print(\"La palabra '\"+ str(palabra)+ \"' esta contenida en '\"+str(oracion)+\"'\")"
      ]
    },
    {
      "cell_type": "markdown",
      "metadata": {
        "id": "jNlPTSQx_-XA"
      },
      "source": [
        "### Ejercicio 3\n",
        "\n",
        "Escriba un programa que pida al usuario dos palabras, y que indique cuál de ellas es la más larga y por cuántas letras lo es."
      ]
    },
    {
      "cell_type": "code",
      "execution_count": 52,
      "metadata": {
        "id": "EBxrnG3O_-XA",
        "outputId": "b19e9352-f9c8-48e7-8f58-ded08e8b6de4",
        "colab": {
          "base_uri": "https://localhost:8080/"
        }
      },
      "outputs": [
        {
          "output_type": "stream",
          "name": "stdout",
          "text": [
            "Palabra 1: Perro\n",
            "Palabra 2: Gato\n",
            "La palabra Perro tiene 1 letras mas que la palabra Gato\n"
          ]
        }
      ],
      "source": [
        "palabra1 = input(\"Palabra 1: \")\n",
        "palabra2 = input(\"Palabra 2: \")\n",
        "\n",
        "largo1 = len(palabra1)\n",
        "largo2 = len(palabra2)\n",
        "\n",
        "if largo1 > largo2:\n",
        "    print(\"La palabra\",palabra1,\"tiene\",largo1-largo2,\"letras mas que la palabra\",palabra2)\n",
        "elif largo1 < largo2:\n",
        "    print(\"La palabra\",palabra2,\"tiene\",largo2-largo1,\"letras mas que la palabra\",palabra1)\n",
        "else:\n",
        "    print(\"La palabra\",palabra1,\"tiene el mismo largo que la palabra\",palabra2)"
      ]
    },
    {
      "cell_type": "markdown",
      "metadata": {
        "id": "SZV3kcpO_-XA"
      },
      "source": [
        "### Ejercicio 4\n",
        "\n",
        "Escriba un programa que indique las veces aparece la letra en la palabra."
      ]
    },
    {
      "cell_type": "code",
      "execution_count": 53,
      "metadata": {
        "id": "dqu9hC92_-XB",
        "outputId": "264ce6ba-ebf8-4285-9f0e-0622026d25ec",
        "colab": {
          "base_uri": "https://localhost:8080/"
        }
      },
      "outputs": [
        {
          "output_type": "stream",
          "name": "stdout",
          "text": [
            "Ingrese una letra: a\n",
            "Ingrese una palabra: paralelepipedo\n",
            "2\n"
          ]
        }
      ],
      "source": [
        "letra = input(\"Ingrese una letra: \")\n",
        "palabra = input(\"Ingrese una palabra: \")\n",
        "contador = 0\n",
        "for i in palabra:\n",
        "    if i == letra:\n",
        "        contador +=1\n",
        "print(contador)"
      ]
    }
  ],
  "metadata": {
    "celltoolbar": "Slideshow",
    "kernelspec": {
      "display_name": "Python 3",
      "language": "python",
      "name": "python3"
    },
    "language_info": {
      "codemirror_mode": {
        "name": "ipython",
        "version": 3
      },
      "file_extension": ".py",
      "mimetype": "text/x-python",
      "name": "python",
      "nbconvert_exporter": "python",
      "pygments_lexer": "ipython3",
      "version": "3.7.4"
    },
    "colab": {
      "provenance": [],
      "include_colab_link": true
    }
  },
  "nbformat": 4,
  "nbformat_minor": 0
}