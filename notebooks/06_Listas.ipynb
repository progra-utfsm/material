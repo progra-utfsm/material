{
 "cells": [
  {
   "cell_type": "markdown",
   "metadata": {
    "slideshow": {
     "slide_type": "slide"
    }
   },
   "source": [
    "# IWI-131 Programación"
   ]
  },
  {
   "cell_type": "markdown",
   "metadata": {
    "collapsed": true,
    "slideshow": {
     "slide_type": "slide"
    }
   },
   "source": [
    "## Listas"
   ]
  },
  {
   "cell_type": "markdown",
   "metadata": {
    "slideshow": {
     "slide_type": "fragment"
    }
   },
   "source": [
    "Una lista es una colección **ordenada** de elementos de cualquier tipo, incluso otras listas.\n",
    "\n",
    "Sus elementos individuales pueden accederse a través de **índices**, como con los caracteres de un string. De igual forma, se pueden extraer sublistas utilizando rebanadas."
   ]
  },
  {
   "cell_type": "markdown",
   "metadata": {
    "slideshow": {
     "slide_type": "fragment"
    }
   },
   "source": [
    "## Creación de Listas\n",
    "- Usando corchetes: `[]`\n",
    "- Usando el constructor: `list()`"
   ]
  },
  {
   "cell_type": "markdown",
   "metadata": {
    "slideshow": {
     "slide_type": "slide"
    }
   },
   "source": [
    "### Lista vacía"
   ]
  },
  {
   "cell_type": "code",
   "execution_count": 1,
   "metadata": {
    "slideshow": {
     "slide_type": "fragment"
    }
   },
   "outputs": [
    {
     "name": "stdout",
     "output_type": "stream",
     "text": [
      "[]\n",
      "[]\n"
     ]
    }
   ],
   "source": [
    "a = []\n",
    "b = list()\n",
    "print(a)\n",
    "print(b)"
   ]
  },
  {
   "cell_type": "markdown",
   "metadata": {
    "slideshow": {
     "slide_type": "slide"
    }
   },
   "source": [
    "### Lista con elementos"
   ]
  },
  {
   "cell_type": "code",
   "execution_count": 2,
   "metadata": {
    "slideshow": {
     "slide_type": "fragment"
    }
   },
   "outputs": [
    {
     "name": "stdout",
     "output_type": "stream",
     "text": [
      "[1, 2, 3, 4]\n",
      "['hola', 2, [1, 2], '3']\n",
      "['a', 'b', 'c']\n"
     ]
    }
   ],
   "source": [
    "a = [1,2,3,4]\n",
    "palabra = \"hola\"\n",
    "b = list([palabra,2,[1,2],'3'])\n",
    "print(a)\n",
    "print(b)\n",
    "\n",
    "c = list(\"abc\")\n",
    "print(c)"
   ]
  },
  {
   "cell_type": "markdown",
   "metadata": {
    "slideshow": {
     "slide_type": "slide"
    }
   },
   "source": [
    "## Rangos"
   ]
  },
  {
   "cell_type": "markdown",
   "metadata": {
    "slideshow": {
     "slide_type": "fragment"
    }
   },
   "source": [
    "La función `range` genera una secuencia **ordenada** de números enteros. En conjunto con el constructor `list()` permite crear una lista con la secuencia generada."
   ]
  },
  {
   "cell_type": "markdown",
   "metadata": {
    "slideshow": {
     "slide_type": "slide"
    }
   },
   "source": [
    "`range(inicio,fin)` genera una secuencia ordenada de números enteros ordenados desde $inicio$ hasta $fin-1$.\n",
    "\n",
    "Si se omite el $inicio$, la secuencia va desde $0$ hasta $fin-1$.\n",
    "\n",
    "Aplicando `list()` construimos una lista con el rango correspondiente."
   ]
  },
  {
   "cell_type": "code",
   "execution_count": 3,
   "metadata": {
    "slideshow": {
     "slide_type": "fragment"
    }
   },
   "outputs": [
    {
     "name": "stdout",
     "output_type": "stream",
     "text": [
      "[4, 5, 6, 7, 8, 9]\n",
      "[0, 1, 2, 3, 4]\n"
     ]
    }
   ],
   "source": [
    "a = list(range(4,10))\n",
    "b = list(range(5))\n",
    "print(a)\n",
    "print(b)"
   ]
  },
  {
   "cell_type": "markdown",
   "metadata": {
    "slideshow": {
     "slide_type": "slide"
    }
   },
   "source": [
    "`range(inicio, fin, salto)` genera una secuencia ordenada de números enteros, desde $inicio$ hasta $fin-1$, saltando $salto$ entre cada par de números.\n"
   ]
  },
  {
   "cell_type": "code",
   "execution_count": 4,
   "metadata": {
    "slideshow": {
     "slide_type": "fragment"
    }
   },
   "outputs": [
    {
     "name": "stdout",
     "output_type": "stream",
     "text": [
      "[2, 5, 8]\n"
     ]
    }
   ],
   "source": [
    "c = list(range(2,10,3))\n",
    "print(c)"
   ]
  },
  {
   "cell_type": "markdown",
   "metadata": {
    "slideshow": {
     "slide_type": "slide"
    }
   },
   "source": [
    "## Índices"
   ]
  },
  {
   "cell_type": "markdown",
   "metadata": {
    "slideshow": {
     "slide_type": "fragment"
    }
   },
   "source": [
    "Las listas tienen índices para enumerar sus elementos, de manera similar que con strings."
   ]
  },
  {
   "cell_type": "code",
   "execution_count": 5,
   "metadata": {
    "slideshow": {
     "slide_type": "fragment"
    }
   },
   "outputs": [
    {
     "name": "stdout",
     "output_type": "stream",
     "text": [
      "2\n"
     ]
    }
   ],
   "source": [
    "a = [1,2,3,4]\n",
    "print(a[1])"
   ]
  },
  {
   "cell_type": "code",
   "execution_count": 6,
   "metadata": {
    "slideshow": {
     "slide_type": "fragment"
    }
   },
   "outputs": [
    {
     "ename": "IndexError",
     "evalue": "list index out of range",
     "output_type": "error",
     "traceback": [
      "\u001b[0;31m---------------------------------------------------------------------------\u001b[0m",
      "\u001b[0;31mIndexError\u001b[0m                                Traceback (most recent call last)",
      "\u001b[0;32m<ipython-input-6-45a6398849db>\u001b[0m in \u001b[0;36m<module>\u001b[0;34m\u001b[0m\n\u001b[0;32m----> 1\u001b[0;31m \u001b[0mprint\u001b[0m\u001b[0;34m(\u001b[0m\u001b[0ma\u001b[0m\u001b[0;34m[\u001b[0m\u001b[0;36m10\u001b[0m\u001b[0;34m]\u001b[0m\u001b[0;34m)\u001b[0m\u001b[0;34m\u001b[0m\u001b[0;34m\u001b[0m\u001b[0m\n\u001b[0m",
      "\u001b[0;31mIndexError\u001b[0m: list index out of range"
     ]
    }
   ],
   "source": [
    "print(a[10])"
   ]
  },
  {
   "cell_type": "markdown",
   "metadata": {
    "slideshow": {
     "slide_type": "slide"
    }
   },
   "source": [
    "Las listas también poseen índices negativos."
   ]
  },
  {
   "cell_type": "code",
   "execution_count": 7,
   "metadata": {
    "slideshow": {
     "slide_type": "fragment"
    }
   },
   "outputs": [
    {
     "name": "stdout",
     "output_type": "stream",
     "text": [
      "3\n"
     ]
    }
   ],
   "source": [
    "a = [1,2,3,4]\n",
    "#imprime por pantalla el penultimo elemento de la lista\n",
    "print(a[-2])"
   ]
  },
  {
   "cell_type": "markdown",
   "metadata": {
    "slideshow": {
     "slide_type": "slide"
    }
   },
   "source": [
    "La notación `l[inicio:fin]`, para extraer una rebanada, también es válida para listas."
   ]
  },
  {
   "cell_type": "code",
   "execution_count": 8,
   "metadata": {
    "slideshow": {
     "slide_type": "fragment"
    }
   },
   "outputs": [
    {
     "name": "stdout",
     "output_type": "stream",
     "text": [
      "[6, 7, 8, 9, 10, 11, 12, 13, 14, 15, 16]\n"
     ]
    }
   ],
   "source": [
    "a = list(range(2,20))\n",
    "print(a[4:15])"
   ]
  },
  {
   "cell_type": "markdown",
   "metadata": {
    "slideshow": {
     "slide_type": "slide"
    }
   },
   "source": [
    "## Mutabilidad"
   ]
  },
  {
   "cell_type": "markdown",
   "metadata": {
    "slideshow": {
     "slide_type": "fragment"
    }
   },
   "source": [
    "**A diferencia de los strings**, las listas son **mutables**, es decir, sus elementos **pueden cambiar**. El **índice** puede ser usado para **modificar** un elemento de la lista."
   ]
  },
  {
   "cell_type": "code",
   "execution_count": 9,
   "metadata": {
    "slideshow": {
     "slide_type": "fragment"
    }
   },
   "outputs": [
    {
     "name": "stdout",
     "output_type": "stream",
     "text": [
      "Lista antes de modificar un elemento por el indice\n",
      "['azul', 'rojo', 'verde', 'amarillo']\n",
      "Lista despues de modificar un elemento por el indice\n",
      "['fucsia', 'rojo', 'verde', 'amarillo']\n"
     ]
    }
   ],
   "source": [
    "colores = [\"azul\", \"rojo\", \"verde\", \"amarillo\"]\n",
    "print(\"Lista antes de modificar un elemento por el indice\")\n",
    "print(colores)\n",
    "colores[0] = \"fucsia\"\n",
    "print(\"Lista despues de modificar un elemento por el indice\")\n",
    "print(colores)"
   ]
  },
  {
   "cell_type": "markdown",
   "metadata": {
    "slideshow": {
     "slide_type": "slide"
    }
   },
   "source": [
    "## Operaciones sobre listas"
   ]
  },
  {
   "cell_type": "markdown",
   "metadata": {
    "slideshow": {
     "slide_type": "fragment"
    }
   },
   "source": [
    "Algunas operaciones de listas son análogas a las operaciones de strings:\n",
    "\n",
    "- Concatenación de lista (`+`)\n",
    "- Repetición de listas (`*`)\n",
    "- Verificar si un *elemento* está en en la lista\n",
    "- Eliminar el elemento i-ésimo de una lista"
   ]
  },
  {
   "cell_type": "markdown",
   "metadata": {
    "slideshow": {
     "slide_type": "slide"
    }
   },
   "source": [
    "### Concatenación de listas\n",
    "\n",
    "El operador suma (`+`) crea una **nueva lista** como la **concatenación de las dos listas utilizadas** como operandos."
   ]
  },
  {
   "cell_type": "code",
   "execution_count": 10,
   "metadata": {
    "slideshow": {
     "slide_type": "fragment"
    }
   },
   "outputs": [
    {
     "name": "stdout",
     "output_type": "stream",
     "text": [
      "[1, 2, 3, 4, 6, 8]\n",
      "[4, 6, 8, 1, 2, 3]\n"
     ]
    }
   ],
   "source": [
    "a = [1,2,3]\n",
    "b = [4,6,8]\n",
    "c = a + b\n",
    "d = b + a\n",
    "print(c)\n",
    "print(d)"
   ]
  },
  {
   "cell_type": "code",
   "execution_count": 11,
   "metadata": {
    "slideshow": {
     "slide_type": "fragment"
    }
   },
   "outputs": [
    {
     "data": {
      "text/plain": [
       "[1, 2, 2, 6]"
      ]
     },
     "execution_count": 11,
     "metadata": {},
     "output_type": "execute_result"
    }
   ],
   "source": [
    "[1,2] + [2,6]"
   ]
  },
  {
   "cell_type": "markdown",
   "metadata": {
    "slideshow": {
     "slide_type": "slide"
    }
   },
   "source": [
    "### Repetición de listas\n",
    "\n",
    "El operador multiplicación (`*`) crea una **nueva lista** como **la repetición de la lista** que aparece como operando, la cantidad de veces indicada."
   ]
  },
  {
   "cell_type": "code",
   "execution_count": 12,
   "metadata": {
    "slideshow": {
     "slide_type": "fragment"
    }
   },
   "outputs": [
    {
     "name": "stdout",
     "output_type": "stream",
     "text": [
      "[1, 4, 6, 1, 4, 6, 1, 4, 6]\n"
     ]
    }
   ],
   "source": [
    "a = [1,4,6]\n",
    "c = a*3\n",
    "print(c)"
   ]
  },
  {
   "cell_type": "markdown",
   "metadata": {
    "slideshow": {
     "slide_type": "slide"
    }
   },
   "source": [
    "### Verificar si elemento se encuentra en la lista\n",
    "La instrucción `in` permite verificar si un elemento está contenido en la lista."
   ]
  },
  {
   "cell_type": "code",
   "execution_count": 13,
   "metadata": {
    "slideshow": {
     "slide_type": "fragment"
    }
   },
   "outputs": [
    {
     "name": "stdout",
     "output_type": "stream",
     "text": [
      "True\n"
     ]
    }
   ],
   "source": [
    "a = [1,2,3,4]\n",
    "print(3 in a)"
   ]
  },
  {
   "cell_type": "markdown",
   "metadata": {
    "slideshow": {
     "slide_type": "slide"
    }
   },
   "source": [
    "### Eliminar un elemento de la lista\n",
    "\n",
    "- Utilizando la instrucción `del`, es posible eliminar un elemento de la lista.\n",
    "- Se debe indicar el **índice del elemento** de la lista a eliminar."
   ]
  },
  {
   "cell_type": "code",
   "execution_count": 14,
   "metadata": {
    "slideshow": {
     "slide_type": "fragment"
    }
   },
   "outputs": [
    {
     "name": "stdout",
     "output_type": "stream",
     "text": [
      "lista antes de eliminar el elemento a[-3]\n",
      "[1, 2, 3, 4, 2]\n",
      "lista despues de eliminar a[-3]\n",
      "[1, 2, 4, 2]\n"
     ]
    }
   ],
   "source": [
    "a = [1,2,3,4,2]\n",
    "print(\"lista antes de eliminar el elemento a[-3]\")\n",
    "print(a)\n",
    "del a[-3]\n",
    "print(\"lista despues de eliminar a[-3]\")\n",
    "print(a)"
   ]
  },
  {
   "cell_type": "markdown",
   "metadata": {
    "slideshow": {
     "slide_type": "slide"
    }
   },
   "source": [
    "## Funciones que aceptan listas como parámetros"
   ]
  },
  {
   "cell_type": "markdown",
   "metadata": {
    "slideshow": {
     "slide_type": "fragment"
    }
   },
   "source": [
    "### Longitud de una lista\n",
    "La función `len(lista)` entrega la cantidad de elementos de la lista ingresada como parámetro."
   ]
  },
  {
   "cell_type": "code",
   "execution_count": 15,
   "metadata": {
    "slideshow": {
     "slide_type": "fragment"
    }
   },
   "outputs": [
    {
     "name": "stdout",
     "output_type": "stream",
     "text": [
      "La cantidad de elementos de la lista es 4\n"
     ]
    }
   ],
   "source": [
    "a = [1,2,3,4]\n",
    "c = len(a)\n",
    "print(\"La cantidad de elementos de la lista es\",c)"
   ]
  },
  {
   "cell_type": "code",
   "execution_count": 16,
   "metadata": {
    "slideshow": {
     "slide_type": "fragment"
    }
   },
   "outputs": [
    {
     "name": "stdout",
     "output_type": "stream",
     "text": [
      "La cantidad de elementos de la lista es 4\n"
     ]
    }
   ],
   "source": [
    "b = [[1,2,3,4]]\n",
    "d = len(b[0])\n",
    "print(\"La cantidad de elementos de la lista es\",d)"
   ]
  },
  {
   "cell_type": "markdown",
   "metadata": {
    "slideshow": {
     "slide_type": "slide"
    }
   },
   "source": [
    "¿Qué ocurre con la cantidad de elementos de las listas vacías?"
   ]
  },
  {
   "cell_type": "code",
   "execution_count": 17,
   "metadata": {
    "slideshow": {
     "slide_type": "fragment"
    }
   },
   "outputs": [
    {
     "name": "stdout",
     "output_type": "stream",
     "text": [
      "0\n"
     ]
    }
   ],
   "source": [
    "print(len([]))"
   ]
  },
  {
   "cell_type": "code",
   "execution_count": 18,
   "metadata": {
    "slideshow": {
     "slide_type": "fragment"
    }
   },
   "outputs": [
    {
     "name": "stdout",
     "output_type": "stream",
     "text": [
      "0\n"
     ]
    }
   ],
   "source": [
    "print(len(list()))"
   ]
  },
  {
   "cell_type": "markdown",
   "metadata": {
    "slideshow": {
     "slide_type": "slide"
    }
   },
   "source": [
    "### Suma de los valores de una lista\n",
    "Usando la función `sum(lista)`, se puede determinar la suma de los elementos de una lista."
   ]
  },
  {
   "cell_type": "code",
   "execution_count": 19,
   "metadata": {
    "slideshow": {
     "slide_type": "fragment"
    }
   },
   "outputs": [
    {
     "data": {
      "text/plain": [
       "9"
      ]
     },
     "execution_count": 19,
     "metadata": {},
     "output_type": "execute_result"
    }
   ],
   "source": [
    "sum([1,5,3])"
   ]
  },
  {
   "cell_type": "code",
   "execution_count": 20,
   "metadata": {
    "slideshow": {
     "slide_type": "fragment"
    }
   },
   "outputs": [
    {
     "data": {
      "text/plain": [
       "9.4"
      ]
     },
     "execution_count": 20,
     "metadata": {},
     "output_type": "execute_result"
    }
   ],
   "source": [
    "sum([1.0,5.4,3])"
   ]
  },
  {
   "cell_type": "markdown",
   "metadata": {
    "slideshow": {
     "slide_type": "slide"
    }
   },
   "source": [
    "¿Que hace el siguiente programa?"
   ]
  },
  {
   "cell_type": "code",
   "execution_count": 21,
   "metadata": {
    "slideshow": {
     "slide_type": "fragment"
    }
   },
   "outputs": [
    {
     "name": "stdout",
     "output_type": "stream",
     "text": [
      "3\n"
     ]
    }
   ],
   "source": [
    "b = 5\n",
    "a = [1,2,4,b]\n",
    "c = sum(a)/len(a)\n",
    "print(round(c))"
   ]
  },
  {
   "cell_type": "markdown",
   "metadata": {
    "slideshow": {
     "slide_type": "slide"
    }
   },
   "source": [
    "### Mínimo en una lista de elementos\n",
    "La función `min(lista)` entrega el valor mínimo en la `lista` ingresada como parámetro."
   ]
  },
  {
   "cell_type": "code",
   "execution_count": 22,
   "metadata": {
    "slideshow": {
     "slide_type": "fragment"
    }
   },
   "outputs": [
    {
     "name": "stdout",
     "output_type": "stream",
     "text": [
      "-1\n"
     ]
    }
   ],
   "source": [
    "m = min([1,6,2,-1])\n",
    "print(m)"
   ]
  },
  {
   "cell_type": "markdown",
   "metadata": {
    "slideshow": {
     "slide_type": "slide"
    }
   },
   "source": [
    "### Máximo en una lista de elementos\n",
    "La función `max(lista)` entrega el valor máximo en la `lista` ingresada como parámetro."
   ]
  },
  {
   "cell_type": "code",
   "execution_count": 23,
   "metadata": {
    "slideshow": {
     "slide_type": "fragment"
    }
   },
   "outputs": [
    {
     "name": "stdout",
     "output_type": "stream",
     "text": [
      "6\n"
     ]
    }
   ],
   "source": [
    "m = max([1,6,2,-1])\n",
    "print(m)"
   ]
  },
  {
   "cell_type": "markdown",
   "metadata": {
    "slideshow": {
     "slide_type": "slide"
    }
   },
   "source": [
    "## Métodos para listas"
   ]
  },
  {
   "cell_type": "markdown",
   "metadata": {
    "slideshow": {
     "slide_type": "fragment"
    }
   },
   "source": [
    "- Agregar un elemento `x`: `l.append(x)`\n",
    "- Agregar un elemento `x` en una posición `pos`: `l.insert(pos,x)`\n",
    "- Contar la cantidad de ocurrencias de un elemento `x`: `l.count(x)`\n",
    "- Obtener el índice de un elemento `x`: `l.index(x)`\n",
    "- Eliminar un elemento `x`: `l.remove(x)`\n",
    "- Invertir una lista: `l.reverse()`\n",
    "- Ordenar una lista: `l.sort()`"
   ]
  },
  {
   "cell_type": "markdown",
   "metadata": {
    "slideshow": {
     "slide_type": "fragment"
    }
   },
   "source": [
    "**Importante:** recordar que los métodos operan sobre una lista implícita, indicada **antes** del punto."
   ]
  },
  {
   "cell_type": "markdown",
   "metadata": {
    "slideshow": {
     "slide_type": "slide"
    }
   },
   "source": [
    "### Agregar un elemento\n",
    "- Usando `append`, se agregará un elemento al final de la lista."
   ]
  },
  {
   "cell_type": "code",
   "execution_count": 24,
   "metadata": {
    "slideshow": {
     "slide_type": "fragment"
    }
   },
   "outputs": [
    {
     "name": "stdout",
     "output_type": "stream",
     "text": [
      "lista antes de agregar un elemento\n",
      "[1, 2, 3, 4]\n",
      "lista despues de agregar un elemento\n",
      "[1, 2, 3, 4, 4]\n"
     ]
    }
   ],
   "source": [
    "a = [1,2,3,4]\n",
    "print(\"lista antes de agregar un elemento\")\n",
    "print(a)\n",
    "#agregar un 4 al final de la lista\n",
    "a.append(4)\n",
    "print(\"lista despues de agregar un elemento\")\n",
    "print(a)"
   ]
  },
  {
   "cell_type": "markdown",
   "metadata": {
    "slideshow": {
     "slide_type": "slide"
    }
   },
   "source": [
    "### Agregar un elemento en una posición\n",
    "Usando el método `insert` se puede agregar un elemento en la lista en la posición i-ésima ingresada como parámetro."
   ]
  },
  {
   "cell_type": "code",
   "execution_count": 25,
   "metadata": {
    "slideshow": {
     "slide_type": "fragment"
    }
   },
   "outputs": [
    {
     "name": "stdout",
     "output_type": "stream",
     "text": [
      "lista antes de agregar un elemento\n",
      "[1, 2, 3, 4]\n",
      "lista despues de agregar un elemento\n",
      "[1, 2, 10, 3, 4]\n"
     ]
    }
   ],
   "source": [
    "a = [1,2,3,4]\n",
    "print(\"lista antes de agregar un elemento\")\n",
    "print(a)\n",
    "#agregar un 10 en a[2]\n",
    "a.insert(2,10)\n",
    "print(\"lista despues de agregar un elemento\")\n",
    "print(a)"
   ]
  },
  {
   "cell_type": "markdown",
   "metadata": {
    "slideshow": {
     "slide_type": "slide"
    }
   },
   "source": [
    "### Contar la aparición de un elemento en una lista\n",
    "\n",
    "El método `count` cuenta cuántas veces aparece un elemento en la lista."
   ]
  },
  {
   "cell_type": "code",
   "execution_count": 26,
   "metadata": {
    "slideshow": {
     "slide_type": "fragment"
    }
   },
   "outputs": [
    {
     "name": "stdout",
     "output_type": "stream",
     "text": [
      "3\n"
     ]
    }
   ],
   "source": [
    "a = list(\"paralelepipedo\")\n",
    "b = a.count(\"p\")\n",
    "print(b)"
   ]
  },
  {
   "cell_type": "markdown",
   "metadata": {
    "slideshow": {
     "slide_type": "slide"
    }
   },
   "source": [
    "### Índice de un elemento\n",
    "- El método `index` entrega la posición de un elemento en la lista.\n",
    "- Si hay más de un elemento en la lista, entrega la posición del primer elemento (sentido izquierda - derecha).\n",
    "- El elemento debe existir."
   ]
  },
  {
   "cell_type": "code",
   "execution_count": 27,
   "metadata": {
    "slideshow": {
     "slide_type": "fragment"
    }
   },
   "outputs": [],
   "source": [
    "a = [1,2,3,4,3]"
   ]
  },
  {
   "cell_type": "code",
   "execution_count": 28,
   "metadata": {
    "slideshow": {
     "slide_type": "fragment"
    }
   },
   "outputs": [
    {
     "data": {
      "text/plain": [
       "2"
      ]
     },
     "execution_count": 28,
     "metadata": {},
     "output_type": "execute_result"
    }
   ],
   "source": [
    "a.index(3)"
   ]
  },
  {
   "cell_type": "code",
   "execution_count": 29,
   "metadata": {
    "slideshow": {
     "slide_type": "fragment"
    }
   },
   "outputs": [
    {
     "ename": "ValueError",
     "evalue": "214 is not in list",
     "output_type": "error",
     "traceback": [
      "\u001b[0;31m---------------------------------------------------------------------------\u001b[0m",
      "\u001b[0;31mValueError\u001b[0m                                Traceback (most recent call last)",
      "\u001b[0;32m<ipython-input-29-732a7ae971c1>\u001b[0m in \u001b[0;36m<module>\u001b[0;34m\u001b[0m\n\u001b[0;32m----> 1\u001b[0;31m \u001b[0ma\u001b[0m\u001b[0;34m.\u001b[0m\u001b[0mindex\u001b[0m\u001b[0;34m(\u001b[0m\u001b[0;36m214\u001b[0m\u001b[0;34m)\u001b[0m\u001b[0;34m\u001b[0m\u001b[0;34m\u001b[0m\u001b[0m\n\u001b[0m",
      "\u001b[0;31mValueError\u001b[0m: 214 is not in list"
     ]
    }
   ],
   "source": [
    "a.index(214)"
   ]
  },
  {
   "cell_type": "markdown",
   "metadata": {
    "slideshow": {
     "slide_type": "slide"
    }
   },
   "source": [
    "¿Cómo se puede asegurar que al usar `index` no habrá error?"
   ]
  },
  {
   "cell_type": "code",
   "execution_count": 30,
   "metadata": {
    "slideshow": {
     "slide_type": "fragment"
    }
   },
   "outputs": [
    {
     "name": "stdout",
     "output_type": "stream",
     "text": [
      "El elemento 3 esta en el indice 2\n"
     ]
    }
   ],
   "source": [
    "a = [1,2,3,4,3]\n",
    "if 214 in a:\n",
    "    print(\"El elemento 214 esta en el indice\",a.index(214))\n",
    "    \n",
    "if 3 in a:\n",
    "    print(\"El elemento 3 esta en el indice\",a.index(3))"
   ]
  },
  {
   "cell_type": "markdown",
   "metadata": {
    "slideshow": {
     "slide_type": "slide"
    }
   },
   "source": [
    "### Eliminar un elemento de una lista\n",
    "\n",
    "- El método `remove` elimina el elemento ingresado como parámetro.\n",
    "- Si hay más de un elemento en la lista, elimina el primer elemento (sentido izquierda - derecha).\n",
    "- El elemento debe existir en la lista."
   ]
  },
  {
   "cell_type": "code",
   "execution_count": 31,
   "metadata": {
    "slideshow": {
     "slide_type": "fragment"
    }
   },
   "outputs": [
    {
     "name": "stdout",
     "output_type": "stream",
     "text": [
      "lista antes de eliminar el elemento 3\n",
      "[1, 2, 3, 5, 3]\n",
      "lista despues de eliminar\n",
      "[1, 2, 5, 3]\n"
     ]
    }
   ],
   "source": [
    "a = [1,2,3,5,3]\n",
    "print(\"lista antes de eliminar el elemento 3\")\n",
    "print(a)\n",
    "#eliminar el elemento 3 de la lista\n",
    "a.remove(3)\n",
    "print(\"lista despues de eliminar\")\n",
    "print(a)"
   ]
  },
  {
   "cell_type": "code",
   "execution_count": 32,
   "metadata": {
    "slideshow": {
     "slide_type": "slide"
    }
   },
   "outputs": [
    {
     "ename": "ValueError",
     "evalue": "list.remove(x): x not in list",
     "output_type": "error",
     "traceback": [
      "\u001b[0;31m---------------------------------------------------------------------------\u001b[0m",
      "\u001b[0;31mValueError\u001b[0m                                Traceback (most recent call last)",
      "\u001b[0;32m<ipython-input-32-f5d8d6a28254>\u001b[0m in \u001b[0;36m<module>\u001b[0;34m\u001b[0m\n\u001b[0;32m----> 1\u001b[0;31m \u001b[0ma\u001b[0m\u001b[0;34m.\u001b[0m\u001b[0mremove\u001b[0m\u001b[0;34m(\u001b[0m\u001b[0;36m7\u001b[0m\u001b[0;34m)\u001b[0m\u001b[0;34m\u001b[0m\u001b[0;34m\u001b[0m\u001b[0m\n\u001b[0m",
      "\u001b[0;31mValueError\u001b[0m: list.remove(x): x not in list"
     ]
    }
   ],
   "source": [
    "a.remove(7)"
   ]
  },
  {
   "cell_type": "markdown",
   "metadata": {
    "slideshow": {
     "slide_type": "fragment"
    }
   },
   "source": [
    "¿Cómo se puede evitar este error al intentar eliminar un elemento?"
   ]
  },
  {
   "cell_type": "code",
   "execution_count": 33,
   "metadata": {
    "slideshow": {
     "slide_type": "fragment"
    }
   },
   "outputs": [],
   "source": [
    "a = [1,2,3,5,3]\n",
    "if 7 in a:\n",
    "    a.remove(7)"
   ]
  },
  {
   "cell_type": "markdown",
   "metadata": {
    "slideshow": {
     "slide_type": "slide"
    }
   },
   "source": [
    "### Invertir una lista\n",
    "El método `reverse` invierte el orden de los elementos de una lista."
   ]
  },
  {
   "cell_type": "code",
   "execution_count": 34,
   "metadata": {
    "slideshow": {
     "slide_type": "fragment"
    }
   },
   "outputs": [
    {
     "name": "stdout",
     "output_type": "stream",
     "text": [
      "lista antes de invertir\n",
      "[4, 1, 10, 5]\n",
      "lista despues de invertir\n",
      "[5, 10, 1, 4]\n"
     ]
    }
   ],
   "source": [
    "a = [4,1,10,5]\n",
    "print(\"lista antes de invertir\")\n",
    "print(a)\n",
    "a.reverse()\n",
    "print(\"lista despues de invertir\")\n",
    "print(a)"
   ]
  },
  {
   "cell_type": "markdown",
   "metadata": {
    "slideshow": {
     "slide_type": "slide"
    }
   },
   "source": [
    "### Ordenar una lista\n",
    "El método `sort` ordena los elementos de una lista en orden creciente."
   ]
  },
  {
   "cell_type": "code",
   "execution_count": 35,
   "metadata": {
    "slideshow": {
     "slide_type": "fragment"
    }
   },
   "outputs": [
    {
     "name": "stdout",
     "output_type": "stream",
     "text": [
      "lista antes de ordenar\n",
      "[4, 1, 10, 6]\n",
      "lista despues de ordenar\n",
      "[1, 4, 6, 10]\n"
     ]
    }
   ],
   "source": [
    "a = [4,1,10,6]\n",
    "print(\"lista antes de ordenar\")\n",
    "print(a)\n",
    "a.sort()\n",
    "print(\"lista despues de ordenar\")\n",
    "print(a)"
   ]
  },
  {
   "cell_type": "markdown",
   "metadata": {
    "slideshow": {
     "slide_type": "slide"
    }
   },
   "source": [
    "¿Cómo ordenar los elementos de una lista en orden decreciente?"
   ]
  },
  {
   "cell_type": "code",
   "execution_count": 36,
   "metadata": {
    "slideshow": {
     "slide_type": "fragment"
    }
   },
   "outputs": [
    {
     "name": "stdout",
     "output_type": "stream",
     "text": [
      "lista antes de ordenar\n",
      "[4, 1, 10, 6]\n",
      "lista despues de ordenar\n",
      "[10, 6, 4, 1]\n"
     ]
    }
   ],
   "source": [
    "a = [4,1,10,6]\n",
    "print(\"lista antes de ordenar\")\n",
    "print(a)\n",
    "a.sort()\n",
    "a.reverse()\n",
    "print(\"lista despues de ordenar\")\n",
    "print(a)"
   ]
  },
  {
   "cell_type": "markdown",
   "metadata": {
    "slideshow": {
     "slide_type": "slide"
    }
   },
   "source": [
    "## Ciclo `for` en listas\n",
    "- Un ciclo `for` puede ser usado para iterar sobre listas."
   ]
  },
  {
   "cell_type": "code",
   "execution_count": 37,
   "metadata": {
    "slideshow": {
     "slide_type": "fragment"
    }
   },
   "outputs": [
    {
     "name": "stdout",
     "output_type": "stream",
     "text": [
      "elem = 1\n",
      "elem = 4\n",
      "elem = s\n",
      "elem = [1, 5]\n"
     ]
    }
   ],
   "source": [
    "lista = [1,4,\"s\",[1,5]]\n",
    "for elem in lista:\n",
    "    print(\"elem =\",elem)"
   ]
  },
  {
   "cell_type": "markdown",
   "metadata": {
    "slideshow": {
     "slide_type": "slide"
    }
   },
   "source": [
    "### Utilizando `range` en un ciclo `for`"
   ]
  },
  {
   "cell_type": "code",
   "execution_count": 38,
   "metadata": {
    "slideshow": {
     "slide_type": "fragment"
    }
   },
   "outputs": [
    {
     "name": "stdout",
     "output_type": "stream",
     "text": [
      "50\n"
     ]
    }
   ],
   "source": [
    "suma = 0\n",
    "for k in range(3,6):\n",
    "    suma += k**2\n",
    "print(suma)"
   ]
  },
  {
   "cell_type": "code",
   "execution_count": 39,
   "metadata": {
    "slideshow": {
     "slide_type": "fragment"
    }
   },
   "outputs": [
    {
     "name": "stdout",
     "output_type": "stream",
     "text": [
      "hola persona 1\n",
      "hola persona 2\n",
      "hola persona 3\n",
      "hola persona 4\n",
      "hola persona 5\n"
     ]
    }
   ],
   "source": [
    "for i in range(5):\n",
    "    print(\"hola persona \"+str(i+1))"
   ]
  },
  {
   "cell_type": "code",
   "execution_count": 40,
   "metadata": {
    "slideshow": {
     "slide_type": "fragment"
    }
   },
   "outputs": [
    {
     "name": "stdout",
     "output_type": "stream",
     "text": [
      "2\n",
      "3\n",
      "4\n"
     ]
    }
   ],
   "source": [
    "for i in range(2,5):\n",
    "    print(i)"
   ]
  },
  {
   "cell_type": "markdown",
   "metadata": {
    "slideshow": {
     "slide_type": "slide"
    }
   },
   "source": [
    "## Equivalencia entre ciclo `while` y ciclo `for`\n",
    "¿Son equivalentes los siguientes códigos?"
   ]
  },
  {
   "cell_type": "code",
   "execution_count": 41,
   "metadata": {
    "slideshow": {
     "slide_type": "fragment"
    }
   },
   "outputs": [
    {
     "name": "stdout",
     "output_type": "stream",
     "text": [
      "La suma es igual a 10\n"
     ]
    }
   ],
   "source": [
    "contador = 0\n",
    "suma = 0\n",
    "while contador < 5:\n",
    "    suma += contador\n",
    "    contador += 1\n",
    "print(\"La suma es igual a\",suma)"
   ]
  },
  {
   "cell_type": "code",
   "execution_count": 42,
   "metadata": {
    "slideshow": {
     "slide_type": "fragment"
    }
   },
   "outputs": [
    {
     "name": "stdout",
     "output_type": "stream",
     "text": [
      "La suma es igual a 10\n"
     ]
    }
   ],
   "source": [
    "suma = 0\n",
    "for contador in range(5):\n",
    "    suma += contador\n",
    "print(\"La suma es igual a\",suma)"
   ]
  },
  {
   "cell_type": "markdown",
   "metadata": {
    "slideshow": {
     "slide_type": "slide"
    }
   },
   "source": [
    "### Iteración de listas usando ciclo `while` y ciclo `for`"
   ]
  },
  {
   "cell_type": "code",
   "execution_count": 43,
   "metadata": {
    "slideshow": {
     "slide_type": "fragment"
    }
   },
   "outputs": [
    {
     "name": "stdout",
     "output_type": "stream",
     "text": [
      "Tengo clases de Progra\n",
      "Tengo clases de Mate\n",
      "Tengo clases de Fisica\n"
     ]
    }
   ],
   "source": [
    "ramos = [\"Progra\", \"Mate\", \"Fisica\"]\n",
    "i = 0\n",
    "while i < len(ramos):\n",
    "    print(\"Tengo clases de\",ramos[i])\n",
    "    i += 1"
   ]
  },
  {
   "cell_type": "code",
   "execution_count": 44,
   "metadata": {
    "slideshow": {
     "slide_type": "fragment"
    }
   },
   "outputs": [
    {
     "name": "stdout",
     "output_type": "stream",
     "text": [
      "Tengo clases de Progra\n",
      "Tengo clases de Mate\n",
      "Tengo clases de Fisica\n"
     ]
    }
   ],
   "source": [
    "ramos = [\"Progra\", \"Mate\", \"Fisica\"]\n",
    "for ramo in ramos:\n",
    "    print(\"Tengo clases de\",ramo)"
   ]
  },
  {
   "cell_type": "code",
   "execution_count": 45,
   "metadata": {
    "slideshow": {
     "slide_type": "slide"
    }
   },
   "outputs": [
    {
     "name": "stdout",
     "output_type": "stream",
     "text": [
      "Tengo clases de Progra a las 8:00\n",
      "Tengo clases de Mate a las 10:00\n",
      "Tengo clases de Fisica a las 12:00\n"
     ]
    }
   ],
   "source": [
    "ramos = [\"Progra\", \"Mate\", \"Fisica\"]\n",
    "horas = [\"8:00\", \"10:00\", \"12:00\"]\n",
    "i = 0\n",
    "while i < len(ramos):\n",
    "    print(\"Tengo clases de\",ramos[i],\"a las\", horas[i])\n",
    "    i += 1"
   ]
  },
  {
   "cell_type": "code",
   "execution_count": 46,
   "metadata": {
    "slideshow": {
     "slide_type": "fragment"
    }
   },
   "outputs": [
    {
     "name": "stdout",
     "output_type": "stream",
     "text": [
      "[0, 1, 2]\n",
      "Tengo clases de Progra a las 8:00\n",
      "Tengo clases de Mate a las 10:00\n",
      "Tengo clases de Fisica a las 12:00\n"
     ]
    }
   ],
   "source": [
    "ramos = [\"Progra\", \"Mate\", \"Fisica\"]\n",
    "horas = [\"8:00\", \"10:00\", \"12:00\"]\n",
    "print(list(range(len(ramos))))\n",
    "for i in range(len(ramos)):\n",
    "    print(\"Tengo clases de\",ramos[i],\"a las\", horas[i])"
   ]
  },
  {
   "cell_type": "markdown",
   "metadata": {
    "slideshow": {
     "slide_type": "slide"
    }
   },
   "source": [
    "## Listas Bi-dimensionales"
   ]
  },
  {
   "cell_type": "markdown",
   "metadata": {
    "slideshow": {
     "slide_type": "fragment"
    }
   },
   "source": [
    "* Las listas bi-dimensionales se caracterizan por que **al menos** un elemento de la lista es,  a su vez, otra lista.\n",
    "\n",
    "\n",
    "* Tambien se les llama: **listas de listas** o **listas anidadas**.\n",
    "\n",
    "\n",
    "* Las listas de listas tienen las mismas caractersiticas que una lista normal (o uni-dimensional). Es decir:\n",
    "    1. Se les puede aplicar los métodos ya vistos: `.append()`, `.sort()`, `.remove()`, etc.     \n",
    "    2. Estas listas pueden tener cualquier tamaño, incluso pueden crearse como listas vacias.\n",
    "    3. Pueden contener cualquier tipo de dato. "
   ]
  },
  {
   "cell_type": "markdown",
   "metadata": {
    "slideshow": {
     "slide_type": "slide"
    }
   },
   "source": [
    "Ejemplo de listas de listas pueden ser:"
   ]
  },
  {
   "cell_type": "code",
   "execution_count": 47,
   "metadata": {
    "slideshow": {
     "slide_type": "fragment"
    }
   },
   "outputs": [
    {
     "name": "stdout",
     "output_type": "stream",
     "text": [
      "Lista L1: [1, 2, 3, [4, 5, 6, 7, 8], 9]\n",
      "Lista L2: [True, 234, [1988, 4, 12], 'lista de listas', [False, '789']]\n",
      "Lista L3: [[], []]\n"
     ]
    }
   ],
   "source": [
    "L1 = [1,2,3, [4,5,6,7,8], 9]\n",
    "L2 = [True, 234, [1988, 4, 12], 'lista de listas', [False, '789']]\n",
    "L3 = [[],[]]\n",
    "print('Lista L1:', L1)\n",
    "print('Lista L2:', L2)\n",
    "print('Lista L3:', L3)"
   ]
  },
  {
   "cell_type": "markdown",
   "metadata": {
    "slideshow": {
     "slide_type": "fragment"
    }
   },
   "source": [
    "Se debe tener conciencia que en estos casos, los elementos de las listas pueden ser elementos que pueden contener a su vez otros elementos. "
   ]
  },
  {
   "cell_type": "markdown",
   "metadata": {
    "slideshow": {
     "slide_type": "slide"
    }
   },
   "source": [
    "**Ejemplo:** \n",
    "\n",
    "Los elementos de la lista `L1` son 5: `1, 2, 3, [4, 5, 6, 7, 8], 9`. \n",
    "\n",
    "Entonces, el cuarto elemento, es decir el elemento con el **índice 3**, es: `[4, 5, 6, 7, 8]`. "
   ]
  },
  {
   "cell_type": "code",
   "execution_count": 48,
   "metadata": {
    "slideshow": {
     "slide_type": "fragment"
    }
   },
   "outputs": [
    {
     "name": "stdout",
     "output_type": "stream",
     "text": [
      "[4, 5, 6, 7, 8]\n"
     ]
    }
   ],
   "source": [
    "print(L1[3])"
   ]
  },
  {
   "cell_type": "code",
   "execution_count": 49,
   "metadata": {
    "slideshow": {
     "slide_type": "fragment"
    }
   },
   "outputs": [
    {
     "name": "stdout",
     "output_type": "stream",
     "text": [
      "9\n"
     ]
    }
   ],
   "source": [
    "print(L1[-1])"
   ]
  },
  {
   "cell_type": "markdown",
   "metadata": {
    "slideshow": {
     "slide_type": "slide"
    }
   },
   "source": [
    "Entonces, teniendo las listas `L1`, `L2`, y `L3`"
   ]
  },
  {
   "cell_type": "code",
   "execution_count": 50,
   "metadata": {
    "slideshow": {
     "slide_type": "fragment"
    }
   },
   "outputs": [
    {
     "name": "stdout",
     "output_type": "stream",
     "text": [
      "Lista L1: [1, 2, 3, [4, 5, 6, 7, 8], 9]\n",
      "Lista L2: [True, 234, [1988, 4, 12], 'lista de listas', [False, '789']]\n",
      "Lista L3: [[], []]\n"
     ]
    }
   ],
   "source": [
    "print('Lista L1:', L1)\n",
    "print('Lista L2:', L2)\n",
    "print('Lista L3:', L3)"
   ]
  },
  {
   "cell_type": "markdown",
   "metadata": {
    "slideshow": {
     "slide_type": "fragment"
    }
   },
   "source": [
    "¿Qué nos entrega las siguientes instrucciones?"
   ]
  },
  {
   "cell_type": "code",
   "execution_count": 51,
   "metadata": {
    "slideshow": {
     "slide_type": "fragment"
    }
   },
   "outputs": [],
   "source": [
    "v1 = L2[0]\n",
    "v2 = L2[-1]\n",
    "v3 = L3[1]\n",
    "v4 = L1[3:]\n",
    "v5 = L1[:3]\n",
    "v6 = L2[2:3]"
   ]
  },
  {
   "cell_type": "code",
   "execution_count": 52,
   "metadata": {
    "slideshow": {
     "slide_type": "slide"
    }
   },
   "outputs": [
    {
     "name": "stdout",
     "output_type": "stream",
     "text": [
      "True\n",
      "[False, '789']\n",
      "[]\n",
      "[[4, 5, 6, 7, 8], 9]\n",
      "[1, 2, 3]\n",
      "[[1988, 4, 12]]\n"
     ]
    }
   ],
   "source": [
    "print(v1)\n",
    "print(v2)\n",
    "print(v3)\n",
    "print(v4)\n",
    "print(v5)\n",
    "print(v6)"
   ]
  },
  {
   "cell_type": "markdown",
   "metadata": {
    "slideshow": {
     "slide_type": "slide"
    }
   },
   "source": [
    "### Manejo de índices"
   ]
  },
  {
   "cell_type": "markdown",
   "metadata": {
    "slideshow": {
     "slide_type": "fragment"
    }
   },
   "source": [
    "El manejo de índices en listas de listas aumenta un poco su complejidad, pero es importante entenderlo ya que es posible obtener cualquier valor y esto facilita mucho el trabajo."
   ]
  },
  {
   "cell_type": "markdown",
   "metadata": {
    "slideshow": {
     "slide_type": "fragment"
    }
   },
   "source": [
    "Hasta ahora sabemos que para obtener el valor de un elemento de una lista es necesario usar los paréntesis cuadrados o corchetes, `[ ]`."
   ]
  },
  {
   "cell_type": "markdown",
   "metadata": {
    "slideshow": {
     "slide_type": "fragment"
    }
   },
   "source": [
    "Este operador (operador rebanador) nos permite acceder a elementos de un iterable, es decir: lista y string."
   ]
  },
  {
   "cell_type": "markdown",
   "metadata": {
    "slideshow": {
     "slide_type": "fragment"
    }
   },
   "source": [
    "**Entonces, podemos usar tantas veces como queramos el operador rebanador, siempre y cuando tengamos al lado izquierda una lista o un string.**"
   ]
  },
  {
   "cell_type": "markdown",
   "metadata": {
    "slideshow": {
     "slide_type": "slide"
    }
   },
   "source": [
    "Volvamos al ejemplo anterior, es decir, con las listas `L1`, `L2`, y `L3`"
   ]
  },
  {
   "cell_type": "code",
   "execution_count": 53,
   "metadata": {
    "slideshow": {
     "slide_type": "fragment"
    }
   },
   "outputs": [
    {
     "name": "stdout",
     "output_type": "stream",
     "text": [
      "Lista L1: [1, 2, 3, [4, 5, 6, 7, 8], 9]\n",
      "Lista L2: [True, 234, [1988, 4, 12], 'lista de listas', [False, '789']]\n",
      "Lista L3: [[], []]\n"
     ]
    }
   ],
   "source": [
    "print('Lista L1:', L1)\n",
    "print('Lista L2:', L2)\n",
    "print('Lista L3:', L3)"
   ]
  },
  {
   "cell_type": "markdown",
   "metadata": {
    "slideshow": {
     "slide_type": "fragment"
    }
   },
   "source": [
    "Si sabemos que: `L1[3]` es la lista `[4, 5, 6, 7, 8]`, entonces podemos obtener el primer elemento de la siguiente manera:"
   ]
  },
  {
   "cell_type": "code",
   "execution_count": 54,
   "metadata": {
    "slideshow": {
     "slide_type": "fragment"
    }
   },
   "outputs": [
    {
     "name": "stdout",
     "output_type": "stream",
     "text": [
      "El primer elemento de la sublista es: 4\n"
     ]
    }
   ],
   "source": [
    "sub_lista = L1[3]\n",
    "primer_elem = sub_lista[0]\n",
    "print('El primer elemento de la sublista es:',primer_elem)"
   ]
  },
  {
   "cell_type": "markdown",
   "metadata": {
    "slideshow": {
     "slide_type": "slide"
    }
   },
   "source": [
    "De una manera abreviada, y más conveniente, podemos escribir lo mismo de la siguiente manera:"
   ]
  },
  {
   "cell_type": "code",
   "execution_count": 55,
   "metadata": {
    "slideshow": {
     "slide_type": "fragment"
    }
   },
   "outputs": [
    {
     "name": "stdout",
     "output_type": "stream",
     "text": [
      "El primer elemento de la sublista es: 4\n"
     ]
    }
   ],
   "source": [
    "primer_elem = L1[3][0]\n",
    "print('El primer elemento de la sublista es:',primer_elem)"
   ]
  },
  {
   "cell_type": "markdown",
   "metadata": {
    "slideshow": {
     "slide_type": "fragment"
    }
   },
   "source": [
    "Los paréntesis corchetes: `[ ]`, permiten acceder a la ubicación que le damos con el valor entero (positivo o negativo), pero además, **es posible realizar esto tantas veces como queramos siempre y cuando lo que este a lado izquierda sea una lista o un string.**"
   ]
  },
  {
   "cell_type": "markdown",
   "metadata": {
    "slideshow": {
     "slide_type": "slide"
    }
   },
   "source": [
    "Otro ejemplo: vamos a acceder a la palabra \"de\" del string \"listas de listas\" de la lista `L2`."
   ]
  },
  {
   "cell_type": "code",
   "execution_count": 56,
   "metadata": {
    "slideshow": {
     "slide_type": "fragment"
    }
   },
   "outputs": [
    {
     "name": "stdout",
     "output_type": "stream",
     "text": [
      "Lista L2: [True, 234, [1988, 4, 12], 'lista de listas', [False, '789']]\n"
     ]
    }
   ],
   "source": [
    "print('Lista L2:', L2)"
   ]
  },
  {
   "cell_type": "code",
   "execution_count": 57,
   "metadata": {
    "slideshow": {
     "slide_type": "fragment"
    }
   },
   "outputs": [
    {
     "name": "stdout",
     "output_type": "stream",
     "text": [
      "de\n"
     ]
    }
   ],
   "source": [
    "string_completo = L2[3]\n",
    "palabra_de = string_completo[6:8]\n",
    "print(palabra_de)"
   ]
  },
  {
   "cell_type": "markdown",
   "metadata": {
    "slideshow": {
     "slide_type": "slide"
    }
   },
   "source": [
    "De manera abreviada, y **más conveniente** seria:"
   ]
  },
  {
   "cell_type": "code",
   "execution_count": 58,
   "metadata": {
    "slideshow": {
     "slide_type": "fragment"
    }
   },
   "outputs": [
    {
     "name": "stdout",
     "output_type": "stream",
     "text": [
      "de\n"
     ]
    }
   ],
   "source": [
    "print(L2[3][6:8])"
   ]
  },
  {
   "cell_type": "markdown",
   "metadata": {
    "slideshow": {
     "slide_type": "slide"
    }
   },
   "source": [
    "Entonces, ¿qué nos entrega las siguientes instrucciones?"
   ]
  },
  {
   "cell_type": "code",
   "execution_count": 59,
   "metadata": {
    "slideshow": {
     "slide_type": "fragment"
    }
   },
   "outputs": [
    {
     "name": "stdout",
     "output_type": "stream",
     "text": [
      "Lista L1: [1, 2, 3, [4, 5, 6, 7, 8], 9]\n",
      "Lista L2: [True, 234, [1988, 4, 12], 'lista de listas', [False, '789']]\n",
      "Lista L3: [[], []]\n"
     ]
    }
   ],
   "source": [
    "print('Lista L1:', L1)\n",
    "print('Lista L2:', L2)\n",
    "print('Lista L3:', L3)"
   ]
  },
  {
   "cell_type": "code",
   "execution_count": 60,
   "metadata": {
    "slideshow": {
     "slide_type": "fragment"
    }
   },
   "outputs": [],
   "source": [
    "x1 = L1[3][-1]\n",
    "x2 = L2[-1][0]\n",
    "x3 = L2[3][9:]"
   ]
  },
  {
   "cell_type": "code",
   "execution_count": 61,
   "metadata": {
    "slideshow": {
     "slide_type": "fragment"
    }
   },
   "outputs": [
    {
     "name": "stdout",
     "output_type": "stream",
     "text": [
      "8\n",
      "False\n",
      "listas\n"
     ]
    }
   ],
   "source": [
    "print(x1)\n",
    "print(x2)\n",
    "print(x3)"
   ]
  },
  {
   "cell_type": "markdown",
   "metadata": {
    "slideshow": {
     "slide_type": "slide"
    }
   },
   "source": [
    "¿Y si generalizamos incluyendo más paréntesis corchetes?"
   ]
  },
  {
   "cell_type": "code",
   "execution_count": 62,
   "metadata": {
    "slideshow": {
     "slide_type": "fragment"
    }
   },
   "outputs": [],
   "source": [
    "z1 = L1[3:][0][1]\n",
    "z2 = L2[:][-1][-1][-1]\n",
    "z3 = L2[::-1][1][::-1]"
   ]
  },
  {
   "cell_type": "code",
   "execution_count": 63,
   "metadata": {
    "slideshow": {
     "slide_type": "fragment"
    }
   },
   "outputs": [
    {
     "name": "stdout",
     "output_type": "stream",
     "text": [
      "5\n",
      "9\n",
      "satsil ed atsil\n"
     ]
    }
   ],
   "source": [
    "print(z1)\n",
    "print(z2)\n",
    "print(z3)"
   ]
  },
  {
   "cell_type": "markdown",
   "metadata": {
    "slideshow": {
     "slide_type": "slide"
    }
   },
   "source": [
    "### Recorrerlas mediante `for`"
   ]
  },
  {
   "cell_type": "markdown",
   "metadata": {
    "slideshow": {
     "slide_type": "fragment"
    }
   },
   "source": [
    "La forma de recorrer las listas mediante `for` es muy sencilla. Se debe seguir las mismas reglas que para recorrer una lista uni-dimensional.\n",
    "\n",
    "Se debe poner atención que valores toma ahora la variable que se crea en el `for`."
   ]
  },
  {
   "cell_type": "markdown",
   "metadata": {
    "slideshow": {
     "slide_type": "slide"
    }
   },
   "source": [
    "Veamos un ejemplo:"
   ]
  },
  {
   "cell_type": "code",
   "execution_count": 64,
   "metadata": {
    "slideshow": {
     "slide_type": "fragment"
    }
   },
   "outputs": [
    {
     "name": "stdout",
     "output_type": "stream",
     "text": [
      "Lista L2: [True, 234, [1988, 4, 12], 'lista de listas', [False, '789']]\n"
     ]
    }
   ],
   "source": [
    "print('Lista L2:', L2)"
   ]
  },
  {
   "cell_type": "code",
   "execution_count": 65,
   "metadata": {
    "slideshow": {
     "slide_type": "fragment"
    }
   },
   "outputs": [
    {
     "name": "stdout",
     "output_type": "stream",
     "text": [
      "Valor de la variable elemento: True\n",
      "Valor de la variable elemento: 234\n",
      "Valor de la variable elemento: [1988, 4, 12]\n",
      "Valor de la variable elemento: lista de listas\n",
      "Valor de la variable elemento: [False, '789']\n"
     ]
    }
   ],
   "source": [
    "for elemento in L2:\n",
    "    print('Valor de la variable elemento:', elemento)"
   ]
  },
  {
   "cell_type": "markdown",
   "metadata": {
    "slideshow": {
     "slide_type": "slide"
    }
   },
   "source": [
    "Veamos otro ejemplo:"
   ]
  },
  {
   "cell_type": "code",
   "execution_count": 66,
   "metadata": {
    "slideshow": {
     "slide_type": "fragment"
    }
   },
   "outputs": [
    {
     "name": "stdout",
     "output_type": "stream",
     "text": [
      "Progra tiene 3 creditos\n",
      "Mate tiene 5 creditos\n",
      "Fisica tiene 3 creditos\n",
      "Ed.Fisica tiene 1 creditos\n",
      "Inmanente tiene 2 creditos\n"
     ]
    }
   ],
   "source": [
    "ramos = [['Progra','IWI-131', 3],\n",
    "         ['Mate', 'MAT-021', 5],\n",
    "         ['Fisica', 'FIS-100', 3],\n",
    "         ['Ed.Fisica', 'DEW-100', 1],\n",
    "         ['Inmanente', 'HRW-102', 2],\n",
    "        ]\n",
    "\n",
    "for nombre, sigla, c in ramos: # 3 variables en vez de 1\n",
    "    print(nombre, 'tiene', c, 'creditos')"
   ]
  },
  {
   "cell_type": "markdown",
   "metadata": {
    "slideshow": {
     "slide_type": "slide"
    }
   },
   "source": [
    "**En la línea del `for` ahora hay 3 variables en vez de 1**. Esto es posible ya que sabemos que cada elemento de la lista ramos, **siempre**, tendrá 3 elementos. "
   ]
  },
  {
   "cell_type": "markdown",
   "metadata": {
    "slideshow": {
     "slide_type": "fragment"
    }
   },
   "source": [
    "La lista **ramos** es una lista de listas, donde cada sub-lista siempre tiene 3 elementos."
   ]
  },
  {
   "cell_type": "markdown",
   "metadata": {
    "slideshow": {
     "slide_type": "fragment"
    }
   },
   "source": [
    "Cada variable creada en la linea del `for`, tomará cada valor de las sub-listas. Esto será en orden, es decir: primera variable con el primer elemento de la sub-lista, y así sucesivamente."
   ]
  },
  {
   "cell_type": "markdown",
   "metadata": {
    "slideshow": {
     "slide_type": "slide"
    }
   },
   "source": [
    "Siguiendo el ejemplo anterior, es posible recorrer cada sub-lista para así obtener cada elemento uno por uno sin que falte ninguno. Esto se hace con un `for` adicional:"
   ]
  },
  {
   "cell_type": "code",
   "execution_count": 67,
   "metadata": {
    "slideshow": {
     "slide_type": "fragment"
    }
   },
   "outputs": [
    {
     "name": "stdout",
     "output_type": "stream",
     "text": [
      "Valor de la variable asignatura: ['Progra', 'IWI-131', 3]\n",
      "Valor de la variable dato: Progra\n",
      "Valor de la variable dato: IWI-131\n",
      "Valor de la variable dato: 3\n",
      "Valor de la variable asignatura: ['Mate', 'MAT-021', 5]\n",
      "Valor de la variable dato: Mate\n",
      "Valor de la variable dato: MAT-021\n",
      "Valor de la variable dato: 5\n",
      "Valor de la variable asignatura: ['Fisica', 'FIS-100', 3]\n",
      "Valor de la variable dato: Fisica\n",
      "Valor de la variable dato: FIS-100\n",
      "Valor de la variable dato: 3\n",
      "Valor de la variable asignatura: ['Ed.Fisica', 'DEW-100', 1]\n",
      "Valor de la variable dato: Ed.Fisica\n",
      "Valor de la variable dato: DEW-100\n",
      "Valor de la variable dato: 1\n",
      "Valor de la variable asignatura: ['Inmanente', 'HRW-102', 2]\n",
      "Valor de la variable dato: Inmanente\n",
      "Valor de la variable dato: HRW-102\n",
      "Valor de la variable dato: 2\n"
     ]
    }
   ],
   "source": [
    "ramos = [['Progra','IWI-131', 3],\n",
    "         ['Mate', 'MAT-021', 5],\n",
    "         ['Fisica', 'FIS-100', 3],\n",
    "         ['Ed.Fisica', 'DEW-100', 1],\n",
    "         ['Inmanente', 'HRW-102', 2],\n",
    "        ]\n",
    "\n",
    "for asignatura in ramos: \n",
    "    print('Valor de la variable asignatura:', asignatura)\n",
    "    for dato in asignatura:\n",
    "        print('Valor de la variable dato:', dato)"
   ]
  }
 ],
 "metadata": {
  "anaconda-cloud": {},
  "celltoolbar": "Slideshow",
  "kernelspec": {
   "display_name": "Python 3",
   "language": "python",
   "name": "python3"
  },
  "language_info": {
   "codemirror_mode": {
    "name": "ipython",
    "version": 3
   },
   "file_extension": ".py",
   "mimetype": "text/x-python",
   "name": "python",
   "nbconvert_exporter": "python",
   "pygments_lexer": "ipython3",
   "version": "3.8.5"
  }
 },
 "nbformat": 4,
 "nbformat_minor": 1
}
