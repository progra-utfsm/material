{
  "cells": [
    {
      "cell_type": "markdown",
      "metadata": {
        "id": "view-in-github",
        "colab_type": "text"
      },
      "source": [
        "<a href=\"https://colab.research.google.com/github/progra-utfsm/material/blob/main/notebooks/08_Texto_y_Archivos.ipynb\" target=\"_parent\"><img src=\"https://colab.research.google.com/assets/colab-badge.svg\" alt=\"Open In Colab\"/></a>"
      ]
    },
    {
      "cell_type": "markdown",
      "metadata": {
        "id": "JXiBIeZtlLn7"
      },
      "source": [
        "# Procesamiento de Texto y Archivos"
      ]
    },
    {
      "cell_type": "markdown",
      "metadata": {
        "id": "6Zb0DS2glLn8"
      },
      "source": [
        "## Procesamiento de Texto"
      ]
    },
    {
      "cell_type": "markdown",
      "metadata": {
        "id": "8ZFQGCS1lLn8"
      },
      "source": [
        "## Secuencias de escape"
      ]
    },
    {
      "cell_type": "markdown",
      "metadata": {
        "id": "n8ObIPn3lLn8"
      },
      "source": [
        "Utilizando el caracter backslash (`'\\'`) se pueden incluir caracteres que tienen interpretaciones especiales en un string, como un cambio de línea o un tabulador."
      ]
    },
    {
      "cell_type": "markdown",
      "metadata": {
        "id": "baHHcfJ_lLn8"
      },
      "source": [
        "## Salto de línea"
      ]
    },
    {
      "cell_type": "markdown",
      "metadata": {
        "id": "xgzgPfnVlLn8"
      },
      "source": [
        "- Corresponde al caracter backslash seguido de una n: `'\\n'`.\n",
        "- Puede verse su efecto al utilizar `print`."
      ]
    },
    {
      "cell_type": "code",
      "execution_count": 1,
      "metadata": {
        "id": "2diMk1OklLn8"
      },
      "outputs": [],
      "source": [
        "a = \"piano\\nviolin\\noboe\""
      ]
    },
    {
      "cell_type": "code",
      "execution_count": 2,
      "metadata": {
        "colab": {
          "base_uri": "https://localhost:8080/"
        },
        "id": "evZYzn2WlLn9",
        "outputId": "b0842823-3e68-4b8f-a7a8-4b8274baf944"
      },
      "outputs": [
        {
          "output_type": "stream",
          "name": "stdout",
          "text": [
            "piano\n",
            "violin\n",
            "oboe\n"
          ]
        }
      ],
      "source": [
        "print(a)"
      ]
    },
    {
      "cell_type": "markdown",
      "metadata": {
        "id": "S09WHkJdlLn9"
      },
      "source": [
        "La secuencia de escape es parte del string."
      ]
    },
    {
      "cell_type": "code",
      "execution_count": 3,
      "metadata": {
        "colab": {
          "base_uri": "https://localhost:8080/",
          "height": 35
        },
        "id": "aDd6vHFolLn9",
        "outputId": "4928e03c-d347-45c3-ad87-aa4af445637a"
      },
      "outputs": [
        {
          "output_type": "execute_result",
          "data": {
            "text/plain": [
              "'piano\\nviolin\\noboe'"
            ],
            "application/vnd.google.colaboratory.intrinsic+json": {
              "type": "string"
            }
          },
          "metadata": {},
          "execution_count": 3
        }
      ],
      "source": [
        "a"
      ]
    },
    {
      "cell_type": "markdown",
      "metadata": {
        "id": "Oi129J0FlLn9"
      },
      "source": [
        "## Tabulación"
      ]
    },
    {
      "cell_type": "markdown",
      "metadata": {
        "id": "zNI_C7qClLn-"
      },
      "source": [
        "- Se utiliza con backslash más el caracter t: `'\\t'`\n",
        "- Es equivalente a hacer una tabulación."
      ]
    },
    {
      "cell_type": "code",
      "execution_count": 4,
      "metadata": {
        "colab": {
          "base_uri": "https://localhost:8080/"
        },
        "id": "m5QyTIe0lLn-",
        "outputId": "de3a4f7a-25b0-4866-ae02-a023e21dd1fb"
      },
      "outputs": [
        {
          "output_type": "stream",
          "name": "stdout",
          "text": [
            "piano\tviolin\toboe\n"
          ]
        }
      ],
      "source": [
        "a = \"piano\\tviolin\\toboe\"\n",
        "print(a)"
      ]
    },
    {
      "cell_type": "code",
      "execution_count": 5,
      "metadata": {
        "colab": {
          "base_uri": "https://localhost:8080/",
          "height": 35
        },
        "id": "oaCaBW7vlLn-",
        "outputId": "99a31ffb-b89b-43b0-c42a-be759f17f0af"
      },
      "outputs": [
        {
          "output_type": "execute_result",
          "data": {
            "text/plain": [
              "'piano\\tviolin\\toboe'"
            ],
            "application/vnd.google.colaboratory.intrinsic+json": {
              "type": "string"
            }
          },
          "metadata": {},
          "execution_count": 5
        }
      ],
      "source": [
        "a"
      ]
    },
    {
      "cell_type": "markdown",
      "metadata": {
        "id": "Gu2Bw8PglLn-"
      },
      "source": [
        "- A pesar de que se ven como dos caracteres, las secuencias de escape ocupan una posición en el string.\n",
        "- Como el caracter `'\\'` se usa para las secuencias de escape, si queremos incluirlo en un string tenemos que usar la secuencia de escape: `'\\\\'`.\n"
      ]
    },
    {
      "cell_type": "code",
      "execution_count": 6,
      "metadata": {
        "colab": {
          "base_uri": "https://localhost:8080/"
        },
        "id": "uYaGouSxlLn-",
        "outputId": "4c07444b-d871-4a32-9387-f201d6e51cca"
      },
      "outputs": [
        {
          "output_type": "execute_result",
          "data": {
            "text/plain": [
              "1"
            ]
          },
          "metadata": {},
          "execution_count": 6
        }
      ],
      "source": [
        "len(\"\\n\")"
      ]
    },
    {
      "cell_type": "code",
      "execution_count": 7,
      "metadata": {
        "colab": {
          "base_uri": "https://localhost:8080/"
        },
        "id": "OvvXNzq3lLn-",
        "outputId": "07b1e320-b238-4c3b-de45-a07809e86290"
      },
      "outputs": [
        {
          "output_type": "execute_result",
          "data": {
            "text/plain": [
              "1"
            ]
          },
          "metadata": {},
          "execution_count": 7
        }
      ],
      "source": [
        "len(\"\\t\")"
      ]
    },
    {
      "cell_type": "code",
      "execution_count": 8,
      "metadata": {
        "colab": {
          "base_uri": "https://localhost:8080/"
        },
        "id": "Eh1BkrWTlLn-",
        "outputId": "eeae3edd-d361-46d6-f811-43daefa5e5e8"
      },
      "outputs": [
        {
          "output_type": "execute_result",
          "data": {
            "text/plain": [
              "17"
            ]
          },
          "metadata": {},
          "execution_count": 8
        }
      ],
      "source": [
        "len(\"piano\\nviolin\\noboe\")"
      ]
    },
    {
      "cell_type": "markdown",
      "metadata": {
        "id": "4pzaPNf8lLn-"
      },
      "source": [
        "### Removiendo carácteres especiales"
      ]
    },
    {
      "cell_type": "markdown",
      "metadata": {
        "id": "pocCr3xtlLn-"
      },
      "source": [
        "El **método** `s.strip()` crea y retorna un nuevo string a partir de un string original `s`, removiendo espacios, cambios de línea, tabuladores y otros caracteres especiales que aparezcan al inicio y final de `s`.\n",
        "\n",
        "El valor del string original `s`, **NO** cambia."
      ]
    },
    {
      "cell_type": "code",
      "execution_count": 9,
      "metadata": {
        "colab": {
          "base_uri": "https://localhost:8080/"
        },
        "id": "OFPb4yfglLn-",
        "outputId": "ce5310fb-1415-4622-be57-efa897193c00"
      },
      "outputs": [
        {
          "output_type": "stream",
          "name": "stdout",
          "text": [
            "hola mundo\n",
            "\n"
          ]
        }
      ],
      "source": [
        "s = \"hola mundo\\n\"\n",
        "print(s)"
      ]
    },
    {
      "cell_type": "code",
      "execution_count": 10,
      "metadata": {
        "colab": {
          "base_uri": "https://localhost:8080/"
        },
        "id": "8PCXV7QNlLn-",
        "outputId": "05ef37f3-3dda-4fa1-fb93-536d84565913"
      },
      "outputs": [
        {
          "output_type": "stream",
          "name": "stdout",
          "text": [
            "hola mundo\n"
          ]
        }
      ],
      "source": [
        "print(s.strip())"
      ]
    },
    {
      "cell_type": "code",
      "execution_count": 11,
      "metadata": {
        "colab": {
          "base_uri": "https://localhost:8080/",
          "height": 35
        },
        "id": "Pww3iSi3lLn_",
        "outputId": "bc6ec94f-bc19-48f4-d1cd-6984f78799e8"
      },
      "outputs": [
        {
          "output_type": "execute_result",
          "data": {
            "text/plain": [
              "'hola mundo\\n'"
            ],
            "application/vnd.google.colaboratory.intrinsic+json": {
              "type": "string"
            }
          },
          "metadata": {},
          "execution_count": 11
        }
      ],
      "source": [
        "s"
      ]
    },
    {
      "cell_type": "code",
      "execution_count": 12,
      "metadata": {
        "colab": {
          "base_uri": "https://localhost:8080/",
          "height": 35
        },
        "id": "jcaIZWFolLn_",
        "outputId": "eb517843-4ec6-4d8b-9912-be575e93a37c"
      },
      "outputs": [
        {
          "output_type": "execute_result",
          "data": {
            "text/plain": [
              "'hola mundo'"
            ],
            "application/vnd.google.colaboratory.intrinsic+json": {
              "type": "string"
            }
          },
          "metadata": {},
          "execution_count": 12
        }
      ],
      "source": [
        "s.strip()"
      ]
    },
    {
      "cell_type": "code",
      "execution_count": 13,
      "metadata": {
        "colab": {
          "base_uri": "https://localhost:8080/",
          "height": 35
        },
        "id": "BXVJGONIlLn_",
        "outputId": "f8b12789-2424-4713-8744-64a57677c99e"
      },
      "outputs": [
        {
          "output_type": "execute_result",
          "data": {
            "text/plain": [
              "'hola'"
            ],
            "application/vnd.google.colaboratory.intrinsic+json": {
              "type": "string"
            }
          },
          "metadata": {},
          "execution_count": 13
        }
      ],
      "source": [
        "s = '\\n\\t hola \\t\\n   '\n",
        "s.strip()"
      ]
    },
    {
      "cell_type": "markdown",
      "metadata": {
        "id": "GUz6daC9lLn_"
      },
      "source": [
        "**Importante:** El método `strip` no remueve espacios, ni caracteres especiales que estén en medio de las palabras."
      ]
    },
    {
      "cell_type": "code",
      "execution_count": 14,
      "metadata": {
        "colab": {
          "base_uri": "https://localhost:8080/",
          "height": 35
        },
        "id": "mwWgwOKXlLn_",
        "outputId": "6ee33fad-f674-4d1a-c912-fc982ceb2ab4"
      },
      "outputs": [
        {
          "output_type": "execute_result",
          "data": {
            "text/plain": [
              "'hola\\nmundo'"
            ],
            "application/vnd.google.colaboratory.intrinsic+json": {
              "type": "string"
            }
          },
          "metadata": {},
          "execution_count": 14
        }
      ],
      "source": [
        "\"hola\\nmundo\\n\".strip()"
      ]
    },
    {
      "cell_type": "markdown",
      "metadata": {
        "id": "lG6Q8YQ0lLn_"
      },
      "source": [
        "### Reemplazar secciones de un string"
      ]
    },
    {
      "cell_type": "markdown",
      "metadata": {
        "id": "XbE4MJhdlLn_"
      },
      "source": [
        "El **método** `s.replace(antes,despues)` crea y retorna un nuevo string a partir de un string original `s`, reemplazando **TODAS** las apariciones del string `antes` con el string `despues`.\n",
        "\n",
        "El valor del string original `s`, **NO** cambia."
      ]
    },
    {
      "cell_type": "code",
      "execution_count": 15,
      "metadata": {
        "colab": {
          "base_uri": "https://localhost:8080/",
          "height": 35
        },
        "id": "J6Ul7t_WlLn_",
        "outputId": "4a05830d-201c-4f41-cf35-d3e82cac6c2f"
      },
      "outputs": [
        {
          "output_type": "execute_result",
          "data": {
            "text/plain": [
              "'Quiero pure con pollo'"
            ],
            "application/vnd.google.colaboratory.intrinsic+json": {
              "type": "string"
            }
          },
          "metadata": {},
          "execution_count": 15
        }
      ],
      "source": [
        "orden = \"Quiero arroz con pollo\"\n",
        "orden.replace(\"arroz\",\"pure\")"
      ]
    },
    {
      "cell_type": "code",
      "execution_count": 16,
      "metadata": {
        "colab": {
          "base_uri": "https://localhost:8080/"
        },
        "id": "1M7cSBG3lLn_",
        "outputId": "4f5302d5-2ea7-474f-b77f-a741f3c3c8ea"
      },
      "outputs": [
        {
          "output_type": "stream",
          "name": "stdout",
          "text": [
            "Quiero pure con pollo\n"
          ]
        }
      ],
      "source": [
        "print(orden.replace(\"arroz\",\"pure\"))"
      ]
    },
    {
      "cell_type": "code",
      "execution_count": 17,
      "metadata": {
        "colab": {
          "base_uri": "https://localhost:8080/"
        },
        "id": "jtCIYy01lLn_",
        "outputId": "32b91ee7-28bc-4732-db82-63f32dd77b76"
      },
      "outputs": [
        {
          "output_type": "stream",
          "name": "stdout",
          "text": [
            "Quiero pure con pollo\n"
          ]
        }
      ],
      "source": [
        "orden = orden.replace(\"arroz\",\"pure\")\n",
        "print(orden)"
      ]
    },
    {
      "cell_type": "code",
      "execution_count": 18,
      "metadata": {
        "id": "lJ-7W-khlLn_"
      },
      "outputs": [],
      "source": [
        "a = \"11111111-5\""
      ]
    },
    {
      "cell_type": "code",
      "execution_count": 19,
      "metadata": {
        "colab": {
          "base_uri": "https://localhost:8080/",
          "height": 35
        },
        "id": "2EM94GejlLn_",
        "outputId": "c9c8e8b3-e73c-4ba8-b7f3-798eaacb26d8"
      },
      "outputs": [
        {
          "output_type": "execute_result",
          "data": {
            "text/plain": [
              "'22222222-5'"
            ],
            "application/vnd.google.colaboratory.intrinsic+json": {
              "type": "string"
            }
          },
          "metadata": {},
          "execution_count": 19
        }
      ],
      "source": [
        "# reemplazar el caracter '1' por '2' en la variable a (que es un string)\n",
        "a.replace(\"1\",\"2\")"
      ]
    },
    {
      "cell_type": "code",
      "execution_count": 20,
      "metadata": {
        "colab": {
          "base_uri": "https://localhost:8080/",
          "height": 35
        },
        "id": "VJGxdVIRlLn_",
        "outputId": "c31255e3-5e41-4c1c-d812-4ef4d2b40656"
      },
      "outputs": [
        {
          "output_type": "execute_result",
          "data": {
            "text/plain": [
              "'22111111-5'"
            ],
            "application/vnd.google.colaboratory.intrinsic+json": {
              "type": "string"
            }
          },
          "metadata": {},
          "execution_count": 20
        }
      ],
      "source": [
        "# reemplazar el caracter '1' por '2' en la variable a (que es un string)\n",
        "# solo se reemplaza 2 veces\n",
        "a.replace(\"1\",\"2\",2)"
      ]
    },
    {
      "cell_type": "markdown",
      "metadata": {
        "id": "rmDXYF9dlLoA"
      },
      "source": [
        "### Separar strings"
      ]
    },
    {
      "cell_type": "markdown",
      "metadata": {
        "id": "BSIKrDI_lLoA"
      },
      "source": [
        "El **método** `s.split(sep)` separa el string `s` en varios substrings usando el string `sep` como separador, retornando una lista con los substrings resultantes. Si se omite el separador, se utiliza el espacio en blanco para separar el string `s`.\n",
        "\n",
        "El valor del string original `s`, **NO** cambia."
      ]
    },
    {
      "cell_type": "code",
      "execution_count": 21,
      "metadata": {
        "id": "nMgYXvMulLoA"
      },
      "outputs": [],
      "source": [
        "s = \"Ana lavaba las sabanas\""
      ]
    },
    {
      "cell_type": "code",
      "execution_count": 22,
      "metadata": {
        "colab": {
          "base_uri": "https://localhost:8080/"
        },
        "id": "2jJQIRy3lLoA",
        "outputId": "916944cd-5267-4517-a632-48be9548f7a4"
      },
      "outputs": [
        {
          "output_type": "execute_result",
          "data": {
            "text/plain": [
              "['Ana', 'lavaba', 'las', 'sabanas']"
            ]
          },
          "metadata": {},
          "execution_count": 22
        }
      ],
      "source": [
        "s.split()"
      ]
    },
    {
      "cell_type": "code",
      "execution_count": 23,
      "metadata": {
        "colab": {
          "base_uri": "https://localhost:8080/"
        },
        "id": "0jTiznvNlLoD",
        "outputId": "5807e77e-f1bb-477e-aec3-cdebffce1725"
      },
      "outputs": [
        {
          "output_type": "execute_result",
          "data": {
            "text/plain": [
              "['Ana lav', ' las s', 'nas']"
            ]
          },
          "metadata": {},
          "execution_count": 23
        }
      ],
      "source": [
        "s.split(\"aba\")"
      ]
    },
    {
      "cell_type": "code",
      "execution_count": 24,
      "metadata": {
        "colab": {
          "base_uri": "https://localhost:8080/"
        },
        "id": "T_FEpJVSlLoD",
        "outputId": "d546beed-ee5c-49a9-ba63-fd589c329d67"
      },
      "outputs": [
        {
          "output_type": "stream",
          "name": "stdout",
          "text": [
            "Ana lavaba las sabanas\n"
          ]
        }
      ],
      "source": [
        "print(s)"
      ]
    },
    {
      "cell_type": "markdown",
      "metadata": {
        "id": "j0A-qc47lLoD"
      },
      "source": [
        "### Unir strings"
      ]
    },
    {
      "cell_type": "markdown",
      "metadata": {
        "id": "iDZ1omQPlLoD"
      },
      "source": [
        "El **método** `s.join(lista)` une los strings contenidos en `lista`, separándolos con el string `s`, retornando el string resultante.\n",
        "\n",
        "Ni la lista original ni el string `s` cambian."
      ]
    },
    {
      "cell_type": "code",
      "execution_count": 25,
      "metadata": {
        "colab": {
          "base_uri": "https://localhost:8080/",
          "height": 35
        },
        "id": "tdY711-ClLoD",
        "outputId": "2b513386-45e4-49d5-8592-b7054c65b007"
      },
      "outputs": [
        {
          "output_type": "execute_result",
          "data": {
            "text/plain": [
              "'0 1 2 3 4 5'"
            ],
            "application/vnd.google.colaboratory.intrinsic+json": {
              "type": "string"
            }
          },
          "metadata": {},
          "execution_count": 25
        }
      ],
      "source": [
        "valores = ['0', '1', '2', '3', '4', '5']\n",
        "pegamento = \" \"\n",
        "pegamento.join(valores)"
      ]
    },
    {
      "cell_type": "code",
      "execution_count": 26,
      "metadata": {
        "colab": {
          "base_uri": "https://localhost:8080/",
          "height": 35
        },
        "id": "Zkv4Ni-dlLoD",
        "outputId": "02920a07-754d-4544-b927-8520544c24cb"
      },
      "outputs": [
        {
          "output_type": "execute_result",
          "data": {
            "text/plain": [
              "'0,1,2,3,4,5'"
            ],
            "application/vnd.google.colaboratory.intrinsic+json": {
              "type": "string"
            }
          },
          "metadata": {},
          "execution_count": 26
        }
      ],
      "source": [
        "\",\".join(valores)"
      ]
    },
    {
      "cell_type": "code",
      "execution_count": 27,
      "metadata": {
        "colab": {
          "base_uri": "https://localhost:8080/"
        },
        "id": "t4NC7Wf4lLoD",
        "outputId": "ed7c62a3-e0de-47bc-c886-51f851d79aa2"
      },
      "outputs": [
        {
          "output_type": "execute_result",
          "data": {
            "text/plain": [
              "['0', '1', '2', '3', '4', '5']"
            ]
          },
          "metadata": {},
          "execution_count": 27
        }
      ],
      "source": [
        "valores"
      ]
    },
    {
      "cell_type": "markdown",
      "metadata": {
        "id": "b47mYCL8lLoD"
      },
      "source": [
        "El separador puede ser un string nulo."
      ]
    },
    {
      "cell_type": "code",
      "execution_count": 28,
      "metadata": {
        "colab": {
          "base_uri": "https://localhost:8080/",
          "height": 35
        },
        "id": "YkNQEf-3lLoD",
        "outputId": "89d837c8-e9b5-4d07-d557-fd569a2ed53b"
      },
      "outputs": [
        {
          "output_type": "execute_result",
          "data": {
            "text/plain": [
              "'012345'"
            ],
            "application/vnd.google.colaboratory.intrinsic+json": {
              "type": "string"
            }
          },
          "metadata": {},
          "execution_count": 28
        }
      ],
      "source": [
        "\"\".join(valores)"
      ]
    },
    {
      "cell_type": "markdown",
      "metadata": {
        "id": "km2UHJ3DlLoD"
      },
      "source": [
        "La lista debe contener strings.\n"
      ]
    },
    {
      "cell_type": "code",
      "execution_count": 29,
      "metadata": {
        "colab": {
          "base_uri": "https://localhost:8080/",
          "height": 141
        },
        "id": "sv24ao4alLoE",
        "outputId": "2f0edb15-aeac-4940-def5-2d15037290b0"
      },
      "outputs": [
        {
          "output_type": "error",
          "ename": "TypeError",
          "evalue": "sequence item 0: expected str instance, int found",
          "traceback": [
            "\u001b[0;31m---------------------------------------------------------------------------\u001b[0m",
            "\u001b[0;31mTypeError\u001b[0m                                 Traceback (most recent call last)",
            "\u001b[0;32m/tmp/ipython-input-1548230070.py\u001b[0m in \u001b[0;36m<cell line: 0>\u001b[0;34m()\u001b[0m\n\u001b[0;32m----> 1\u001b[0;31m \u001b[0;34m\" \"\u001b[0m\u001b[0;34m.\u001b[0m\u001b[0mjoin\u001b[0m\u001b[0;34m(\u001b[0m\u001b[0;34m[\u001b[0m\u001b[0;36m1\u001b[0m\u001b[0;34m,\u001b[0m\u001b[0;36m2\u001b[0m\u001b[0;34m,\u001b[0m\u001b[0;36m4\u001b[0m\u001b[0;34m]\u001b[0m\u001b[0;34m)\u001b[0m\u001b[0;34m\u001b[0m\u001b[0;34m\u001b[0m\u001b[0m\n\u001b[0m",
            "\u001b[0;31mTypeError\u001b[0m: sequence item 0: expected str instance, int found"
          ]
        }
      ],
      "source": [
        "\" \".join([1,2,4])"
      ]
    },
    {
      "cell_type": "code",
      "execution_count": 30,
      "metadata": {
        "colab": {
          "base_uri": "https://localhost:8080/",
          "height": 35
        },
        "id": "cq1_AU9plLoE",
        "outputId": "e5ea8ee9-6fa4-4e09-bfa4-67922b152afc"
      },
      "outputs": [
        {
          "output_type": "execute_result",
          "data": {
            "text/plain": [
              "'1 2 4'"
            ],
            "application/vnd.google.colaboratory.intrinsic+json": {
              "type": "string"
            }
          },
          "metadata": {},
          "execution_count": 30
        }
      ],
      "source": [
        "\" \".join([\"1\",\"2\",\"4\"])"
      ]
    },
    {
      "cell_type": "markdown",
      "metadata": {
        "id": "Gt8HntJSlLoE"
      },
      "source": [
        "### Interpolación de strings"
      ]
    },
    {
      "cell_type": "markdown",
      "metadata": {
        "id": "64rs_aN3lLoE"
      },
      "source": [
        "La **interpolación de strings** permite construir **strings** con formato, a partir de una plantilla que se rellena en forma **dinámica**."
      ]
    },
    {
      "cell_type": "code",
      "execution_count": 31,
      "metadata": {
        "id": "fDMGHBSplLoE"
      },
      "outputs": [],
      "source": [
        "s = \"Soy {0} y vivo en {1}\""
      ]
    },
    {
      "cell_type": "code",
      "execution_count": 32,
      "metadata": {
        "colab": {
          "base_uri": "https://localhost:8080/",
          "height": 35
        },
        "id": "5nOPh1-ClLoE",
        "outputId": "fca8ed65-fa99-45c8-ea05-bdec7dc7c564"
      },
      "outputs": [
        {
          "output_type": "execute_result",
          "data": {
            "text/plain": [
              "'Soy Perico y vivo en Valparaiso'"
            ],
            "application/vnd.google.colaboratory.intrinsic+json": {
              "type": "string"
            }
          },
          "metadata": {},
          "execution_count": 32
        }
      ],
      "source": [
        "s.format(\"Perico\",\"Valparaiso\")"
      ]
    },
    {
      "cell_type": "code",
      "execution_count": 33,
      "metadata": {
        "colab": {
          "base_uri": "https://localhost:8080/",
          "height": 35
        },
        "id": "wBRYIqTClLoE",
        "outputId": "7cdb8ce5-392c-49f4-ca69-c4c5a4cbd8a1"
      },
      "outputs": [
        {
          "output_type": "execute_result",
          "data": {
            "text/plain": [
              "'Soy Erika y vivo en Berlin'"
            ],
            "application/vnd.google.colaboratory.intrinsic+json": {
              "type": "string"
            }
          },
          "metadata": {},
          "execution_count": 33
        }
      ],
      "source": [
        "s.format(\"Erika\",\"Berlin\")"
      ]
    },
    {
      "cell_type": "code",
      "execution_count": 34,
      "metadata": {
        "colab": {
          "base_uri": "https://localhost:8080/",
          "height": 35
        },
        "id": "If7WC_AqlLoE",
        "outputId": "83b5d26b-f292-431d-c566-30c6bd6cdd0a"
      },
      "outputs": [
        {
          "output_type": "execute_result",
          "data": {
            "text/plain": [
              "'Soy Wang Dawei y vivo en Beijing'"
            ],
            "application/vnd.google.colaboratory.intrinsic+json": {
              "type": "string"
            }
          },
          "metadata": {},
          "execution_count": 34
        }
      ],
      "source": [
        "s.format(\"Wang Dawei\",\"Beijing\")"
      ]
    },
    {
      "cell_type": "code",
      "execution_count": 35,
      "metadata": {
        "colab": {
          "base_uri": "https://localhost:8080/"
        },
        "id": "-GFBXf7elLoE",
        "outputId": "4d93231f-ce37-40fe-eadb-e5dfadba77c6"
      },
      "outputs": [
        {
          "output_type": "stream",
          "name": "stdout",
          "text": [
            "Soy {0} y vivo en {1}\n"
          ]
        }
      ],
      "source": [
        "print(s)"
      ]
    },
    {
      "cell_type": "markdown",
      "metadata": {
        "id": "iK27GaiDlLoE"
      },
      "source": [
        "- `{0}` y `{1}` se llaman **campos**, y el método `format` los rellena con sus argumentos en orden. El primer argumento sustituye el campo `{0}`, el segundo el campo `{1}`, y así sucesivamente.\n"
      ]
    },
    {
      "cell_type": "code",
      "execution_count": 36,
      "metadata": {
        "colab": {
          "base_uri": "https://localhost:8080/",
          "height": 35
        },
        "id": "ec5wWO8blLoE",
        "outputId": "1a36249b-c925-4a3b-c6bc-d00b079cff62"
      },
      "outputs": [
        {
          "output_type": "execute_result",
          "data": {
            "text/plain": [
              "'vaca'"
            ],
            "application/vnd.google.colaboratory.intrinsic+json": {
              "type": "string"
            }
          },
          "metadata": {},
          "execution_count": 36
        }
      ],
      "source": [
        "\"{1}{0}{2}{0}\".format(\"a\",\"v\",\"c\")"
      ]
    },
    {
      "cell_type": "code",
      "execution_count": 37,
      "metadata": {
        "colab": {
          "base_uri": "https://localhost:8080/",
          "height": 35
        },
        "id": "6KAStXQHlLoE",
        "outputId": "e6efe7fa-3c8f-47d1-d4f9-0ef25ae0ff5a"
      },
      "outputs": [
        {
          "output_type": "execute_result",
          "data": {
            "text/plain": [
              "'carne y huevos'"
            ],
            "application/vnd.google.colaboratory.intrinsic+json": {
              "type": "string"
            }
          },
          "metadata": {},
          "execution_count": 37
        }
      ],
      "source": [
        "\"{0} y {1}\".format(\"carne\",\"huevos\")"
      ]
    },
    {
      "cell_type": "code",
      "execution_count": 38,
      "metadata": {
        "colab": {
          "base_uri": "https://localhost:8080/",
          "height": 35
        },
        "id": "xYhEFFLalLoE",
        "outputId": "38c2f92f-9f97-4a4c-dfd9-b2728fae2f45"
      },
      "outputs": [
        {
          "output_type": "execute_result",
          "data": {
            "text/plain": [
              "'huevos y carne'"
            ],
            "application/vnd.google.colaboratory.intrinsic+json": {
              "type": "string"
            }
          },
          "metadata": {},
          "execution_count": 38
        }
      ],
      "source": [
        "\"{1} y {0}\".format(\"carne\",\"huevos\")"
      ]
    },
    {
      "cell_type": "markdown",
      "metadata": {
        "id": "wZclr-eClLoF"
      },
      "source": [
        "- Si los **campos** aparecen una única vez en la plantilla, puede omitirse los números. En este caso los campos se rellenan en orden de aparición. El primero será {0}, el segundo {1}, y así sucesivamente.\n"
      ]
    },
    {
      "cell_type": "code",
      "execution_count": 39,
      "metadata": {
        "id": "S0ufNV0QlLoF"
      },
      "outputs": [],
      "source": [
        "s = \"Soy {} y vivo en {}\""
      ]
    },
    {
      "cell_type": "code",
      "execution_count": 40,
      "metadata": {
        "colab": {
          "base_uri": "https://localhost:8080/",
          "height": 35
        },
        "id": "eQlra_1XlLoF",
        "outputId": "71a7760c-45a0-4aaf-b84a-c04f6eac4d4d"
      },
      "outputs": [
        {
          "output_type": "execute_result",
          "data": {
            "text/plain": [
              "'Soy Perico y vivo en Valparaiso'"
            ],
            "application/vnd.google.colaboratory.intrinsic+json": {
              "type": "string"
            }
          },
          "metadata": {},
          "execution_count": 40
        }
      ],
      "source": [
        "s.format(\"Perico\",\"Valparaiso\")"
      ]
    },
    {
      "cell_type": "markdown",
      "metadata": {
        "id": "LS2HB_lalLoF"
      },
      "source": [
        "El método `format` **debe** tener suficientes argumentos para poder rellenar la plantilla, aunque no se usen todos.\n",
        "\n",
        "Si en la plantilla se usa un campo para el que `format` no tiene argumento, se produce un error."
      ]
    },
    {
      "cell_type": "code",
      "execution_count": 41,
      "metadata": {
        "colab": {
          "base_uri": "https://localhost:8080/",
          "height": 141
        },
        "id": "L4-v8kPflLoF",
        "outputId": "9a1f8f33-42dc-4897-a241-ecb8958ee5b7"
      },
      "outputs": [
        {
          "output_type": "error",
          "ename": "IndexError",
          "evalue": "Replacement index 2 out of range for positional args tuple",
          "traceback": [
            "\u001b[0;31m---------------------------------------------------------------------------\u001b[0m",
            "\u001b[0;31mIndexError\u001b[0m                                Traceback (most recent call last)",
            "\u001b[0;32m/tmp/ipython-input-521600033.py\u001b[0m in \u001b[0;36m<cell line: 0>\u001b[0;34m()\u001b[0m\n\u001b[0;32m----> 1\u001b[0;31m \u001b[0;34m\"{2}\"\u001b[0m\u001b[0;34m.\u001b[0m\u001b[0mformat\u001b[0m\u001b[0;34m(\u001b[0m\u001b[0;34m\"a\"\u001b[0m\u001b[0;34m)\u001b[0m\u001b[0;34m\u001b[0m\u001b[0;34m\u001b[0m\u001b[0m\n\u001b[0m",
            "\u001b[0;31mIndexError\u001b[0m: Replacement index 2 out of range for positional args tuple"
          ]
        }
      ],
      "source": [
        "\"{2}\".format(\"a\")"
      ]
    },
    {
      "cell_type": "code",
      "execution_count": 42,
      "metadata": {
        "colab": {
          "base_uri": "https://localhost:8080/",
          "height": 35
        },
        "id": "PDr4v2_5lLoF",
        "outputId": "68fce4ef-dc54-404c-ecf2-4cb52081f5fc"
      },
      "outputs": [
        {
          "output_type": "execute_result",
          "data": {
            "text/plain": [
              "'casa, azul verde'"
            ],
            "application/vnd.google.colaboratory.intrinsic+json": {
              "type": "string"
            }
          },
          "metadata": {},
          "execution_count": 42
        }
      ],
      "source": [
        "\"{0}, {1} {3}\".format(\"casa\", \"azul\", \"grande\", \"verde\")"
      ]
    },
    {
      "cell_type": "markdown",
      "metadata": {
        "id": "BU7jmXN8lLoF"
      },
      "source": [
        "## Archivos de Texto"
      ]
    },
    {
      "cell_type": "markdown",
      "metadata": {
        "id": "MFncoUPulLoF"
      },
      "source": [
        "Los archivos de texto están compuestos únicamente por caracteres legibles por los humanos (como letras, dígitos y caracteres de puntuación), pero sin ningún tipo de formato tipográfico. Es básicamente lo mismo que almacenamos en variables de tipo string, pero que se guardan en un medio persistente, como el disco del computador o una unidad de memoria externa (pendrive, tarjeta de memoria, etc.).\n",
        "\n",
        "Al igual que todos los archivos, los archivos de texto tienen un nombre en el dispositivo donde se almacenan."
      ]
    },
    {
      "cell_type": "markdown",
      "metadata": {
        "collapsed": true,
        "id": "NIuUDbV8lLoF"
      },
      "source": [
        "Ejemplo de archivo: `quijote.txt`\n",
        "\n",
        "```\n",
        "En un lugar de La Mancha\n",
        "de cuyo nombre no quiero acordarme\n",
        "no ha mucho tiempo que vivia un hidalgo\n",
        "```"
      ]
    },
    {
      "cell_type": "markdown",
      "metadata": {
        "id": "wWzhPOfOlLoF"
      },
      "source": [
        "## Protocolo de uso para lectura"
      ]
    },
    {
      "cell_type": "markdown",
      "metadata": {
        "id": "Rei7ccJ4lLoF"
      },
      "source": [
        "1. Abrir el archivo.\n",
        "2. Recorrer el archivo.\n",
        "3. Cerrar el archivo."
      ]
    },
    {
      "cell_type": "markdown",
      "metadata": {
        "id": "Wta_saWxlLoF"
      },
      "source": [
        "### Apertura de Archivo"
      ]
    },
    {
      "cell_type": "markdown",
      "metadata": {
        "id": "zYaI1OY4lLoF"
      },
      "source": [
        "Un archivo puede ser abierto mediante la función `open`, que acepta como parámetros el nombre que tiene el archivo en el disco y el modo de apertura.\n",
        "\n",
        "Los modos de apertura son:\n",
        "* *Lectura:* `'r'`.\n",
        "* *Escritura:* `'w'`.\n",
        "* *Agregar al final del archivo:* `'a'`."
      ]
    },
    {
      "cell_type": "code",
      "execution_count": 45,
      "metadata": {
        "id": "sGEjEUqxlLoF"
      },
      "outputs": [],
      "source": [
        "# Por omisión los archivos se abren en modo 'r'\n",
        "# Se asume que el archivo .txt está en la misma ruta del código de Python\n",
        "archivo = open('quijote.txt')"
      ]
    },
    {
      "cell_type": "markdown",
      "metadata": {
        "id": "DcCGyIOolLoF"
      },
      "source": [
        "### Recorrer el archivo"
      ]
    },
    {
      "cell_type": "markdown",
      "metadata": {
        "id": "BL66xz2YlLoG"
      },
      "source": [
        "Las líneas de un **archivo** previamente abierto pueden recorrerse utilizando un ciclo `for`.\n",
        "\n",
        "El final de cada línea incluye el caracter de nueva línea: `'\\n'`, que es leído en el for. Si no queremos utilizarlo, es posible _\"limpiar\"_ cada línea leída antes de procesarla utilizando el método `strip()` estudiado previamente."
      ]
    },
    {
      "cell_type": "code",
      "execution_count": 46,
      "metadata": {
        "colab": {
          "base_uri": "https://localhost:8080/"
        },
        "id": "Lp87nCXTlLoG",
        "outputId": "a0d346a5-988b-4040-9863-c606c29986aa"
      },
      "outputs": [
        {
          "output_type": "stream",
          "name": "stdout",
          "text": [
            "En un lugar de La Mancha\n",
            "de cuyo nombre no quiero acordarme\n",
            "no ha mucho tiempo que vivia un hidalgo\n"
          ]
        }
      ],
      "source": [
        "for linea in archivo:\n",
        "    # Operaciones sobre linea\n",
        "    linea = linea.strip()\n",
        "    print(linea)"
      ]
    },
    {
      "cell_type": "markdown",
      "metadata": {
        "id": "dkFdE5TwlLoG"
      },
      "source": [
        "### Cierre de archivo"
      ]
    },
    {
      "cell_type": "markdown",
      "metadata": {
        "id": "nHxriG0olLoG"
      },
      "source": [
        "El último paso es cerrar el archivo luego de leer la información. Para ello se utiliza el método `close()`."
      ]
    },
    {
      "cell_type": "code",
      "execution_count": 47,
      "metadata": {
        "id": "jnAsBQU-lLoG"
      },
      "outputs": [],
      "source": [
        "archivo.close()"
      ]
    },
    {
      "cell_type": "markdown",
      "metadata": {
        "id": "AVAvkAYrlLoG"
      },
      "source": [
        "## Creación de archivos"
      ]
    },
    {
      "cell_type": "markdown",
      "metadata": {
        "id": "PwC5CXW8lLoG"
      },
      "source": [
        "### Apertura"
      ]
    },
    {
      "cell_type": "markdown",
      "metadata": {
        "id": "Ux-QziX9lLoG"
      },
      "source": [
        "Para escribir un archivo es necesario abrirlo en modo de escritura, usando la función `open` con el parámetro `'w'`."
      ]
    },
    {
      "cell_type": "code",
      "execution_count": 48,
      "metadata": {
        "id": "qpI60nAZlLoG"
      },
      "outputs": [],
      "source": [
        "nuevo_archivo = open('prueba.txt', 'w')"
      ]
    },
    {
      "cell_type": "markdown",
      "metadata": {
        "id": "cQSFRJfqlLoG"
      },
      "source": [
        "### Escritura"
      ]
    },
    {
      "cell_type": "markdown",
      "metadata": {
        "id": "r2txLi7PlLoG"
      },
      "source": [
        "Para escribir se debe utilizar el método `write`, que recibe como parámetro un **string** con el texto que se escribirá en el archivo.\n",
        "\n",
        "Para que el archivo contenga múltiples líneas, cada una de ellas debe terminar en el caracter de núeva línea: `'\\n'`."
      ]
    },
    {
      "cell_type": "code",
      "execution_count": 49,
      "metadata": {
        "colab": {
          "base_uri": "https://localhost:8080/"
        },
        "id": "zutWfru8lLoG",
        "outputId": "08ac0a84-2f9c-4480-dcca-832e00fb4d7d"
      },
      "outputs": [
        {
          "output_type": "execute_result",
          "data": {
            "text/plain": [
              "12"
            ]
          },
          "metadata": {},
          "execution_count": 49
        }
      ],
      "source": [
        "nuevo_archivo.write('Informacion\\n')"
      ]
    },
    {
      "cell_type": "markdown",
      "metadata": {
        "id": "UpWPmr6FlLoG"
      },
      "source": [
        "### Cierre"
      ]
    },
    {
      "cell_type": "markdown",
      "metadata": {
        "id": "19kzq_p5lLoG"
      },
      "source": [
        "Al igual que en el caso de lectura, luego de escribir la información se debe cerrar el archivo con `close()`."
      ]
    },
    {
      "cell_type": "code",
      "execution_count": 50,
      "metadata": {
        "id": "oCqFye5elLoG"
      },
      "outputs": [],
      "source": [
        "nuevo_archivo.close()"
      ]
    },
    {
      "cell_type": "markdown",
      "metadata": {
        "id": "Lw1-DF0xlLoG"
      },
      "source": [
        "## Agregar información a un archivo existente"
      ]
    },
    {
      "cell_type": "markdown",
      "metadata": {
        "id": "gIEIhnfxlLoH"
      },
      "source": [
        "### Apertura"
      ]
    },
    {
      "cell_type": "markdown",
      "metadata": {
        "id": "eLB4mULWlLoH"
      },
      "source": [
        "Para agregar datos **al final** de un archivo es necesario abrirlo en modo `'a'` usando la función `open()`."
      ]
    },
    {
      "cell_type": "code",
      "execution_count": 51,
      "metadata": {
        "id": "5wDcLnMelLoH"
      },
      "outputs": [],
      "source": [
        "archivo = open('prueba.txt', 'a')"
      ]
    },
    {
      "cell_type": "markdown",
      "metadata": {
        "id": "ELxDDWUslLoH"
      },
      "source": [
        "### Escritura"
      ]
    },
    {
      "cell_type": "markdown",
      "metadata": {
        "id": "F8wGIlXmlLoH"
      },
      "source": [
        "Se utilizará el método `write`, que recibe como parámetro un **string** con el texto que se agregará en el archivo."
      ]
    },
    {
      "cell_type": "code",
      "execution_count": 52,
      "metadata": {
        "colab": {
          "base_uri": "https://localhost:8080/"
        },
        "id": "CO0mKZy1lLoH",
        "outputId": "eaf37463-0801-4c83-e4bd-d1c3967b19e3"
      },
      "outputs": [
        {
          "output_type": "execute_result",
          "data": {
            "text/plain": [
              "18"
            ]
          },
          "metadata": {},
          "execution_count": 52
        }
      ],
      "source": [
        "archivo.write(\"Nueva informacion\\n\")"
      ]
    },
    {
      "cell_type": "markdown",
      "metadata": {
        "id": "wrGJNogDlLoH"
      },
      "source": [
        "### Cierre"
      ]
    },
    {
      "cell_type": "markdown",
      "metadata": {
        "id": "XJ_Vx8zllLoH"
      },
      "source": [
        "Al igual que en el caso de lectura y escritura, luego de escribir la información se debe cerrar el archivo con `close()`."
      ]
    },
    {
      "cell_type": "code",
      "execution_count": 53,
      "metadata": {
        "id": "qzvIZKfolLoH"
      },
      "outputs": [],
      "source": [
        "archivo.close()"
      ]
    },
    {
      "cell_type": "markdown",
      "metadata": {
        "id": "aXwKbCLDlLoH"
      },
      "source": [
        "## Archivos con separador"
      ]
    },
    {
      "cell_type": "markdown",
      "metadata": {
        "id": "sb5MddPrlLoH"
      },
      "source": [
        "Considere un archivo que utiliza un caracter para separar la información. Por ejemplo:\n",
        "\n",
        "```\n",
        "Esteban:Gutierrez:49:18:32\n",
        "Luisa:Miranda:68:44:99\n",
        "Jean Paul:Munoz:48:38:81\n",
        "Gianfranco:Basso:54:54:50\n",
        "Romina:Smith:100:98:9\n",
        "```"
      ]
    },
    {
      "cell_type": "markdown",
      "metadata": {
        "id": "oRnV_3cclLoH"
      },
      "source": [
        "### Manipulación de este tipo de archivos"
      ]
    },
    {
      "cell_type": "code",
      "execution_count": 54,
      "metadata": {
        "colab": {
          "base_uri": "https://localhost:8080/"
        },
        "id": "XMcPd4FplLoH",
        "outputId": "d35f2dea-120a-4e15-a630-ccc3fd6318f3"
      },
      "outputs": [
        {
          "output_type": "stream",
          "name": "stdout",
          "text": [
            "Esteban [49, 18, 32]\n",
            "Luisa [68, 44, 99]\n",
            "Jean Paul [48, 38, 81]\n",
            "Gianfranco [54, 54, 50]\n",
            "Romina [100, 98, 92]\n"
          ]
        }
      ],
      "source": [
        "archivo = open('alumnos.txt')\n",
        "for linea in archivo:\n",
        "    valores = linea.strip().split(':')\n",
        "    nombres = valores[0:2]\n",
        "    notas = []\n",
        "    for nota in valores[2:5]:\n",
        "        notas.append(int(nota))\n",
        "    print(nombres[0], notas)\n",
        "archivo.close()"
      ]
    },
    {
      "cell_type": "markdown",
      "metadata": {
        "id": "lopZa8HFlLoH"
      },
      "source": [
        "## Ejercicios"
      ]
    },
    {
      "cell_type": "markdown",
      "metadata": {
        "id": "bayGbUjPlLoH"
      },
      "source": [
        "### Ejercicio 1\n",
        "\n",
        "Escriba un programa que abra el archivo `quijote.txt` y cuente:\n",
        "* el número de letras,\n",
        "* el número de palabras,\n",
        "* el número de líneas."
      ]
    },
    {
      "cell_type": "markdown",
      "metadata": {
        "id": "F-UmMyX1lLoH"
      },
      "source": [
        "### Ejercicio 2\n",
        "\n",
        "A partir del archivo `alumnos.txt`, crear los siguientes archivos:\n",
        "\n",
        "`aprobados.txt.`\n",
        "```\n",
        "Luisa,Miranda,70\n",
        "Jean Paul,Munoz,56\n",
        "Romina,Smith,97\n",
        "```\n",
        "\n",
        "`reprobados.txt`\n",
        "```\n",
        "Esteban,Gutierrez,33\n",
        "Gianfranco,Basso,53\n",
        "```"
      ]
    }
  ],
  "metadata": {
    "anaconda-cloud": {},
    "celltoolbar": "Slideshow",
    "kernelspec": {
      "display_name": "Python 3",
      "language": "python",
      "name": "python3"
    },
    "language_info": {
      "codemirror_mode": {
        "name": "ipython",
        "version": 3
      },
      "file_extension": ".py",
      "mimetype": "text/x-python",
      "name": "python",
      "nbconvert_exporter": "python",
      "pygments_lexer": "ipython3",
      "version": "3.7.4"
    },
    "colab": {
      "provenance": [],
      "include_colab_link": true
    }
  },
  "nbformat": 4,
  "nbformat_minor": 0
}