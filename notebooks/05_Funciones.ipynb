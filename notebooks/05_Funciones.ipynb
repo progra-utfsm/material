{
  "cells": [
    {
      "cell_type": "markdown",
      "metadata": {
        "id": "view-in-github",
        "colab_type": "text"
      },
      "source": [
        "<a href=\"https://colab.research.google.com/github/progra-utfsm/material/blob/main/notebooks/05_Funciones.ipynb\" target=\"_parent\"><img src=\"https://colab.research.google.com/assets/colab-badge.svg\" alt=\"Open In Colab\"/></a>"
      ]
    },
    {
      "cell_type": "markdown",
      "metadata": {
        "id": "lKMJaTToJ5A2"
      },
      "source": [
        "# Funciones"
      ]
    },
    {
      "cell_type": "markdown",
      "metadata": {
        "id": "pf2-2EzFJ5A3"
      },
      "source": [
        "## Funciones predefinidas y personalizadas"
      ]
    },
    {
      "cell_type": "markdown",
      "metadata": {
        "id": "5JomzbSCJ5A3"
      },
      "source": [
        "Hasta el momento hemos utilizado funcionas predefinidas en el núcleo de Python, como `round()` y `abs()`, o importadas desde bibliotecas, como `sqrt()` de math y `randint()` de random.\n",
        "\n",
        "En esta unidad aprenderemos a definir nuestras propias funciones para resolver tareas específicas.\n"
      ]
    },
    {
      "cell_type": "markdown",
      "metadata": {
        "id": "uoY4as7hJ5A3"
      },
      "source": [
        "Para definir una función y poder llamarla posteriormente desde nuestro programa o desde otra función, debemos tener en cuenta:\n",
        "\n",
        "- El **nombre** que le daremos a la función, que debemos elegir siguiendo las mismas reglas que usamos para nombrar variables.\n",
        "- Los **parámetros** que tendrá la función, y el **orden** en que aparecen en la definición.\n",
        "- El valor de **retorno** que entregará la función una vez que lleve a cabo su trabajo."
      ]
    },
    {
      "cell_type": "markdown",
      "metadata": {
        "id": "ljJ5aiS8J5A4"
      },
      "source": [
        "Al llamar a una función la ejecución del programa se traslada al código de la función, copiando a los parámetros los argumentos utilizados en el llamado. Cuando la función termina, la ejecución vuelve al punto del llamado, llevando consigo el valor de retorno."
      ]
    },
    {
      "cell_type": "markdown",
      "metadata": {
        "id": "StjnTc9pJ5A4"
      },
      "source": [
        "## Definición de una función"
      ]
    },
    {
      "cell_type": "markdown",
      "metadata": {
        "id": "FVhWhhJaJ5A4"
      },
      "source": [
        "Para definir una función utilizamos la palabra reservada `def`:"
      ]
    },
    {
      "cell_type": "markdown",
      "metadata": {
        "id": "MFdUfpNPJ5A4"
      },
      "source": [
        "```python\n",
        "def nombre_funcion(parametro1, parametro2, ...):\n",
        "```"
      ]
    },
    {
      "cell_type": "markdown",
      "metadata": {
        "id": "1rCRsbICJ5A4"
      },
      "source": [
        "Los parámetros tienen nombres que elegimos al definir la función. En la práctica, los parámetros son variables que asumen los valores de los argumentos dados a la función cuando es llamada.\n",
        "\n",
        "Al escribir una función, suponemos que sus parámetros ya traen valores y simplemente los utilizamos a través del nombre que le damos a los parámetros."
      ]
    },
    {
      "cell_type": "markdown",
      "metadata": {
        "id": "Uc43Y7J9J5A4"
      },
      "source": [
        "**El caracter de dos puntos al final de la definición es obligatorio.**"
      ]
    },
    {
      "cell_type": "markdown",
      "metadata": {
        "id": "RviYHwHHJ5A4"
      },
      "source": [
        "Las instrucciones que componen la función deben aparecer indentadas a partir de la línea siguiente a la definición."
      ]
    },
    {
      "cell_type": "markdown",
      "metadata": {
        "id": "82m4TtakJ5A4"
      },
      "source": [
        "Una instrucción especial, `return`, se utiliza para indicar el fin de la ejecución de la función y el valor que retornará como resultado. Esta instrucción puede aparecer más de una vez en el código de la función, normalmente dentro de condicionales."
      ]
    },
    {
      "cell_type": "markdown",
      "metadata": {
        "id": "3zYtbcC_J5A4"
      },
      "source": [
        "La instrucción `return` cumple $2$ propósitos:\n",
        "\n",
        "- Termina la ejecución de la función, volviendo al punto donde fue llamada.\n",
        "- Especifica el resultado de la ejecución de la función, el que será entregado al punto de llamado."
      ]
    },
    {
      "cell_type": "markdown",
      "metadata": {
        "id": "qh_1wOk1J5A4"
      },
      "source": [
        "## Llamado de la función\n"
      ]
    },
    {
      "cell_type": "markdown",
      "metadata": {
        "id": "bmfxQrUnJ5A5"
      },
      "source": [
        "Las funciones deben ser definidas antes del punto donde son llamadas. De lo contrario se produce un error de ejecución.\n",
        "\n",
        "Para llamar una función se utiliza su **nombre** y se incluye entre paréntesis la lista de argumentos que serán copiados, en el mismo orden en que aparecen, a los parámetros definidos en la función.\n",
        "\n",
        "Al momento de hacer el llamado debe considerarse lo que el programa hará con el valor de retorno de la función, el que reemplazará el llamado de la función cuando ésta termine."
      ]
    },
    {
      "cell_type": "markdown",
      "metadata": {
        "id": "UT6MMt8CJ5A5"
      },
      "source": [
        "### Ejemplo 1"
      ]
    },
    {
      "cell_type": "markdown",
      "metadata": {
        "id": "m25zY501J5A5"
      },
      "source": [
        "Escriba una función que determine si un número es par o no, retornando `True` o `False`, según corresponda."
      ]
    },
    {
      "cell_type": "code",
      "execution_count": 1,
      "metadata": {
        "id": "fCZvmnL1J5A5"
      },
      "outputs": [],
      "source": [
        "def es_par(num):\n",
        "    if num%2==0:\n",
        "        return True\n",
        "    else:\n",
        "        return False"
      ]
    },
    {
      "cell_type": "markdown",
      "metadata": {
        "id": "yNDgut5HJ5A5"
      },
      "source": [
        "Ahora podemos usar la función para determinar si un número es par:"
      ]
    },
    {
      "cell_type": "code",
      "execution_count": 2,
      "metadata": {
        "id": "UVLnyYdEJ5A5"
      },
      "outputs": [],
      "source": [
        "resultado = es_par(5)"
      ]
    },
    {
      "cell_type": "markdown",
      "metadata": {
        "id": "4m6wxwpJJ5A5"
      },
      "source": [
        "En este caso, la variable resultado contendrá el valor `False`, pues el número $5$ no es par. Observe la forma en que se hace el llamado, escribiendo en el paréntesis un argumento para el parámetro que espera la función, y utilizando el valor de retorno que la función entrega; en este caso, almacenando ese valor en la variable resultado."
      ]
    },
    {
      "cell_type": "markdown",
      "metadata": {
        "id": "P6KVBIxfJ5A5"
      },
      "source": [
        "La función anterior podría escribirse de manera más corta, como se ve a continuación:"
      ]
    },
    {
      "cell_type": "code",
      "execution_count": 3,
      "metadata": {
        "id": "lx-S-N-NJ5A5"
      },
      "outputs": [],
      "source": [
        "def es_par(num):\n",
        "    if num%2==0:\n",
        "        return True\n",
        "    return False"
      ]
    },
    {
      "cell_type": "markdown",
      "metadata": {
        "id": "iriIwxHwJ5A5"
      },
      "source": [
        "Observe que se eliminó la componente `else` del `if`. Sin embargo, la función lleva a cabo su trabajo de la misma manera.\n",
        "\n",
        "Si el número es par, se ejecutará la instrucción `return True`, provocando que la función retorne de inmediato con su resultado sin ejecutar ninguna instrucción más de la función a partir de ahí. Por otra parte, si el número es impar, el `if` no tendrá efecto y llegará hasta la última instrucción en donde retorna el valor `False`."
      ]
    },
    {
      "cell_type": "markdown",
      "metadata": {
        "id": "yZUJ9tFmJ5A6"
      },
      "source": [
        "Finalmente, la siguiente es una forma aún más sucinta para hacer lo mismo:"
      ]
    },
    {
      "cell_type": "code",
      "execution_count": 4,
      "metadata": {
        "id": "7Sujj9njJ5A6"
      },
      "outputs": [],
      "source": [
        "def es_par(num):\n",
        "    return num%2==0"
      ]
    },
    {
      "cell_type": "markdown",
      "metadata": {
        "id": "9INng6cvJ5A6"
      },
      "source": [
        "La función lleva a cabo la comparación y retorna el resultado de esa comparación. Cuando el número es par, la comparación dará como resultado `True` y eso es lo que retornará. Cuando es impar, la comparación será `False`, y la función retornará ese valor."
      ]
    },
    {
      "cell_type": "markdown",
      "metadata": {
        "id": "d28r8YH_J5A6"
      },
      "source": [
        "### Ejemplo 2"
      ]
    },
    {
      "cell_type": "markdown",
      "metadata": {
        "id": "-KY_4mcEJ5A6"
      },
      "source": [
        "Escriba una función que determine el número de dígitos que tiene un número entero."
      ]
    },
    {
      "cell_type": "code",
      "execution_count": 5,
      "metadata": {
        "id": "Tuvpi9h1J5A6"
      },
      "outputs": [],
      "source": [
        "def num_digitos(n):\n",
        "    nd = 0\n",
        "    while n>0:\n",
        "        n //= 10\n",
        "        nd += 1\n",
        "    return nd"
      ]
    },
    {
      "cell_type": "markdown",
      "metadata": {
        "id": "5awS7N0uJ5A6"
      },
      "source": [
        "### Ejemplo 3"
      ]
    },
    {
      "cell_type": "markdown",
      "metadata": {
        "id": "qVUmNZuxJ5A6"
      },
      "source": [
        "Escriba una función que calcule el discriminante de una ecuación de segundo grado, dados los valores de $a$, $b$ y $c$:"
      ]
    },
    {
      "cell_type": "code",
      "execution_count": 6,
      "metadata": {
        "id": "Z5CDytqyJ5A6"
      },
      "outputs": [],
      "source": [
        "def discriminante(a,b,c):\n",
        "    resultado = b**2-4*a*c\n",
        "    return resultado"
      ]
    },
    {
      "cell_type": "markdown",
      "metadata": {
        "id": "ZfQkkmtOJ5A6"
      },
      "source": [
        "Podemos llamar esta función, de la siguiente manera:"
      ]
    },
    {
      "cell_type": "code",
      "execution_count": 7,
      "metadata": {
        "id": "om1MEwobJ5A6"
      },
      "outputs": [],
      "source": [
        "var_resultado = discriminante(1,4,2)"
      ]
    },
    {
      "cell_type": "markdown",
      "metadata": {
        "id": "hinnG7j_J5A6"
      },
      "source": [
        "El resultado que entregó la función se almacenó en la variable var_resultado:"
      ]
    },
    {
      "cell_type": "code",
      "execution_count": 8,
      "metadata": {
        "id": "9aqtiG0OJ5A6",
        "outputId": "fa4fe4b4-35c8-4ad1-de83-acb23252dd98",
        "colab": {
          "base_uri": "https://localhost:8080/"
        }
      },
      "outputs": [
        {
          "output_type": "execute_result",
          "data": {
            "text/plain": [
              "8"
            ]
          },
          "metadata": {},
          "execution_count": 8
        }
      ],
      "source": [
        "var_resultado"
      ]
    },
    {
      "cell_type": "markdown",
      "metadata": {
        "id": "-xQQRaIWJ5A7"
      },
      "source": [
        "### Ejemplo 4"
      ]
    },
    {
      "cell_type": "markdown",
      "metadata": {
        "id": "uDIiiGaBJ5A7"
      },
      "source": [
        "Escriba un programa para resolver las ecuaciones de segundo grado, utilizando la función anterior.\n"
      ]
    },
    {
      "cell_type": "code",
      "execution_count": 9,
      "metadata": {
        "id": "7hqjA9HoJ5A-",
        "outputId": "abf9127c-eb82-4c5f-9cdf-1fa5114b9558",
        "colab": {
          "base_uri": "https://localhost:8080/"
        }
      },
      "outputs": [
        {
          "output_type": "stream",
          "name": "stdout",
          "text": [
            "Ingrese el valor a:1\n",
            "Ingrese el valor b:-1\n",
            "Ingrese el valor c:-12\n",
            "Las soluciones son:\n",
            "sol= -3.0\n",
            "sol2= 4.0\n"
          ]
        }
      ],
      "source": [
        "def discriminante(a,b,c):\n",
        "    resultado = b**2-4*a*c\n",
        "    return resultado\n",
        "\n",
        "p1 = float(input('Ingrese el valor a:'))\n",
        "p2 = float(input('Ingrese el valor b:'))\n",
        "p3 = float(input('Ingrese el valor c:'))\n",
        "\n",
        "var_resultado = discriminante(p1,p2,p3)\n",
        "\n",
        "if var_resultado < 0:\n",
        "    print('La ecuacion no tiene solucion real')\n",
        "elif var_resultado == 0:\n",
        "    sol = -p2 / (2*p1)\n",
        "    print('La solucion es unica y es sol=', sol)\n",
        "else:\n",
        "    sol = (-p2 - (var_resultado**0.5))/(2*p1)\n",
        "    sol2 = (-p2 + (var_resultado**0.5))/(2*p1)\n",
        "    print('Las soluciones son:')\n",
        "    print('sol=', sol)\n",
        "    print('sol2=', sol2)"
      ]
    },
    {
      "cell_type": "markdown",
      "metadata": {
        "id": "MMT1QIYAJ5A-"
      },
      "source": [
        "## Diferencia entre `print()` y `return`"
      ]
    },
    {
      "cell_type": "markdown",
      "metadata": {
        "id": "kPrU-NV7J5A-"
      },
      "source": [
        "Al trabajar con funciones es importante comprender la diferencia entre `print` y `return`, pues normalmente quienes están aprendiendo a programar tienden a confundirlas."
      ]
    },
    {
      "cell_type": "markdown",
      "metadata": {
        "id": "B7sEdg4UJ5A-"
      },
      "source": [
        "Anteriormente escribimos programas que recibían entradas del usuario a través de `input` y escribían resultados a la pantalla utilizando `print`. Estos son los principales mecanismos de interacción entre nuestros programas y las personas que los utilizan."
      ]
    },
    {
      "cell_type": "markdown",
      "metadata": {
        "id": "a5lyzOJpJ5A-"
      },
      "source": [
        "Por otra parte, las funciones no interactúan directamente con las personas, sino con otras componentes del programa desde son llamadas y a las cuales les devolvemos resultados. Es decir, a una función no la llama una persona, sino otra parte del programa.\n",
        "\n",
        "Cuando la función es llamada, se le proveen los datos que requiere para trabajar a través de los parámetros. La función utiliza esos valores sin necesidad de leerlos (pues ya vienen cargados en los parámetros) y con ellos lleva a cabo su tarea.\n",
        "\n",
        "Al finalizar, el resultado es entregado a través de la instrucción `return`, que hará que el valor llegue a la parte del programa donde se hizo el llamado."
      ]
    },
    {
      "cell_type": "markdown",
      "metadata": {
        "id": "zUA0BdPeJ5A-"
      },
      "source": [
        "Recuerda este ejemplo:"
      ]
    },
    {
      "cell_type": "code",
      "execution_count": 10,
      "metadata": {
        "id": "7Cpo-cngJ5A-"
      },
      "outputs": [],
      "source": [
        "var_resultado = discriminante(1,4,2)"
      ]
    },
    {
      "cell_type": "markdown",
      "metadata": {
        "id": "VFY3eYATJ5A-"
      },
      "source": [
        "Aquí llamamos a la función con los parámetros que queremos que trabaje. La función retornará el resultado, que será almacenado en la variable var_resultado. No hay `input` y no hay `print` en esta interacción, pues quienes están interactuando son componentes del programa y no personas."
      ]
    },
    {
      "cell_type": "markdown",
      "metadata": {
        "id": "5dlJRgaVJ5A_"
      },
      "source": [
        "#### Como regla general:"
      ]
    },
    {
      "cell_type": "markdown",
      "metadata": {
        "id": "OyNn9PrNJ5A_"
      },
      "source": [
        "- No utilizamos `input` dentro de una función. Las entradas que entregan las personas que usan el programa son leídas en el programa principal, fuera de las funciones.\n",
        "\n",
        "\n",
        "- No utilizamos `print` dentro de una función. Las funciones entregan sus resultados a través de return, y en el programa principal son entregadas a las personas que usan el programa a través de `print`."
      ]
    },
    {
      "cell_type": "markdown",
      "metadata": {
        "id": "ISkBhjuxJ5A_"
      },
      "source": [
        "## Ejercicios"
      ]
    },
    {
      "cell_type": "markdown",
      "metadata": {
        "id": "SCBv1-K-J5A_"
      },
      "source": [
        "### Ejercicio 1\n",
        "\n",
        "Escriba la función `promedio(n1, n2, n3)` que reciba las notas de los 3 certámenes de la asignatura y retorne el valor del promedio."
      ]
    },
    {
      "cell_type": "code",
      "execution_count": 11,
      "metadata": {
        "id": "fY466A_NJ5A_"
      },
      "outputs": [],
      "source": [
        "def promedio(n1, n2, n3):\n",
        "    suma = p1 + p2 + p3\n",
        "    prom = suma / 3\n",
        "    return prom"
      ]
    },
    {
      "cell_type": "markdown",
      "metadata": {
        "id": "4mLO4mhlJ5A_"
      },
      "source": [
        "### Ejercicio 2\n",
        "\n",
        "El riesgo  de que una persona  sufra enfermedades coronarias depende de su edad y su índice de masa corporal.\n",
        "\n",
        "El Indice de masa corporal (IMC)  es el cociente entre el peso del individuo  en kilos y el cuadrado de su estatura en metros.\n",
        "\n",
        "Escriba  una función que reciba como parámetros la estatura, el peso y la edad de la persona , y le entregue su condición de riesgo.\n",
        "\n",
        "<table style=\"font-size: 0.9em\">\n",
        "    <thead>\n",
        "        <td></td>\n",
        "        <td><b>edad &lt; 45</b></td>\n",
        "        <td><b>edad &ge; 45</b></td>\n",
        "    </thead>\n",
        "    <tr>\n",
        "        <td><b>IMC &lt; 22</b></td>\n",
        "        <td>bajo</td>\n",
        "        <td>medio</td>\n",
        "    </tr>\n",
        "    <tr>\n",
        "        <td><b>IMC &ge; 22</b></td>\n",
        "        <td>medio</td>\n",
        "        <td>alto</td>\n",
        "    </tr>\n",
        "</table>"
      ]
    },
    {
      "cell_type": "code",
      "execution_count": 12,
      "metadata": {
        "id": "YybBuznSJ5A_"
      },
      "outputs": [],
      "source": [
        "def IMC(est, peso, edad):\n",
        "    indice = peso/(est**2)\n",
        "    if edad < 45:\n",
        "        if indice < 22.0:\n",
        "            condicion = 'bajo'\n",
        "        else:\n",
        "            condicion = 'medio'\n",
        "    else:\n",
        "        if indice < 22.0:\n",
        "            condicion = 'medio'\n",
        "        else:\n",
        "            condicion = 'alto'\n",
        "    return condicion"
      ]
    },
    {
      "cell_type": "markdown",
      "metadata": {
        "id": "VtrO1PugJ5A_"
      },
      "source": [
        "### Ejercicio 3\n",
        "\n",
        "Un viajero desea saber cuánto tiempo tomó un viaje que realizó. Él conoce la duración (en minutos) de cada uno de los tramos del viaje por separado.\n",
        "\n",
        "Desarrolle un programa, **que contenga al menos una función**, que permita ingresar los tiempos de viaje de los tramos y entregue como resultado el tiempo total de viaje en formato: `horas` horas con `minutos` minutos\n",
        "\n",
        "El programa deja de pedir tiempos de viaje cuando se ingresa un **0**.\n",
        "\n",
        "**Ejemplo:**\n",
        "* Duración del tramo: **15**\n",
        "* Duración del tramo: **30**\n",
        "* Duración del tramo: **87**\n",
        "* Duración del tramo: **0**\n",
        "* Tiempo total de viaje : 2 horas con 12 minutos"
      ]
    },
    {
      "cell_type": "code",
      "execution_count": 13,
      "metadata": {
        "id": "fLamXMjfJ5A_",
        "outputId": "9fb97139-dd22-4439-bdaf-2326720d98c8",
        "colab": {
          "base_uri": "https://localhost:8080/"
        }
      },
      "outputs": [
        {
          "output_type": "stream",
          "name": "stdout",
          "text": [
            "Duracion del tramo: 40\n",
            "Duracion del tramo: 30\n",
            "Duracion del tramo: 60\n",
            "Duracion del tramo: 0\n",
            "Tiempo total de viaje: 2 horas con 10 minutos\n"
          ]
        }
      ],
      "source": [
        "def transformacion(total_min):\n",
        "    horas = total_min/60\n",
        "    return int(horas)\n",
        "\n",
        "def transformacion2(total_min):\n",
        "    minutos = total_min%60\n",
        "    return minutos\n",
        "\n",
        "flag = True\n",
        "total_min = 0\n",
        "while flag:\n",
        "    minutos = int(input('Duracion del tramo: '))\n",
        "    if minutos == 0:\n",
        "        flag = False\n",
        "    else:\n",
        "        total_min = total_min + minutos\n",
        "\n",
        "horas = transformacion(total_min)\n",
        "minutos = transformacion2(total_min)\n",
        "print('Tiempo total de viaje:', horas, 'horas con', minutos, 'minutos')"
      ]
    },
    {
      "cell_type": "markdown",
      "metadata": {
        "id": "ti8WUxGIJ5A_"
      },
      "source": [
        "### Ejercicio 4\n",
        "\n",
        "Realice el ruteo del problema anterior con las siguientes duraciones de tramos: 40, 35, 60, 70."
      ]
    }
  ],
  "metadata": {
    "celltoolbar": "Slideshow",
    "kernelspec": {
      "display_name": "Python 3",
      "language": "python",
      "name": "python3"
    },
    "language_info": {
      "codemirror_mode": {
        "name": "ipython",
        "version": 3
      },
      "file_extension": ".py",
      "mimetype": "text/x-python",
      "name": "python",
      "nbconvert_exporter": "python",
      "pygments_lexer": "ipython3",
      "version": "3.7.4"
    },
    "colab": {
      "provenance": [],
      "include_colab_link": true
    }
  },
  "nbformat": 4,
  "nbformat_minor": 0
}