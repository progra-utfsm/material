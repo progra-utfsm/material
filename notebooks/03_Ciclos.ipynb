{
 "cells": [
  {
   "cell_type": "markdown",
   "metadata": {
    "colab_type": "text",
    "id": "myM2e0xjJFKK",
    "slideshow": {
     "slide_type": "slide"
    }
   },
   "source": [
    "# IWI-131 Programación"
   ]
  },
  {
   "cell_type": "markdown",
   "metadata": {
    "slideshow": {
     "slide_type": "slide"
    }
   },
   "source": [
    "## Ciclos\n",
    "\n",
    "\n",
    "Permiten repetir un conjunto de instrucciones.\n",
    "\n",
    "Hay dos tipos de ciclos:\n",
    "\n",
    "\n",
    "- Los que se ejecutan una determinada cantidad de veces, conocida previamente.\n",
    "- Los que se ejecutan mientras una condición se cumple.\n",
    "\n",
    "\n",
    "_Nota: En realidad el segundo tipo puede utilizarse para modelar el primero._"
   ]
  },
  {
   "cell_type": "markdown",
   "metadata": {
    "colab_type": "text",
    "id": "8F0jSoc0JFN1",
    "slideshow": {
     "slide_type": "slide"
    }
   },
   "source": [
    "### Instrucción while\n",
    "\n",
    "Una instrucción `while` ejecuta una secuencia de instrucciones mientras una condición sea **verdadera**.\n",
    "\n",
    "Las instrucciones que se repiten son las que se encuentran indentadas a la derecha, dentro de la instrucción `while`."
   ]
  },
  {
   "cell_type": "markdown",
   "metadata": {
    "slideshow": {
     "slide_type": "fragment"
    }
   },
   "source": [
    "#### Sintaxis\n",
    "```python\n",
    "while condición:\n",
    "    instrucciones mientras la condición sea verdadera\n",
    "```"
   ]
  },
  {
   "cell_type": "markdown",
   "metadata": {
    "colab_type": "text",
    "id": "Ag0bnV_TJFN5",
    "slideshow": {
     "slide_type": "slide"
    }
   },
   "source": [
    "#### Notas adicionales:\n",
    "\n",
    "- A una ejecución de las instrucciones que componen el ciclo se le llama **iteración**.\n",
    "- La condición de un `while` es evaluada antes de cada iteración.\n",
    "- Por lo anterior, es posible que un `while` **no ejecute** ninguna iteración, si la condición es `False` al inicio."
   ]
  },
  {
   "cell_type": "markdown",
   "metadata": {
    "slideshow": {
     "slide_type": "slide"
    }
   },
   "source": [
    "#### ¿Entendemos `while`?\n",
    "\n",
    "* ¿Qué realiza el siguiente ejemplo?"
   ]
  },
  {
   "cell_type": "code",
   "execution_count": 1,
   "metadata": {
    "colab": {},
    "colab_type": "code",
    "id": "jD-W65DVJFN7",
    "outputId": "ca1f5719-bfed-4d6d-9f66-efd7e0915819",
    "slideshow": {
     "slide_type": "fragment"
    }
   },
   "outputs": [
    {
     "name": "stdout",
     "output_type": "stream",
     "text": [
      "m: 5\n",
      "n: 4\n",
      "El producto de m y n es: 20\n"
     ]
    }
   ],
   "source": [
    "m = int(input(\"m: \"))\n",
    "n = int(input(\"n: \"))\n",
    "k = 0\n",
    "\n",
    "while m > 0:\n",
    "    m = m - 1 \n",
    "    k = k + n\n",
    "\n",
    "print(\"El producto de m y n es:\",k)"
   ]
  },
  {
   "cell_type": "markdown",
   "metadata": {
    "colab_type": "text",
    "id": "OHZpLYfIJFOC",
    "slideshow": {
     "slide_type": "fragment"
    }
   },
   "source": [
    "- ¿Entiendes cómo se lleva a cabo el cálculo del producto?\n",
    "- ¿Por qué estamos seguros de que en algún momento terminará el ciclo?"
   ]
  },
  {
   "cell_type": "markdown",
   "metadata": {
    "colab_type": "text",
    "id": "nNFC14zaJFOE",
    "slideshow": {
     "slide_type": "slide"
    }
   },
   "source": [
    "## Uso de Ciclos"
   ]
  },
  {
   "cell_type": "markdown",
   "metadata": {
    "colab_type": "text",
    "id": "kOnhFeo9JFOH",
    "slideshow": {
     "slide_type": "slide"
    }
   },
   "source": [
    "**1a.** Escriba un programa que calcule el promedio de las notas del certamen 1 de un paralelo de IWI131. (Nótese que generalmente los paralelos no tienen la misma cantidad de alumnos)"
   ]
  },
  {
   "cell_type": "code",
   "execution_count": 2,
   "metadata": {
    "colab": {},
    "colab_type": "code",
    "id": "mr0DGQJ0JFOJ",
    "outputId": "6cb141ea-14b8-4d5c-c56f-0c4bc1dbbfb1",
    "slideshow": {
     "slide_type": "fragment"
    }
   },
   "outputs": [
    {
     "name": "stdout",
     "output_type": "stream",
     "text": [
      "Ingrese la cantidad de alumnos: 3\n",
      "Ingrese nota: 10\n",
      "Ingrese nota: 20\n",
      "Ingrese nota: 30\n",
      "3\n",
      "El promedio del paralelo es: 20\n"
     ]
    }
   ],
   "source": [
    "cant = int(input(\"Ingrese la cantidad de alumnos: \"))\n",
    "\n",
    "cont = 0 #contador de alumnos/notas ingresadas\n",
    "suma = 0 #notas acumuladas\n",
    "\n",
    "while cont < cant:\n",
    "    nota = int(input(\"Ingrese nota: \"))\n",
    "    suma = suma + nota\n",
    "    cont = cont + 1\n",
    "\n",
    "print(cont)\n",
    "print(\"El promedio del paralelo es:\", int(round(suma/cont)))"
   ]
  },
  {
   "cell_type": "markdown",
   "metadata": {
    "colab_type": "text",
    "id": "kOnhFeo9JFOH",
    "slideshow": {
     "slide_type": "slide"
    }
   },
   "source": [
    "**1b.** Escriba un programa que calcule el promedio las notas de varios alumnos. Se ingresarán notas hasta que se ingrese el valor $-1$."
   ]
  },
  {
   "cell_type": "code",
   "execution_count": 3,
   "metadata": {
    "colab": {},
    "colab_type": "code",
    "id": "mr0DGQJ0JFOJ",
    "outputId": "6cb141ea-14b8-4d5c-c56f-0c4bc1dbbfb1",
    "slideshow": {
     "slide_type": "fragment"
    }
   },
   "outputs": [
    {
     "name": "stdout",
     "output_type": "stream",
     "text": [
      "Ingrese nota: 3\n",
      "Ingrese nota: 10\n",
      "Ingrese nota: 20\n",
      "Ingrese nota: -1\n",
      "El promedio es: 11\n"
     ]
    }
   ],
   "source": [
    "cont = 0 #contador de cantidad notas ingresadas\n",
    "suma = 0 #notas acumuladas\n",
    "\n",
    "nota = int(input(\"Ingrese nota: \"))\n",
    "\n",
    "while nota != -1:\n",
    "    suma = suma + nota\n",
    "    cont += 1 #cont = cont + 1\n",
    "    nota = int(input(\"Ingrese nota: \"))\n",
    "    \n",
    "print(\"El promedio es:\", int(round(suma/cont)))"
   ]
  },
  {
   "cell_type": "markdown",
   "metadata": {
    "slideshow": {
     "slide_type": "slide"
    }
   },
   "source": [
    "**1c.** Escriba un programa que calcule el promedio las notas de varios alumnos. Se ingresarán notas hasta que se ingrese el valor $-1$."
   ]
  },
  {
   "cell_type": "code",
   "execution_count": 4,
   "metadata": {
    "colab": {},
    "colab_type": "code",
    "id": "mr0DGQJ0JFOJ",
    "outputId": "6cb141ea-14b8-4d5c-c56f-0c4bc1dbbfb1",
    "slideshow": {
     "slide_type": "fragment"
    }
   },
   "outputs": [
    {
     "name": "stdout",
     "output_type": "stream",
     "text": [
      "Ingrese nota: 10\n",
      "Ingrese nota: 20\n",
      "Ingrese nota: -1\n",
      "El promedio es: 15\n"
     ]
    }
   ],
   "source": [
    "flag = True # bandera que indica si condicion se cumple\n",
    "cont = 0 #contador de cantidad notas ingresadas\n",
    "suma = 0 #notas acumuladas\n",
    "\n",
    "while flag: #flag == True\n",
    "    nota = int(input(\"Ingrese nota: \"))\n",
    "    if nota == -1:\n",
    "        flag = False\n",
    "    else:\n",
    "        suma += nota #suma = suma + nota\n",
    "        cont += 1 #cont = cont + 1\n",
    "\n",
    "print(\"El promedio es:\", int(round(suma/cont)))"
   ]
  },
  {
   "cell_type": "markdown",
   "metadata": {
    "slideshow": {
     "slide_type": "slide"
    }
   },
   "source": [
    "## Patrones Comunes\n",
    "\n",
    "Un patrón es una solución que puede ser aplicada a distintos problemas o situaciones, con ligeros cambios."
   ]
  },
  {
   "cell_type": "markdown",
   "metadata": {
    "slideshow": {
     "slide_type": "fragment"
    }
   },
   "source": [
    "1. **Patrón de acumulación con suma.**\n",
    "2. **Patrón de acumulación con multiplicación.**\n",
    "3. **Patrón de conteo.**\n",
    "4. **Patrón de encontrar el mayor (máximo).**\n",
    "5. **Patrón de encontrar el menor (mínimo).**"
   ]
  },
  {
   "cell_type": "markdown",
   "metadata": {
    "slideshow": {
     "slide_type": "slide"
    }
   },
   "source": [
    "### 1. Patrón de acumulación con suma."
   ]
  },
  {
   "cell_type": "markdown",
   "metadata": {
    "slideshow": {
     "slide_type": "fragment"
    }
   },
   "source": [
    "Escriba un programa que reciba como entrada un número entero. El programa debe mostrar el resultado de la suma de los números al cuadrado desde el $1$ hasta el valor ingresado.\n",
    "$$\n",
    "1^2+2^2+\\ldots+(n-1)^2+n^2\n",
    "$$"
   ]
  },
  {
   "cell_type": "code",
   "execution_count": 5,
   "metadata": {
    "slideshow": {
     "slide_type": "fragment"
    }
   },
   "outputs": [
    {
     "name": "stdout",
     "output_type": "stream",
     "text": [
      "Ingrese n: 4\n",
      "La suma de los numeros al cuadrado es: 30\n"
     ]
    }
   ],
   "source": [
    "n = int(input(\"Ingrese n: \"))\n",
    "suma = 0\n",
    "cont = 1\n",
    "\n",
    "while cont <= n:\n",
    "    d = cont**2\n",
    "    suma = suma + d\n",
    "    cont += 1\n",
    "\n",
    "print(\"La suma de los numeros al cuadrado es:\", suma)"
   ]
  },
  {
   "cell_type": "markdown",
   "metadata": {
    "slideshow": {
     "slide_type": "slide"
    }
   },
   "source": [
    "#### Estructura del patrón de acumulación con suma:\n",
    "```Python\n",
    "suma = 0\n",
    "while (condición_del_ciclo):\n",
    "    n = ... #calcular lo que se quiere acumular\n",
    "    suma = suma + n\n",
    "```"
   ]
  },
  {
   "cell_type": "markdown",
   "metadata": {
    "slideshow": {
     "slide_type": "fragment"
    }
   },
   "source": [
    "¿Cuáles son los elementos de este patrón?"
   ]
  },
  {
   "cell_type": "markdown",
   "metadata": {
    "slideshow": {
     "slide_type": "slide"
    }
   },
   "source": [
    "### 2. Patrón de acumulación con multiplicación"
   ]
  },
  {
   "cell_type": "markdown",
   "metadata": {
    "slideshow": {
     "slide_type": "fragment"
    }
   },
   "source": [
    "Escriba una programa que calcule el factorial de un número $n$ ingresada como entrada:\n",
    "$3! = 1\\cdot 2 \\cdot 3$"
   ]
  },
  {
   "cell_type": "code",
   "execution_count": 6,
   "metadata": {
    "slideshow": {
     "slide_type": "fragment"
    }
   },
   "outputs": [
    {
     "name": "stdout",
     "output_type": "stream",
     "text": [
      "Ingrese n: 3\n",
      "El factorial de 3 es: 6\n"
     ]
    }
   ],
   "source": [
    "n = int(input(\"Ingrese n: \"))\n",
    "\n",
    "if n < 0:\n",
    "    print(\"El factorial está definido sólo para números naturales mayores o igual que 0.\")\n",
    "else:\n",
    "    prod = 1\n",
    "    cont = 1\n",
    "    \n",
    "    while cont <= n:\n",
    "        prod  = prod * cont # prod *= cont\n",
    "        cont += 1 #cont = cont + 1\n",
    "    \n",
    "    print(\"El factorial de\", n, \"es:\", prod)"
   ]
  },
  {
   "cell_type": "markdown",
   "metadata": {
    "slideshow": {
     "slide_type": "slide"
    }
   },
   "source": [
    "#### Estructura del patrón de acumulación con multiplicación:\n",
    "```Python\n",
    "producto = 1\n",
    "while (condición_del_ciclo):\n",
    "    n = ... #calcular lo que se quiere acumular\n",
    "    producto = producto * n\n",
    "```"
   ]
  },
  {
   "cell_type": "markdown",
   "metadata": {
    "slideshow": {
     "slide_type": "fragment"
    }
   },
   "source": [
    "¿Cuáles son los elementos de este patrón?"
   ]
  },
  {
   "cell_type": "markdown",
   "metadata": {
    "slideshow": {
     "slide_type": "fragment"
    }
   },
   "source": [
    "¿Ves las diferencias con el patrón de acumulación con suma?"
   ]
  },
  {
   "cell_type": "markdown",
   "metadata": {
    "slideshow": {
     "slide_type": "slide"
    }
   },
   "source": [
    "### 3. Patrón de conteo"
   ]
  },
  {
   "cell_type": "markdown",
   "metadata": {
    "slideshow": {
     "slide_type": "fragment"
    }
   },
   "source": [
    "Escriba un programa que solicite el ingreso de $n$ números, luego entregue la cantidad de números pares ingresados."
   ]
  },
  {
   "cell_type": "code",
   "execution_count": 7,
   "metadata": {
    "slideshow": {
     "slide_type": "fragment"
    }
   },
   "outputs": [
    {
     "name": "stdout",
     "output_type": "stream",
     "text": [
      "Ingrese n: 3\n",
      "Ingrese numero: 4\n",
      "pares = 1\n",
      "Ingrese numero: 5\n",
      "pares = 1\n",
      "Ingrese numero: 6\n",
      "pares = 2\n",
      "La cantidad de pares ingresados es: 2\n"
     ]
    }
   ],
   "source": [
    "n = int(input(\"Ingrese n: \"))\n",
    "pares = 0 #contador de pares\n",
    "cont = 0 #contador de numeros\n",
    "\n",
    "while cont < n:\n",
    "    num = int(input(\"Ingrese numero: \"))\n",
    "\n",
    "    if num % 2 == 0: #si es divisible por 2\n",
    "        pares += 1 #pares = pares + 1\n",
    "    \n",
    "    print(\"pares =\", pares)\n",
    "    cont += 1 #cont = cont + 1 \n",
    "\n",
    "print(\"La cantidad de pares ingresados es:\", pares)"
   ]
  },
  {
   "cell_type": "markdown",
   "metadata": {
    "slideshow": {
     "slide_type": "slide"
    }
   },
   "source": [
    "#### Estructura del patrón de conteo:\n",
    "```Python\n",
    "contador = 0\n",
    "while (condición_del_ciclo):\n",
    "    if (condición_para_contar):\n",
    "        contador = contador + 1\n",
    "```"
   ]
  },
  {
   "cell_type": "markdown",
   "metadata": {
    "slideshow": {
     "slide_type": "fragment"
    }
   },
   "source": [
    "¿Cuáles son los elementos de este patrón?"
   ]
  },
  {
   "cell_type": "markdown",
   "metadata": {
    "slideshow": {
     "slide_type": "slide"
    }
   },
   "source": [
    "### 4. Patrón de encontrar el mayor (máximo)"
   ]
  },
  {
   "cell_type": "markdown",
   "metadata": {
    "slideshow": {
     "slide_type": "fragment"
    }
   },
   "source": [
    "Escribir un programa que solicite n números y luego muestre el número mayor que haya sido ingresado."
   ]
  },
  {
   "cell_type": "markdown",
   "metadata": {
    "slideshow": {
     "slide_type": "slide"
    }
   },
   "source": [
    "**Opción 1:** usando un número muy pequeño para comparar."
   ]
  },
  {
   "cell_type": "code",
   "execution_count": 8,
   "metadata": {
    "slideshow": {
     "slide_type": "fragment"
    }
   },
   "outputs": [
    {
     "name": "stdout",
     "output_type": "stream",
     "text": [
      "Ingrese n: 3\n",
      "Ingrese numero: 1\n",
      "mayor temp = 1.0\n",
      "Ingrese numero: 2\n",
      "mayor temp = 2.0\n",
      "Ingrese numero: 3\n",
      "mayor temp = 3.0\n",
      "El numero mayor es: 3.0\n"
     ]
    }
   ],
   "source": [
    "n = int(input(\"Ingrese n: \"))\n",
    "i = 1\n",
    "mayor = float(\"-inf\")\n",
    "\n",
    "while i <= n:\n",
    "    mensaje = \"Ingrese numero: \"\n",
    "    numero =  float(input(mensaje))\n",
    "\n",
    "    if mayor < numero:\n",
    "        mayor = numero\n",
    "    \n",
    "    print(\"mayor temp =\", mayor)\n",
    "    i += 1\n",
    "\n",
    "print(\"El numero mayor es:\", mayor)"
   ]
  },
  {
   "cell_type": "markdown",
   "metadata": {
    "slideshow": {
     "slide_type": "slide"
    }
   },
   "source": [
    "**Opción 2:** sin usar número muy pequeño para comparar."
   ]
  },
  {
   "cell_type": "code",
   "execution_count": 9,
   "metadata": {
    "slideshow": {
     "slide_type": "fragment"
    }
   },
   "outputs": [
    {
     "name": "stdout",
     "output_type": "stream",
     "text": [
      "Ingrese n: 3\n",
      "Ingrese numero: 1\n",
      "Ingrese numero: 2\n",
      "Ingrese numero: 3\n",
      "El numero mayor es 3.0\n"
     ]
    }
   ],
   "source": [
    "n = int(input(\"Ingrese n: \"))\n",
    "i = 1\n",
    "\n",
    "while i <= n:\n",
    "    mensaje = \"Ingrese numero: \"\n",
    "    numero =  float(input(mensaje))\n",
    "\n",
    "    if i == 1:\n",
    "        mayor = numero\n",
    "    elif mayor < numero:\n",
    "        mayor = numero\n",
    "    i += 1\n",
    "\n",
    "print(\"El numero mayor es\", mayor)"
   ]
  },
  {
   "cell_type": "markdown",
   "metadata": {
    "slideshow": {
     "slide_type": "slide"
    }
   },
   "source": [
    "#### **Estructura del patrón de encontrar el mayor:**\n",
    "```Python\n",
    "mayor = numero_muy_chico\n",
    "while (condición_del_ciclo):\n",
    "    n = ... #determinar lo que se quiere comparar\n",
    "    if n > mayor:\n",
    "        mayor = n\n",
    "```"
   ]
  },
  {
   "cell_type": "markdown",
   "metadata": {
    "slideshow": {
     "slide_type": "fragment"
    }
   },
   "source": [
    "¿Cuáles son los elementos de este patrón?"
   ]
  },
  {
   "cell_type": "markdown",
   "metadata": {
    "slideshow": {
     "slide_type": "slide"
    }
   },
   "source": [
    "### 5. Patrón de encontrar el menor (mínimo)"
   ]
  },
  {
   "cell_type": "markdown",
   "metadata": {
    "slideshow": {
     "slide_type": "fragment"
    }
   },
   "source": [
    "¿Cómo cambia el patrón anterior si ahora se quiere encontrar el mínimo?"
   ]
  },
  {
   "cell_type": "code",
   "execution_count": 10,
   "metadata": {
    "slideshow": {
     "slide_type": "fragment"
    }
   },
   "outputs": [
    {
     "name": "stdout",
     "output_type": "stream",
     "text": [
      "Ingrese n: 3\n",
      "Ingrese numero: 1\n",
      "Ingrese numero: 2\n",
      "Ingrese numero: 3\n",
      "El numero menor es: 1.0\n"
     ]
    }
   ],
   "source": [
    "n = int(input(\"Ingrese n: \"))\n",
    "i = 1\n",
    "menor = float(\"inf\")\n",
    "\n",
    "while i <= n:\n",
    "    mensaje = \"Ingrese numero: \"\n",
    "    numero =  float(input(mensaje))\n",
    "\n",
    "    if menor > numero:\n",
    "        menor = numero\n",
    "    i += 1\n",
    "\n",
    "print(\"El numero menor es:\", menor)"
   ]
  },
  {
   "cell_type": "markdown",
   "metadata": {
    "slideshow": {
     "slide_type": "slide"
    }
   },
   "source": [
    "#### Estructura del patrón de encontrar el menor:\n",
    "```Python\n",
    "menor = numero_muy_grande\n",
    "while (condición_del_ciclo):\n",
    "    n = ... #determinar lo que se quiere comparar\n",
    "    if n < menor:\n",
    "        menor = n\n",
    "```"
   ]
  },
  {
   "cell_type": "markdown",
   "metadata": {
    "slideshow": {
     "slide_type": "slide"
    }
   },
   "source": [
    "### Ciclos anidados\n",
    "\n",
    "Dentro de un ciclo es posible incluir cualquier tipo de instrucción, incluso otros ciclos.\n",
    "\n",
    "Cuando un ciclo se encuentra dentro de otro ciclo, el ciclo interno se ejecutará completo en cada iteración del ciclo externo."
   ]
  },
  {
   "cell_type": "markdown",
   "metadata": {
    "slideshow": {
     "slide_type": "slide"
    }
   },
   "source": [
    "#### Ejemplo 1:\n",
    "\n",
    "Escribir un programa que imprima en la pantalla un rectángulo de asteriscos como el siguiente, que tiene 4 filas con 10 asteriscos cada una:\n",
    "\n",
    "```\n",
    "**********\n",
    "**********\n",
    "**********\n",
    "**********\n",
    "```"
   ]
  },
  {
   "cell_type": "code",
   "execution_count": 11,
   "metadata": {
    "scrolled": false,
    "slideshow": {
     "slide_type": "fragment"
    }
   },
   "outputs": [
    {
     "name": "stdout",
     "output_type": "stream",
     "text": [
      "**********\n",
      "**********\n",
      "**********\n",
      "**********\n"
     ]
    }
   ],
   "source": [
    "fila = 0\n",
    "while fila < 4:\n",
    "    columna = 0\n",
    "    linea = \"\"\n",
    "    while columna < 10:\n",
    "        linea = linea + \"*\"\n",
    "        columna += 1\n",
    "    print(linea)\n",
    "    fila += 1"
   ]
  },
  {
   "cell_type": "markdown",
   "metadata": {
    "slideshow": {
     "slide_type": "fragment"
    }
   },
   "source": [
    "El ciclo interno ejecuta sus 10 iteraciones para cada iteración del ciclo externo."
   ]
  },
  {
   "cell_type": "markdown",
   "metadata": {
    "slideshow": {
     "slide_type": "slide"
    }
   },
   "source": [
    "Entonces, ¿cuántas veces en total se ejecuta la instrucción `linea = linea + \"*\"`?"
   ]
  },
  {
   "cell_type": "markdown",
   "metadata": {
    "slideshow": {
     "slide_type": "fragment"
    }
   },
   "source": [
    "¿Cuáles son todos los valores por los que pasa la variable columna durante la ejecución del programa?"
   ]
  },
  {
   "cell_type": "markdown",
   "metadata": {
    "slideshow": {
     "slide_type": "slide"
    }
   },
   "source": [
    "#### Ejercicio:\n",
    "\n",
    "Modificar el programa anterior para que la cantidad de filas y columnas sean entradas, pudiendo dibujar así rectángulos de diferentes dimensiones."
   ]
  },
  {
   "cell_type": "code",
   "execution_count": 12,
   "metadata": {
    "slideshow": {
     "slide_type": "fragment"
    }
   },
   "outputs": [
    {
     "name": "stdout",
     "output_type": "stream",
     "text": [
      "Ingrese la cantidad de filas: 4\n",
      "Ingrese la cantidad de columnas: 5\n",
      "*****\n",
      "*****\n",
      "*****\n",
      "*****\n"
     ]
    }
   ],
   "source": [
    "cantidad_filas = int(input(\"Ingrese la cantidad de filas: \"))\n",
    "cantidad_columnas = int(input(\"Ingrese la cantidad de columnas: \"))\n",
    "fila = 0\n",
    "while fila < cantidad_filas:\n",
    "    columna = 0\n",
    "    linea = \"\"\n",
    "    while columna < cantidad_columnas:\n",
    "        linea = linea + \"*\"\n",
    "        columna += 1\n",
    "    print(linea)\n",
    "    fila += 1"
   ]
  },
  {
   "cell_type": "markdown",
   "metadata": {
    "slideshow": {
     "slide_type": "slide"
    }
   },
   "source": [
    "#### Ejemplo 2:\n",
    "\n",
    "Escribir un programa que muestre todas las combinaciones posibles al lanzar $2$ dados."
   ]
  },
  {
   "cell_type": "code",
   "execution_count": 13,
   "metadata": {
    "slideshow": {
     "slide_type": "fragment"
    }
   },
   "outputs": [
    {
     "name": "stdout",
     "output_type": "stream",
     "text": [
      "1 1\n",
      "1 2\n",
      "1 3\n",
      "1 4\n",
      "1 5\n",
      "1 6\n",
      "2 1\n",
      "2 2\n",
      "2 3\n",
      "2 4\n",
      "2 5\n",
      "2 6\n",
      "3 1\n",
      "3 2\n",
      "3 3\n",
      "3 4\n",
      "3 5\n",
      "3 6\n",
      "4 1\n",
      "4 2\n",
      "4 3\n",
      "4 4\n",
      "4 5\n",
      "4 6\n",
      "5 1\n",
      "5 2\n",
      "5 3\n",
      "5 4\n",
      "5 5\n",
      "5 6\n",
      "6 1\n",
      "6 2\n",
      "6 3\n",
      "6 4\n",
      "6 5\n",
      "6 6\n"
     ]
    }
   ],
   "source": [
    "i = 1\n",
    "while i <= 6:\n",
    "    j = 1\n",
    "    while j <= 6:\n",
    "        print(i,j)\n",
    "        j += 1\n",
    "    i += 1"
   ]
  },
  {
   "cell_type": "markdown",
   "metadata": {
    "slideshow": {
     "slide_type": "slide"
    }
   },
   "source": [
    "## Ejercicios"
   ]
  },
  {
   "cell_type": "markdown",
   "metadata": {
    "slideshow": {
     "slide_type": "slide"
    }
   },
   "source": [
    "### Ejercicio 1: Conjetura de Ulam\n",
    "\n",
    "A partir de un número cualquiera (entrada) es posible hacer una sucesión de números que termina en $1$.\n",
    "- Si el número es par, se debe dividir por $2$.\n",
    "- Si el número es impar, se debe multiplicar por $3$ y sumarle $1$.\n",
    "\n",
    "Con esto se obtiene el siguiente número de la sucesión, al cual se le deben aplicar las mismas operaciones. La sucesión de números termina cuando el número obtenido por medio de las operaciones es $1$."
   ]
  },
  {
   "cell_type": "code",
   "execution_count": 14,
   "metadata": {
    "slideshow": {
     "slide_type": "slide"
    }
   },
   "outputs": [
    {
     "name": "stdout",
     "output_type": "stream",
     "text": [
      "Inicio: 3\n",
      "3\n",
      "10\n",
      "5\n",
      "16\n",
      "8\n",
      "4\n",
      "2\n",
      "1\n"
     ]
    }
   ],
   "source": [
    "t= int(input('Inicio: '))\n",
    "\n",
    "while t != 1:\n",
    "    print(int(t))\n",
    "    if t % 2 == 0:\n",
    "        t = t/2\n",
    "    else: \n",
    "        t = (3*t) + 1\n",
    "        \n",
    "print(int(t))"
   ]
  },
  {
   "cell_type": "markdown",
   "metadata": {
    "slideshow": {
     "slide_type": "slide"
    }
   },
   "source": [
    "### Ejercicio 2\n",
    "\n",
    "Escriba un programa que determine si un número es **primo** o **compuesto**."
   ]
  },
  {
   "cell_type": "code",
   "execution_count": 15,
   "metadata": {
    "slideshow": {
     "slide_type": "slide"
    }
   },
   "outputs": [
    {
     "name": "stdout",
     "output_type": "stream",
     "text": [
      "n: 5\n",
      "Es primo\n"
     ]
    }
   ],
   "source": [
    "n=int(input(\"n: \"))\n",
    "es_primo = True\n",
    "d = 2\n",
    "\n",
    "while d<n and es_primo:\n",
    "    if n%d == 0:\n",
    "        es_primo = False\n",
    "    d = d+1\n",
    "\n",
    "if es_primo:\n",
    "    print(\"Es primo\")\n",
    "else:\n",
    "    print(\"Es compuesto\")"
   ]
  },
  {
   "cell_type": "markdown",
   "metadata": {
    "slideshow": {
     "slide_type": "slide"
    }
   },
   "source": [
    "### Ejercicio 3\n",
    "\n",
    "Utilizando el programa diseñado anteriormente para determinar si un número es primo o compuesto. Realice el ruteo para los siguientes valores:\n",
    "* 5\n"
   ]
  },
  {
   "cell_type": "markdown",
   "metadata": {
    "slideshow": {
     "slide_type": "fragment"
    }
   },
   "source": [
    "<table style=\"font-size: 1em; float:center;\">\n",
    "    <thead>\n",
    "        <td style=\"border-right: 1px solid black;\"><b>n</b></td>\n",
    "        <td style=\"border-right: 1px solid black;\"><b>es_primo</b></td>\n",
    "        <td><b>d</b></td>\n",
    "    </thead>\n",
    "    <tr>\n",
    "        <td style=\"border-right: 1px solid black;\">5</td>\n",
    "        <td style=\"border-right: 1px solid black;\">&emsp;</td>\n",
    "        <td>&emsp;</td>\n",
    "    </tr>\n",
    "    <tr>\n",
    "        <td style=\"border-right: 1px solid black;\">&emsp;</td>\n",
    "        <td style=\"border-right: 1px solid black;\">True</td>\n",
    "        <td>&emsp;</td>\n",
    "    </tr>\n",
    "        <tr>\n",
    "        <td style=\"border-right: 1px solid black;\">&emsp;</td>\n",
    "        <td style=\"border-right: 1px solid black;\">&emsp;</td>\n",
    "        <td>2</td>\n",
    "    </tr>\n",
    "    <tr>\n",
    "        <td style=\"border-right: 1px solid black;\">&emsp;</td>\n",
    "        <td style=\"border-right: 1px solid black;\">&emsp;</td>\n",
    "        <td>3</td>\n",
    "    </tr>\n",
    "    <tr>\n",
    "        <td style=\"border-right: 1px solid black;\">&emsp;</td>\n",
    "        <td style=\"border-right: 1px solid black;\">&emsp;</td>\n",
    "        <td>4</td>\n",
    "    </tr>\n",
    "    <tr>\n",
    "        <td style=\"border-right: 1px solid black;\">&emsp;</td>\n",
    "        <td style=\"border-right: 1px solid black;\">&emsp;</td>\n",
    "        <td>5</td>\n",
    "    </tr>\n",
    "   \n",
    "</table>\n",
    "            \n",
    "<table style=\"font-size: 1em; float:center;\">\n",
    "    <tr>\n",
    "        <td style=\"text-align:left\" align=\"left\"><b>Pantalla:</b></td>\n",
    "    </tr>\n",
    "    <tr>\n",
    "        <td style=\"text-align:left\">Es primo<br/>&emsp;<br/></td>\n",
    "    </tr>\n",
    "</table>"
   ]
  }
 ],
 "metadata": {
  "celltoolbar": "Slideshow",
  "colab": {
   "name": "05_Condicionales_Ciclos_2018.ipynb",
   "provenance": [],
   "version": "0.3.2"
  },
  "kernelspec": {
   "display_name": "Python 3",
   "language": "python",
   "name": "python3"
  },
  "language_info": {
   "codemirror_mode": {
    "name": "ipython",
    "version": 3
   },
   "file_extension": ".py",
   "mimetype": "text/x-python",
   "name": "python",
   "nbconvert_exporter": "python",
   "pygments_lexer": "ipython3",
   "version": "3.7.4"
  }
 },
 "nbformat": 4,
 "nbformat_minor": 1
}
