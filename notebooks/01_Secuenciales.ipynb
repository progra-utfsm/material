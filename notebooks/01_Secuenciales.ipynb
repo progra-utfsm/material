{
  "cells": [
    {
      "cell_type": "markdown",
      "metadata": {
        "id": "view-in-github",
        "colab_type": "text"
      },
      "source": [
        "<a href=\"https://colab.research.google.com/github/progra-utfsm/material/blob/main/notebooks/01_Secuenciales.ipynb\" target=\"_parent\"><img src=\"https://colab.research.google.com/assets/colab-badge.svg\" alt=\"Open In Colab\"/></a>"
      ]
    },
    {
      "cell_type": "markdown",
      "metadata": {
        "id": "Z77ZXHZsGTBo"
      },
      "source": [
        "# Programas Secuenciales\n"
      ]
    },
    {
      "cell_type": "markdown",
      "metadata": {
        "id": "YmjNSeniDYoF"
      },
      "source": [
        "## Introducción a Python 3.X"
      ]
    },
    {
      "cell_type": "markdown",
      "metadata": {
        "id": "vuVTEew6DYoF"
      },
      "source": [
        "Python es lenguage de programación cuya ejecución es realizada a través de un interprete. Éste interprete lee código desde:\n",
        "* La consola de Python.\n",
        "* Archivos de texto (con extensión .py)\n",
        "\n",
        "En esta clase nos centraremos mayoritariamente en la **consola de python**."
      ]
    },
    {
      "cell_type": "markdown",
      "metadata": {
        "id": "78BJqmRPGTBt"
      },
      "source": [
        "## Tipos de Datos\n",
        "\n",
        "Python opera sobre datos de distintos tipos. Cada tipo de datos tiene reglas que establecen la forma en que se deben escribir los valores literales (constantes) de ese tipo. Además, cada tipo de datos cuentan con una serie de operadores y funciones que se pueden aplicar. En algunos casos es posible convertir un dato particular de un tipo a otro, ya sea de forma implícita o explícita."
      ]
    },
    {
      "cell_type": "markdown",
      "metadata": {
        "id": "HRf_UcYUGTBy"
      },
      "source": [
        "### Números enteros\n",
        "Tipo `int` (*integer*)"
      ]
    },
    {
      "cell_type": "code",
      "execution_count": 56,
      "metadata": {
        "colab": {
          "base_uri": "https://localhost:8080/"
        },
        "id": "ed3J_62oGTB2",
        "outputId": "a4d16da8-1682-476c-e063-c75964115e16"
      },
      "outputs": [
        {
          "output_type": "execute_result",
          "data": {
            "text/plain": [
              "1"
            ]
          },
          "metadata": {},
          "execution_count": 56
        }
      ],
      "source": [
        "1"
      ]
    },
    {
      "cell_type": "code",
      "execution_count": 57,
      "metadata": {
        "colab": {
          "base_uri": "https://localhost:8080/"
        },
        "id": "arwvazrmGTCK",
        "outputId": "28fecdd1-e99a-404d-8eb8-921f1810d7ae"
      },
      "outputs": [
        {
          "output_type": "execute_result",
          "data": {
            "text/plain": [
              "135"
            ]
          },
          "metadata": {},
          "execution_count": 57
        }
      ],
      "source": [
        "\n",
        "+135"
      ]
    },
    {
      "cell_type": "code",
      "execution_count": 58,
      "metadata": {
        "colab": {
          "base_uri": "https://localhost:8080/"
        },
        "id": "M8eTRGujGTCW",
        "outputId": "d8ceaa57-04cb-45be-d9e6-2e60329d0546"
      },
      "outputs": [
        {
          "output_type": "execute_result",
          "data": {
            "text/plain": [
              "-124"
            ]
          },
          "metadata": {},
          "execution_count": 58
        }
      ],
      "source": [
        "-124"
      ]
    },
    {
      "cell_type": "markdown",
      "metadata": {
        "id": "4TO6k9oaGTCi"
      },
      "source": [
        "### Números Reales\n",
        "Tipo `float` (*floating point*)"
      ]
    },
    {
      "cell_type": "code",
      "execution_count": 59,
      "metadata": {
        "colab": {
          "base_uri": "https://localhost:8080/"
        },
        "id": "EzdrIhCqGTCl",
        "outputId": "bb187799-7648-4dec-ba1d-cf1ee45edc15"
      },
      "outputs": [
        {
          "output_type": "execute_result",
          "data": {
            "text/plain": [
              "-0.36"
            ]
          },
          "metadata": {},
          "execution_count": 59
        }
      ],
      "source": [
        "-0.36"
      ]
    },
    {
      "cell_type": "code",
      "execution_count": 60,
      "metadata": {
        "colab": {
          "base_uri": "https://localhost:8080/"
        },
        "id": "QIkDmKmTGTCt",
        "outputId": "358aaddf-b496-422b-eb6a-6805365364f9"
      },
      "outputs": [
        {
          "output_type": "execute_result",
          "data": {
            "text/plain": [
              "1.0"
            ]
          },
          "metadata": {},
          "execution_count": 60
        }
      ],
      "source": [
        "1.0"
      ]
    },
    {
      "cell_type": "code",
      "execution_count": 61,
      "metadata": {
        "colab": {
          "base_uri": "https://localhost:8080/"
        },
        "id": "PXUlB9sFGTC2",
        "outputId": "846032a4-f69b-4d43-ed38-f5c6321106aa"
      },
      "outputs": [
        {
          "output_type": "execute_result",
          "data": {
            "text/plain": [
              "6.02e+23"
            ]
          },
          "metadata": {},
          "execution_count": 61
        }
      ],
      "source": [
        "6.02e23"
      ]
    },
    {
      "cell_type": "markdown",
      "metadata": {
        "id": "_9C9wpsxGTC9"
      },
      "source": [
        "### Valores Lógicos\n",
        "Tipo `bool`"
      ]
    },
    {
      "cell_type": "code",
      "execution_count": 62,
      "metadata": {
        "colab": {
          "base_uri": "https://localhost:8080/"
        },
        "id": "APAdEHTBGTC_",
        "outputId": "baf8a686-3d0b-4833-ca90-16a329efd88e"
      },
      "outputs": [
        {
          "output_type": "execute_result",
          "data": {
            "text/plain": [
              "True"
            ]
          },
          "metadata": {},
          "execution_count": 62
        }
      ],
      "source": [
        "True"
      ]
    },
    {
      "cell_type": "code",
      "execution_count": 63,
      "metadata": {
        "colab": {
          "base_uri": "https://localhost:8080/"
        },
        "id": "GO_XWWgLGTDH",
        "outputId": "054e5731-acb2-4529-d56a-bf56a69a889d"
      },
      "outputs": [
        {
          "output_type": "execute_result",
          "data": {
            "text/plain": [
              "False"
            ]
          },
          "metadata": {},
          "execution_count": 63
        }
      ],
      "source": [
        "False"
      ]
    },
    {
      "cell_type": "markdown",
      "metadata": {
        "id": "l2i59frOGTDL"
      },
      "source": [
        "### Texto\n",
        "Tipo `str` (*strings*)"
      ]
    },
    {
      "cell_type": "code",
      "execution_count": 64,
      "metadata": {
        "colab": {
          "base_uri": "https://localhost:8080/",
          "height": 35
        },
        "id": "Y9IW1TujGTDM",
        "outputId": "8636d7bb-9f4a-4602-e922-cc83cd8a2486"
      },
      "outputs": [
        {
          "output_type": "execute_result",
          "data": {
            "text/plain": [
              "'hola'"
            ],
            "application/vnd.google.colaboratory.intrinsic+json": {
              "type": "string"
            }
          },
          "metadata": {},
          "execution_count": 64
        }
      ],
      "source": [
        "\"hola\""
      ]
    },
    {
      "cell_type": "code",
      "execution_count": 65,
      "metadata": {
        "colab": {
          "base_uri": "https://localhost:8080/",
          "height": 35
        },
        "id": "1CDuqF6fGTDR",
        "outputId": "64f71c23-e3c7-4647-92b1-a5263ae75d45"
      },
      "outputs": [
        {
          "output_type": "execute_result",
          "data": {
            "text/plain": [
              "'hola'"
            ],
            "application/vnd.google.colaboratory.intrinsic+json": {
              "type": "string"
            }
          },
          "metadata": {},
          "execution_count": 65
        }
      ],
      "source": [
        "'hola'"
      ]
    },
    {
      "cell_type": "code",
      "execution_count": 66,
      "metadata": {
        "colab": {
          "base_uri": "https://localhost:8080/",
          "height": 35
        },
        "id": "S35o67T9GTDX",
        "outputId": "3b6910f1-07fe-4798-c586-20e551418fb9"
      },
      "outputs": [
        {
          "output_type": "execute_result",
          "data": {
            "text/plain": [
              "\"Let's Go!\""
            ],
            "application/vnd.google.colaboratory.intrinsic+json": {
              "type": "string"
            }
          },
          "metadata": {},
          "execution_count": 66
        }
      ],
      "source": [
        "\"Let's Go!\""
      ]
    },
    {
      "cell_type": "code",
      "execution_count": 67,
      "metadata": {
        "colab": {
          "base_uri": "https://localhost:8080/",
          "height": 35
        },
        "id": "_-uGmmjoGTDd",
        "outputId": "7db199f6-496c-4114-8105-7451aeb33fe6"
      },
      "outputs": [
        {
          "output_type": "execute_result",
          "data": {
            "text/plain": [
              "'Ella dijo \"Hola\"'"
            ],
            "application/vnd.google.colaboratory.intrinsic+json": {
              "type": "string"
            }
          },
          "metadata": {},
          "execution_count": 67
        }
      ],
      "source": [
        "'Ella dijo \"Hola\"'"
      ]
    },
    {
      "cell_type": "markdown",
      "metadata": {
        "id": "4V8AlYbOGTDi"
      },
      "source": [
        "## Expresiones y operadores"
      ]
    },
    {
      "cell_type": "markdown",
      "metadata": {
        "id": "LZqr4muWGTDj"
      },
      "source": [
        "**Expresión:** combinación de valores que pueden ser evaluados y entregan un resultado.\n",
        "Pueden estar formados por:\n",
        "- **Valores literales**\n",
        "- **Variables**\n",
        "- **Operadores**\n",
        "- **Llamadas a funciones**"
      ]
    },
    {
      "cell_type": "markdown",
      "metadata": {
        "id": "1wig6OIGGTDm"
      },
      "source": [
        "**Operador:** símbolo en una expresión que representa una operación aplicada a los valores sobre los que actúa."
      ]
    },
    {
      "cell_type": "markdown",
      "metadata": {
        "id": "c8Nyc70-DYoI"
      },
      "source": [
        "### Operadores Aritméticos"
      ]
    },
    {
      "cell_type": "markdown",
      "metadata": {
        "id": "AuVwdUeYGTDn"
      },
      "source": [
        "Operan sobre valores numéricos y entregan un valor numérico como resultado.\n",
        "Pueden ser:\n",
        "- Operadores binarios\n",
        "- Operadores unarios"
      ]
    },
    {
      "cell_type": "markdown",
      "metadata": {
        "id": "_Pz4wQz8GTDo"
      },
      "source": [
        "#### Operadores binarios\n",
        "- Suma (`+`)\n",
        "- Resta (`-`)\n",
        "- Multiplicación (`*`)\n",
        "- División (`/`)\n",
        "- División Entera (`//`)\n",
        "- Módulo o resto de la división (`%`)\n",
        "- Potencia (`**`)"
      ]
    },
    {
      "cell_type": "code",
      "execution_count": 68,
      "metadata": {
        "colab": {
          "base_uri": "https://localhost:8080/"
        },
        "id": "cS1Z2brmGTDo",
        "outputId": "38f28fa7-31f3-49f3-a850-e62c01cee2fe"
      },
      "outputs": [
        {
          "output_type": "execute_result",
          "data": {
            "text/plain": [
              "5"
            ]
          },
          "metadata": {},
          "execution_count": 68
        }
      ],
      "source": [
        "3+2"
      ]
    },
    {
      "cell_type": "code",
      "execution_count": 69,
      "metadata": {
        "colab": {
          "base_uri": "https://localhost:8080/"
        },
        "id": "upKGnVLyGTDr",
        "outputId": "1606f6f9-f9b5-46af-b030-ce8d6f2a31c5"
      },
      "outputs": [
        {
          "output_type": "execute_result",
          "data": {
            "text/plain": [
              "3"
            ]
          },
          "metadata": {},
          "execution_count": 69
        }
      ],
      "source": [
        "8-5"
      ]
    },
    {
      "cell_type": "code",
      "execution_count": 70,
      "metadata": {
        "colab": {
          "base_uri": "https://localhost:8080/"
        },
        "id": "fVLT3wtSGTDw",
        "outputId": "4435df84-db97-464c-cd2b-3f83b975a73e"
      },
      "outputs": [
        {
          "output_type": "execute_result",
          "data": {
            "text/plain": [
              "3.0"
            ]
          },
          "metadata": {},
          "execution_count": 70
        }
      ],
      "source": [
        "8-5.0"
      ]
    },
    {
      "cell_type": "code",
      "execution_count": 71,
      "metadata": {
        "colab": {
          "base_uri": "https://localhost:8080/"
        },
        "id": "yx4EDuT4GTD1",
        "outputId": "c8403d1b-e632-447b-a0aa-c251d6a7edf9"
      },
      "outputs": [
        {
          "output_type": "execute_result",
          "data": {
            "text/plain": [
              "0.5"
            ]
          },
          "metadata": {},
          "execution_count": 71
        }
      ],
      "source": [
        "1/2"
      ]
    },
    {
      "cell_type": "code",
      "execution_count": 72,
      "metadata": {
        "colab": {
          "base_uri": "https://localhost:8080/"
        },
        "id": "lMqXkMrvGTD4",
        "outputId": "e191121f-1e57-49e7-f3f8-ec237c47d972",
        "scrolled": true
      },
      "outputs": [
        {
          "output_type": "execute_result",
          "data": {
            "text/plain": [
              "0"
            ]
          },
          "metadata": {},
          "execution_count": 72
        }
      ],
      "source": [
        "1//2"
      ]
    },
    {
      "cell_type": "code",
      "execution_count": 73,
      "metadata": {
        "id": "2Xck2i3TDYoJ",
        "outputId": "9604edd3-2785-4233-a640-cd504f334046",
        "colab": {
          "base_uri": "https://localhost:8080/"
        }
      },
      "outputs": [
        {
          "output_type": "execute_result",
          "data": {
            "text/plain": [
              "1"
            ]
          },
          "metadata": {},
          "execution_count": 73
        }
      ],
      "source": [
        "5%2"
      ]
    },
    {
      "cell_type": "code",
      "execution_count": 74,
      "metadata": {
        "id": "C0HmbqW7DYoJ",
        "outputId": "97ef8835-c037-4e6a-c3d9-37a92ab04c3f",
        "colab": {
          "base_uri": "https://localhost:8080/"
        }
      },
      "outputs": [
        {
          "output_type": "execute_result",
          "data": {
            "text/plain": [
              "4"
            ]
          },
          "metadata": {},
          "execution_count": 74
        }
      ],
      "source": [
        "2**2"
      ]
    },
    {
      "cell_type": "markdown",
      "metadata": {
        "id": "IqCRCRtuGTD_"
      },
      "source": [
        "#### Operadores unarios\n",
        "- Positivo (`+`)\n",
        "- Negativo (`-`)"
      ]
    },
    {
      "cell_type": "code",
      "execution_count": 75,
      "metadata": {
        "colab": {
          "base_uri": "https://localhost:8080/"
        },
        "id": "sCTmUk4JGTEA",
        "outputId": "bb679f18-e58f-4ef8-f9c4-2fe3b06735c6"
      },
      "outputs": [
        {
          "output_type": "execute_result",
          "data": {
            "text/plain": [
              "3"
            ]
          },
          "metadata": {},
          "execution_count": 75
        }
      ],
      "source": [
        "+3"
      ]
    },
    {
      "cell_type": "code",
      "execution_count": 76,
      "metadata": {
        "colab": {
          "base_uri": "https://localhost:8080/"
        },
        "id": "TSVAi4TVGTEF",
        "outputId": "ce3a1ac1-229e-4cd1-fc76-787153108db9"
      },
      "outputs": [
        {
          "output_type": "execute_result",
          "data": {
            "text/plain": [
              "-5.0"
            ]
          },
          "metadata": {},
          "execution_count": 76
        }
      ],
      "source": [
        "-5.0"
      ]
    },
    {
      "cell_type": "markdown",
      "metadata": {
        "id": "HtEi4Nc2GTFB"
      },
      "source": [
        "## Llamados a funciones y uso de biblioteca\n",
        "\n",
        "Algunas funciones se encuentran incorporadas al núcleo del lenguaje Python y se pueden utilizar directamente (`round`, `abs`). En otros casos, las funciones están agrupadas en colecciones denominadas bibliotecas (`math`, `random`), y es necesario primero importarlas desde la biblioteca antes de poder utilizarlas."
      ]
    },
    {
      "cell_type": "markdown",
      "metadata": {
        "id": "AP0pQ2sJDYoJ"
      },
      "source": [
        "Algunos ejemplos"
      ]
    },
    {
      "cell_type": "markdown",
      "metadata": {
        "id": "czcnRZ_mDYoJ"
      },
      "source": [
        "**Valor absoluto** $|x|$"
      ]
    },
    {
      "cell_type": "code",
      "execution_count": 77,
      "metadata": {
        "colab": {
          "base_uri": "https://localhost:8080/"
        },
        "id": "DARzqswRGTFD",
        "outputId": "0b1eca1f-954c-4c56-ec00-2d6e73c08eab"
      },
      "outputs": [
        {
          "output_type": "execute_result",
          "data": {
            "text/plain": [
              "1"
            ]
          },
          "metadata": {},
          "execution_count": 77
        }
      ],
      "source": [
        "abs(4-5)"
      ]
    },
    {
      "cell_type": "markdown",
      "metadata": {
        "id": "-KyfJlHyDYoK"
      },
      "source": [
        "**Redondear**"
      ]
    },
    {
      "cell_type": "code",
      "execution_count": 78,
      "metadata": {
        "colab": {
          "base_uri": "https://localhost:8080/"
        },
        "id": "SyP4OAFTGTFG",
        "outputId": "9b006e6a-1869-4c09-f99c-5d7facfbdfb9"
      },
      "outputs": [
        {
          "output_type": "execute_result",
          "data": {
            "text/plain": [
              "2"
            ]
          },
          "metadata": {},
          "execution_count": 78
        }
      ],
      "source": [
        "round(2.456)"
      ]
    },
    {
      "cell_type": "markdown",
      "metadata": {
        "id": "4gHb_QbMDYoK"
      },
      "source": [
        "### Ejemplos de funciones de la biblioteca `math`"
      ]
    },
    {
      "cell_type": "markdown",
      "metadata": {
        "id": "RXwO445-DYoK"
      },
      "source": [
        "**Exponencial** $e^x$"
      ]
    },
    {
      "cell_type": "code",
      "execution_count": 79,
      "metadata": {
        "colab": {
          "base_uri": "https://localhost:8080/"
        },
        "id": "o_fN5muGGTFM",
        "outputId": "396582ba-7f8b-4178-bfb1-97df8ff1fce9",
        "scrolled": true
      },
      "outputs": [
        {
          "output_type": "execute_result",
          "data": {
            "text/plain": [
              "2.718281828459045"
            ]
          },
          "metadata": {},
          "execution_count": 79
        }
      ],
      "source": [
        "from math import exp\n",
        "exp(1)"
      ]
    },
    {
      "cell_type": "markdown",
      "metadata": {
        "id": "bVTzG-JyDYoL"
      },
      "source": [
        "**Raíz cuadrada** $\\sqrt{x}$"
      ]
    },
    {
      "cell_type": "code",
      "execution_count": 80,
      "metadata": {
        "colab": {
          "base_uri": "https://localhost:8080/"
        },
        "id": "qb_7vDOBGTFB",
        "outputId": "a863aeb6-4d3d-4356-bc7e-75a25e2757f9"
      },
      "outputs": [
        {
          "output_type": "execute_result",
          "data": {
            "text/plain": [
              "6.0"
            ]
          },
          "metadata": {},
          "execution_count": 80
        }
      ],
      "source": [
        "import math\n",
        "math.sqrt(36)"
      ]
    },
    {
      "cell_type": "markdown",
      "metadata": {
        "id": "ozXdeiKeDYoL"
      },
      "source": [
        "### Ejemplos de funciones de la biblioteca `random`"
      ]
    },
    {
      "cell_type": "markdown",
      "metadata": {
        "id": "uvr3ZE0EDYoL"
      },
      "source": [
        "`randint(a,b)` entrega un entero aleatorio entre $[a,b]$"
      ]
    },
    {
      "cell_type": "code",
      "execution_count": 81,
      "metadata": {
        "colab": {
          "base_uri": "https://localhost:8080/"
        },
        "outputId": "59cd92cd-0e74-40f6-b4ae-f3e749919bd8",
        "id": "xsnzcfJZDYoL"
      },
      "outputs": [
        {
          "output_type": "execute_result",
          "data": {
            "text/plain": [
              "5"
            ]
          },
          "metadata": {},
          "execution_count": 81
        }
      ],
      "source": [
        "from random import randint\n",
        "randint(1,10)"
      ]
    },
    {
      "cell_type": "markdown",
      "metadata": {
        "id": "xF10HKq3DYoL"
      },
      "source": [
        "## Precedencia de Operadores"
      ]
    },
    {
      "cell_type": "markdown",
      "metadata": {
        "id": "pqNY8fNFDYoL"
      },
      "source": [
        "Las expresiones se evalúan siguiendo reglas de precedencia que resuelven las ambigüedades. La precedencia de operadores, de mayor a menor, es la siguiente:\n",
        "\n",
        "1. `(, )` (parentesis)\n",
        "* `abs()`, `sqrt()`, `randint()` (llamada a funciones)\n",
        "* `**`\n",
        "* `+x`, `-x` (unario)\n",
        "* `*`, `/`, `//`, `%`\n",
        "* `+`, `-`"
      ]
    },
    {
      "cell_type": "markdown",
      "metadata": {
        "id": "OYUthhcTDYoL"
      },
      "source": [
        "### Asociatividad de Operadores"
      ]
    },
    {
      "cell_type": "markdown",
      "metadata": {
        "id": "N-wjMiIYDYoL"
      },
      "source": [
        "El operador `**` es asociativo por la derecha. Ejemplo:"
      ]
    },
    {
      "cell_type": "code",
      "execution_count": 82,
      "metadata": {
        "id": "Mv_rWj58DYoL",
        "outputId": "489144dd-578a-4373-bcd6-f728532789c8",
        "colab": {
          "base_uri": "https://localhost:8080/"
        }
      },
      "outputs": [
        {
          "output_type": "execute_result",
          "data": {
            "text/plain": [
              "512"
            ]
          },
          "metadata": {},
          "execution_count": 82
        }
      ],
      "source": [
        "2**3**2"
      ]
    },
    {
      "cell_type": "markdown",
      "metadata": {
        "id": "YAzfFP85DYoL"
      },
      "source": [
        "Los operadores `*`, `/` y `//` lo son por la izquierda. Ejemplo:"
      ]
    },
    {
      "cell_type": "code",
      "execution_count": 83,
      "metadata": {
        "id": "rim3Y9tjDYoL",
        "outputId": "85afca1a-e20f-4f04-950d-53648b64cbd9",
        "colab": {
          "base_uri": "https://localhost:8080/"
        }
      },
      "outputs": [
        {
          "output_type": "execute_result",
          "data": {
            "text/plain": [
              "3.0"
            ]
          },
          "metadata": {},
          "execution_count": 83
        }
      ],
      "source": [
        "24/4/2"
      ]
    },
    {
      "cell_type": "markdown",
      "metadata": {
        "id": "BVwO3sH9GTFl"
      },
      "source": [
        "## Conversión entre tipos de datos (*casting*)"
      ]
    },
    {
      "cell_type": "code",
      "execution_count": 84,
      "metadata": {
        "colab": {
          "base_uri": "https://localhost:8080/"
        },
        "id": "Q4vAdiocGTFm",
        "outputId": "88e43de6-6dc1-484a-f591-9f120384a9ff"
      },
      "outputs": [
        {
          "output_type": "execute_result",
          "data": {
            "text/plain": [
              "3"
            ]
          },
          "metadata": {},
          "execution_count": 84
        }
      ],
      "source": [
        "int(3.5)"
      ]
    },
    {
      "cell_type": "code",
      "execution_count": 85,
      "metadata": {
        "colab": {
          "base_uri": "https://localhost:8080/"
        },
        "id": "ySXS_5cYGTFp",
        "outputId": "3827b008-a3a9-4af5-8956-5ba453fcafed"
      },
      "outputs": [
        {
          "output_type": "execute_result",
          "data": {
            "text/plain": [
              "1.0"
            ]
          },
          "metadata": {},
          "execution_count": 85
        }
      ],
      "source": [
        "float(\"1\")"
      ]
    },
    {
      "cell_type": "code",
      "execution_count": 86,
      "metadata": {
        "colab": {
          "base_uri": "https://localhost:8080/",
          "height": 35
        },
        "id": "wb_92j36GTFs",
        "outputId": "94d6978a-8946-4fcb-f48a-96fd5c29f954"
      },
      "outputs": [
        {
          "output_type": "execute_result",
          "data": {
            "text/plain": [
              "'25'"
            ],
            "application/vnd.google.colaboratory.intrinsic+json": {
              "type": "string"
            }
          },
          "metadata": {},
          "execution_count": 86
        }
      ],
      "source": [
        "str(25)"
      ]
    },
    {
      "cell_type": "code",
      "execution_count": 87,
      "metadata": {
        "colab": {
          "base_uri": "https://localhost:8080/"
        },
        "id": "A9I1BANfGTFv",
        "outputId": "db93fb33-6133-4c73-c406-0e9e40ac94b6"
      },
      "outputs": [
        {
          "output_type": "execute_result",
          "data": {
            "text/plain": [
              "False"
            ]
          },
          "metadata": {},
          "execution_count": 87
        }
      ],
      "source": [
        "bool(0.0)"
      ]
    },
    {
      "cell_type": "code",
      "execution_count": 88,
      "metadata": {
        "id": "VX9CCrmNDYoM",
        "outputId": "6a5eabcb-bebf-4f27-cc7c-2943e0995b11",
        "colab": {
          "base_uri": "https://localhost:8080/",
          "height": 141
        }
      },
      "outputs": [
        {
          "output_type": "error",
          "ename": "ValueError",
          "evalue": "invalid literal for int() with base 10: 'hola'",
          "traceback": [
            "\u001b[0;31m---------------------------------------------------------------------------\u001b[0m",
            "\u001b[0;31mValueError\u001b[0m                                Traceback (most recent call last)",
            "\u001b[0;32m/tmp/ipython-input-754444761.py\u001b[0m in \u001b[0;36m<cell line: 0>\u001b[0;34m()\u001b[0m\n\u001b[0;32m----> 1\u001b[0;31m \u001b[0mint\u001b[0m\u001b[0;34m(\u001b[0m\u001b[0;34m\"hola\"\u001b[0m\u001b[0;34m)\u001b[0m\u001b[0;34m\u001b[0m\u001b[0;34m\u001b[0m\u001b[0m\n\u001b[0m",
            "\u001b[0;31mValueError\u001b[0m: invalid literal for int() with base 10: 'hola'"
          ]
        }
      ],
      "source": [
        "int(\"hola\")"
      ]
    },
    {
      "cell_type": "markdown",
      "metadata": {
        "id": "TsLuZxnGGTFN"
      },
      "source": [
        "## Asignación de variables\n",
        "Una asignación de variables tiene la forma:\n",
        "<div align=\"center\">\n",
        "<div style=\"font-size:2em\"> &lt;variable&gt; = &lt;expresion&gt;</div>\n",
        "<img src=\"https://github.com/progra-utfsm/material/blob/main/notebooks/images/asignacion_var.jpg?raw=1\" width=\"250px\"/>\n",
        "</div>"
      ]
    },
    {
      "cell_type": "markdown",
      "metadata": {
        "id": "RFTOJY5UGTFO"
      },
      "source": [
        "- Primero se evalúa la expresión a la derecha del signo igual.\n",
        "- El resultado de la evaluación es asignado a la variable a la izquierda del signo igual."
      ]
    },
    {
      "cell_type": "markdown",
      "metadata": {
        "id": "P0SAdlYuGTFO"
      },
      "source": [
        "¿Qué valor tienen las siguiente variables?"
      ]
    },
    {
      "cell_type": "code",
      "execution_count": 89,
      "metadata": {
        "colab": {
          "base_uri": "https://localhost:8080/",
          "height": 176
        },
        "id": "R4v14uNPGTFP",
        "outputId": "60835622-56ca-4715-e817-56cc8088d43d"
      },
      "outputs": [
        {
          "output_type": "error",
          "ename": "NameError",
          "evalue": "name 'e' is not defined",
          "traceback": [
            "\u001b[0;31m---------------------------------------------------------------------------\u001b[0m",
            "\u001b[0;31mNameError\u001b[0m                                 Traceback (most recent call last)",
            "\u001b[0;32m/tmp/ipython-input-4031468043.py\u001b[0m in \u001b[0;36m<cell line: 0>\u001b[0;34m()\u001b[0m\n\u001b[1;32m      3\u001b[0m \u001b[0ma\u001b[0m \u001b[0;34m=\u001b[0m \u001b[0;36m2\u001b[0m\u001b[0;34m\u001b[0m\u001b[0;34m\u001b[0m\u001b[0m\n\u001b[1;32m      4\u001b[0m \u001b[0md\u001b[0m \u001b[0;34m=\u001b[0m \u001b[0ma\u001b[0m \u001b[0;34m-\u001b[0m \u001b[0;36m3\u001b[0m\u001b[0;34m\u001b[0m\u001b[0;34m\u001b[0m\u001b[0m\n\u001b[0;32m----> 5\u001b[0;31m \u001b[0me\u001b[0m \u001b[0;34m=\u001b[0m \u001b[0me\u001b[0m \u001b[0;34m+\u001b[0m \u001b[0;36m1\u001b[0m\u001b[0;34m\u001b[0m\u001b[0;34m\u001b[0m\u001b[0m\n\u001b[0m",
            "\u001b[0;31mNameError\u001b[0m: name 'e' is not defined"
          ]
        }
      ],
      "source": [
        "a = 4 + 5\n",
        "b = a + 4\n",
        "a = 2\n",
        "d = a - 3\n",
        "e = e + 1"
      ]
    },
    {
      "cell_type": "markdown",
      "metadata": {
        "id": "56yt8qibGTFQ"
      },
      "source": [
        "## Entrada de datos"
      ]
    },
    {
      "cell_type": "code",
      "execution_count": 90,
      "metadata": {
        "id": "NMbGHlYfDYoM",
        "outputId": "70808de2-df58-440e-8b57-4b4706dad2b0",
        "colab": {
          "base_uri": "https://localhost:8080/"
        }
      },
      "outputs": [
        {
          "name": "stdout",
          "output_type": "stream",
          "text": [
            "Hola\n"
          ]
        }
      ],
      "source": [
        "dato = input()"
      ]
    },
    {
      "cell_type": "code",
      "execution_count": 91,
      "metadata": {
        "colab": {
          "base_uri": "https://localhost:8080/"
        },
        "id": "xOB5ne6pGTFR",
        "outputId": "7c9be4dc-b3ca-404f-fa77-dafc32d16b27"
      },
      "outputs": [
        {
          "name": "stdout",
          "output_type": "stream",
          "text": [
            "Ingrese su nombre: Juan\n"
          ]
        }
      ],
      "source": [
        "nombre = input(\"Ingrese su nombre: \")"
      ]
    },
    {
      "cell_type": "markdown",
      "metadata": {
        "id": "29Jqesn3GTFU"
      },
      "source": [
        "¿Qué tipo de dato es la variable `nombre`?"
      ]
    },
    {
      "cell_type": "code",
      "execution_count": 92,
      "metadata": {
        "colab": {
          "base_uri": "https://localhost:8080/",
          "height": 35
        },
        "id": "BSL-_23RGTFV",
        "outputId": "a8a805a1-4f46-4f46-b77a-4b237f2e2859"
      },
      "outputs": [
        {
          "output_type": "execute_result",
          "data": {
            "text/plain": [
              "'Juan'"
            ],
            "application/vnd.google.colaboratory.intrinsic+json": {
              "type": "string"
            }
          },
          "metadata": {},
          "execution_count": 92
        }
      ],
      "source": [
        "nombre"
      ]
    },
    {
      "cell_type": "markdown",
      "metadata": {
        "id": "NZuaGPTMGTFY"
      },
      "source": [
        "## Salida de datos"
      ]
    },
    {
      "cell_type": "code",
      "execution_count": 93,
      "metadata": {
        "colab": {
          "base_uri": "https://localhost:8080/"
        },
        "id": "GXgI05ecGTFZ",
        "outputId": "23df6e11-6a8f-4b57-b501-0b5915263080",
        "scrolled": true
      },
      "outputs": [
        {
          "output_type": "stream",
          "name": "stdout",
          "text": [
            "Hola mundo\n"
          ]
        }
      ],
      "source": [
        "print(\"Hola mundo\")"
      ]
    },
    {
      "cell_type": "code",
      "execution_count": 94,
      "metadata": {
        "id": "kpqevY9VGTFb"
      },
      "outputs": [],
      "source": [
        "a = 6\n",
        "x = a**2"
      ]
    },
    {
      "cell_type": "code",
      "execution_count": 95,
      "metadata": {
        "colab": {
          "base_uri": "https://localhost:8080/"
        },
        "id": "xBOB-BOTGTFd",
        "outputId": "1c791b0c-0280-4124-cae4-f5a5a6b83585"
      },
      "outputs": [
        {
          "output_type": "stream",
          "name": "stdout",
          "text": [
            "6 al cuadrado es 36\n"
          ]
        }
      ],
      "source": [
        "print(a, 'al cuadrado es', x)"
      ]
    },
    {
      "cell_type": "code",
      "execution_count": 96,
      "metadata": {
        "colab": {
          "base_uri": "https://localhost:8080/"
        },
        "id": "iVVZ-AhEGTFg",
        "outputId": "751b5983-7d78-4618-a864-daba3b4e444a"
      },
      "outputs": [
        {
          "output_type": "stream",
          "name": "stdout",
          "text": [
            "6 36\n"
          ]
        }
      ],
      "source": [
        "print(a, x)"
      ]
    },
    {
      "cell_type": "code",
      "execution_count": 97,
      "metadata": {
        "colab": {
          "base_uri": "https://localhost:8080/"
        },
        "id": "Hn5Jui3-GTFj",
        "outputId": "b5e0a424-cdfb-4341-ac74-a610c4b8bc18"
      },
      "outputs": [
        {
          "output_type": "stream",
          "name": "stdout",
          "text": [
            "6\n",
            "36\n"
          ]
        }
      ],
      "source": [
        "print(a)\n",
        "print(x)"
      ]
    },
    {
      "cell_type": "markdown",
      "metadata": {
        "id": "74ffU3YYGTFz"
      },
      "source": [
        "## Comentarios\n",
        "\n",
        "- Son textos que serán ignorados por el intérprete de Python\n",
        "- Se utilizan para explicar el código y hacerlo más fácil de entender\n",
        "- Existen dos tipos de comentario:\n",
        "    1. Los que se escriben a la derecha de un caracter `#`\n",
        "        - Cualquier texto que aparezca a la derecha de un caracter `#` será ignorado\n",
        "        - Terminan cuando termina la línea\n",
        "    2. Comentarios de múltiples líneas\n",
        "        - Se encierran entre tres comillas al inicio y final: `'''`\n",
        "        - Pueden comprender varias líneas"
      ]
    },
    {
      "cell_type": "code",
      "execution_count": 98,
      "metadata": {
        "colab": {
          "base_uri": "https://localhost:8080/"
        },
        "id": "pNALDFlWGTF0",
        "outputId": "051cff53-6095-4af7-8fa6-ffd0c122133c"
      },
      "outputs": [
        {
          "output_type": "stream",
          "name": "stdout",
          "text": [
            "4\n"
          ]
        }
      ],
      "source": [
        "#El siguiente codigo muestra la suma de 2 + 2 en pantalla\n",
        "print(2 + 2)"
      ]
    },
    {
      "cell_type": "markdown",
      "metadata": {
        "id": "E5HqZoPMGTFx"
      },
      "source": [
        "## Ejemplos"
      ]
    },
    {
      "cell_type": "markdown",
      "metadata": {
        "id": "eSjb8r6_DYoN"
      },
      "source": [
        "### Ejemplo 1\n",
        "\n",
        "Solicitar el nombre del usuario e imprimir el mensaje `\"Yo soy nombre\"`."
      ]
    },
    {
      "cell_type": "code",
      "execution_count": 99,
      "metadata": {
        "colab": {
          "base_uri": "https://localhost:8080/"
        },
        "id": "pJghCD9fGTFy",
        "outputId": "5eb524c8-9494-4cae-feed-f028d7b4bfc7"
      },
      "outputs": [
        {
          "output_type": "stream",
          "name": "stdout",
          "text": [
            "Ingrese nombre: Juanita\n",
            "Yo soy Juanita\n"
          ]
        }
      ],
      "source": [
        "nombre = input(\"Ingrese nombre: \")\n",
        "print(\"Yo soy\", nombre)"
      ]
    },
    {
      "cell_type": "markdown",
      "metadata": {
        "id": "iuKdIpsmDYoN"
      },
      "source": [
        "### Ejemplo 2\n",
        "\n",
        "Desarrollar un programa que convierta temperatura de Farenheit a Celsius. La fórmula de conversión es la siguiente:\n",
        "\n",
        "\\begin{equation}\n",
        "    C = \\frac{5}{9}\\,(F - 32)\n",
        "\\end{equation}"
      ]
    },
    {
      "cell_type": "code",
      "execution_count": 100,
      "metadata": {
        "colab": {
          "base_uri": "https://localhost:8080/"
        },
        "outputId": "7d37fcd1-2c27-4ddd-fec6-ea31099f7e3f",
        "id": "1MdNg9aODYoN"
      },
      "outputs": [
        {
          "output_type": "stream",
          "name": "stdout",
          "text": [
            "Temp. en Farenheit: 20\n",
            "El equivalente en Celsius es aproximadamente: -7\n"
          ]
        }
      ],
      "source": [
        "f = float(input('Temp. en Farenheit: '))\n",
        "c = (5/9) * (f-32)\n",
        "print('El equivalente en Celsius es aproximadamente:', int(round(c)))"
      ]
    },
    {
      "cell_type": "markdown",
      "metadata": {
        "id": "h4n2Y0ZsGTF3"
      },
      "source": [
        "## Algunos errores"
      ]
    },
    {
      "cell_type": "markdown",
      "metadata": {
        "id": "U6ydhcYeDYoO"
      },
      "source": [
        "### Error de ejecución (*runtime error*)\n",
        "\n",
        "Un error de ejecución ocurre cuando el programa termina abruptamente por una condición que ocurre y que le impide continuar ejecutándose. Por ejemplo, cuando se produce un error aritmético al intentar hacer una división por cero."
      ]
    },
    {
      "cell_type": "code",
      "execution_count": 101,
      "metadata": {
        "colab": {
          "base_uri": "https://localhost:8080/",
          "height": 193
        },
        "id": "95-zIzN7GTF3",
        "outputId": "aeeb7607-a2c1-4f73-ec1e-86aa5685a388"
      },
      "outputs": [
        {
          "output_type": "stream",
          "name": "stdout",
          "text": [
            "Listo\n"
          ]
        },
        {
          "output_type": "error",
          "ename": "ZeroDivisionError",
          "evalue": "division by zero",
          "traceback": [
            "\u001b[0;31m---------------------------------------------------------------------------\u001b[0m",
            "\u001b[0;31mZeroDivisionError\u001b[0m                         Traceback (most recent call last)",
            "\u001b[0;32m/tmp/ipython-input-1108107493.py\u001b[0m in \u001b[0;36m<cell line: 0>\u001b[0;34m()\u001b[0m\n\u001b[1;32m      2\u001b[0m \u001b[0mm\u001b[0m \u001b[0;34m=\u001b[0m \u001b[0;36m0\u001b[0m\u001b[0;34m\u001b[0m\u001b[0;34m\u001b[0m\u001b[0m\n\u001b[1;32m      3\u001b[0m \u001b[0mprint\u001b[0m\u001b[0;34m(\u001b[0m\u001b[0;34m'Listo'\u001b[0m\u001b[0;34m)\u001b[0m\u001b[0;34m\u001b[0m\u001b[0;34m\u001b[0m\u001b[0m\n\u001b[0;32m----> 4\u001b[0;31m \u001b[0mprint\u001b[0m\u001b[0;34m(\u001b[0m\u001b[0mn\u001b[0m\u001b[0;34m/\u001b[0m\u001b[0mm\u001b[0m\u001b[0;34m)\u001b[0m\u001b[0;34m\u001b[0m\u001b[0;34m\u001b[0m\u001b[0m\n\u001b[0m",
            "\u001b[0;31mZeroDivisionError\u001b[0m: division by zero"
          ]
        }
      ],
      "source": [
        "n = 8\n",
        "m = 0\n",
        "print('Listo')\n",
        "print(n/m)"
      ]
    },
    {
      "cell_type": "markdown",
      "metadata": {
        "id": "6vSkR4HYDYoO"
      },
      "source": [
        "### Error de sintaxis (*syntax error*)\n",
        "\n",
        "Un error de sintaxis ocurre cuando nos equivocamos en la forma (sintaxis) de escribir una instrucción de nuestro programa. Por ejemplo, cuando no cerramos la cantidad adecuada de paréntesis, olvidamos una coma, escribimos mal una instrucción de Python."
      ]
    },
    {
      "cell_type": "code",
      "execution_count": 102,
      "metadata": {
        "colab": {
          "base_uri": "https://localhost:8080/",
          "height": 106
        },
        "id": "fFpuM18MGTF5",
        "outputId": "50feb177-3c8f-4331-c747-540e1f486e0c"
      },
      "outputs": [
        {
          "output_type": "error",
          "ename": "SyntaxError",
          "evalue": "unmatched ')' (ipython-input-2087050023.py, line 1)",
          "traceback": [
            "\u001b[0;36m  File \u001b[0;32m\"/tmp/ipython-input-2087050023.py\"\u001b[0;36m, line \u001b[0;32m1\u001b[0m\n\u001b[0;31m    2*(3+4))\u001b[0m\n\u001b[0m           ^\u001b[0m\n\u001b[0;31mSyntaxError\u001b[0m\u001b[0;31m:\u001b[0m unmatched ')'\n"
          ]
        }
      ],
      "source": [
        "2*(3+4))"
      ]
    },
    {
      "cell_type": "code",
      "execution_count": 103,
      "metadata": {
        "colab": {
          "base_uri": "https://localhost:8080/",
          "height": 106
        },
        "id": "cNgYOTNzGTF6",
        "outputId": "aab4a6bf-f33b-462f-c5fb-5f8dabd4a943"
      },
      "outputs": [
        {
          "output_type": "error",
          "ename": "SyntaxError",
          "evalue": "cannot assign to expression here. Maybe you meant '==' instead of '='? (ipython-input-1892509457.py, line 3)",
          "traceback": [
            "\u001b[0;36m  File \u001b[0;32m\"/tmp/ipython-input-1892509457.py\"\u001b[0;36m, line \u001b[0;32m3\u001b[0m\n\u001b[0;31m    n + 2 = 7\u001b[0m\n\u001b[0m    ^\u001b[0m\n\u001b[0;31mSyntaxError\u001b[0m\u001b[0;31m:\u001b[0m cannot assign to expression here. Maybe you meant '==' instead of '='?\n"
          ]
        }
      ],
      "source": [
        "n = 6\n",
        "print(n)\n",
        "n + 2 = 7\n",
        "print(n)"
      ]
    },
    {
      "cell_type": "markdown",
      "metadata": {
        "id": "EbZCjCG4DYoO"
      },
      "source": [
        "### Errores de nombre (*name error*)\n",
        "\n",
        "Un error de nombre ocurre cuando se intenta acceder al contenido de una variable que no ha sido inicializada y que por lo tanto no existe. También puede ocurrir al intentar utilizar una función que no ha sido definida o importada desde una biblioteca."
      ]
    },
    {
      "cell_type": "code",
      "execution_count": 104,
      "metadata": {
        "colab": {
          "base_uri": "https://localhost:8080/",
          "height": 193
        },
        "id": "9g8F1TiqGTF8",
        "scrolled": true,
        "outputId": "0b546b0a-1131-4241-dd42-6bca4ea1ab54"
      },
      "outputs": [
        {
          "output_type": "stream",
          "name": "stdout",
          "text": [
            "100\n"
          ]
        },
        {
          "output_type": "error",
          "ename": "NameError",
          "evalue": "name 'y' is not defined",
          "traceback": [
            "\u001b[0;31m---------------------------------------------------------------------------\u001b[0m",
            "\u001b[0;31mNameError\u001b[0m                                 Traceback (most recent call last)",
            "\u001b[0;32m/tmp/ipython-input-1367454294.py\u001b[0m in \u001b[0;36m<cell line: 0>\u001b[0;34m()\u001b[0m\n\u001b[1;32m      1\u001b[0m \u001b[0mx\u001b[0m \u001b[0;34m=\u001b[0m \u001b[0;36m20\u001b[0m\u001b[0;34m\u001b[0m\u001b[0;34m\u001b[0m\u001b[0m\n\u001b[1;32m      2\u001b[0m \u001b[0mprint\u001b[0m\u001b[0;34m(\u001b[0m\u001b[0;36m5\u001b[0m \u001b[0;34m*\u001b[0m \u001b[0mx\u001b[0m\u001b[0;34m)\u001b[0m\u001b[0;34m\u001b[0m\u001b[0;34m\u001b[0m\u001b[0m\n\u001b[0;32m----> 3\u001b[0;31m \u001b[0mprint\u001b[0m\u001b[0;34m(\u001b[0m\u001b[0;36m5\u001b[0m \u001b[0;34m*\u001b[0m \u001b[0my\u001b[0m\u001b[0;34m)\u001b[0m\u001b[0;34m\u001b[0m\u001b[0;34m\u001b[0m\u001b[0m\n\u001b[0m",
            "\u001b[0;31mNameError\u001b[0m: name 'y' is not defined"
          ]
        }
      ],
      "source": [
        "x = 20\n",
        "print(5 * x)\n",
        "print(5 * y)"
      ]
    },
    {
      "cell_type": "markdown",
      "metadata": {
        "id": "K-NjMkOVDYoO"
      },
      "source": [
        "## Reglas para definir identificadores"
      ]
    },
    {
      "cell_type": "markdown",
      "metadata": {
        "id": "HJDeZar7DYoO"
      },
      "source": [
        "Los identificadores son los nombres con los que nombramos variables y otros elementos de nuestros programas. En general, como una buena práctica de programación, queremos que nuestras variables y funciones tengan nombres representativos, que indique por sí mismos su propósito. Por ejemplo, una variable para guardar la edad de una persona debería llamarse `edad` y no `x`, a pesar de que el programa funcionará correctamente con cualquiera de las dos."
      ]
    },
    {
      "cell_type": "markdown",
      "metadata": {
        "id": "IMNBSxuTDYoO"
      },
      "source": [
        "Python tiene reglas simples para definir identificadores:\n",
        "\n",
        "1. Un identificador puede contener cualquier combinación de letras (mayúsculas o minúsculas), dígitos y caracteres de guión bajo.\n",
        "2. El primer caracter debe ser una letra. Las letras mayúsculas y las minúsculas se consideran diferentes, por lo que edad, Edad, y EDAD, son todos identificadores distintos.\n",
        "\n",
        "Como consecuencia de las reglas 1. y 2., no es posible utilizar espacios en blanco en un identificador. Si queremos tener un identificador compuesto por varias palabras utilizamos guiones bajos para separarlas o una combinación de minúsculas y mayúsculas para destacar las palabras. Por ejemplo: `nombre_cliente` o `nombreCliente`."
      ]
    },
    {
      "cell_type": "markdown",
      "metadata": {
        "id": "FmN6zrv_GTGE"
      },
      "source": [
        "## Ejercicios"
      ]
    },
    {
      "cell_type": "markdown",
      "metadata": {
        "id": "TcCK9BHbDYoO"
      },
      "source": [
        "### Ejercicio 1\n",
        "\n",
        "Escribir una expresión para sumar los dígitos de un número entero de $3$ dígitos, que se ingrese por pantalla:"
      ]
    },
    {
      "cell_type": "code",
      "execution_count": 106,
      "metadata": {
        "id": "xefUH07ADYoO",
        "outputId": "20cc84ac-51d3-4ea0-c3e7-66ef1e86743e",
        "colab": {
          "base_uri": "https://localhost:8080/"
        }
      },
      "outputs": [
        {
          "output_type": "stream",
          "name": "stdout",
          "text": [
            "Ingrese un número de 3 dígitos: 123\n",
            "6\n"
          ]
        }
      ],
      "source": [
        "n = int(input('Ingrese un número de 3 dígitos: '))\n",
        "suma = n%10 + (n//10)%10 + n//100\n",
        "print(suma)"
      ]
    },
    {
      "cell_type": "markdown",
      "metadata": {
        "id": "o3brqYkxDYoP"
      },
      "source": [
        "### Ejercicio 2\n",
        "\n",
        "Modifique el resultado anterior para que reciba un entero con $3$ dígitos iguales y retorne el resultado ```n//suma```."
      ]
    },
    {
      "cell_type": "code",
      "execution_count": 108,
      "metadata": {
        "id": "61bPIyiKDYoP",
        "outputId": "c6086515-2a76-4afd-96b4-a66cc2e8f217",
        "colab": {
          "base_uri": "https://localhost:8080/"
        }
      },
      "outputs": [
        {
          "output_type": "stream",
          "name": "stdout",
          "text": [
            "Ingresa un numero de 3 digitos iguales: 111\n",
            "37\n"
          ]
        }
      ],
      "source": [
        "n = int(input('Ingresa un numero de 3 digitos iguales: '))\n",
        "suma = n%10 + (n//10)%10 + n//100\n",
        "resultado = n//suma\n",
        "print(resultado)"
      ]
    },
    {
      "cell_type": "markdown",
      "metadata": {
        "id": "dUHWr2SGDYoP"
      },
      "source": [
        "### Ejercicio 3\n",
        "\n",
        "Realice un programa que determine el área de un círculo a partir de su radio."
      ]
    },
    {
      "cell_type": "code",
      "execution_count": 109,
      "metadata": {
        "id": "sTTFGCaHDYoP",
        "outputId": "0652b719-a779-43d0-a153-14272d904576",
        "colab": {
          "base_uri": "https://localhost:8080/"
        }
      },
      "outputs": [
        {
          "output_type": "stream",
          "name": "stdout",
          "text": [
            "Ingrese el radio de un círculo: 2\n",
            "El área de la circunferencia es 12.566\n"
          ]
        }
      ],
      "source": [
        "pi = 3.1415\n",
        "radio = float(input('Ingrese el radio de un círculo: '))\n",
        "print(\"El área de la circunferencia es\", pi*(radio**2))"
      ]
    },
    {
      "cell_type": "markdown",
      "metadata": {
        "id": "MPl0sOqeDYoP"
      },
      "source": [
        "### Ejercicio 4\n",
        "\n",
        "**RUTEO**: Rutee el siguiente programa e indique que es lo que imprime. Cada vez que el valor de una variable cambie, ponga su valor en una nueva fila de la tabla. La tabla tiene filas de sobra:"
      ]
    },
    {
      "cell_type": "markdown",
      "metadata": {
        "id": "QDkDIH1MDYoP"
      },
      "source": [
        "```python\n",
        "a = 94567\n",
        "b = 28954\n",
        "c = 36532\n",
        "d = 11404\n",
        "e = 40613\n",
        "a = a//10000\n",
        "b = (b//1000)%10\n",
        "c = (c//100)%10\n",
        "d = (d//10)%10\n",
        "e = e%10\n",
        "print (a,b,c,d,e)\n",
        "```"
      ]
    },
    {
      "cell_type": "markdown",
      "metadata": {
        "id": "T3reOF1VDYoP"
      },
      "source": [
        "**Solución ruteo**:\n",
        "\n",
        "|  |  |  |  | |\n",
        "|---|---|---|---|---|\n",
        "| **a** | **b** | **c** | **d** | **e** |\n",
        "| 94567  |   |   |   |   |\n",
        "|   | 28954  |   |   |   |\n",
        "|   |   | 36532  |   |   |\n",
        "|   |   |   | 11404  |   |\n",
        "|   |   |   |   | 40613  |\n",
        "| 9  |   |   |   |   |\n",
        "|   | 8  |   |   |   |\n",
        "|   |   | 5  |   |   |\n",
        "|   |   |   | 0  |   |\n",
        "|   |   |   |   | 3  |"
      ]
    },
    {
      "cell_type": "markdown",
      "metadata": {
        "id": "fRkgtM9DDYoP"
      },
      "source": [
        "### Ejercicio 5\n",
        "\n",
        "Realice un programa que calcule el área de un triángulo a partir de las longitudes de sus lados."
      ]
    },
    {
      "cell_type": "markdown",
      "metadata": {
        "id": "zAnitzYVDYoP"
      },
      "source": [
        "Para calcularlo puede utilizar la fórmula de Herón:\n",
        "\n",
        "\\begin{equation}\n",
        "    A = \\sqrt{s\\,(s-a)(s-b)(s-c)},\n",
        "\\end{equation}\n",
        "\n",
        "donde $a$, $b$ y $c$ son las longitudes de cada lado y $s=\\dfrac{a+b+c}{2}$ es el semiperímetro."
      ]
    },
    {
      "cell_type": "code",
      "execution_count": 110,
      "metadata": {
        "id": "suVzH5PSDYoP",
        "outputId": "fe4611f9-bd11-4fb9-e103-81ad972cc1ea",
        "colab": {
          "base_uri": "https://localhost:8080/"
        }
      },
      "outputs": [
        {
          "output_type": "stream",
          "name": "stdout",
          "text": [
            "Ingrese longitud de lado 1: 3\n",
            "Ingrese longitud de lado 2: 4\n",
            "Ingrese longitud de lado 3: 5\n",
            "El área del triángulo es 6.0\n"
          ]
        }
      ],
      "source": [
        "l1 = float(input(\"Ingrese longitud de lado 1: \"))\n",
        "l2 = float(input(\"Ingrese longitud de lado 2: \"))\n",
        "l3 = float(input(\"Ingrese longitud de lado 3: \"))\n",
        "s = (l1 + l2 + l3) / 2 # semiperímetro\n",
        "\n",
        "d1 = s-l1 # diferencia1\n",
        "d2 = s-l2 # diferencia2\n",
        "d3 = s-l3 # diferencia3\n",
        "prod = s*d1*d2*d3 # producto de diferencias y semiperimetro\n",
        "area = prod ** (1 / 2) # raíz cuadrada\n",
        "# ¿cómo se podría hacer lo mismo utilizando math.sqrt()?\n",
        "\n",
        "print(\"El área del triángulo es\", area)"
      ]
    }
  ],
  "metadata": {
    "celltoolbar": "Slideshow",
    "colab": {
      "name": "01_Secuenciales.ipynb",
      "provenance": [],
      "include_colab_link": true
    },
    "kernelspec": {
      "display_name": "Python 3",
      "language": "python",
      "name": "python3"
    },
    "language_info": {
      "codemirror_mode": {
        "name": "ipython",
        "version": 3
      },
      "file_extension": ".py",
      "mimetype": "text/x-python",
      "name": "python",
      "nbconvert_exporter": "python",
      "pygments_lexer": "ipython3",
      "version": "3.7.4"
    }
  },
  "nbformat": 4,
  "nbformat_minor": 0
}
