{
  "cells": [
    {
      "cell_type": "markdown",
      "metadata": {
        "id": "view-in-github",
        "colab_type": "text"
      },
      "source": [
        "<a href=\"https://colab.research.google.com/github/progra-utfsm/material/blob/main/notebooks/07_Diccionarios.ipynb\" target=\"_parent\"><img src=\"https://colab.research.google.com/assets/colab-badge.svg\" alt=\"Open In Colab\"/></a>"
      ]
    },
    {
      "cell_type": "markdown",
      "metadata": {
        "id": "k7oEy__Ijtqi"
      },
      "source": [
        "# Estructura de datos: Diccionarios"
      ]
    },
    {
      "cell_type": "markdown",
      "metadata": {
        "collapsed": true,
        "id": "wHRC-vwBjtqj"
      },
      "source": [
        "## Diccionarios"
      ]
    },
    {
      "cell_type": "markdown",
      "metadata": {
        "id": "XZ2wqubqjtqj"
      },
      "source": [
        "Un diccionario es una **colección no ordenada** que permite asociar llaves con valores. Utilizando la llave siempre es posible recuperar, de manera eficiente, el valor asociado."
      ]
    },
    {
      "cell_type": "markdown",
      "metadata": {
        "id": "jU2D6vQfjtqj"
      },
      "source": [
        "- El funcionamiento de diccionarios es similar a cuando se recupera un elemento de una lista usando su índice: `L[i]`\n",
        "- En este caso el índice de la lista es una ''llave'' y el elemento recuperado es el ''valor''"
      ]
    },
    {
      "cell_type": "code",
      "execution_count": 1,
      "metadata": {
        "id": "XdY_IpyXjtqk",
        "outputId": "b9ce9d12-b8a3-4ede-f796-089bfcf462ba",
        "colab": {
          "base_uri": "https://localhost:8080/"
        }
      },
      "outputs": [
        {
          "output_type": "stream",
          "name": "stdout",
          "text": [
            "2\n"
          ]
        }
      ],
      "source": [
        "L = [1, 3, 4, 2, 4]\n",
        "#imprimiendo el elemento del indice 3 de la lista L\n",
        "print(L[3])"
      ]
    },
    {
      "cell_type": "markdown",
      "metadata": {
        "id": "MUQe9Khrjtqk"
      },
      "source": [
        "- En diccionarios, las llaves pueden ser: números (int o float), strings o listas.\n",
        "- Las llaves en un diccionario deben ser **únicas**, es decir, una llave no puede aparecer dos veces."
      ]
    },
    {
      "cell_type": "code",
      "execution_count": 2,
      "metadata": {
        "id": "HYgx1Xlwjtql",
        "outputId": "56d3b3aa-58ed-417e-aa83-62d10258a1f6",
        "colab": {
          "base_uri": "https://localhost:8080/"
        }
      },
      "outputs": [
        {
          "output_type": "stream",
          "name": "stdout",
          "text": [
            "5552437\n"
          ]
        }
      ],
      "source": [
        "#diccionario de telefonos\n",
        "#llaves: nombres de personas (string)\n",
        "#valores: numeros de telefono asociados a cada nombre (int)\n",
        "telefonos = {'Jaimito':5551428, 'Yayita': 5550012, 'Pepito':5552437}\n",
        "\n",
        "#mostrar por pantalla el telefono de Pepito\n",
        "print(telefonos['Pepito'])"
      ]
    },
    {
      "cell_type": "markdown",
      "metadata": {
        "id": "N_IHx6oIjtql"
      },
      "source": [
        "## Creación de Diccionarios\n",
        "Un **diccionario vacío** puede ser creado por medio de la función `dict()` y con el paréntesis de llave `{}`."
      ]
    },
    {
      "cell_type": "code",
      "execution_count": 3,
      "metadata": {
        "id": "jRewiUf8jtql",
        "outputId": "2e71c73d-b84a-4cd0-c5a0-0fb1c2a6fa73",
        "colab": {
          "base_uri": "https://localhost:8080/"
        }
      },
      "outputs": [
        {
          "output_type": "stream",
          "name": "stdout",
          "text": [
            "{}\n",
            "{}\n"
          ]
        }
      ],
      "source": [
        "dicc1 = {}\n",
        "dicc2 = dict()\n",
        "print(dicc1)\n",
        "print(dicc2)"
      ]
    },
    {
      "cell_type": "markdown",
      "metadata": {
        "id": "FLLo_Ni6jtql"
      },
      "source": [
        "Un **diccionario con elementos**, consiste de pares llave-valor.\n",
        "- El diccionario está delimitado por paréntesis de llave `{ }`.\n",
        "- Cada par llave-valor se separa del resto con coma `,`.\n",
        "- Cada llave se separa de su valor utilizando el caracter dos puntos `:`."
      ]
    },
    {
      "cell_type": "markdown",
      "metadata": {
        "id": "uWh415Ewjtql"
      },
      "source": [
        "Considerar el siguiente diccionario que relaciona animales (llaves) con la cantidad de patas que tienen (valores)."
      ]
    },
    {
      "cell_type": "code",
      "execution_count": 4,
      "metadata": {
        "id": "h3bD66Rejtql"
      },
      "outputs": [],
      "source": [
        "patas = {'humano': 2, 'pulpo': 8, 'perro': 4, 'gato': 4}"
      ]
    },
    {
      "cell_type": "markdown",
      "metadata": {
        "id": "ogGZC0UAjtql"
      },
      "source": [
        "## Manipulación de Diccionarios"
      ]
    },
    {
      "cell_type": "markdown",
      "metadata": {
        "id": "OKW7FfIIjtql"
      },
      "source": [
        "### Agregar/Modificar un elemento\n",
        "Se debe hacer una asignación del diccionario con una **llave** igual a un **valor**.\n",
        "- Si la **llave** utilizada **no existe** en el diccionario, se **agrega** un nuevo elemento.\n",
        "- Si la **llave** utilizada **existe** en el diccionario, el valor asociado es **modificado**."
      ]
    },
    {
      "cell_type": "code",
      "execution_count": 5,
      "metadata": {
        "id": "otGJae-Jjtql",
        "outputId": "149eb10a-e3f6-4a40-b5ff-6b0879ec3c8c",
        "colab": {
          "base_uri": "https://localhost:8080/"
        }
      },
      "outputs": [
        {
          "output_type": "stream",
          "name": "stdout",
          "text": [
            "Diccionario antes de agregar un valor\n",
            "{'humano': 2, 'pulpo': 8, 'perro': 5, 'gato': 4}\n",
            "Diccionario despues de agregar un valor\n",
            "{'humano': 2, 'pulpo': 8, 'perro': 5, 'gato': 4, 'cienpies': 100}\n"
          ]
        }
      ],
      "source": [
        "patas = {'humano': 2, 'pulpo': 8, 'perro': 5, 'gato': 4}\n",
        "print(\"Diccionario antes de agregar un valor\")\n",
        "print(patas)\n",
        "patas['cienpies'] = 100\n",
        "print(\"Diccionario despues de agregar un valor\")\n",
        "print(patas)"
      ]
    },
    {
      "cell_type": "code",
      "execution_count": 6,
      "metadata": {
        "id": "bzAAs9SVjtql",
        "outputId": "b1144d22-1f91-4297-89b2-56bcc8462a57",
        "colab": {
          "base_uri": "https://localhost:8080/"
        }
      },
      "outputs": [
        {
          "output_type": "stream",
          "name": "stdout",
          "text": [
            "Diccionario despues de cambiar un valor\n",
            "{'humano': 2, 'pulpo': 8, 'perro': 4, 'gato': 4, 'cienpies': 100}\n"
          ]
        }
      ],
      "source": [
        "#los perros en realidad tienen cuatro patas, cambiar valor en el diccionario\n",
        "patas[\"perro\"] = 4\n",
        "print(\"Diccionario despues de cambiar un valor\")\n",
        "print(patas)"
      ]
    },
    {
      "cell_type": "markdown",
      "metadata": {
        "id": "42wWXEdkjtqm"
      },
      "source": [
        "### Eliminar un elemento\n",
        "Usando la instrucción `del` se puede eliminar un elemento del diccionario. Se debe indicar la llave del elemento que se quiere eliminar."
      ]
    },
    {
      "cell_type": "code",
      "execution_count": 7,
      "metadata": {
        "id": "2tc_1xD-jtqm",
        "outputId": "b0318522-1712-4d51-b4a4-67fd82b3203c",
        "colab": {
          "base_uri": "https://localhost:8080/"
        }
      },
      "outputs": [
        {
          "output_type": "stream",
          "name": "stdout",
          "text": [
            "Diccionario antes de eliminar un elemento\n",
            "{'cienpies': 100, 'humano': 2, 'gato': 4, 'pulpo': 8, 'perro': 4}\n",
            "Diccionario despues de eliminar un elemento\n",
            "{'cienpies': 100, 'humano': 2, 'gato': 4, 'perro': 4}\n"
          ]
        }
      ],
      "source": [
        "patas =  {'cienpies': 100, 'humano': 2, 'gato': 4, 'pulpo': 8, 'perro': 4}\n",
        "print(\"Diccionario antes de eliminar un elemento\")\n",
        "print(patas)\n",
        "#eliminando el elemento del diccionario\n",
        "del patas[\"pulpo\"]\n",
        "print(\"Diccionario despues de eliminar un elemento\")\n",
        "print(patas)"
      ]
    },
    {
      "cell_type": "markdown",
      "metadata": {
        "id": "RYL6Lpwzjtqm"
      },
      "source": [
        "Al igual que en listas, al intentar eliminar un elemento que no existe (porque no existe la llave en el diccionario) ocurre un error."
      ]
    },
    {
      "cell_type": "code",
      "execution_count": 8,
      "metadata": {
        "id": "pWxIx6zijtqm",
        "outputId": "79334c2f-035a-425a-ed5c-7b724cb86f05",
        "colab": {
          "base_uri": "https://localhost:8080/",
          "height": 176
        }
      },
      "outputs": [
        {
          "output_type": "error",
          "ename": "KeyError",
          "evalue": "'oso'",
          "traceback": [
            "\u001b[0;31m---------------------------------------------------------------------------\u001b[0m",
            "\u001b[0;31mKeyError\u001b[0m                                  Traceback (most recent call last)",
            "\u001b[0;32m/tmp/ipython-input-2859012116.py\u001b[0m in \u001b[0;36m<cell line: 0>\u001b[0;34m()\u001b[0m\n\u001b[1;32m      1\u001b[0m \u001b[0mpatas\u001b[0m \u001b[0;34m=\u001b[0m  \u001b[0;34m{\u001b[0m\u001b[0;34m'cienpies'\u001b[0m\u001b[0;34m:\u001b[0m \u001b[0;36m100\u001b[0m\u001b[0;34m,\u001b[0m \u001b[0;34m'humano'\u001b[0m\u001b[0;34m:\u001b[0m \u001b[0;36m2\u001b[0m\u001b[0;34m,\u001b[0m \u001b[0;34m'gato'\u001b[0m\u001b[0;34m:\u001b[0m \u001b[0;36m4\u001b[0m\u001b[0;34m,\u001b[0m \u001b[0;34m'pulpo'\u001b[0m\u001b[0;34m:\u001b[0m \u001b[0;36m8\u001b[0m\u001b[0;34m,\u001b[0m \u001b[0;34m'perro'\u001b[0m\u001b[0;34m:\u001b[0m \u001b[0;36m4\u001b[0m\u001b[0;34m}\u001b[0m\u001b[0;34m\u001b[0m\u001b[0;34m\u001b[0m\u001b[0m\n\u001b[1;32m      2\u001b[0m \u001b[0;31m#intentando eliminar un elemento en el diccionario\u001b[0m\u001b[0;34m\u001b[0m\u001b[0;34m\u001b[0m\u001b[0m\n\u001b[0;32m----> 3\u001b[0;31m \u001b[0;32mdel\u001b[0m \u001b[0mpatas\u001b[0m\u001b[0;34m[\u001b[0m\u001b[0;34m\"oso\"\u001b[0m\u001b[0;34m]\u001b[0m\u001b[0;34m\u001b[0m\u001b[0;34m\u001b[0m\u001b[0m\n\u001b[0m",
            "\u001b[0;31mKeyError\u001b[0m: 'oso'"
          ]
        }
      ],
      "source": [
        "patas =  {'cienpies': 100, 'humano': 2, 'gato': 4, 'pulpo': 8, 'perro': 4}\n",
        "#intentando eliminar un elemento en el diccionario\n",
        "del patas[\"oso\"]"
      ]
    },
    {
      "cell_type": "markdown",
      "metadata": {
        "id": "z5ynm2jqjtqm"
      },
      "source": [
        "## Acceder a elementos de un diccionario\n",
        "El valor asociado a la llave `k` del diccionario `d` se puede obtener como `d[k]`:"
      ]
    },
    {
      "cell_type": "code",
      "execution_count": 9,
      "metadata": {
        "id": "RSx2cKMzjtqm",
        "outputId": "c6531572-3a33-4eef-d780-498749714d31",
        "colab": {
          "base_uri": "https://localhost:8080/"
        }
      },
      "outputs": [
        {
          "output_type": "stream",
          "name": "stdout",
          "text": [
            "El gato tiene 4 patas\n"
          ]
        }
      ],
      "source": [
        "patas =  {'cienpies': 100, 'humano': 2, 'gato': 4, 'pulpo': 8, 'perro': 4}\n",
        "#accediendo y mostrando por pantalla la cantidad de patas de un gato\n",
        "print(\"El gato tiene\",patas['gato'],\"patas\")"
      ]
    },
    {
      "cell_type": "code",
      "execution_count": 10,
      "metadata": {
        "id": "2JEJ0iCMjtqm",
        "outputId": "09bd39a0-6d5d-4278-fbf0-e004f50f6533",
        "colab": {
          "base_uri": "https://localhost:8080/",
          "height": 159
        }
      },
      "outputs": [
        {
          "output_type": "error",
          "ename": "KeyError",
          "evalue": "'oso'",
          "traceback": [
            "\u001b[0;31m---------------------------------------------------------------------------\u001b[0m",
            "\u001b[0;31mKeyError\u001b[0m                                  Traceback (most recent call last)",
            "\u001b[0;32m/tmp/ipython-input-2996996562.py\u001b[0m in \u001b[0;36m<cell line: 0>\u001b[0;34m()\u001b[0m\n\u001b[1;32m      1\u001b[0m \u001b[0;31m#intentando mostrar las patas que tiene un oso\u001b[0m\u001b[0;34m\u001b[0m\u001b[0;34m\u001b[0m\u001b[0m\n\u001b[0;32m----> 2\u001b[0;31m \u001b[0mprint\u001b[0m\u001b[0;34m(\u001b[0m\u001b[0;34m\"El oso tiene\"\u001b[0m\u001b[0;34m,\u001b[0m\u001b[0mpatas\u001b[0m\u001b[0;34m[\u001b[0m\u001b[0;34m'oso'\u001b[0m\u001b[0;34m]\u001b[0m\u001b[0;34m,\u001b[0m\u001b[0;34m\"patas\"\u001b[0m\u001b[0;34m)\u001b[0m\u001b[0;34m\u001b[0m\u001b[0;34m\u001b[0m\u001b[0m\n\u001b[0m",
            "\u001b[0;31mKeyError\u001b[0m: 'oso'"
          ]
        }
      ],
      "source": [
        "#intentando mostrar las patas que tiene un oso\n",
        "print(\"El oso tiene\",patas['oso'],\"patas\")"
      ]
    },
    {
      "cell_type": "markdown",
      "metadata": {
        "id": "xVU8s2V5jtqm"
      },
      "source": [
        "## Funciones sobre Diccionarios"
      ]
    },
    {
      "cell_type": "markdown",
      "metadata": {
        "id": "3IkinHWNjtqm"
      },
      "source": [
        "### Cantidad de elementos\n",
        "La función `len` permite saber la cantidad de elementos del diccionario, es decir, la cantidad de pares llave-valor."
      ]
    },
    {
      "cell_type": "code",
      "execution_count": 11,
      "metadata": {
        "id": "ObcVcxLojtqm",
        "outputId": "640bc2e4-2e06-4d2b-e2a2-2193e5f5edc1",
        "colab": {
          "base_uri": "https://localhost:8080/"
        }
      },
      "outputs": [
        {
          "output_type": "stream",
          "name": "stdout",
          "text": [
            "5\n"
          ]
        }
      ],
      "source": [
        "patas =  {'cienpies': 100, 'humano': 2, 'gato': 4, 'pulpo': 8, 'perro': 4}\n",
        "print(len(patas))"
      ]
    },
    {
      "cell_type": "markdown",
      "metadata": {
        "id": "UAg0dvUDjtqm"
      },
      "source": [
        "### Comprobar si una llave está en el diccionario\n",
        "La instrucción `in` verifica si una llave está en el diccionario."
      ]
    },
    {
      "cell_type": "code",
      "execution_count": 12,
      "metadata": {
        "id": "QVyn-HM9jtqn",
        "outputId": "bd254b66-91c3-4635-f3e7-1f9a6ae0a184",
        "colab": {
          "base_uri": "https://localhost:8080/"
        }
      },
      "outputs": [
        {
          "output_type": "stream",
          "name": "stdout",
          "text": [
            "True\n",
            "False\n"
          ]
        }
      ],
      "source": [
        "patas =  {'cienpies': 100, 'humano': 2, 'gato': 4, 'pulpo': 8, 'perro': 4}\n",
        "print('pulpo' in patas)\n",
        "print(8 in patas)"
      ]
    },
    {
      "cell_type": "markdown",
      "metadata": {
        "id": "5j42go8mjtqn"
      },
      "source": [
        "## Iteración sobre diccionarios\n",
        "Se pueden utilizar ciclos `for` para iterar sobre diccionarios. En este caso estaremos iterando sobre las llaves del diccionario. Como el diccionario **no tiene orden particular**, lo único que sabemos es que se iterará sobre todas las llaves."
      ]
    },
    {
      "cell_type": "markdown",
      "metadata": {
        "id": "m7Ob_-sCjtqn"
      },
      "source": [
        "Considere el diccionario `capitales`, donde las llaves corresponden a países y los valores son las capitales respectivas de cada país."
      ]
    },
    {
      "cell_type": "code",
      "execution_count": 13,
      "metadata": {
        "id": "SSedPNlGjtqn",
        "outputId": "71fcb78c-27bf-499c-ec55-af3c1bfe5b26",
        "colab": {
          "base_uri": "https://localhost:8080/"
        }
      },
      "outputs": [
        {
          "output_type": "stream",
          "name": "stdout",
          "text": [
            "pa = Chile\n",
            "pa = Peru\n",
            "pa = Ecuador\n"
          ]
        }
      ],
      "source": [
        "capitales = {'Chile': 'Santiago', 'Peru': 'Lima', 'Ecuador': 'Quito'}\n",
        "for pa in capitales:\n",
        "    #que esta imprimiendo en cada iteracion del ciclo?\n",
        "    print(\"pa =\",pa)"
      ]
    },
    {
      "cell_type": "code",
      "execution_count": 14,
      "metadata": {
        "id": "RAvQA52Mjtqn",
        "outputId": "ff78579b-6cc3-479e-b0a2-c34b31e46fd4",
        "colab": {
          "base_uri": "https://localhost:8080/"
        }
      },
      "outputs": [
        {
          "output_type": "stream",
          "name": "stdout",
          "text": [
            "La capital de Chile es Santiago\n",
            "La capital de Peru es Lima\n",
            "La capital de Ecuador es Quito\n"
          ]
        }
      ],
      "source": [
        "capitales = {'Chile': 'Santiago', 'Peru': 'Lima', 'Ecuador': 'Quito'}\n",
        "for pais in capitales:\n",
        "    #que se esta imprimiendo en cada iteracion del ciclo?\n",
        "    print(\"La capital de\",pais,\"es\",capitales[pais])"
      ]
    },
    {
      "cell_type": "markdown",
      "metadata": {
        "id": "u_hEGBA9jtqn"
      },
      "source": [
        "Sintaxis genérica:\n",
        "```python\n",
        "for var in diccio:\n",
        "    a = funcion(var)\n",
        "```"
      ]
    },
    {
      "cell_type": "markdown",
      "metadata": {
        "id": "bnT3rdF6jtqn"
      },
      "source": [
        "- La variable `var` está accediento **implícitamente** a cada llave del diccionario `diccio`.\n",
        "- Recordar que, teniendo la llave, es posible acceder al valor asociado mediante `diccio[var]`."
      ]
    },
    {
      "cell_type": "markdown",
      "metadata": {
        "id": "uKgV6lcojtqn"
      },
      "source": [
        "## Ejercicios"
      ]
    },
    {
      "cell_type": "markdown",
      "metadata": {
        "id": "C0asUSfSjtqn"
      },
      "source": [
        "**1.** Escriba la función `contar_letras(palabra)` que reciba un string y retorne un diccionario que indique cuántas veces aparece cada letra en dicho string.\n",
        "\n",
        "```\n",
        ">>> contar_letras('entretener')\n",
        "{'e': 4, 'n': 2, 'r': 2, 't': 2}\n",
        ">>> contar_letras('lapiz')\n",
        "{'a': 1, 'i': 1, 'l': 1, 'p': 1, 'z': 1}\n",
        "```"
      ]
    },
    {
      "cell_type": "code",
      "execution_count": 15,
      "metadata": {
        "id": "uvZmQBQGjtqn",
        "outputId": "83540e08-e5ba-4e96-8819-899c98e661dd",
        "colab": {
          "base_uri": "https://localhost:8080/"
        }
      },
      "outputs": [
        {
          "output_type": "stream",
          "name": "stdout",
          "text": [
            "{'e': 4, 'n': 2, 't': 2, 'r': 2}\n"
          ]
        }
      ],
      "source": [
        "def contar_letras(palabra):\n",
        "    d = dict()\n",
        "    for letra in palabra:\n",
        "        if letra not in d:\n",
        "            d[letra] = 0\n",
        "        d[letra] += 1\n",
        "    return d\n",
        "\n",
        "diccio = contar_letras(\"entretener\")\n",
        "print(diccio)"
      ]
    },
    {
      "cell_type": "markdown",
      "metadata": {
        "id": "Z0y_7uaDjtqn"
      },
      "source": [
        "**2.** Considere la siguente lista de strings `palabras`.\n",
        "\n",
        "```\n",
        "lista_palabras = [\"el\", \"jardin\", \"la\", \"casa\", \"mi\", \"el\", \"la\", ...]\n",
        "```\n",
        "\n",
        "Con el objetivo de construir una nube de palabras, se requiere de una función `contar_palabras(lista)` que, dada una lista de palabras `lista`, retorne una lista de listas, donde la primera componente sea una palabra y la segunda la cantidad de veces que paraece dicha palabra en la lista.\n",
        "\n",
        "```\n",
        ">>> contar_palabras(lista)\n",
        "[['mi', 1], ['casa', 1], ['jardin', 1], ['el', 2], ['la', 2], ...]\n",
        "```"
      ]
    },
    {
      "cell_type": "code",
      "execution_count": 16,
      "metadata": {
        "id": "J8-ZWWIYjtqn",
        "outputId": "36cdc2c6-43aa-4210-f577-f351ef0f2945",
        "colab": {
          "base_uri": "https://localhost:8080/"
        }
      },
      "outputs": [
        {
          "output_type": "stream",
          "name": "stdout",
          "text": [
            "[['el', 2], ['jardin', 1], ['la', 2], ['casa', 1], ['mi', 1]]\n"
          ]
        }
      ],
      "source": [
        "def contar_palabras(lista):\n",
        "    d = {}\n",
        "    for p in lista:\n",
        "        if p not in d:\n",
        "            d[p] = 0\n",
        "        d[p]+=1\n",
        "    lista = list()\n",
        "    for pa in d:\n",
        "        lista.append([pa,d[pa]])\n",
        "    return lista\n",
        "\n",
        "lista_palabras = [\"el\", \"jardin\", \"la\", \"casa\", \"mi\", \"el\", \"la\"]\n",
        "\n",
        "print(contar_palabras(lista_palabras))"
      ]
    },
    {
      "cell_type": "markdown",
      "metadata": {
        "id": "12XVzqWZjtqq"
      },
      "source": [
        "**3.** Considere la lista de listas `viajes`, donde cada sublista agrupa el nombre de una persona y una ciudad donde esa persona ha viajado:\n",
        "\n",
        "```\n",
        "viajes = [[\"Juan\", \"Santiago\"], [\"Pedro\", \"Coquimbo\"], [\"Juan\", \"Valparaiso\"], [\"Diego\", \"Talcahuano\"], ...]\n",
        "```\n",
        "\n",
        "Escriba la función `ciudades_visitadas(viajes)` que reciba una lista como la mostrada en `viajes`. Esta función debe retornar un diccionario, cuyas llave corresponde al nombre de una persona y el valor es una lista con todas las ciudades que ha visitado esa persona.\n",
        "\n",
        "```\n",
        ">>> ciudades_visitadas(viajes)\n",
        "{'Diego': ['Talcahuano'], 'Pedro': ['Coquimbo'], 'Juan': ['Santiago', 'Valparaiso'], ...}\n",
        "```"
      ]
    },
    {
      "cell_type": "code",
      "execution_count": 17,
      "metadata": {
        "id": "aiOOvKu-jtqr",
        "outputId": "c6d4cd9b-8a19-480b-e716-90d8c0289453",
        "colab": {
          "base_uri": "https://localhost:8080/"
        }
      },
      "outputs": [
        {
          "output_type": "stream",
          "name": "stdout",
          "text": [
            "{'Juan': ['Santiago', 'Valparaiso'], 'Pedro': ['Coquimbo'], 'Diego': ['Talcahuano']}\n"
          ]
        }
      ],
      "source": [
        "def ciudades_visitadas(viajes):\n",
        "    d = dict()\n",
        "    for viaje in viajes:\n",
        "        persona = viaje[0]\n",
        "        ciudad = viaje[1]\n",
        "        if persona not in d:\n",
        "            d[persona] = list()\n",
        "        d[persona].append(ciudad)\n",
        "    return d\n",
        "\n",
        "v = [[\"Juan\", \"Santiago\"], [\"Pedro\", \"Coquimbo\"], [\"Juan\", \"Valparaiso\"], [\"Diego\", \"Talcahuano\"]]\n",
        "print(ciudades_visitadas(v))"
      ]
    }
  ],
  "metadata": {
    "anaconda-cloud": {},
    "celltoolbar": "Slideshow",
    "kernelspec": {
      "display_name": "Python 3",
      "language": "python",
      "name": "python3"
    },
    "language_info": {
      "codemirror_mode": {
        "name": "ipython",
        "version": 3
      },
      "file_extension": ".py",
      "mimetype": "text/x-python",
      "name": "python",
      "nbconvert_exporter": "python",
      "pygments_lexer": "ipython3",
      "version": "3.12.0"
    },
    "colab": {
      "provenance": [],
      "include_colab_link": true
    }
  },
  "nbformat": 4,
  "nbformat_minor": 0
}