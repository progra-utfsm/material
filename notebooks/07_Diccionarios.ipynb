{
 "cells": [
  {
   "cell_type": "markdown",
   "metadata": {
    "slideshow": {
     "slide_type": "slide"
    }
   },
   "source": [
    "# IWI-131 Programación"
   ]
  },
  {
   "cell_type": "markdown",
   "metadata": {
    "collapsed": true,
    "slideshow": {
     "slide_type": "slide"
    }
   },
   "source": [
    "## Diccionarios"
   ]
  },
  {
   "cell_type": "markdown",
   "metadata": {
    "slideshow": {
     "slide_type": "fragment"
    }
   },
   "source": [
    "Un diccionario es una **colección no ordenada** que permite asociar llaves con valores. Utilizando la llave siempre es posible recuperar, de manera eficiente, el valor asociado."
   ]
  },
  {
   "cell_type": "markdown",
   "metadata": {
    "slideshow": {
     "slide_type": "slide"
    }
   },
   "source": [
    "- El funcionamiento de diccionarios es similar a cuando se recupera un elemento de una lista usando su índice: `L[i]`\n",
    "- En este caso el índice de la lista es una ''llave'' y el elemento recuperado es el ''valor''"
   ]
  },
  {
   "cell_type": "code",
   "execution_count": 1,
   "metadata": {
    "slideshow": {
     "slide_type": "fragment"
    }
   },
   "outputs": [
    {
     "name": "stdout",
     "output_type": "stream",
     "text": [
      "2\n"
     ]
    }
   ],
   "source": [
    "L = [1, 3, 4, 2, 4]\n",
    "#imprimiendo el elemento del indice 3 de la lista L\n",
    "print(L[3])"
   ]
  },
  {
   "cell_type": "markdown",
   "metadata": {
    "slideshow": {
     "slide_type": "slide"
    }
   },
   "source": [
    "- En diccionarios, las llaves pueden ser: números (int o float), strings o listas.\n",
    "- Las llaves en un diccionario deben ser **únicas**, es decir, una llave no puede aparecer dos veces."
   ]
  },
  {
   "cell_type": "code",
   "execution_count": 2,
   "metadata": {
    "slideshow": {
     "slide_type": "fragment"
    }
   },
   "outputs": [
    {
     "name": "stdout",
     "output_type": "stream",
     "text": [
      "5552437\n"
     ]
    }
   ],
   "source": [
    "#diccionario de telefonos\n",
    "#llaves: nombres de personas (string)\n",
    "#valores: numeros de telefono asociados a cada nombre (int)\n",
    "telefonos = {'Jaimito':5551428, 'Yayita': 5550012, 'Pepito':5552437}\n",
    "\n",
    "#mostrar por pantalla el telefono de Pepito\n",
    "print(telefonos['Pepito'])"
   ]
  },
  {
   "cell_type": "markdown",
   "metadata": {
    "slideshow": {
     "slide_type": "slide"
    }
   },
   "source": [
    "## Creación de Diccionarios\n",
    "Un **diccionario vacío** puede ser creado por medio de la función `dict()` y con el paréntesis de llave `{}`."
   ]
  },
  {
   "cell_type": "code",
   "execution_count": 3,
   "metadata": {
    "slideshow": {
     "slide_type": "fragment"
    }
   },
   "outputs": [
    {
     "name": "stdout",
     "output_type": "stream",
     "text": [
      "{}\n",
      "{}\n"
     ]
    }
   ],
   "source": [
    "dicc1 = {} \n",
    "dicc2 = dict()\n",
    "print(dicc1)\n",
    "print(dicc2)"
   ]
  },
  {
   "cell_type": "markdown",
   "metadata": {
    "slideshow": {
     "slide_type": "slide"
    }
   },
   "source": [
    "Un **diccionario con elementos**, consiste de pares llave-valor. \n",
    "- El diccionario está delimitado por paréntesis de llave `{ }`.\n",
    "- Cada par llave-valor se separa del resto con coma `,`.\n",
    "- Cada llave se separa de su valor utilizando el caracter dos puntos `:`."
   ]
  },
  {
   "cell_type": "markdown",
   "metadata": {
    "slideshow": {
     "slide_type": "slide"
    }
   },
   "source": [
    "Considerar el siguiente diccionario que relaciona animales (llaves) con la cantidad de patas que tienen (valores)."
   ]
  },
  {
   "cell_type": "code",
   "execution_count": 4,
   "metadata": {
    "slideshow": {
     "slide_type": "fragment"
    }
   },
   "outputs": [],
   "source": [
    "patas = {'humano': 2, 'pulpo': 8, 'perro': 4, 'gato': 4}"
   ]
  },
  {
   "cell_type": "markdown",
   "metadata": {
    "slideshow": {
     "slide_type": "slide"
    }
   },
   "source": [
    "## Manipulación de Diccionarios"
   ]
  },
  {
   "cell_type": "markdown",
   "metadata": {
    "slideshow": {
     "slide_type": "fragment"
    }
   },
   "source": [
    "### Agregar/Modificar un elemento\n",
    "Se debe hacer una asignación del diccionario con una **llave** igual a un **valor**. \n",
    "- Si la **llave** utilizada **no existe** en el diccionario, se **agrega** un nuevo elemento.\n",
    "- Si la **llave** utilizada **existe** en el diccionario, el valor asociado es **modificado**."
   ]
  },
  {
   "cell_type": "code",
   "execution_count": 5,
   "metadata": {
    "slideshow": {
     "slide_type": "slide"
    }
   },
   "outputs": [
    {
     "name": "stdout",
     "output_type": "stream",
     "text": [
      "Diccionario antes de agregar un valor\n",
      "{'humano': 2, 'pulpo': 8, 'perro': 5, 'gato': 4}\n",
      "Diccionario despues de agregar un valor\n",
      "{'humano': 2, 'pulpo': 8, 'perro': 5, 'gato': 4, 'cienpies': 100}\n"
     ]
    }
   ],
   "source": [
    "patas = {'humano': 2, 'pulpo': 8, 'perro': 5, 'gato': 4}\n",
    "print(\"Diccionario antes de agregar un valor\")\n",
    "print(patas)\n",
    "patas['cienpies'] = 100\n",
    "print(\"Diccionario despues de agregar un valor\")\n",
    "print(patas)"
   ]
  },
  {
   "cell_type": "code",
   "execution_count": 6,
   "metadata": {
    "slideshow": {
     "slide_type": "fragment"
    }
   },
   "outputs": [
    {
     "name": "stdout",
     "output_type": "stream",
     "text": [
      "Diccionario despues de cambiar un valor\n",
      "{'humano': 2, 'pulpo': 8, 'perro': 4, 'gato': 4, 'cienpies': 100}\n"
     ]
    }
   ],
   "source": [
    "#los perros en realidad tienen cuatro patas, cambiar valor en el diccionario\n",
    "patas[\"perro\"] = 4\n",
    "print(\"Diccionario despues de cambiar un valor\")\n",
    "print(patas)"
   ]
  },
  {
   "cell_type": "markdown",
   "metadata": {
    "slideshow": {
     "slide_type": "slide"
    }
   },
   "source": [
    "### Eliminar un elemento\n",
    "Usando la instrucción `del` se puede eliminar un elemento del diccionario. Se debe indicar la llave del elemento que se quiere eliminar."
   ]
  },
  {
   "cell_type": "code",
   "execution_count": 7,
   "metadata": {
    "slideshow": {
     "slide_type": "fragment"
    }
   },
   "outputs": [
    {
     "name": "stdout",
     "output_type": "stream",
     "text": [
      "Diccionario antes de eliminar un elemento\n",
      "{'cienpies': 100, 'humano': 2, 'gato': 4, 'pulpo': 8, 'perro': 4}\n",
      "Diccionario despues de eliminar un elemento\n",
      "{'cienpies': 100, 'humano': 2, 'gato': 4, 'perro': 4}\n"
     ]
    }
   ],
   "source": [
    "patas =  {'cienpies': 100, 'humano': 2, 'gato': 4, 'pulpo': 8, 'perro': 4}\n",
    "print(\"Diccionario antes de eliminar un elemento\")\n",
    "print(patas)\n",
    "#eliminando el elemento del diccionario\n",
    "del patas[\"pulpo\"]\n",
    "print(\"Diccionario despues de eliminar un elemento\")\n",
    "print(patas)"
   ]
  },
  {
   "cell_type": "markdown",
   "metadata": {
    "slideshow": {
     "slide_type": "slide"
    }
   },
   "source": [
    "Al igual que en listas, al intentar eliminar un elemento que no existe (porque no existe la llave en el diccionario) ocurre un error."
   ]
  },
  {
   "cell_type": "code",
   "execution_count": 8,
   "metadata": {
    "slideshow": {
     "slide_type": "fragment"
    }
   },
   "outputs": [
    {
     "ename": "KeyError",
     "evalue": "'oso'",
     "output_type": "error",
     "traceback": [
      "\u001b[0;31m---------------------------------------------------------------------------\u001b[0m",
      "\u001b[0;31mKeyError\u001b[0m                                  Traceback (most recent call last)",
      "Cell \u001b[0;32mIn[8], line 3\u001b[0m\n\u001b[1;32m      1\u001b[0m patas \u001b[38;5;241m=\u001b[39m  {\u001b[38;5;124m'\u001b[39m\u001b[38;5;124mcienpies\u001b[39m\u001b[38;5;124m'\u001b[39m: \u001b[38;5;241m100\u001b[39m, \u001b[38;5;124m'\u001b[39m\u001b[38;5;124mhumano\u001b[39m\u001b[38;5;124m'\u001b[39m: \u001b[38;5;241m2\u001b[39m, \u001b[38;5;124m'\u001b[39m\u001b[38;5;124mgato\u001b[39m\u001b[38;5;124m'\u001b[39m: \u001b[38;5;241m4\u001b[39m, \u001b[38;5;124m'\u001b[39m\u001b[38;5;124mpulpo\u001b[39m\u001b[38;5;124m'\u001b[39m: \u001b[38;5;241m8\u001b[39m, \u001b[38;5;124m'\u001b[39m\u001b[38;5;124mperro\u001b[39m\u001b[38;5;124m'\u001b[39m: \u001b[38;5;241m4\u001b[39m}\n\u001b[1;32m      2\u001b[0m \u001b[38;5;66;03m#intentando eliminar un elemento en el diccionario\u001b[39;00m\n\u001b[0;32m----> 3\u001b[0m \u001b[38;5;28;01mdel\u001b[39;00m \u001b[43mpatas\u001b[49m\u001b[43m[\u001b[49m\u001b[38;5;124;43m\"\u001b[39;49m\u001b[38;5;124;43moso\u001b[39;49m\u001b[38;5;124;43m\"\u001b[39;49m\u001b[43m]\u001b[49m\n",
      "\u001b[0;31mKeyError\u001b[0m: 'oso'"
     ]
    }
   ],
   "source": [
    "patas =  {'cienpies': 100, 'humano': 2, 'gato': 4, 'pulpo': 8, 'perro': 4}\n",
    "#intentando eliminar un elemento en el diccionario\n",
    "del patas[\"oso\"]"
   ]
  },
  {
   "cell_type": "markdown",
   "metadata": {
    "slideshow": {
     "slide_type": "slide"
    }
   },
   "source": [
    "## Acceder a elementos de un diccionario\n",
    "El valor asociado a la llave `k` del diccionario `d` se puede obtener como `d[k]`: "
   ]
  },
  {
   "cell_type": "code",
   "execution_count": 9,
   "metadata": {
    "slideshow": {
     "slide_type": "fragment"
    }
   },
   "outputs": [
    {
     "name": "stdout",
     "output_type": "stream",
     "text": [
      "El gato tiene 4 patas\n"
     ]
    }
   ],
   "source": [
    "patas =  {'cienpies': 100, 'humano': 2, 'gato': 4, 'pulpo': 8, 'perro': 4}\n",
    "#accediendo y mostrando por pantalla la cantidad de patas de un gato\n",
    "print(\"El gato tiene\",patas['gato'],\"patas\")"
   ]
  },
  {
   "cell_type": "code",
   "execution_count": 10,
   "metadata": {
    "slideshow": {
     "slide_type": "fragment"
    }
   },
   "outputs": [
    {
     "ename": "KeyError",
     "evalue": "'oso'",
     "output_type": "error",
     "traceback": [
      "\u001b[0;31m---------------------------------------------------------------------------\u001b[0m",
      "\u001b[0;31mKeyError\u001b[0m                                  Traceback (most recent call last)",
      "Cell \u001b[0;32mIn[10], line 2\u001b[0m\n\u001b[1;32m      1\u001b[0m \u001b[38;5;66;03m#intentando mostrar las patas que tiene un oso\u001b[39;00m\n\u001b[0;32m----> 2\u001b[0m \u001b[38;5;28mprint\u001b[39m(\u001b[38;5;124m\"\u001b[39m\u001b[38;5;124mEl oso tiene\u001b[39m\u001b[38;5;124m\"\u001b[39m,\u001b[43mpatas\u001b[49m\u001b[43m[\u001b[49m\u001b[38;5;124;43m'\u001b[39;49m\u001b[38;5;124;43moso\u001b[39;49m\u001b[38;5;124;43m'\u001b[39;49m\u001b[43m]\u001b[49m,\u001b[38;5;124m\"\u001b[39m\u001b[38;5;124mpatas\u001b[39m\u001b[38;5;124m\"\u001b[39m)\n",
      "\u001b[0;31mKeyError\u001b[0m: 'oso'"
     ]
    }
   ],
   "source": [
    "#intentando mostrar las patas que tiene un oso\n",
    "print(\"El oso tiene\",patas['oso'],\"patas\")"
   ]
  },
  {
   "cell_type": "markdown",
   "metadata": {
    "slideshow": {
     "slide_type": "slide"
    }
   },
   "source": [
    "## Funciones sobre Diccionarios"
   ]
  },
  {
   "cell_type": "markdown",
   "metadata": {
    "slideshow": {
     "slide_type": "fragment"
    }
   },
   "source": [
    "### Cantidad de elementos\n",
    "La función `len` permite saber la cantidad de elementos del diccionario, es decir, la cantidad de pares llave-valor."
   ]
  },
  {
   "cell_type": "code",
   "execution_count": 11,
   "metadata": {
    "slideshow": {
     "slide_type": "fragment"
    }
   },
   "outputs": [
    {
     "name": "stdout",
     "output_type": "stream",
     "text": [
      "5\n"
     ]
    }
   ],
   "source": [
    "patas =  {'cienpies': 100, 'humano': 2, 'gato': 4, 'pulpo': 8, 'perro': 4}\n",
    "print(len(patas))"
   ]
  },
  {
   "cell_type": "markdown",
   "metadata": {
    "slideshow": {
     "slide_type": "slide"
    }
   },
   "source": [
    "### Comprobar si una llave está en el diccionario\n",
    "La instrucción `in` verifica si una llave está en el diccionario."
   ]
  },
  {
   "cell_type": "code",
   "execution_count": 12,
   "metadata": {
    "slideshow": {
     "slide_type": "fragment"
    }
   },
   "outputs": [
    {
     "name": "stdout",
     "output_type": "stream",
     "text": [
      "True\n",
      "False\n"
     ]
    }
   ],
   "source": [
    "patas =  {'cienpies': 100, 'humano': 2, 'gato': 4, 'pulpo': 8, 'perro': 4}\n",
    "print('pulpo' in patas)\n",
    "print(8 in patas)"
   ]
  },
  {
   "cell_type": "markdown",
   "metadata": {
    "slideshow": {
     "slide_type": "slide"
    }
   },
   "source": [
    "## Iteración sobre diccionarios\n",
    "Se pueden utilizar ciclos `for` para iterar sobre diccionarios. En este caso estaremos iterando sobre las llaves del diccionario. Como el diccionario **no tiene orden particular**, lo único que sabemos es que se iterará sobre todas las llaves."
   ]
  },
  {
   "cell_type": "markdown",
   "metadata": {
    "slideshow": {
     "slide_type": "slide"
    }
   },
   "source": [
    "Considere el diccionario `capitales`, donde las llaves corresponden a países y los valores son las capitales respectivas de cada país."
   ]
  },
  {
   "cell_type": "code",
   "execution_count": 13,
   "metadata": {
    "slideshow": {
     "slide_type": "fragment"
    }
   },
   "outputs": [
    {
     "name": "stdout",
     "output_type": "stream",
     "text": [
      "pa = Chile\n",
      "pa = Peru\n",
      "pa = Ecuador\n"
     ]
    }
   ],
   "source": [
    "capitales = {'Chile': 'Santiago', 'Peru': 'Lima', 'Ecuador': 'Quito'}\n",
    "for pa in capitales:\n",
    "    #que esta imprimiendo en cada iteracion del ciclo?\n",
    "    print(\"pa =\",pa)"
   ]
  },
  {
   "cell_type": "code",
   "execution_count": 14,
   "metadata": {
    "slideshow": {
     "slide_type": "slide"
    }
   },
   "outputs": [
    {
     "name": "stdout",
     "output_type": "stream",
     "text": [
      "La capital de Chile es Santiago\n",
      "La capital de Peru es Lima\n",
      "La capital de Ecuador es Quito\n"
     ]
    }
   ],
   "source": [
    "capitales = {'Chile': 'Santiago', 'Peru': 'Lima', 'Ecuador': 'Quito'}\n",
    "for pais in capitales:\n",
    "    #que se esta imprimiendo en cada iteracion del ciclo?\n",
    "    print(\"La capital de\",pais,\"es\",capitales[pais])"
   ]
  },
  {
   "cell_type": "markdown",
   "metadata": {
    "slideshow": {
     "slide_type": "slide"
    }
   },
   "source": [
    "Sintaxis genérica:\n",
    "```python\n",
    "for var in diccio:\n",
    "    a = funcion(var)\n",
    "```"
   ]
  },
  {
   "cell_type": "markdown",
   "metadata": {
    "slideshow": {
     "slide_type": "fragment"
    }
   },
   "source": [
    "- La variable `var` está accediento **implícitamente** a cada llave del diccionario `diccio`.\n",
    "- Recordar que, teniendo la llave, es posible acceder al valor asociado mediante `diccio[var]`."
   ]
  },
  {
   "cell_type": "markdown",
   "metadata": {
    "slideshow": {
     "slide_type": "slide"
    }
   },
   "source": [
    "## Ejercicios"
   ]
  },
  {
   "cell_type": "markdown",
   "metadata": {
    "slideshow": {
     "slide_type": "fragment"
    }
   },
   "source": [
    "**1.** Escriba la función `contar_letras(palabra)` que reciba un string y retorne un diccionario que indique cuántas veces aparece cada letra en dicho string.\n",
    "\n",
    "```\n",
    ">>> contar_letras('entretener')\n",
    "{'e': 4, 'n': 2, 'r': 2, 't': 2}\n",
    ">>> contar_letras('lapiz')\n",
    "{'a': 1, 'i': 1, 'l': 1, 'p': 1, 'z': 1}\n",
    "```"
   ]
  },
  {
   "cell_type": "code",
   "execution_count": 15,
   "metadata": {
    "slideshow": {
     "slide_type": "slide"
    }
   },
   "outputs": [
    {
     "name": "stdout",
     "output_type": "stream",
     "text": [
      "{'e': 4, 'n': 2, 't': 2, 'r': 2}\n"
     ]
    }
   ],
   "source": [
    "def contar_letras(palabra):\n",
    "    d = dict()\n",
    "    for letra in palabra:\n",
    "        if letra not in d:\n",
    "            d[letra] = 0\n",
    "        d[letra] += 1\n",
    "    return d\n",
    "\n",
    "diccio = contar_letras(\"entretener\")\n",
    "print(diccio)"
   ]
  },
  {
   "cell_type": "markdown",
   "metadata": {
    "slideshow": {
     "slide_type": "slide"
    }
   },
   "source": [
    "**2.** Considere la siguente lista de strings `palabras`.\n",
    "\n",
    "```\n",
    "lista_palabras = [\"el\", \"jardin\", \"la\", \"casa\", \"mi\", \"el\", \"la\", ...]\n",
    "```\n",
    "\n",
    "Con el objetivo de construir una nube de palabras, se requiere de una función `contar_palabras(lista)` que, dada una lista de palabras `lista`, retorne una lista de listas, donde la primera componente sea una palabra y la segunda la cantidad de veces que paraece dicha palabra en la lista.\n",
    "\n",
    "```\n",
    ">>> contar_palabras(lista)\n",
    "[['mi', 1], ['casa', 1], ['jardin', 1], ['el', 2], ['la', 2], ...]\n",
    "```"
   ]
  },
  {
   "cell_type": "code",
   "execution_count": 16,
   "metadata": {
    "slideshow": {
     "slide_type": "slide"
    }
   },
   "outputs": [
    {
     "name": "stdout",
     "output_type": "stream",
     "text": [
      "[['el', 2], ['jardin', 1], ['la', 2], ['casa', 1], ['mi', 1]]\n"
     ]
    }
   ],
   "source": [
    "def contar_palabras(lista):\n",
    "    d = {}\n",
    "    for p in lista:\n",
    "        if p not in d:\n",
    "            d[p] = 0\n",
    "        d[p]+=1\n",
    "    lista = list()\n",
    "    for pa in d:\n",
    "        lista.append([pa,d[pa]])\n",
    "    return lista\n",
    "\n",
    "lista_palabras = [\"el\", \"jardin\", \"la\", \"casa\", \"mi\", \"el\", \"la\"]\n",
    "\n",
    "print(contar_palabras(lista_palabras))"
   ]
  },
  {
   "cell_type": "markdown",
   "metadata": {
    "slideshow": {
     "slide_type": "slide"
    }
   },
   "source": [
    "**3.** Considere la lista de listas `viajes`, donde cada sublista agrupa el nombre de una persona y una ciudad donde esa persona ha viajado:\n",
    "\n",
    "```\n",
    "viajes = [[\"Juan\", \"Santiago\"], [\"Pedro\", \"Coquimbo\"], [\"Juan\", \"Valparaiso\"], [\"Diego\", \"Talcahuano\"], ...]\n",
    "```\n",
    "\n",
    "Escriba la función `ciudades_visitadas(viajes)` que reciba una lista como la mostrada en `viajes`. Esta función debe retornar un diccionario, cuyas llave corresponde al nombre de una persona y el valor es una lista con todas las ciudades que ha visitado esa persona. \n",
    "\n",
    "```\n",
    ">>> ciudades_visitadas(viajes)\n",
    "{'Diego': ['Talcahuano'], 'Pedro': ['Coquimbo'], 'Juan': ['Santiago', 'Valparaiso'], ...}\n",
    "```"
   ]
  },
  {
   "cell_type": "code",
   "execution_count": 17,
   "metadata": {
    "slideshow": {
     "slide_type": "slide"
    }
   },
   "outputs": [
    {
     "name": "stdout",
     "output_type": "stream",
     "text": [
      "{'Juan': ['Santiago', 'Valparaiso'], 'Pedro': ['Coquimbo'], 'Diego': ['Talcahuano']}\n"
     ]
    }
   ],
   "source": [
    "def ciudades_visitadas(viajes):\n",
    "    d = dict()\n",
    "    for viaje in viajes:\n",
    "        persona = viaje[0]\n",
    "        ciudad = viaje[1]\n",
    "        if persona not in d:\n",
    "            d[persona] = list()\n",
    "        d[persona].append(ciudad)\n",
    "    return d\n",
    "\n",
    "v = [[\"Juan\", \"Santiago\"], [\"Pedro\", \"Coquimbo\"], [\"Juan\", \"Valparaiso\"], [\"Diego\", \"Talcahuano\"]]\n",
    "print(ciudades_visitadas(v))"
   ]
  }
 ],
 "metadata": {
  "anaconda-cloud": {},
  "celltoolbar": "Slideshow",
  "kernelspec": {
   "display_name": "Python 3",
   "language": "python",
   "name": "python3"
  },
  "language_info": {
   "codemirror_mode": {
    "name": "ipython",
    "version": 3
   },
   "file_extension": ".py",
   "mimetype": "text/x-python",
   "name": "python",
   "nbconvert_exporter": "python",
   "pygments_lexer": "ipython3",
   "version": "3.12.0"
  }
 },
 "nbformat": 4,
 "nbformat_minor": 1
}
